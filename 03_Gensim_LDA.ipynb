{
 "cells": [
  {
   "cell_type": "markdown",
   "metadata": {},
   "source": [
    "pip install pandas numpy nltk spacy sentence-transformers scikit-learn\n",
    "python -m spacy download en_core_web_sm\n"
   ]
  },
  {
   "cell_type": "markdown",
   "metadata": {},
   "source": [
    "## Step 1: Organizing Transcriptions"
   ]
  },
  {
   "cell_type": "code",
   "execution_count": null,
   "metadata": {},
   "outputs": [],
   "source": [
    "import os\n",
    "import glob\n",
    "import pandas as pd\n",
    "\n",
    "def read_csv_files(directory):\n",
    "    csv_files = glob.glob(os.path.join(directory, '**', '*.csv'), recursive=True)\n",
    "    data_frames = []\n",
    "    for file in csv_files:\n",
    "        df = pd.read_csv(file)\n",
    "        df['source_file'] = file  # Keep track of the source file\n",
    "        data_frames.append(df)\n",
    "    return data_frames\n",
    "\n",
    "# Example usage:\n",
    "directory = 'data/rawTranscriptFiles'\n",
    "transcript_dfs = read_csv_files(directory)\n"
   ]
  },
  {
   "cell_type": "markdown",
   "metadata": {},
   "source": [
    "Processing Each Transcription Separately\n",
    "We'll iterate over each DataFrame in transcript_dfs and process them individually."
   ]
  },
  {
   "cell_type": "code",
   "execution_count": null,
   "metadata": {},
   "outputs": [],
   "source": [
    "import re\n",
    "import nltk\n",
    "import spacy\n",
    "\n",
    "nltk.download('punkt')\n",
    "nltk.download('stopwords')\n",
    "nlp = spacy.load('en_core_web_sm')\n",
    "\n",
    "stop_words = set(nltk.corpus.stopwords.words('english'))\n",
    "\n",
    "def preprocess_text(text):\n",
    "    # Lowercase conversion\n",
    "    text = text.lower()\n",
    "    # Remove special characters and numbers\n",
    "    text = re.sub(r'[^a-zA-Z\\s]', '', text)\n",
    "    # Remove extra spaces\n",
    "    text = re.sub(r'\\s+', ' ', text).strip()\n",
    "    return text\n",
    "\n",
    "def tokenize_text(text):\n",
    "    tokens = nltk.word_tokenize(text)\n",
    "    # Remove stopwords\n",
    "    tokens = [word for word in tokens if word not in stop_words]\n",
    "    return tokens\n",
    "\n",
    "def spacy_analysis(text):\n",
    "    doc = nlp(text)\n",
    "    pos_tags = [(token.text, token.pos_) for token in doc]\n",
    "    entities = [(ent.text, ent.label_) for ent in doc.ents]\n",
    "    return pos_tags, entities\n"
   ]
  },
  {
   "cell_type": "markdown",
   "metadata": {},
   "source": [
    "Now, process each transcription:"
   ]
  },
  {
   "cell_type": "code",
   "execution_count": null,
   "metadata": {},
   "outputs": [],
   "source": [
    "for df in transcript_dfs:\n",
    "    df['cleaned_transcript'] = df['transcript'].apply(preprocess_text)\n",
    "    df['tokens'] = df['cleaned_transcript'].apply(tokenize_text)\n",
    "    df[['pos_tags', 'entities']] = df['cleaned_transcript'].apply(\n",
    "        lambda x: pd.Series(spacy_analysis(x))\n",
    "    )\n"
   ]
  },
  {
   "cell_type": "markdown",
   "metadata": {},
   "source": [
    "Comparing Transcriptions\n",
    "Since each transcription is processed separately, you can now compare them in various ways.\n",
    "\n"
   ]
  },
  {
   "cell_type": "markdown",
   "metadata": {},
   "source": [
    "## Step 3: Topic Modeling and Semantic Similarities Across Transcriptions\n",
    "Generating Sentence Embeddings for Each Transcription\n",
    "We'll generate embeddings for each transcription and store them.\n",
    "\n"
   ]
  },
  {
   "cell_type": "code",
   "execution_count": null,
   "metadata": {},
   "outputs": [],
   "source": [
    "from sentence_transformers import SentenceTransformer\n",
    "import numpy as np\n",
    "\n",
    "model = SentenceTransformer('all-MiniLM-L6-v2')\n",
    "\n",
    "# Store embeddings and related info\n",
    "embeddings_list = []\n",
    "file_names = []\n",
    "\n",
    "for df in transcript_dfs:\n",
    "    text = ' '.join(df['cleaned_transcript'])\n",
    "    embedding = model.encode(text)\n",
    "    embeddings_list.append(embedding)\n",
    "    file_names.append(df['source_file'])\n"
   ]
  },
  {
   "cell_type": "markdown",
   "metadata": {},
   "source": [
    "Comparing Transcriptions Using Semantic Similarity\n",
    "We'll compute the cosine similarity between each pair of transcriptions."
   ]
  },
  {
   "cell_type": "code",
   "execution_count": null,
   "metadata": {},
   "outputs": [],
   "source": [
    "from sklearn.metrics.pairwise import cosine_similarity\n",
    "\n",
    "# Convert list of embeddings to a numpy array\n",
    "embeddings_array = np.vstack(embeddings_list)\n",
    "\n",
    "# Calculate cosine similarity matrix\n",
    "similarity_matrix = cosine_similarity(embeddings_array)\n",
    "\n",
    "# Create a DataFrame for better visualization\n",
    "similarity_df = pd.DataFrame(similarity_matrix, index=file_names, columns=file_names)\n",
    "\n",
    "print(similarity_df)\n"
   ]
  },
  {
   "cell_type": "markdown",
   "metadata": {},
   "source": [
    "# Visualizing the Similarity Matrix"
   ]
  },
  {
   "cell_type": "code",
   "execution_count": null,
   "metadata": {},
   "outputs": [],
   "source": [
    "import seaborn as sns\n",
    "import matplotlib.pyplot as plt\n",
    "\n",
    "plt.figure(figsize=(10, 8))\n",
    "sns.heatmap(similarity_df, annot=True, fmt=\".2f\", cmap='coolwarm')\n",
    "plt.title('Semantic Similarity Between Transcriptions')\n",
    "plt.show()\n"
   ]
  },
  {
   "cell_type": "markdown",
   "metadata": {},
   "source": [
    "# Topic Modeling on Individual Transcriptions\n",
    "Since you want to compare topics between transcriptions, you can perform topic modeling on each transcription separately.\n",
    "\n",
    "Using Latent Dirichlet Allocation (LDA)\n",
    "First, you need to prepare the data for LDA:"
   ]
  },
  {
   "cell_type": "code",
   "execution_count": null,
   "metadata": {},
   "outputs": [],
   "source": [
    "from gensim.corpora import Dictionary\n",
    "from gensim.models import LdaModel\n",
    "\n",
    "def perform_lda(tokens_list, num_topics=5):\n",
    "    # Create a dictionary representation of the documents.\n",
    "    dictionary = Dictionary(tokens_list)\n",
    "\n",
    "    # Filter out extremes to limit the number of features\n",
    "    dictionary.filter_extremes(no_below=1, no_above=0.5)\n",
    "\n",
    "    # Create a bag-of-words representation of the documents.\n",
    "    corpus = [dictionary.doc2bow(tokens) for tokens in tokens_list]\n",
    "\n",
    "    # Train the LDA model\n",
    "    lda = LdaModel(corpus, num_topics=num_topics, id2word=dictionary, random_state=42)\n",
    "    return lda, corpus, dictionary\n"
   ]
  },
  {
   "cell_type": "markdown",
   "metadata": {},
   "source": [
    "Now, apply LDA to each transcription:"
   ]
  },
  {
   "cell_type": "code",
   "execution_count": null,
   "metadata": {},
   "outputs": [],
   "source": [
    "lda_models = []\n",
    "\n",
    "for df in transcript_dfs:\n",
    "    tokens_list = df['tokens'].tolist()\n",
    "    lda_model, corpus, dictionary = perform_lda(tokens_list)\n",
    "    lda_models.append({\n",
    "        'model': lda_model,\n",
    "        'corpus': corpus,\n",
    "        'dictionary': dictionary,\n",
    "        'source_file': df['source_file'].iloc[0]\n",
    "    })\n"
   ]
  },
  {
   "cell_type": "markdown",
   "metadata": {},
   "source": [
    "# Comparing Topics Between Transcriptions\n",
    "You can now inspect the topics from each transcription and compare them."
   ]
  },
  {
   "cell_type": "code",
   "execution_count": null,
   "metadata": {},
   "outputs": [],
   "source": [
    "for lda_info in lda_models:\n",
    "    print(f\"Topics for {lda_info['source_file']}:\")\n",
    "    topics = lda_info['model'].print_topics(num_words=5)\n",
    "    for topic in topics:\n",
    "        print(topic)\n",
    "    print('\\n')\n"
   ]
  },
  {
   "cell_type": "markdown",
   "metadata": {},
   "source": [
    "# Combined"
   ]
  },
  {
   "cell_type": "code",
   "execution_count": 3,
   "metadata": {},
   "outputs": [
    {
     "name": "stderr",
     "output_type": "stream",
     "text": [
      "[nltk_data] Downloading package punkt to\n",
      "[nltk_data]     C:\\Users\\mrhal\\AppData\\Roaming\\nltk_data...\n",
      "[nltk_data]   Package punkt is already up-to-date!\n",
      "[nltk_data] Downloading package stopwords to\n",
      "[nltk_data]     C:\\Users\\mrhal\\AppData\\Roaming\\nltk_data...\n",
      "[nltk_data]   Package stopwords is already up-to-date!\n",
      "c:\\Users\\mrhal\\anaconda3\\envs\\NLTKpipeline-env\\Lib\\site-packages\\transformers\\tokenization_utils_base.py:1601: FutureWarning: `clean_up_tokenization_spaces` was not set. It will be set to `True` by default. This behavior will be depracted in transformers v4.45, and will be then set to `False` by default. For more details check this issue: https://github.com/huggingface/transformers/issues/31884\n",
      "  warnings.warn(\n"
     ]
    },
    {
     "name": "stdout",
     "output_type": "stream",
     "text": [
      "                                                    data/rawTranscriptFiles\\Monologue1_transcription.csv  \\\n",
      "data/rawTranscriptFiles\\Monologue1_transcriptio...                                                1.0      \n",
      "data/rawTranscriptFiles\\Monologue2_transcriptio...                                                1.0      \n",
      "data/rawTranscriptFiles\\Monologue_transcription...                                                1.0      \n",
      "\n",
      "                                                    data/rawTranscriptFiles\\Monologue2_transcription.csv  \\\n",
      "data/rawTranscriptFiles\\Monologue1_transcriptio...                                                1.0      \n",
      "data/rawTranscriptFiles\\Monologue2_transcriptio...                                                1.0      \n",
      "data/rawTranscriptFiles\\Monologue_transcription...                                                1.0      \n",
      "\n",
      "                                                    data/rawTranscriptFiles\\Monologue_transcription.csv  \n",
      "data/rawTranscriptFiles\\Monologue1_transcriptio...                                                1.0    \n",
      "data/rawTranscriptFiles\\Monologue2_transcriptio...                                                1.0    \n",
      "data/rawTranscriptFiles\\Monologue_transcription...                                                1.0    \n"
     ]
    },
    {
     "data": {
      "image/png": "[encoded data removed]",
      "text/plain": [
       "<Figure size 1000x800 with 2 Axes>"
      ]
     },
     "metadata": {},
     "output_type": "display_data"
    },
    {
     "name": "stdout",
     "output_type": "stream",
     "text": [
      "Topics for data/rawTranscriptFiles\\Monologue1_transcription.csv:\n",
      "(0, '0.063*\"business\" + 0.063*\"things\" + 0.063*\"well\" + 0.063*\"pick\" + 0.063*\"see\"')\n",
      "(1, '0.074*\"every\" + 0.074*\"would\" + 0.074*\"like\" + 0.074*\"keep\" + 0.040*\"two\"')\n",
      "(2, '0.061*\"royalties\" + 0.061*\"maintain\" + 0.061*\"current\" + 0.034*\"suggest\" + 0.034*\"gon\"')\n",
      "(3, '0.064*\"pay\" + 0.064*\"agreement\" + 0.064*\"possible\" + 0.064*\"soon\" + 0.064*\"license\"')\n",
      "(4, '0.096*\"suggest\" + 0.053*\"outstanding\" + 0.053*\"royalties\" + 0.052*\"two\" + 0.052*\"set\"')\n",
      "\n",
      "\n",
      "Topics for data/rawTranscriptFiles\\Monologue2_transcription.csv:\n",
      "(0, '0.063*\"business\" + 0.063*\"things\" + 0.063*\"well\" + 0.063*\"pick\" + 0.063*\"see\"')\n",
      "(1, '0.074*\"every\" + 0.074*\"would\" + 0.074*\"like\" + 0.074*\"keep\" + 0.040*\"two\"')\n",
      "(2, '0.061*\"royalties\" + 0.061*\"maintain\" + 0.061*\"current\" + 0.034*\"suggest\" + 0.034*\"gon\"')\n",
      "(3, '0.064*\"pay\" + 0.064*\"agreement\" + 0.064*\"possible\" + 0.064*\"soon\" + 0.064*\"license\"')\n",
      "(4, '0.096*\"suggest\" + 0.053*\"outstanding\" + 0.053*\"royalties\" + 0.052*\"two\" + 0.052*\"set\"')\n",
      "\n",
      "\n",
      "Topics for data/rawTranscriptFiles\\Monologue_transcription.csv:\n",
      "(0, '0.063*\"business\" + 0.063*\"things\" + 0.063*\"well\" + 0.063*\"pick\" + 0.063*\"see\"')\n",
      "(1, '0.074*\"every\" + 0.074*\"would\" + 0.074*\"like\" + 0.074*\"keep\" + 0.040*\"two\"')\n",
      "(2, '0.061*\"royalties\" + 0.061*\"maintain\" + 0.061*\"current\" + 0.034*\"suggest\" + 0.034*\"gon\"')\n",
      "(3, '0.064*\"pay\" + 0.064*\"agreement\" + 0.064*\"possible\" + 0.064*\"soon\" + 0.064*\"license\"')\n",
      "(4, '0.096*\"suggest\" + 0.053*\"outstanding\" + 0.053*\"royalties\" + 0.052*\"two\" + 0.052*\"set\"')\n",
      "\n",
      "\n"
     ]
    }
   ],
   "source": [
    "import os\n",
    "import glob\n",
    "import pandas as pd\n",
    "import re\n",
    "import nltk\n",
    "import spacy\n",
    "import numpy as np\n",
    "from sentence_transformers import SentenceTransformer\n",
    "from sklearn.metrics.pairwise import cosine_similarity\n",
    "from gensim.corpora import Dictionary\n",
    "from gensim.models import LdaModel\n",
    "\n",
    "# Setup\n",
    "nltk.download('punkt')\n",
    "nltk.download('stopwords')\n",
    "nlp = spacy.load('en_core_web_sm')\n",
    "stop_words = set(nltk.corpus.stopwords.words('english'))\n",
    "model = SentenceTransformer('all-MiniLM-L6-v2')\n",
    "\n",
    "# Functions\n",
    "def read_csv_files(directory):\n",
    "    csv_files = glob.glob(os.path.join(directory, '**', '*.csv'), recursive=True)\n",
    "    data_frames = []\n",
    "    for file in csv_files:\n",
    "        df = pd.read_csv(file)\n",
    "        df['source_file'] = file  # Keep track of the source file\n",
    "        data_frames.append(df)\n",
    "    return data_frames\n",
    "\n",
    "def preprocess_text(text):\n",
    "    # Lowercase conversion\n",
    "    text = text.lower()\n",
    "    # Remove special characters and numbers\n",
    "    text = re.sub(r'[^a-zA-Z\\s]', '', text)\n",
    "    # Remove extra spaces\n",
    "    text = re.sub(r'\\s+', ' ', text).strip()\n",
    "    return text\n",
    "\n",
    "def tokenize_text(text):\n",
    "    tokens = nltk.word_tokenize(text)\n",
    "    # Remove stopwords\n",
    "    tokens = [word for word in tokens if word not in stop_words]\n",
    "    return tokens\n",
    "\n",
    "def spacy_analysis(text):\n",
    "    doc = nlp(text)\n",
    "    pos_tags = [(token.text, token.pos_) for token in doc]\n",
    "    entities = [(ent.text, ent.label_) for ent in doc.ents]\n",
    "    return pos_tags, entities\n",
    "\n",
    "def perform_lda(tokens_list, num_topics=5):\n",
    "    dictionary = Dictionary(tokens_list)\n",
    "    dictionary.filter_extremes(no_below=1, no_above=0.5)\n",
    "    corpus = [dictionary.doc2bow(tokens) for tokens in tokens_list]\n",
    "    lda = LdaModel(corpus, num_topics=num_topics, id2word=dictionary, random_state=42)\n",
    "    return lda, corpus, dictionary\n",
    "\n",
    "# Execution\n",
    "directory = 'data/rawTranscriptFiles'\n",
    "transcript_dfs = read_csv_files(directory)\n",
    "\n",
    "embeddings_list = []\n",
    "file_names = []\n",
    "lda_models = []\n",
    "\n",
    "for df in transcript_dfs:\n",
    "    df['cleaned_transcript'] = df['text'].apply(preprocess_text)\n",
    "    df['tokens'] = df['cleaned_transcript'].apply(tokenize_text)\n",
    "    df[['pos_tags', 'entities']] = df['cleaned_transcript'].apply(\n",
    "        lambda x: pd.Series(spacy_analysis(x))\n",
    "    )\n",
    "\n",
    "    # Generate embeddings\n",
    "    text = ' '.join(df['cleaned_transcript'])\n",
    "    embedding = model.encode(text)\n",
    "    embeddings_list.append(embedding)\n",
    "    file_names.append(df['source_file'].iloc[0])\n",
    "\n",
    "    # Perform LDA\n",
    "    tokens_list = df['tokens'].tolist()\n",
    "    lda_model, corpus, dictionary = perform_lda(tokens_list)\n",
    "    lda_models.append({\n",
    "        'model': lda_model,\n",
    "        'corpus': corpus,\n",
    "        'dictionary': dictionary,\n",
    "        'source_file': df['source_file'].iloc[0]\n",
    "    })\n",
    "\n",
    "# Compute similarity matrix\n",
    "embeddings_array = np.vstack(embeddings_list)\n",
    "similarity_matrix = cosine_similarity(embeddings_array)\n",
    "similarity_df = pd.DataFrame(similarity_matrix, index=file_names, columns=file_names)\n",
    "print(similarity_df)\n",
    "\n",
    "# Visualize similarity matrix\n",
    "import seaborn as sns\n",
    "import matplotlib.pyplot as plt\n",
    "\n",
    "plt.figure(figsize=(10, 8))\n",
    "sns.heatmap(similarity_df, annot=True, fmt=\".2f\", cmap='coolwarm')\n",
    "plt.title('Semantic Similarity Between Transcriptions')\n",
    "plt.show()\n",
    "\n",
    "# Print topics from LDA models\n",
    "for lda_info in lda_models:\n",
    "    print(f\"Topics for {lda_info['source_file']}:\")\n",
    "    topics = lda_info['model'].print_topics(num_words=5)\n",
    "    for topic in topics:\n",
    "        print(topic)\n",
    "    print('\\n')\n"
   ]
  }
 ],
 "metadata": {
  "kernelspec": {
   "display_name": "NLTKpipeline-env",
   "language": "python",
   "name": "python3"
  },
  "language_info": {
   "codemirror_mode": {
    "name": "ipython",
    "version": 3
   },
   "file_extension": ".py",
   "mimetype": "text/x-python",
   "name": "python",
   "nbconvert_exporter": "python",
   "pygments_lexer": "ipython3",
   "version": "3.11.10"
  }
 },
 "nbformat": 4,
 "nbformat_minor": 2
}
