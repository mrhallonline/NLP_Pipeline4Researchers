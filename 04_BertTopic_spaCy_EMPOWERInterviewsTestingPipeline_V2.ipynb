{
  "cells": [
    {
      "cell_type": "markdown",
      "metadata": {
        "id": "Al3gGMElb5GG"
      },
      "source": [
        "## Semantic similarity stuff needs spaCy and BERT. Pulling from one CSV file with mulitple rows\n",
        "to do:\n",
        "I need to figure out the preprocessing (I need sentences, leave stop words for now, but maybe get rid of non-alphanumeric)"
      ]
    },
    {
      "cell_type": "markdown",
      "metadata": {
        "id": "rZGpnj94b5GI"
      },
      "source": [
        "# Step 1: Set Up the Environment"
      ]
    },
    {
      "cell_type": "markdown",
      "metadata": {
        "id": "5MDIpg73b5GI"
      },
      "source": [
        "Install in virtual environment\n",
        "1. conda create -n bertopic-env python=3.10\n",
        "2. conda activate bertopic-env\n",
        "3. conda install -c conda-forge spacy\n",
        "4. conda install -c conda-forge cupy\n",
        "5. conda install -c conda-forge bertopic\n",
        "6. conda install -c conda-forge openpyxl\n",
        "7. conda install -c conda-forge ipywidgets\n",
        "8. conda install -c conda-forge jupyter_core\n",
        "9. python -m spacy download en_core_web_trf\n"
      ]
    },
    {
      "cell_type": "code",
      "execution_count": null,
      "metadata": {
        "id": "Y5o3-hLQcG4l"
      },
      "outputs": [],
      "source": [
        "%pip install spacy\n",
        "%pip install cupy\n",
        "%pip install bertopic\n",
        "%pip install openpyxl\n",
        "%pip install nltk\n",
        "%pip install llama_index\n",
        "%pip install sentence_transformers"
      ]
    },
    {
      "cell_type": "code",
      "execution_count": 8,
      "metadata": {
        "id": "2ERzJwuY4--M"
      },
      "outputs": [
        {
          "name": "stderr",
          "output_type": "stream",
          "text": [
            "huggingface/tokenizers: The current process just got forked, after parallelism has already been used. Disabling parallelism to avoid deadlocks...\n",
            "To disable this warning, you can either:\n",
            "\t- Avoid using `tokenizers` before the fork if possible\n",
            "\t- Explicitly set the environment variable TOKENIZERS_PARALLELISM=(true | false)\n"
          ]
        },
        {
          "name": "stdout",
          "output_type": "stream",
          "text": [
            "Collecting bertopic\n",
            "  Downloading bertopic-0.16.3-py3-none-any.whl.metadata (23 kB)\n",
            "Collecting hdbscan>=0.8.29 (from bertopic)\n",
            "  Downloading hdbscan-0.8.38.post1.tar.gz (5.8 MB)\n",
            "\u001b[2K     \u001b[90m━━━━━━━━━━━━━━━━━━━━━━━━━━━━━━━━━━━━━━━━\u001b[0m \u001b[32m5.8/5.8 MB\u001b[0m \u001b[31m49.9 MB/s\u001b[0m eta \u001b[36m0:00:00\u001b[0m\n",
            "\u001b[?25h  Installing build dependencies ... \u001b[?25ldone\n",
            "\u001b[?25h  Getting requirements to build wheel ... \u001b[?25ldone\n",
            "\u001b[?25h  Preparing metadata (pyproject.toml) ... \u001b[?25ldone\n",
            "\u001b[?25hRequirement already satisfied: numpy>=1.20.0 in /opt/homebrew/Caskroom/miniforge/base/envs/nlp24-env/lib/python3.11/site-packages (from bertopic) (1.26.4)\n",
            "Requirement already satisfied: pandas>=1.1.5 in /opt/homebrew/Caskroom/miniforge/base/envs/nlp24-env/lib/python3.11/site-packages (from bertopic) (2.2.3)\n",
            "Requirement already satisfied: plotly>=4.7.0 in /opt/homebrew/Caskroom/miniforge/base/envs/nlp24-env/lib/python3.11/site-packages (from bertopic) (5.24.1)\n",
            "Requirement already satisfied: scikit-learn>=0.22.2.post1 in /opt/homebrew/Caskroom/miniforge/base/envs/nlp24-env/lib/python3.11/site-packages (from bertopic) (1.5.2)\n",
            "Requirement already satisfied: sentence-transformers>=0.4.1 in /opt/homebrew/Caskroom/miniforge/base/envs/nlp24-env/lib/python3.11/site-packages (from bertopic) (3.0.1)\n",
            "Requirement already satisfied: tqdm>=4.41.1 in /opt/homebrew/Caskroom/miniforge/base/envs/nlp24-env/lib/python3.11/site-packages (from bertopic) (4.66.5)\n",
            "Collecting umap-learn>=0.5.0 (from bertopic)\n",
            "  Downloading umap_learn-0.5.6-py3-none-any.whl.metadata (21 kB)\n",
            "Requirement already satisfied: scipy>=1.0 in /opt/homebrew/Caskroom/miniforge/base/envs/nlp24-env/lib/python3.11/site-packages (from hdbscan>=0.8.29->bertopic) (1.14.1)\n",
            "Requirement already satisfied: joblib>=1.0 in /opt/homebrew/Caskroom/miniforge/base/envs/nlp24-env/lib/python3.11/site-packages (from hdbscan>=0.8.29->bertopic) (1.4.2)\n",
            "Requirement already satisfied: python-dateutil>=2.8.2 in /opt/homebrew/Caskroom/miniforge/base/envs/nlp24-env/lib/python3.11/site-packages (from pandas>=1.1.5->bertopic) (2.9.0)\n",
            "Requirement already satisfied: pytz>=2020.1 in /opt/homebrew/Caskroom/miniforge/base/envs/nlp24-env/lib/python3.11/site-packages (from pandas>=1.1.5->bertopic) (2024.1)\n",
            "Requirement already satisfied: tzdata>=2022.7 in /opt/homebrew/Caskroom/miniforge/base/envs/nlp24-env/lib/python3.11/site-packages (from pandas>=1.1.5->bertopic) (2024.1)\n",
            "Requirement already satisfied: tenacity>=6.2.0 in /opt/homebrew/Caskroom/miniforge/base/envs/nlp24-env/lib/python3.11/site-packages (from plotly>=4.7.0->bertopic) (9.0.0)\n",
            "Requirement already satisfied: packaging in /opt/homebrew/Caskroom/miniforge/base/envs/nlp24-env/lib/python3.11/site-packages (from plotly>=4.7.0->bertopic) (24.1)\n",
            "Requirement already satisfied: threadpoolctl>=3.1.0 in /opt/homebrew/Caskroom/miniforge/base/envs/nlp24-env/lib/python3.11/site-packages (from scikit-learn>=0.22.2.post1->bertopic) (3.5.0)\n",
            "Requirement already satisfied: transformers<5.0.0,>=4.34.0 in /opt/homebrew/Caskroom/miniforge/base/envs/nlp24-env/lib/python3.11/site-packages (from sentence-transformers>=0.4.1->bertopic) (4.44.2)\n",
            "Requirement already satisfied: torch>=1.11.0 in /opt/homebrew/Caskroom/miniforge/base/envs/nlp24-env/lib/python3.11/site-packages (from sentence-transformers>=0.4.1->bertopic) (2.4.0)\n",
            "Requirement already satisfied: huggingface-hub>=0.15.1 in /opt/homebrew/Caskroom/miniforge/base/envs/nlp24-env/lib/python3.11/site-packages (from sentence-transformers>=0.4.1->bertopic) (0.25.1)\n",
            "Requirement already satisfied: Pillow in /opt/homebrew/Caskroom/miniforge/base/envs/nlp24-env/lib/python3.11/site-packages (from sentence-transformers>=0.4.1->bertopic) (10.4.0)\n",
            "Collecting numba>=0.51.2 (from umap-learn>=0.5.0->bertopic)\n",
            "  Downloading numba-0.60.0-cp311-cp311-macosx_11_0_arm64.whl.metadata (2.7 kB)\n",
            "Collecting pynndescent>=0.5 (from umap-learn>=0.5.0->bertopic)\n",
            "  Downloading pynndescent-0.5.13-py3-none-any.whl.metadata (6.8 kB)\n",
            "Requirement already satisfied: filelock in /opt/homebrew/Caskroom/miniforge/base/envs/nlp24-env/lib/python3.11/site-packages (from huggingface-hub>=0.15.1->sentence-transformers>=0.4.1->bertopic) (3.16.1)\n",
            "Requirement already satisfied: fsspec>=2023.5.0 in /opt/homebrew/Caskroom/miniforge/base/envs/nlp24-env/lib/python3.11/site-packages (from huggingface-hub>=0.15.1->sentence-transformers>=0.4.1->bertopic) (2024.6.1)\n",
            "Requirement already satisfied: pyyaml>=5.1 in /opt/homebrew/Caskroom/miniforge/base/envs/nlp24-env/lib/python3.11/site-packages (from huggingface-hub>=0.15.1->sentence-transformers>=0.4.1->bertopic) (6.0.2)\n",
            "Requirement already satisfied: requests in /opt/homebrew/Caskroom/miniforge/base/envs/nlp24-env/lib/python3.11/site-packages (from huggingface-hub>=0.15.1->sentence-transformers>=0.4.1->bertopic) (2.32.3)\n",
            "Requirement already satisfied: typing-extensions>=3.7.4.3 in /opt/homebrew/Caskroom/miniforge/base/envs/nlp24-env/lib/python3.11/site-packages (from huggingface-hub>=0.15.1->sentence-transformers>=0.4.1->bertopic) (4.12.2)\n",
            "Collecting llvmlite<0.44,>=0.43.0dev0 (from numba>=0.51.2->umap-learn>=0.5.0->bertopic)\n",
            "  Downloading llvmlite-0.43.0-cp311-cp311-macosx_11_0_arm64.whl.metadata (4.8 kB)\n",
            "Requirement already satisfied: six>=1.5 in /opt/homebrew/Caskroom/miniforge/base/envs/nlp24-env/lib/python3.11/site-packages (from python-dateutil>=2.8.2->pandas>=1.1.5->bertopic) (1.16.0)\n",
            "Requirement already satisfied: sympy in /opt/homebrew/Caskroom/miniforge/base/envs/nlp24-env/lib/python3.11/site-packages (from torch>=1.11.0->sentence-transformers>=0.4.1->bertopic) (1.13.2)\n",
            "Requirement already satisfied: networkx in /opt/homebrew/Caskroom/miniforge/base/envs/nlp24-env/lib/python3.11/site-packages (from torch>=1.11.0->sentence-transformers>=0.4.1->bertopic) (3.3)\n",
            "Requirement already satisfied: jinja2 in /opt/homebrew/Caskroom/miniforge/base/envs/nlp24-env/lib/python3.11/site-packages (from torch>=1.11.0->sentence-transformers>=0.4.1->bertopic) (3.1.4)\n",
            "Requirement already satisfied: regex!=2019.12.17 in /opt/homebrew/Caskroom/miniforge/base/envs/nlp24-env/lib/python3.11/site-packages (from transformers<5.0.0,>=4.34.0->sentence-transformers>=0.4.1->bertopic) (2024.9.11)\n",
            "Requirement already satisfied: tokenizers<0.20,>=0.19 in /opt/homebrew/Caskroom/miniforge/base/envs/nlp24-env/lib/python3.11/site-packages (from transformers<5.0.0,>=4.34.0->sentence-transformers>=0.4.1->bertopic) (0.19.1)\n",
            "Requirement already satisfied: safetensors>=0.4.1 in /opt/homebrew/Caskroom/miniforge/base/envs/nlp24-env/lib/python3.11/site-packages (from transformers<5.0.0,>=4.34.0->sentence-transformers>=0.4.1->bertopic) (0.4.5)\n",
            "Requirement already satisfied: MarkupSafe>=2.0 in /opt/homebrew/Caskroom/miniforge/base/envs/nlp24-env/lib/python3.11/site-packages (from jinja2->torch>=1.11.0->sentence-transformers>=0.4.1->bertopic) (2.1.5)\n",
            "Requirement already satisfied: charset-normalizer<4,>=2 in /opt/homebrew/Caskroom/miniforge/base/envs/nlp24-env/lib/python3.11/site-packages (from requests->huggingface-hub>=0.15.1->sentence-transformers>=0.4.1->bertopic) (3.3.2)\n",
            "Requirement already satisfied: idna<4,>=2.5 in /opt/homebrew/Caskroom/miniforge/base/envs/nlp24-env/lib/python3.11/site-packages (from requests->huggingface-hub>=0.15.1->sentence-transformers>=0.4.1->bertopic) (3.10)\n",
            "Requirement already satisfied: urllib3<3,>=1.21.1 in /opt/homebrew/Caskroom/miniforge/base/envs/nlp24-env/lib/python3.11/site-packages (from requests->huggingface-hub>=0.15.1->sentence-transformers>=0.4.1->bertopic) (2.2.3)\n",
            "Requirement already satisfied: certifi>=2017.4.17 in /opt/homebrew/Caskroom/miniforge/base/envs/nlp24-env/lib/python3.11/site-packages (from requests->huggingface-hub>=0.15.1->sentence-transformers>=0.4.1->bertopic) (2024.8.30)\n",
            "Requirement already satisfied: mpmath<1.4,>=1.1.0 in /opt/homebrew/Caskroom/miniforge/base/envs/nlp24-env/lib/python3.11/site-packages (from sympy->torch>=1.11.0->sentence-transformers>=0.4.1->bertopic) (1.3.0)\n",
            "Downloading bertopic-0.16.3-py3-none-any.whl (143 kB)\n",
            "Downloading umap_learn-0.5.6-py3-none-any.whl (85 kB)\n",
            "Downloading numba-0.60.0-cp311-cp311-macosx_11_0_arm64.whl (2.6 MB)\n",
            "\u001b[2K   \u001b[90m━━━━━━━━━━━━━━━━━━━━━━━━━━━━━━━━━━━━━━━━\u001b[0m \u001b[32m2.6/2.6 MB\u001b[0m \u001b[31m42.5 MB/s\u001b[0m eta \u001b[36m0:00:00\u001b[0m\n",
            "\u001b[?25hDownloading pynndescent-0.5.13-py3-none-any.whl (56 kB)\n",
            "Downloading llvmlite-0.43.0-cp311-cp311-macosx_11_0_arm64.whl (28.8 MB)\n",
            "\u001b[2K   \u001b[90m━━━━━━━━━━━━━━━━━━━━━━━━━━━━━━━━━━━━━━━━\u001b[0m \u001b[32m28.8/28.8 MB\u001b[0m \u001b[31m59.3 MB/s\u001b[0m eta \u001b[36m0:00:00\u001b[0m00:01\u001b[0m00:01\u001b[0m\n",
            "\u001b[?25hBuilding wheels for collected packages: hdbscan\n",
            "  Building wheel for hdbscan (pyproject.toml) ... \u001b[?25ldone\n",
            "\u001b[?25h  Created wheel for hdbscan: filename=hdbscan-0.8.38.post1-cp311-cp311-macosx_11_0_arm64.whl size=705142 sha256=712c63c0f55d25007e0846d0bbafac1787ee7b360e651f445e0c4bc86b100d21\n",
            "  Stored in directory: /Users/kevinhall/Library/Caches/pip/wheels/cb/5e/46/545115df7b61e96c70d9d63dc207bd6939658350e7c1ed208a\n",
            "Successfully built hdbscan\n",
            "Installing collected packages: llvmlite, numba, pynndescent, hdbscan, umap-learn, bertopic\n",
            "Successfully installed bertopic-0.16.3 hdbscan-0.8.38.post1 llvmlite-0.43.0 numba-0.60.0 pynndescent-0.5.13 umap-learn-0.5.6\n",
            "Note: you may need to restart the kernel to use updated packages.\n"
          ]
        }
      ],
      "source": [
        "%pip install bertopic"
      ]
    },
    {
      "cell_type": "code",
      "execution_count": 2,
      "metadata": {},
      "outputs": [
        {
          "name": "stdout",
          "output_type": "stream",
          "text": [
            "Collecting wordcloud\n",
            "  Downloading wordcloud-1.9.3-cp311-cp311-macosx_11_0_arm64.whl.metadata (3.4 kB)\n",
            "Requirement already satisfied: numpy>=1.6.1 in /opt/homebrew/Caskroom/miniforge/base/envs/nlp24-env/lib/python3.11/site-packages (from wordcloud) (1.26.4)\n",
            "Requirement already satisfied: pillow in /opt/homebrew/Caskroom/miniforge/base/envs/nlp24-env/lib/python3.11/site-packages (from wordcloud) (10.4.0)\n",
            "Requirement already satisfied: matplotlib in /opt/homebrew/Caskroom/miniforge/base/envs/nlp24-env/lib/python3.11/site-packages (from wordcloud) (3.9.2)\n",
            "Requirement already satisfied: contourpy>=1.0.1 in /opt/homebrew/Caskroom/miniforge/base/envs/nlp24-env/lib/python3.11/site-packages (from matplotlib->wordcloud) (1.3.0)\n",
            "Requirement already satisfied: cycler>=0.10 in /opt/homebrew/Caskroom/miniforge/base/envs/nlp24-env/lib/python3.11/site-packages (from matplotlib->wordcloud) (0.12.1)\n",
            "Requirement already satisfied: fonttools>=4.22.0 in /opt/homebrew/Caskroom/miniforge/base/envs/nlp24-env/lib/python3.11/site-packages (from matplotlib->wordcloud) (4.54.0)\n",
            "Requirement already satisfied: kiwisolver>=1.3.1 in /opt/homebrew/Caskroom/miniforge/base/envs/nlp24-env/lib/python3.11/site-packages (from matplotlib->wordcloud) (1.4.7)\n",
            "Requirement already satisfied: packaging>=20.0 in /opt/homebrew/Caskroom/miniforge/base/envs/nlp24-env/lib/python3.11/site-packages (from matplotlib->wordcloud) (24.1)\n",
            "Requirement already satisfied: pyparsing>=2.3.1 in /opt/homebrew/Caskroom/miniforge/base/envs/nlp24-env/lib/python3.11/site-packages (from matplotlib->wordcloud) (3.1.4)\n",
            "Requirement already satisfied: python-dateutil>=2.7 in /opt/homebrew/Caskroom/miniforge/base/envs/nlp24-env/lib/python3.11/site-packages (from matplotlib->wordcloud) (2.9.0)\n",
            "Requirement already satisfied: six>=1.5 in /opt/homebrew/Caskroom/miniforge/base/envs/nlp24-env/lib/python3.11/site-packages (from python-dateutil>=2.7->matplotlib->wordcloud) (1.16.0)\n",
            "Downloading wordcloud-1.9.3-cp311-cp311-macosx_11_0_arm64.whl (168 kB)\n",
            "Installing collected packages: wordcloud\n",
            "Successfully installed wordcloud-1.9.3\n",
            "Note: you may need to restart the kernel to use updated packages.\n"
          ]
        }
      ],
      "source": [
        "%pip install wordcloud"
      ]
    },
    {
      "cell_type": "code",
      "execution_count": null,
      "metadata": {
        "id": "wopLaohrXVD8"
      },
      "outputs": [],
      "source": [
        "!python -m spacy download en_core_web_trf"
      ]
    },
    {
      "cell_type": "code",
      "execution_count": 1,
      "metadata": {
        "colab": {
          "base_uri": "https://localhost:8080/"
        },
        "id": "uIe-2RLUboPF",
        "outputId": "97ec72f6-913a-4a83-8aeb-6476de10fb8f"
      },
      "outputs": [
        {
          "name": "stdout",
          "output_type": "stream",
          "text": [
            "CUDA Available:  False\n"
          ]
        }
      ],
      "source": [
        "import torch\n",
        "\n",
        "print(\"CUDA Available: \", torch.cuda.is_available())\n",
        "if torch.cuda.is_available():\n",
        "    print(\"CUDA Device Name: \", torch.cuda.get_device_name(0))\n",
        "\n"
      ]
    },
    {
      "cell_type": "markdown",
      "metadata": {
        "id": "8G517UjgbhH8"
      },
      "source": [
        "# Check for GPU with CUDA core"
      ]
    },
    {
      "cell_type": "markdown",
      "metadata": {
        "id": "907uObU7b5GK"
      },
      "source": [
        "# Step 1 Load and Preprocess the data with spaCy"
      ]
    },
    {
      "cell_type": "code",
      "execution_count": 18,
      "metadata": {},
      "outputs": [],
      "source": [
        "# Define the path to your directory containing CSV files\n",
        "path_to_files = \"data/Interviews\" "
      ]
    },
    {
      "cell_type": "markdown",
      "metadata": {
        "id": "YDv3VB6dl50C"
      },
      "source": [
        "## New code starts from here"
      ]
    },
    {
      "cell_type": "code",
      "execution_count": 19,
      "metadata": {
        "colab": {
          "base_uri": "https://localhost:8080/"
        },
        "id": "cYdwWf1Ps44g",
        "outputId": "c0ef3894-35a8-40d6-c1b1-b185e67fa957"
      },
      "outputs": [
        {
          "name": "stderr",
          "output_type": "stream",
          "text": [
            "[nltk_data] Downloading package punkt_tab to\n",
            "[nltk_data]     /Users/kevinhall/nltk_data...\n",
            "[nltk_data]   Package punkt_tab is already up-to-date!\n",
            "100%|██████████| 11/11 [00:00<00:00, 190.94it/s]\n"
          ]
        },
        {
          "name": "stdout",
          "output_type": "stream",
          "text": [
            "Total files processed: 1\n",
            "Files processed: ['highlighted_sentences.csv']\n",
            "Processed Sentences: ['So what are you teaching?', \"I think that's my only role outside of the classroom at the moment.\", 'Love teaching.', ' the needs of a few students who definitely need a lot of one-on-one attention with the needs of the rest of the classroom.', 'And then gradually figure out how to take those away for some students and figure out where I need to push more with other students, like sort of add more supports for some students.', 'There are students who are going to sit in my class every day, right?', 'Like, to the individual students.', ', to the individual students.', ' at the expense of teaching important content and giving important examples and anecdotes.', ' have really lofty discussions that end up having no real bearing on what happens in the classroom.', 'Teach a group of students.', 'I can think about those ideas later, but right now I need to teach this group of students.', 'Like, because you, have you taught in a classroom?', \"Here's the thing that you can do in your classroom.\", 'So , in Empower, one goal that we have is for helping students take ownership of their learning.', \"I don't think that we can get every student to take meaningful ownership over their learning right now, or not right now, just in general, because there are so many things\", ' So what other, I think you kind of touched on this, what barriers are you facing as a teacher to help make that happen in your classroom?', 'And I see that in how my students engage with school.', 'I have to focus on the students who are still giving me some effort.', ' have to inherently have the capacity to care about something in the classroom before that can happen.', \"I think that one thing, in the moments that I have seen really good student engagement and student ownership in my class, and sometimes this works and sometimes this doesn't, I'm not going to pretend like every, like the things that have worked, right, but don't always work\", 'I think that classroom community does really help.', 'So do you think as part of Empower that that would be, if a goal of Empower is to create this ownership among students for their learning, do you think that would be helpful?', \" I try to, but sometimes we spend so long on the next lesson, which is about that one student's question.\", \"I'm better at that with some students rather than others you know.\", 'And one of those goals is for students to take ownership of their learning.', ' The student ownership component is, I feel like that is always the most difficult thing to get across in the classroom.', \"But rather than me doing that it's the students doing that, you know.\", \" You've described this flow where students are coming in, they're starting, you know, , they start, you know, doing what they need to, and you're there kind of supporting them.\", ' being able to, you know, delegate to students like, hey, at the end of a class, this is how we get ready for the next class.', ' But then also, our students, my students specifically, in our district, in our town, in our community, they deal with a lot of stuff.', ' more participation on the student side of things.', \" how students learn best and how to also give them grade level content, but also meet them where they're at to grow them.\", \"All students don't learn the same.\", 'And you have to get to know your students to figure out how they learn.', 'So, um, in this project, one goal that we have for students is to take ownership of their learning.', 'What about the students?', 'Your classroom, you are responsible for what you feel like the students need to learn the most.', 'So in this project, one goal that we have for students is to take ownership of their learning.', 'I like to allow students to talk.', \"Then you have other students that have not had that support group, that have not been cheered their whole life, and they're kind of reluctant.\", 'And my interests in this project are about teacher epistemologies and how teachers like you think about teaching and learning.', \"And so you're looking for those ways to increase making the curriculum more interactive and helping the students take ownership of their learning.\", ' I wanna ask you more about student ownership of their learning.', 'So in thinking about kind of those types of activities or scenarios where students are taking ownership of their learning, what do you think is needed in order to make that happen?', ' you have to know your students.', \"And you have to be a good enough teacher to care about your students, to know what things they like or don't like, or what kind of learning styles work for them or don't.\", ' , to really make things work for those students.', \"And like being able to know your students well enough to know when it's not working.\", ' where students take ownership of their learning?', ' give students ownership in their learning?', \" What do you think are barriers and challenges that students are facing when you're asking them to engage in these types of lessons?\", 'The students are great.', ' do that lesson, but do it in a more interactive way just to try to engage your students.', 'So in this project, one goal we have is for students to take ownership of their learning.', 'So for you, like students taking ownership of their learning looks like them having kind of like a light bulb moment of understanding a topic or making an extra effort to improve a grade or to do better on an assignment.', ' For the students or for me?', 'For the students.', 'For the students.', ' the way students are motivated and engaged.', 'So my professional learning goals are typically usually finding ways to engage and motivate students in an authentic way.', 'So in this project, one goal we have is for students to take ownership of their learning.', 'Can you, can you describe to me like a specific instance when you saw students taking ownership of their learning?', \" you've seen students taking ownership of their learning like within your class or like within an activity or something that you were doing as part of the class structure?\", 'What do students need?', ' The student themselves is the big part of it, really.', \"In general, I'm not saying, you know, I'm not saying every student, but there's students that\", \"Any other questions or any other thoughts you have about student ownership of learning or the curriculum you're working on that you would want to share with me?\"]\n"
          ]
        }
      ],
      "source": [
        "import pandas as pd\n",
        "import os\n",
        "import nltk\n",
        "from nltk.tokenize import sent_tokenize\n",
        "from tqdm import tqdm\n",
        "\n",
        "# Ensure necessary nltk resources are downloaded\n",
        "nltk.download('punkt_tab')\n",
        "\n",
        "def load_texts_from_csv_directory(directory_path):\n",
        "    texts = []\n",
        "    files_processed = 0\n",
        "    file_names = []\n",
        "    for filename in tqdm(os.listdir(directory_path)):\n",
        "        if filename.endswith(\".csv\"):\n",
        "            files_processed += 1\n",
        "            file_names.append(filename)\n",
        "            file_path = os.path.join(directory_path, filename)\n",
        "            df = pd.read_csv(file_path)\n",
        "            if 'text' in df.columns:\n",
        "                texts.extend(df['text'].apply(lambda text: text.replace('\\n', ' ').replace('yeah', '').replace('Yeah', '')).tolist())\n",
        "            else:\n",
        "                print(f\"Column 'text' not found in {filename}\")\n",
        "    print(f\"Total files processed: {files_processed}\")\n",
        "    print(\"Files processed:\", file_names)\n",
        "    return texts\n",
        "\n",
        "\n",
        "# Load texts\n",
        "documents = load_texts_from_csv_directory(path_to_files)\n",
        "\n",
        "# Assuming each document is already a string\n",
        "# Split each document into sentences\n",
        "sentences = [sent_tokenize(doc) for doc in documents]\n",
        "sentences = [sentence for doc in sentences for sentence in doc]\n",
        "\n",
        "print(\"Processed Sentences:\", sentences)\n"
      ]
    },
    {
      "cell_type": "code",
      "execution_count": 20,
      "metadata": {
        "colab": {
          "base_uri": "https://localhost:8080/"
        },
        "id": "IqKSQjSApv49",
        "outputId": "f314a190-51c5-45d3-c30b-f19b970a0bc0"
      },
      "outputs": [
        {
          "name": "stdout",
          "output_type": "stream",
          "text": [
            "['So what are you teaching?', \"I think that's my only role outside of the classroom at the moment.\", 'Love teaching.', ' the needs of a few students who definitely need a lot of one-on-one attention with the needs of the rest of the classroom.', 'And then gradually figure out how to take those away for some students and figure out where I need to push more with other students, like sort of add more supports for some students.']\n"
          ]
        }
      ],
      "source": [
        "print(documents[0:5])"
      ]
    },
    {
      "cell_type": "code",
      "execution_count": 21,
      "metadata": {
        "colab": {
          "base_uri": "https://localhost:8080/"
        },
        "id": "L2lAwpBlnOLs",
        "outputId": "be45e1df-94fb-49d7-90f5-1b176cd23efd"
      },
      "outputs": [
        {
          "name": "stdout",
          "output_type": "stream",
          "text": [
            "Number of sentences: 68\n",
            "['So what are you teaching?', \"I think that's my only role outside of the classroom at the moment.\", 'Love teaching.', ' the needs of a few students who definitely need a lot of one-on-one attention with the needs of the rest of the classroom.', 'And then gradually figure out how to take those away for some students and figure out where I need to push more with other students, like sort of add more supports for some students.', 'There are students who are going to sit in my class every day, right?', 'Like, to the individual students.', ', to the individual students.', ' at the expense of teaching important content and giving important examples and anecdotes.', ' have really lofty discussions that end up having no real bearing on what happens in the classroom.', 'Teach a group of students.', 'I can think about those ideas later, but right now I need to teach this group of students.', 'Like, because you, have you taught in a classroom?', \"Here's the thing that you can do in your classroom.\", 'So , in Empower, one goal that we have is for helping students take ownership of their learning.', \"I don't think that we can get every student to take meaningful ownership over their learning right now, or not right now, just in general, because there are so many things\", ' So what other, I think you kind of touched on this, what barriers are you facing as a teacher to help make that happen in your classroom?', 'And I see that in how my students engage with school.', 'I have to focus on the students who are still giving me some effort.', ' have to inherently have the capacity to care about something in the classroom before that can happen.']\n"
          ]
        }
      ],
      "source": [
        "print(f\"Number of sentences: {len(sentences)}\")\n",
        "print(sentences[0:20])"
      ]
    },
    {
      "cell_type": "code",
      "execution_count": 22,
      "metadata": {
        "colab": {
          "base_uri": "https://localhost:8080/",
          "height": 49,
          "referenced_widgets": [
            "12eb3119183641acb0e39c53c8513fd8",
            "22f12fafde17476a9cf52d78d4031e73",
            "b736267290644496a77ac25dcc4119b4",
            "937b8443783549d08f5ebaf02d82096d",
            "51881a8fc4e340f980a7c70a0222aa39",
            "403b0bd62ee44fe986728c5e4b8b46c8",
            "97997be1f7ff45e0aaee211a5268030f",
            "bfe02c203e63419c87ba9d56e3d5cfbd",
            "2ec4cbb68f584510b3066189f829a7e2",
            "b552ac43956d465a939d55563211a0c7",
            "523a9ff246344776801af07eb52bae68"
          ]
        },
        "id": "4hXRClVpqDcL",
        "outputId": "85d48142-de6d-4ed6-b910-b655c2b1d811"
      },
      "outputs": [
        {
          "data": {
            "application/vnd.jupyter.widget-view+json": {
              "model_id": "a9494a7fc2644c788e262b365319f767",
              "version_major": 2,
              "version_minor": 0
            },
            "text/plain": [
              "Batches:   0%|          | 0/3 [00:00<?, ?it/s]"
            ]
          },
          "metadata": {},
          "output_type": "display_data"
        }
      ],
      "source": [
        "from sentence_transformers import SentenceTransformer\n",
        "embedding_model = SentenceTransformer('all-MiniLM-L6-v2')\n",
        "embeddings = embedding_model.encode(sentences, show_progress_bar=True)"
      ]
    },
    {
      "cell_type": "code",
      "execution_count": 23,
      "metadata": {
        "id": "RR2AIf2aqN9z"
      },
      "outputs": [],
      "source": [
        "from bertopic import BERTopic\n",
        "from bertopic.vectorizers import ClassTfidfTransformer\n",
        "from bertopic.representation import KeyBERTInspired\n",
        "\n",
        "topic_model = BERTopic(\n",
        "  embedding_model=embedding_model,\n",
        "  representation_model=KeyBERTInspired(),\n",
        "  ctfidf_model=ClassTfidfTransformer(reduce_frequent_words=True),\n",
        "  top_n_words=25\n",
        ")\n",
        "topics, probs = topic_model.fit_transform(sentences, embeddings)"
      ]
    },
    {
      "cell_type": "markdown",
      "metadata": {
        "id": "7rI7hMpHqdBx"
      },
      "source": [
        "## Topic Reduction"
      ]
    },
    {
      "cell_type": "code",
      "execution_count": 10,
      "metadata": {
        "id": "j5x2Eky6qfX7"
      },
      "outputs": [],
      "source": [
        "model = BERTopic(nr_topics=20)"
      ]
    },
    {
      "cell_type": "markdown",
      "metadata": {
        "id": "A2fSy5EhqjcO"
      },
      "source": [
        "## Merge Selected Topics"
      ]
    },
    {
      "cell_type": "code",
      "execution_count": null,
      "metadata": {
        "id": "K9fhBl_wqnXO"
      },
      "outputs": [],
      "source": [
        "topics_to_merge = [1, 2]\n",
        "topic_model.merge_topics(sentences, topics, topics_to_merge)"
      ]
    },
    {
      "cell_type": "markdown",
      "metadata": {
        "id": "rgtM6zGjqu01"
      },
      "source": [
        "## Make Predictions?"
      ]
    },
    {
      "cell_type": "code",
      "execution_count": null,
      "metadata": {
        "id": "bIqUjpAXqs4R"
      },
      "outputs": [],
      "source": [
        "topics, probs = topic_model.transform(sentences)"
      ]
    },
    {
      "cell_type": "markdown",
      "metadata": {
        "id": "6yNzNBFfq5WJ"
      },
      "source": [
        "## List Top Topics"
      ]
    },
    {
      "cell_type": "code",
      "execution_count": 24,
      "metadata": {
        "colab": {
          "base_uri": "https://localhost:8080/",
          "height": 394
        },
        "id": "GFqmlfzCq71_",
        "outputId": "8544c9c0-8688-4625-b0ed-b06f448723ee"
      },
      "outputs": [
        {
          "data": {
            "text/html": [
              "<div>\n",
              "<style scoped>\n",
              "    .dataframe tbody tr th:only-of-type {\n",
              "        vertical-align: middle;\n",
              "    }\n",
              "\n",
              "    .dataframe tbody tr th {\n",
              "        vertical-align: top;\n",
              "    }\n",
              "\n",
              "    .dataframe thead th {\n",
              "        text-align: right;\n",
              "    }\n",
              "</style>\n",
              "<table border=\"1\" class=\"dataframe\">\n",
              "  <thead>\n",
              "    <tr style=\"text-align: right;\">\n",
              "      <th></th>\n",
              "      <th>Topic</th>\n",
              "      <th>Count</th>\n",
              "    </tr>\n",
              "  </thead>\n",
              "  <tbody>\n",
              "    <tr>\n",
              "      <th>2</th>\n",
              "      <td>0</td>\n",
              "      <td>23</td>\n",
              "    </tr>\n",
              "    <tr>\n",
              "      <th>3</th>\n",
              "      <td>1</td>\n",
              "      <td>21</td>\n",
              "    </tr>\n",
              "    <tr>\n",
              "      <th>0</th>\n",
              "      <td>2</td>\n",
              "      <td>13</td>\n",
              "    </tr>\n",
              "    <tr>\n",
              "      <th>1</th>\n",
              "      <td>-1</td>\n",
              "      <td>11</td>\n",
              "    </tr>\n",
              "  </tbody>\n",
              "</table>\n",
              "</div>"
            ],
            "text/plain": [
              "   Topic  Count\n",
              "2      0     23\n",
              "3      1     21\n",
              "0      2     13\n",
              "1     -1     11"
            ]
          },
          "execution_count": 24,
          "metadata": {},
          "output_type": "execute_result"
        }
      ],
      "source": [
        "topic_model.get_topic_freq().head(11)"
      ]
    },
    {
      "cell_type": "markdown",
      "metadata": {
        "id": "16wPON-7rJxh"
      },
      "source": [
        "## Get Topic info"
      ]
    },
    {
      "cell_type": "code",
      "execution_count": 25,
      "metadata": {
        "colab": {
          "base_uri": "https://localhost:8080/",
          "height": 424
        },
        "id": "FDU4Cd-lrNR2",
        "outputId": "7e144cef-7c7f-4e18-8648-3cd04e2764f3"
      },
      "outputs": [
        {
          "data": {
            "text/html": [
              "<div>\n",
              "<style scoped>\n",
              "    .dataframe tbody tr th:only-of-type {\n",
              "        vertical-align: middle;\n",
              "    }\n",
              "\n",
              "    .dataframe tbody tr th {\n",
              "        vertical-align: top;\n",
              "    }\n",
              "\n",
              "    .dataframe thead th {\n",
              "        text-align: right;\n",
              "    }\n",
              "</style>\n",
              "<table border=\"1\" class=\"dataframe\">\n",
              "  <thead>\n",
              "    <tr style=\"text-align: right;\">\n",
              "      <th></th>\n",
              "      <th>Topic</th>\n",
              "      <th>Count</th>\n",
              "      <th>Name</th>\n",
              "      <th>Representation</th>\n",
              "      <th>Representative_Docs</th>\n",
              "    </tr>\n",
              "  </thead>\n",
              "  <tbody>\n",
              "    <tr>\n",
              "      <th>0</th>\n",
              "      <td>-1</td>\n",
              "      <td>11</td>\n",
              "      <td>-1_students_classroom_teaching_teach</td>\n",
              "      <td>[students, classroom, teaching, teach, teacher...</td>\n",
              "      <td>[And you have to be a good enough teacher to c...</td>\n",
              "    </tr>\n",
              "    <tr>\n",
              "      <th>1</th>\n",
              "      <td>0</td>\n",
              "      <td>23</td>\n",
              "      <td>0_students_student_school_learn</td>\n",
              "      <td>[students, student, school, learn, grade, clas...</td>\n",
              "      <td>[And like being able to know your students wel...</td>\n",
              "    </tr>\n",
              "    <tr>\n",
              "      <th>2</th>\n",
              "      <td>1</td>\n",
              "      <td>21</td>\n",
              "      <td>1_students_student_learning_curriculum</td>\n",
              "      <td>[students, student, learning, curriculum, assi...</td>\n",
              "      <td>[So in this project, one goal we have is for s...</td>\n",
              "    </tr>\n",
              "    <tr>\n",
              "      <th>3</th>\n",
              "      <td>2</td>\n",
              "      <td>13</td>\n",
              "      <td>2_classroom_teaching_teachers_students</td>\n",
              "      <td>[classroom, teaching, teachers, students, teac...</td>\n",
              "      <td>[ have really lofty discussions that end up ha...</td>\n",
              "    </tr>\n",
              "  </tbody>\n",
              "</table>\n",
              "</div>"
            ],
            "text/plain": [
              "   Topic  Count                                    Name  \\\n",
              "0     -1     11    -1_students_classroom_teaching_teach   \n",
              "1      0     23         0_students_student_school_learn   \n",
              "2      1     21  1_students_student_learning_curriculum   \n",
              "3      2     13  2_classroom_teaching_teachers_students   \n",
              "\n",
              "                                      Representation  \\\n",
              "0  [students, classroom, teaching, teach, teacher...   \n",
              "1  [students, student, school, learn, grade, clas...   \n",
              "2  [students, student, learning, curriculum, assi...   \n",
              "3  [classroom, teaching, teachers, students, teac...   \n",
              "\n",
              "                                 Representative_Docs  \n",
              "0  [And you have to be a good enough teacher to c...  \n",
              "1  [And like being able to know your students wel...  \n",
              "2  [So in this project, one goal we have is for s...  \n",
              "3  [ have really lofty discussions that end up ha...  "
            ]
          },
          "execution_count": 25,
          "metadata": {},
          "output_type": "execute_result"
        }
      ],
      "source": [
        "topic_model.get_topic_info()"
      ]
    },
    {
      "cell_type": "markdown",
      "metadata": {
        "id": "6LHMoQ-prWtR"
      },
      "source": [
        "## Most frequent words for a specific topic"
      ]
    },
    {
      "cell_type": "code",
      "execution_count": 26,
      "metadata": {
        "colab": {
          "base_uri": "https://localhost:8080/"
        },
        "id": "KbyryBR3rV18",
        "outputId": "3696d33f-e725-4c94-b1b4-bec30511a940"
      },
      "outputs": [
        {
          "data": {
            "text/plain": [
              "[('classroom', 0.6053837),\n",
              " ('teaching', 0.6051439),\n",
              " ('teachers', 0.555038),\n",
              " ('students', 0.5355807),\n",
              " ('teacher', 0.53408504),\n",
              " ('teach', 0.53329265),\n",
              " ('taught', 0.47712842),\n",
              " ('lessons', 0.46241057),\n",
              " ('student', 0.41882467),\n",
              " ('lesson', 0.40514258)]"
            ]
          },
          "execution_count": 26,
          "metadata": {},
          "output_type": "execute_result"
        }
      ],
      "source": [
        "topic_model.get_topic(2)"
      ]
    },
    {
      "cell_type": "markdown",
      "metadata": {
        "id": "flBeslJXrmmo"
      },
      "source": [
        "## Get Document Info"
      ]
    },
    {
      "cell_type": "code",
      "execution_count": 28,
      "metadata": {
        "colab": {
          "base_uri": "https://localhost:8080/",
          "height": 947
        },
        "id": "KXkSMeaRrp9j",
        "outputId": "e06f8124-4d33-4b5d-a94a-74a80e3a823f"
      },
      "outputs": [
        {
          "data": {
            "text/html": [
              "<div>\n",
              "<style scoped>\n",
              "    .dataframe tbody tr th:only-of-type {\n",
              "        vertical-align: middle;\n",
              "    }\n",
              "\n",
              "    .dataframe tbody tr th {\n",
              "        vertical-align: top;\n",
              "    }\n",
              "\n",
              "    .dataframe thead th {\n",
              "        text-align: right;\n",
              "    }\n",
              "</style>\n",
              "<table border=\"1\" class=\"dataframe\">\n",
              "  <thead>\n",
              "    <tr style=\"text-align: right;\">\n",
              "      <th></th>\n",
              "      <th>Document</th>\n",
              "      <th>Topic</th>\n",
              "      <th>Name</th>\n",
              "      <th>Representation</th>\n",
              "      <th>Representative_Docs</th>\n",
              "      <th>Top_n_words</th>\n",
              "      <th>Probability</th>\n",
              "      <th>Representative_document</th>\n",
              "    </tr>\n",
              "  </thead>\n",
              "  <tbody>\n",
              "    <tr>\n",
              "      <th>0</th>\n",
              "      <td>So what are you teaching?</td>\n",
              "      <td>2</td>\n",
              "      <td>2_classroom_teaching_teachers_students</td>\n",
              "      <td>[classroom, teaching, teachers, students, teac...</td>\n",
              "      <td>[ have really lofty discussions that end up ha...</td>\n",
              "      <td>classroom - teaching - teachers - students - t...</td>\n",
              "      <td>0.985245</td>\n",
              "      <td>False</td>\n",
              "    </tr>\n",
              "    <tr>\n",
              "      <th>1</th>\n",
              "      <td>I think that's my only role outside of the cla...</td>\n",
              "      <td>2</td>\n",
              "      <td>2_classroom_teaching_teachers_students</td>\n",
              "      <td>[classroom, teaching, teachers, students, teac...</td>\n",
              "      <td>[ have really lofty discussions that end up ha...</td>\n",
              "      <td>classroom - teaching - teachers - students - t...</td>\n",
              "      <td>1.000000</td>\n",
              "      <td>False</td>\n",
              "    </tr>\n",
              "    <tr>\n",
              "      <th>2</th>\n",
              "      <td>Love teaching.</td>\n",
              "      <td>-1</td>\n",
              "      <td>-1_students_classroom_teaching_teach</td>\n",
              "      <td>[students, classroom, teaching, teach, teacher...</td>\n",
              "      <td>[And you have to be a good enough teacher to c...</td>\n",
              "      <td>students - classroom - teaching - teach - teac...</td>\n",
              "      <td>0.000000</td>\n",
              "      <td>False</td>\n",
              "    </tr>\n",
              "    <tr>\n",
              "      <th>3</th>\n",
              "      <td>the needs of a few students who definitely ne...</td>\n",
              "      <td>-1</td>\n",
              "      <td>-1_students_classroom_teaching_teach</td>\n",
              "      <td>[students, classroom, teaching, teach, teacher...</td>\n",
              "      <td>[And you have to be a good enough teacher to c...</td>\n",
              "      <td>students - classroom - teaching - teach - teac...</td>\n",
              "      <td>0.000000</td>\n",
              "      <td>False</td>\n",
              "    </tr>\n",
              "    <tr>\n",
              "      <th>4</th>\n",
              "      <td>And then gradually figure out how to take thos...</td>\n",
              "      <td>-1</td>\n",
              "      <td>-1_students_classroom_teaching_teach</td>\n",
              "      <td>[students, classroom, teaching, teach, teacher...</td>\n",
              "      <td>[And you have to be a good enough teacher to c...</td>\n",
              "      <td>students - classroom - teaching - teach - teac...</td>\n",
              "      <td>0.000000</td>\n",
              "      <td>True</td>\n",
              "    </tr>\n",
              "    <tr>\n",
              "      <th>...</th>\n",
              "      <td>...</td>\n",
              "      <td>...</td>\n",
              "      <td>...</td>\n",
              "      <td>...</td>\n",
              "      <td>...</td>\n",
              "      <td>...</td>\n",
              "      <td>...</td>\n",
              "      <td>...</td>\n",
              "    </tr>\n",
              "    <tr>\n",
              "      <th>63</th>\n",
              "      <td>you've seen students taking ownership of thei...</td>\n",
              "      <td>1</td>\n",
              "      <td>1_students_student_learning_curriculum</td>\n",
              "      <td>[students, student, learning, curriculum, assi...</td>\n",
              "      <td>[So in this project, one goal we have is for s...</td>\n",
              "      <td>students - student - learning - curriculum - a...</td>\n",
              "      <td>0.896470</td>\n",
              "      <td>False</td>\n",
              "    </tr>\n",
              "    <tr>\n",
              "      <th>64</th>\n",
              "      <td>What do students need?</td>\n",
              "      <td>0</td>\n",
              "      <td>0_students_student_school_learn</td>\n",
              "      <td>[students, student, school, learn, grade, clas...</td>\n",
              "      <td>[And like being able to know your students wel...</td>\n",
              "      <td>students - student - school - learn - grade - ...</td>\n",
              "      <td>1.000000</td>\n",
              "      <td>False</td>\n",
              "    </tr>\n",
              "    <tr>\n",
              "      <th>65</th>\n",
              "      <td>The student themselves is the big part of it,...</td>\n",
              "      <td>0</td>\n",
              "      <td>0_students_student_school_learn</td>\n",
              "      <td>[students, student, school, learn, grade, clas...</td>\n",
              "      <td>[And like being able to know your students wel...</td>\n",
              "      <td>students - student - school - learn - grade - ...</td>\n",
              "      <td>1.000000</td>\n",
              "      <td>False</td>\n",
              "    </tr>\n",
              "    <tr>\n",
              "      <th>66</th>\n",
              "      <td>In general, I'm not saying, you know, I'm not ...</td>\n",
              "      <td>0</td>\n",
              "      <td>0_students_student_school_learn</td>\n",
              "      <td>[students, student, school, learn, grade, clas...</td>\n",
              "      <td>[And like being able to know your students wel...</td>\n",
              "      <td>students - student - school - learn - grade - ...</td>\n",
              "      <td>0.935457</td>\n",
              "      <td>False</td>\n",
              "    </tr>\n",
              "    <tr>\n",
              "      <th>67</th>\n",
              "      <td>Any other questions or any other thoughts you ...</td>\n",
              "      <td>1</td>\n",
              "      <td>1_students_student_learning_curriculum</td>\n",
              "      <td>[students, student, learning, curriculum, assi...</td>\n",
              "      <td>[So in this project, one goal we have is for s...</td>\n",
              "      <td>students - student - learning - curriculum - a...</td>\n",
              "      <td>0.994109</td>\n",
              "      <td>False</td>\n",
              "    </tr>\n",
              "  </tbody>\n",
              "</table>\n",
              "<p>68 rows × 8 columns</p>\n",
              "</div>"
            ],
            "text/plain": [
              "                                             Document  Topic  \\\n",
              "0                           So what are you teaching?      2   \n",
              "1   I think that's my only role outside of the cla...      2   \n",
              "2                                      Love teaching.     -1   \n",
              "3    the needs of a few students who definitely ne...     -1   \n",
              "4   And then gradually figure out how to take thos...     -1   \n",
              "..                                                ...    ...   \n",
              "63   you've seen students taking ownership of thei...      1   \n",
              "64                             What do students need?      0   \n",
              "65   The student themselves is the big part of it,...      0   \n",
              "66  In general, I'm not saying, you know, I'm not ...      0   \n",
              "67  Any other questions or any other thoughts you ...      1   \n",
              "\n",
              "                                      Name  \\\n",
              "0   2_classroom_teaching_teachers_students   \n",
              "1   2_classroom_teaching_teachers_students   \n",
              "2     -1_students_classroom_teaching_teach   \n",
              "3     -1_students_classroom_teaching_teach   \n",
              "4     -1_students_classroom_teaching_teach   \n",
              "..                                     ...   \n",
              "63  1_students_student_learning_curriculum   \n",
              "64         0_students_student_school_learn   \n",
              "65         0_students_student_school_learn   \n",
              "66         0_students_student_school_learn   \n",
              "67  1_students_student_learning_curriculum   \n",
              "\n",
              "                                       Representation  \\\n",
              "0   [classroom, teaching, teachers, students, teac...   \n",
              "1   [classroom, teaching, teachers, students, teac...   \n",
              "2   [students, classroom, teaching, teach, teacher...   \n",
              "3   [students, classroom, teaching, teach, teacher...   \n",
              "4   [students, classroom, teaching, teach, teacher...   \n",
              "..                                                ...   \n",
              "63  [students, student, learning, curriculum, assi...   \n",
              "64  [students, student, school, learn, grade, clas...   \n",
              "65  [students, student, school, learn, grade, clas...   \n",
              "66  [students, student, school, learn, grade, clas...   \n",
              "67  [students, student, learning, curriculum, assi...   \n",
              "\n",
              "                                  Representative_Docs  \\\n",
              "0   [ have really lofty discussions that end up ha...   \n",
              "1   [ have really lofty discussions that end up ha...   \n",
              "2   [And you have to be a good enough teacher to c...   \n",
              "3   [And you have to be a good enough teacher to c...   \n",
              "4   [And you have to be a good enough teacher to c...   \n",
              "..                                                ...   \n",
              "63  [So in this project, one goal we have is for s...   \n",
              "64  [And like being able to know your students wel...   \n",
              "65  [And like being able to know your students wel...   \n",
              "66  [And like being able to know your students wel...   \n",
              "67  [So in this project, one goal we have is for s...   \n",
              "\n",
              "                                          Top_n_words  Probability  \\\n",
              "0   classroom - teaching - teachers - students - t...     0.985245   \n",
              "1   classroom - teaching - teachers - students - t...     1.000000   \n",
              "2   students - classroom - teaching - teach - teac...     0.000000   \n",
              "3   students - classroom - teaching - teach - teac...     0.000000   \n",
              "4   students - classroom - teaching - teach - teac...     0.000000   \n",
              "..                                                ...          ...   \n",
              "63  students - student - learning - curriculum - a...     0.896470   \n",
              "64  students - student - school - learn - grade - ...     1.000000   \n",
              "65  students - student - school - learn - grade - ...     1.000000   \n",
              "66  students - student - school - learn - grade - ...     0.935457   \n",
              "67  students - student - learning - curriculum - a...     0.994109   \n",
              "\n",
              "    Representative_document  \n",
              "0                     False  \n",
              "1                     False  \n",
              "2                     False  \n",
              "3                     False  \n",
              "4                      True  \n",
              "..                      ...  \n",
              "63                    False  \n",
              "64                    False  \n",
              "65                    False  \n",
              "66                    False  \n",
              "67                    False  \n",
              "\n",
              "[68 rows x 8 columns]"
            ]
          },
          "execution_count": 28,
          "metadata": {},
          "output_type": "execute_result"
        }
      ],
      "source": [
        "topic_model.get_document_info(sentences)"
      ]
    },
    {
      "cell_type": "markdown",
      "metadata": {
        "id": "673Ew1jasDiE"
      },
      "source": [
        "## Word cloud of specific topic"
      ]
    },
    {
      "cell_type": "code",
      "execution_count": 29,
      "metadata": {
        "colab": {
          "base_uri": "https://localhost:8080/",
          "height": 285
        },
        "id": "0K0vylcBrxBO",
        "outputId": "6c06e424-a741-4d79-c959-960b6af9a3c9"
      },
      "outputs": [
        {
          "data": {
            "image/png": "[encoded data removed]",
            "text/plain": [
              "<Figure size 640x480 with 1 Axes>"
            ]
          },
          "metadata": {},
          "output_type": "display_data"
        }
      ],
      "source": [
        "from wordcloud import WordCloud\n",
        "import matplotlib.pyplot as plt\n",
        "\n",
        "def create_wordcloud(model, topic):\n",
        "    text = {word: value for word, value in model.get_topic(topic)}\n",
        "    wc = WordCloud(background_color=\"white\", max_words=1000)\n",
        "    wc.generate_from_frequencies(text)\n",
        "    plt.imshow(wc, interpolation=\"bilinear\")\n",
        "    plt.axis(\"off\")\n",
        "    plt.show()\n",
        "create_wordcloud(topic_model, topic=2)"
      ]
    },
    {
      "cell_type": "markdown",
      "metadata": {
        "id": "MMBt5gvNsHYH"
      },
      "source": [
        "## Visualize documents"
      ]
    },
    {
      "cell_type": "code",
      "execution_count": 30,
      "metadata": {
        "colab": {
          "base_uri": "https://localhost:8080/",
          "height": 787
        },
        "id": "Pa33sFIHsH5l",
        "outputId": "8f868310-6f08-4bf8-ade6-79d1ebc4619e"
      },
      "outputs": [
        {
          "data": {
            "application/vnd.plotly.v1+json": {
              "config": {
                "plotlyServerURL": "https://plot.ly"
              },
              "data": [
                {
                  "hoverinfo": "text",
                  "hovertext": [
                    "And you have to be a good enough teacher to care about your students, to know what things they like or don't like, or what kind of learning styles work for them or don't.",
                    " the way students are motivated and engaged.",
                    "And then gradually figure out how to take those away for some students and figure out where I need to push more with other students, like sort of add more supports for some students.",
                    " the needs of a few students who definitely need a lot of one-on-one attention with the needs of the rest of the classroom.",
                    "Then you have other students that have not had that support group, that have not been cheered their whole life, and they're kind of reluctant.",
                    "Here's the thing that you can do in your classroom.",
                    "I can think about those ideas later, but right now I need to teach this group of students.",
                    "Love teaching.",
                    " being able to, you know, delegate to students like, hey, at the end of a class, this is how we get ready for the next class.",
                    " You've described this flow where students are coming in, they're starting, you know, , they start, you know, doing what they need to, and you're there kind of supporting them.",
                    "I have to focus on the students who are still giving me some effort.",
                    null
                  ],
                  "marker": {
                    "color": "#CFD8DC",
                    "opacity": 0.5,
                    "size": 5
                  },
                  "mode": "markers+text",
                  "name": "other",
                  "showlegend": false,
                  "type": "scattergl",
                  "x": [
                    -7.078225135803223,
                    -5.7807183265686035,
                    -5.2062788009643555,
                    -5.260099411010742,
                    -5.0884928703308105,
                    -6.259432792663574,
                    -6.417256832122803,
                    -6.934360504150391,
                    -5.5731964111328125,
                    -5.264488220214844,
                    -5.354487895965576,
                    -5.837912082672119
                  ],
                  "y": [
                    6.314770221710205,
                    5.5035858154296875,
                    5.589547634124756,
                    3.1087613105773926,
                    5.551869869232178,
                    4.20526123046875,
                    4.101551532745361,
                    4.03729248046875,
                    3.4563703536987305,
                    5.307837963104248,
                    5.6203131675720215,
                    4.799741744995117
                  ]
                },
                {
                  "hoverinfo": "text",
                  "hovertext": [
                    "I like to allow students to talk.",
                    " how students learn best and how to also give them grade level content, but also meet them where they're at to grow them.",
                    "For the students.",
                    "In general, I'm not saying, you know, I'm not saying every student, but there's students that",
                    "But rather than me doing that it's the students doing that, you know.",
                    "What do students need?",
                    "And like being able to know your students well enough to know when it's not working.",
                    " The student themselves is the big part of it, really.",
                    "And you have to get to know your students to figure out how they learn.",
                    " you have to know your students.",
                    "Like, to the individual students.",
                    "The students are great.",
                    "What about the students?",
                    "For the students.",
                    "All students don't learn the same.",
                    "I'm better at that with some students rather than others you know.",
                    " , to really make things work for those students.",
                    " more participation on the student side of things.",
                    "And I see that in how my students engage with school.",
                    " For the students or for me?",
                    "There are students who are going to sit in my class every day, right?",
                    " But then also, our students, my students specifically, in our district, in our town, in our community, they deal with a lot of stuff.",
                    ", to the individual students.",
                    null
                  ],
                  "marker": {
                    "opacity": 0.5,
                    "size": 5
                  },
                  "mode": "markers+text",
                  "name": "0_students_student_school",
                  "text": [
                    "",
                    "",
                    "",
                    "",
                    "",
                    "",
                    "",
                    "",
                    "",
                    "",
                    "",
                    "",
                    "",
                    "",
                    "",
                    "",
                    "",
                    "",
                    "",
                    "",
                    "",
                    "",
                    "",
                    "0_students_student_school"
                  ],
                  "textfont": {
                    "size": 12
                  },
                  "type": "scattergl",
                  "x": [
                    -6.50662088394165,
                    -6.855459213256836,
                    -6.669540882110596,
                    -5.916379928588867,
                    -5.563143253326416,
                    -6.487966060638428,
                    -6.7746992111206055,
                    -5.805841445922852,
                    -6.862015247344971,
                    -6.5517683029174805,
                    -6.349695205688477,
                    -6.337348461151123,
                    -5.950265407562256,
                    -6.548240661621094,
                    -6.140560150146484,
                    -5.945106029510498,
                    -6.16605281829834,
                    -5.442032814025879,
                    -5.714057922363281,
                    -6.682455062866211,
                    -5.854586601257324,
                    -5.347218990325928,
                    -6.207660675048828,
                    -6.2034220695495605
                  ],
                  "y": [
                    7.293332099914551,
                    6.219546794891357,
                    7.546738624572754,
                    6.701010704040527,
                    6.557058334350586,
                    7.7307353019714355,
                    6.9023942947387695,
                    6.901936054229736,
                    6.411365985870361,
                    6.790869235992432,
                    7.157567024230957,
                    6.258576393127441,
                    7.305908679962158,
                    7.533982276916504,
                    6.671510219573975,
                    6.391060829162598,
                    7.6807169914245605,
                    5.9774346351623535,
                    6.286256790161133,
                    7.597382545471191,
                    7.229130268096924,
                    6.89354944229126,
                    7.571774959564209,
                    6.939558029174805
                  ]
                },
                {
                  "hoverinfo": "text",
                  "hovertext": [
                    "Can you, can you describe to me like a specific instance when you saw students taking ownership of their learning?",
                    " The student ownership component is, I feel like that is always the most difficult thing to get across in the classroom.",
                    " give students ownership in their learning?",
                    "So do you think as part of Empower that that would be, if a goal of Empower is to create this ownership among students for their learning, do you think that would be helpful?",
                    "So for you, like students taking ownership of their learning looks like them having kind of like a light bulb moment of understanding a topic or making an extra effort to improve a grade or to do better on an assignment.",
                    "So in thinking about kind of those types of activities or scenarios where students are taking ownership of their learning, what do you think is needed in order to make that happen?",
                    "So , in Empower, one goal that we have is for helping students take ownership of their learning.",
                    "I don't think that we can get every student to take meaningful ownership over their learning right now, or not right now, just in general, because there are so many things",
                    "And one of those goals is for students to take ownership of their learning.",
                    " where students take ownership of their learning?",
                    "I think that one thing, in the moments that I have seen really good student engagement and student ownership in my class, and sometimes this works and sometimes this doesn't, I'm not going to pretend like every, like the things that have worked, right, but don't always work",
                    " you've seen students taking ownership of their learning like within your class or like within an activity or something that you were doing as part of the class structure?",
                    "So in this project, one goal that we have for students is to take ownership of their learning.",
                    "So in this project, one goal we have is for students to take ownership of their learning.",
                    " I wanna ask you more about student ownership of their learning.",
                    "Your classroom, you are responsible for what you feel like the students need to learn the most.",
                    "So my professional learning goals are typically usually finding ways to engage and motivate students in an authentic way.",
                    "And so you're looking for those ways to increase making the curriculum more interactive and helping the students take ownership of their learning.",
                    "So in this project, one goal we have is for students to take ownership of their learning.",
                    "Any other questions or any other thoughts you have about student ownership of learning or the curriculum you're working on that you would want to share with me?",
                    "So, um, in this project, one goal that we have for students is to take ownership of their learning.",
                    null
                  ],
                  "marker": {
                    "opacity": 0.5,
                    "size": 5
                  },
                  "mode": "markers+text",
                  "name": "1_students_student_learning",
                  "text": [
                    "",
                    "",
                    "",
                    "",
                    "",
                    "",
                    "",
                    "",
                    "",
                    "",
                    "",
                    "",
                    "",
                    "",
                    "",
                    "",
                    "",
                    "",
                    "",
                    "",
                    "",
                    "1_students_student_learning"
                  ],
                  "textfont": {
                    "size": 12
                  },
                  "type": "scattergl",
                  "x": [
                    -8.746450424194336,
                    -8.797130584716797,
                    -8.25441837310791,
                    -7.778473854064941,
                    -8.509847640991211,
                    -7.669179916381836,
                    -7.639601707458496,
                    -8.32764720916748,
                    -7.3604865074157715,
                    -8.321786880493164,
                    -9.055272102355957,
                    -8.590557098388672,
                    -7.873205661773682,
                    -7.237671852111816,
                    -8.63273811340332,
                    -5.747848987579346,
                    -7.3053460121154785,
                    -6.971000671386719,
                    -7.455747604370117,
                    -8.428585052490234,
                    -7.755622386932373,
                    -7.926600933074951
                  ],
                  "y": [
                    2.07589054107666,
                    1.4532880783081055,
                    1.440588355064392,
                    1.5133411884307861,
                    2.1917600631713867,
                    1.1235727071762085,
                    1.6284799575805664,
                    1.5268325805664062,
                    1.3259046077728271,
                    1.3663045167922974,
                    1.90391206741333,
                    2.005878448486328,
                    1.2304723262786865,
                    1.4357223510742188,
                    1.3030736446380615,
                    3.38519287109375,
                    1.4595152139663696,
                    1.8625752925872803,
                    1.171618103981018,
                    1.0087136030197144,
                    1.7368214130401611,
                    1.6261645555496216
                  ]
                },
                {
                  "hoverinfo": "text",
                  "hovertext": [
                    "I think that's my only role outside of the classroom at the moment.",
                    "I think that classroom community does really help.",
                    "Like, because you, have you taught in a classroom?",
                    " What do you think are barriers and challenges that students are facing when you're asking them to engage in these types of lessons?",
                    " have really lofty discussions that end up having no real bearing on what happens in the classroom.",
                    " So what other, I think you kind of touched on this, what barriers are you facing as a teacher to help make that happen in your classroom?",
                    "So what are you teaching?",
                    " have to inherently have the capacity to care about something in the classroom before that can happen.",
                    "Teach a group of students.",
                    " I try to, but sometimes we spend so long on the next lesson, which is about that one student's question.",
                    "And my interests in this project are about teacher epistemologies and how teachers like you think about teaching and learning.",
                    " at the expense of teaching important content and giving important examples and anecdotes.",
                    " do that lesson, but do it in a more interactive way just to try to engage your students.",
                    null
                  ],
                  "marker": {
                    "opacity": 0.5,
                    "size": 5
                  },
                  "mode": "markers+text",
                  "name": "2_classroom_teaching_teachers",
                  "text": [
                    "",
                    "",
                    "",
                    "",
                    "",
                    "",
                    "",
                    "",
                    "",
                    "",
                    "",
                    "",
                    "",
                    "2_classroom_teaching_teachers"
                  ],
                  "textfont": {
                    "size": 12
                  },
                  "type": "scattergl",
                  "x": [
                    -6.077267169952393,
                    -5.531293869018555,
                    -6.575384140014648,
                    -6.256772518157959,
                    -5.694694995880127,
                    -6.021152973175049,
                    -6.964451313018799,
                    -5.412082672119141,
                    -6.549922943115234,
                    -6.470267295837402,
                    -7.123020172119141,
                    -7.0508198738098145,
                    -6.3653483390808105,
                    -6.31480598449707
                  ],
                  "y": [
                    3.086941957473755,
                    2.888455867767334,
                    3.413994550704956,
                    2.7525453567504883,
                    2.8267412185668945,
                    2.9157497882843018,
                    3.854257822036743,
                    3.023183584213257,
                    4.778681755065918,
                    3.5002620220184326,
                    3.971944570541382,
                    3.7265055179595947,
                    3.80375075340271,
                    3.4263856410980225
                  ]
                }
              ],
              "layout": {
                "annotations": [
                  {
                    "showarrow": false,
                    "text": "D1",
                    "x": -10.413562917709351,
                    "y": 4.873876079916954,
                    "yshift": 10
                  },
                  {
                    "showarrow": false,
                    "text": "D2",
                    "x": -7.36939092874527,
                    "xshift": 10,
                    "y": 8.890345597267151
                  }
                ],
                "height": 750,
                "shapes": [
                  {
                    "line": {
                      "color": "#CFD8DC",
                      "width": 2
                    },
                    "type": "line",
                    "x0": -7.36939092874527,
                    "x1": -7.36939092874527,
                    "y0": 0.8574065625667572,
                    "y1": 8.890345597267151
                  },
                  {
                    "line": {
                      "color": "#9E9E9E",
                      "width": 2
                    },
                    "type": "line",
                    "x0": -10.413562917709351,
                    "x1": -4.325218939781189,
                    "y0": 4.873876079916954,
                    "y1": 4.873876079916954
                  }
                ],
                "template": {
                  "data": {
                    "bar": [
                      {
                        "error_x": {
                          "color": "rgb(36,36,36)"
                        },
                        "error_y": {
                          "color": "rgb(36,36,36)"
                        },
                        "marker": {
                          "line": {
                            "color": "white",
                            "width": 0.5
                          },
                          "pattern": {
                            "fillmode": "overlay",
                            "size": 10,
                            "solidity": 0.2
                          }
                        },
                        "type": "bar"
                      }
                    ],
                    "barpolar": [
                      {
                        "marker": {
                          "line": {
                            "color": "white",
                            "width": 0.5
                          },
                          "pattern": {
                            "fillmode": "overlay",
                            "size": 10,
                            "solidity": 0.2
                          }
                        },
                        "type": "barpolar"
                      }
                    ],
                    "carpet": [
                      {
                        "aaxis": {
                          "endlinecolor": "rgb(36,36,36)",
                          "gridcolor": "white",
                          "linecolor": "white",
                          "minorgridcolor": "white",
                          "startlinecolor": "rgb(36,36,36)"
                        },
                        "baxis": {
                          "endlinecolor": "rgb(36,36,36)",
                          "gridcolor": "white",
                          "linecolor": "white",
                          "minorgridcolor": "white",
                          "startlinecolor": "rgb(36,36,36)"
                        },
                        "type": "carpet"
                      }
                    ],
                    "choropleth": [
                      {
                        "colorbar": {
                          "outlinewidth": 1,
                          "tickcolor": "rgb(36,36,36)",
                          "ticks": "outside"
                        },
                        "type": "choropleth"
                      }
                    ],
                    "contour": [
                      {
                        "colorbar": {
                          "outlinewidth": 1,
                          "tickcolor": "rgb(36,36,36)",
                          "ticks": "outside"
                        },
                        "colorscale": [
                          [
                            0,
                            "#440154"
                          ],
                          [
                            0.1111111111111111,
                            "#482878"
                          ],
                          [
                            0.2222222222222222,
                            "#3e4989"
                          ],
                          [
                            0.3333333333333333,
                            "#31688e"
                          ],
                          [
                            0.4444444444444444,
                            "#26828e"
                          ],
                          [
                            0.5555555555555556,
                            "#1f9e89"
                          ],
                          [
                            0.6666666666666666,
                            "#35b779"
                          ],
                          [
                            0.7777777777777778,
                            "#6ece58"
                          ],
                          [
                            0.8888888888888888,
                            "#b5de2b"
                          ],
                          [
                            1,
                            "#fde725"
                          ]
                        ],
                        "type": "contour"
                      }
                    ],
                    "contourcarpet": [
                      {
                        "colorbar": {
                          "outlinewidth": 1,
                          "tickcolor": "rgb(36,36,36)",
                          "ticks": "outside"
                        },
                        "type": "contourcarpet"
                      }
                    ],
                    "heatmap": [
                      {
                        "colorbar": {
                          "outlinewidth": 1,
                          "tickcolor": "rgb(36,36,36)",
                          "ticks": "outside"
                        },
                        "colorscale": [
                          [
                            0,
                            "#440154"
                          ],
                          [
                            0.1111111111111111,
                            "#482878"
                          ],
                          [
                            0.2222222222222222,
                            "#3e4989"
                          ],
                          [
                            0.3333333333333333,
                            "#31688e"
                          ],
                          [
                            0.4444444444444444,
                            "#26828e"
                          ],
                          [
                            0.5555555555555556,
                            "#1f9e89"
                          ],
                          [
                            0.6666666666666666,
                            "#35b779"
                          ],
                          [
                            0.7777777777777778,
                            "#6ece58"
                          ],
                          [
                            0.8888888888888888,
                            "#b5de2b"
                          ],
                          [
                            1,
                            "#fde725"
                          ]
                        ],
                        "type": "heatmap"
                      }
                    ],
                    "heatmapgl": [
                      {
                        "colorbar": {
                          "outlinewidth": 1,
                          "tickcolor": "rgb(36,36,36)",
                          "ticks": "outside"
                        },
                        "colorscale": [
                          [
                            0,
                            "#440154"
                          ],
                          [
                            0.1111111111111111,
                            "#482878"
                          ],
                          [
                            0.2222222222222222,
                            "#3e4989"
                          ],
                          [
                            0.3333333333333333,
                            "#31688e"
                          ],
                          [
                            0.4444444444444444,
                            "#26828e"
                          ],
                          [
                            0.5555555555555556,
                            "#1f9e89"
                          ],
                          [
                            0.6666666666666666,
                            "#35b779"
                          ],
                          [
                            0.7777777777777778,
                            "#6ece58"
                          ],
                          [
                            0.8888888888888888,
                            "#b5de2b"
                          ],
                          [
                            1,
                            "#fde725"
                          ]
                        ],
                        "type": "heatmapgl"
                      }
                    ],
                    "histogram": [
                      {
                        "marker": {
                          "line": {
                            "color": "white",
                            "width": 0.6
                          }
                        },
                        "type": "histogram"
                      }
                    ],
                    "histogram2d": [
                      {
                        "colorbar": {
                          "outlinewidth": 1,
                          "tickcolor": "rgb(36,36,36)",
                          "ticks": "outside"
                        },
                        "colorscale": [
                          [
                            0,
                            "#440154"
                          ],
                          [
                            0.1111111111111111,
                            "#482878"
                          ],
                          [
                            0.2222222222222222,
                            "#3e4989"
                          ],
                          [
                            0.3333333333333333,
                            "#31688e"
                          ],
                          [
                            0.4444444444444444,
                            "#26828e"
                          ],
                          [
                            0.5555555555555556,
                            "#1f9e89"
                          ],
                          [
                            0.6666666666666666,
                            "#35b779"
                          ],
                          [
                            0.7777777777777778,
                            "#6ece58"
                          ],
                          [
                            0.8888888888888888,
                            "#b5de2b"
                          ],
                          [
                            1,
                            "#fde725"
                          ]
                        ],
                        "type": "histogram2d"
                      }
                    ],
                    "histogram2dcontour": [
                      {
                        "colorbar": {
                          "outlinewidth": 1,
                          "tickcolor": "rgb(36,36,36)",
                          "ticks": "outside"
                        },
                        "colorscale": [
                          [
                            0,
                            "#440154"
                          ],
                          [
                            0.1111111111111111,
                            "#482878"
                          ],
                          [
                            0.2222222222222222,
                            "#3e4989"
                          ],
                          [
                            0.3333333333333333,
                            "#31688e"
                          ],
                          [
                            0.4444444444444444,
                            "#26828e"
                          ],
                          [
                            0.5555555555555556,
                            "#1f9e89"
                          ],
                          [
                            0.6666666666666666,
                            "#35b779"
                          ],
                          [
                            0.7777777777777778,
                            "#6ece58"
                          ],
                          [
                            0.8888888888888888,
                            "#b5de2b"
                          ],
                          [
                            1,
                            "#fde725"
                          ]
                        ],
                        "type": "histogram2dcontour"
                      }
                    ],
                    "mesh3d": [
                      {
                        "colorbar": {
                          "outlinewidth": 1,
                          "tickcolor": "rgb(36,36,36)",
                          "ticks": "outside"
                        },
                        "type": "mesh3d"
                      }
                    ],
                    "parcoords": [
                      {
                        "line": {
                          "colorbar": {
                            "outlinewidth": 1,
                            "tickcolor": "rgb(36,36,36)",
                            "ticks": "outside"
                          }
                        },
                        "type": "parcoords"
                      }
                    ],
                    "pie": [
                      {
                        "automargin": true,
                        "type": "pie"
                      }
                    ],
                    "scatter": [
                      {
                        "fillpattern": {
                          "fillmode": "overlay",
                          "size": 10,
                          "solidity": 0.2
                        },
                        "type": "scatter"
                      }
                    ],
                    "scatter3d": [
                      {
                        "line": {
                          "colorbar": {
                            "outlinewidth": 1,
                            "tickcolor": "rgb(36,36,36)",
                            "ticks": "outside"
                          }
                        },
                        "marker": {
                          "colorbar": {
                            "outlinewidth": 1,
                            "tickcolor": "rgb(36,36,36)",
                            "ticks": "outside"
                          }
                        },
                        "type": "scatter3d"
                      }
                    ],
                    "scattercarpet": [
                      {
                        "marker": {
                          "colorbar": {
                            "outlinewidth": 1,
                            "tickcolor": "rgb(36,36,36)",
                            "ticks": "outside"
                          }
                        },
                        "type": "scattercarpet"
                      }
                    ],
                    "scattergeo": [
                      {
                        "marker": {
                          "colorbar": {
                            "outlinewidth": 1,
                            "tickcolor": "rgb(36,36,36)",
                            "ticks": "outside"
                          }
                        },
                        "type": "scattergeo"
                      }
                    ],
                    "scattergl": [
                      {
                        "marker": {
                          "colorbar": {
                            "outlinewidth": 1,
                            "tickcolor": "rgb(36,36,36)",
                            "ticks": "outside"
                          }
                        },
                        "type": "scattergl"
                      }
                    ],
                    "scattermapbox": [
                      {
                        "marker": {
                          "colorbar": {
                            "outlinewidth": 1,
                            "tickcolor": "rgb(36,36,36)",
                            "ticks": "outside"
                          }
                        },
                        "type": "scattermapbox"
                      }
                    ],
                    "scatterpolar": [
                      {
                        "marker": {
                          "colorbar": {
                            "outlinewidth": 1,
                            "tickcolor": "rgb(36,36,36)",
                            "ticks": "outside"
                          }
                        },
                        "type": "scatterpolar"
                      }
                    ],
                    "scatterpolargl": [
                      {
                        "marker": {
                          "colorbar": {
                            "outlinewidth": 1,
                            "tickcolor": "rgb(36,36,36)",
                            "ticks": "outside"
                          }
                        },
                        "type": "scatterpolargl"
                      }
                    ],
                    "scatterternary": [
                      {
                        "marker": {
                          "colorbar": {
                            "outlinewidth": 1,
                            "tickcolor": "rgb(36,36,36)",
                            "ticks": "outside"
                          }
                        },
                        "type": "scatterternary"
                      }
                    ],
                    "surface": [
                      {
                        "colorbar": {
                          "outlinewidth": 1,
                          "tickcolor": "rgb(36,36,36)",
                          "ticks": "outside"
                        },
                        "colorscale": [
                          [
                            0,
                            "#440154"
                          ],
                          [
                            0.1111111111111111,
                            "#482878"
                          ],
                          [
                            0.2222222222222222,
                            "#3e4989"
                          ],
                          [
                            0.3333333333333333,
                            "#31688e"
                          ],
                          [
                            0.4444444444444444,
                            "#26828e"
                          ],
                          [
                            0.5555555555555556,
                            "#1f9e89"
                          ],
                          [
                            0.6666666666666666,
                            "#35b779"
                          ],
                          [
                            0.7777777777777778,
                            "#6ece58"
                          ],
                          [
                            0.8888888888888888,
                            "#b5de2b"
                          ],
                          [
                            1,
                            "#fde725"
                          ]
                        ],
                        "type": "surface"
                      }
                    ],
                    "table": [
                      {
                        "cells": {
                          "fill": {
                            "color": "rgb(237,237,237)"
                          },
                          "line": {
                            "color": "white"
                          }
                        },
                        "header": {
                          "fill": {
                            "color": "rgb(217,217,217)"
                          },
                          "line": {
                            "color": "white"
                          }
                        },
                        "type": "table"
                      }
                    ]
                  },
                  "layout": {
                    "annotationdefaults": {
                      "arrowhead": 0,
                      "arrowwidth": 1
                    },
                    "autotypenumbers": "strict",
                    "coloraxis": {
                      "colorbar": {
                        "outlinewidth": 1,
                        "tickcolor": "rgb(36,36,36)",
                        "ticks": "outside"
                      }
                    },
                    "colorscale": {
                      "diverging": [
                        [
                          0,
                          "rgb(103,0,31)"
                        ],
                        [
                          0.1,
                          "rgb(178,24,43)"
                        ],
                        [
                          0.2,
                          "rgb(214,96,77)"
                        ],
                        [
                          0.3,
                          "rgb(244,165,130)"
                        ],
                        [
                          0.4,
                          "rgb(253,219,199)"
                        ],
                        [
                          0.5,
                          "rgb(247,247,247)"
                        ],
                        [
                          0.6,
                          "rgb(209,229,240)"
                        ],
                        [
                          0.7,
                          "rgb(146,197,222)"
                        ],
                        [
                          0.8,
                          "rgb(67,147,195)"
                        ],
                        [
                          0.9,
                          "rgb(33,102,172)"
                        ],
                        [
                          1,
                          "rgb(5,48,97)"
                        ]
                      ],
                      "sequential": [
                        [
                          0,
                          "#440154"
                        ],
                        [
                          0.1111111111111111,
                          "#482878"
                        ],
                        [
                          0.2222222222222222,
                          "#3e4989"
                        ],
                        [
                          0.3333333333333333,
                          "#31688e"
                        ],
                        [
                          0.4444444444444444,
                          "#26828e"
                        ],
                        [
                          0.5555555555555556,
                          "#1f9e89"
                        ],
                        [
                          0.6666666666666666,
                          "#35b779"
                        ],
                        [
                          0.7777777777777778,
                          "#6ece58"
                        ],
                        [
                          0.8888888888888888,
                          "#b5de2b"
                        ],
                        [
                          1,
                          "#fde725"
                        ]
                      ],
                      "sequentialminus": [
                        [
                          0,
                          "#440154"
                        ],
                        [
                          0.1111111111111111,
                          "#482878"
                        ],
                        [
                          0.2222222222222222,
                          "#3e4989"
                        ],
                        [
                          0.3333333333333333,
                          "#31688e"
                        ],
                        [
                          0.4444444444444444,
                          "#26828e"
                        ],
                        [
                          0.5555555555555556,
                          "#1f9e89"
                        ],
                        [
                          0.6666666666666666,
                          "#35b779"
                        ],
                        [
                          0.7777777777777778,
                          "#6ece58"
                        ],
                        [
                          0.8888888888888888,
                          "#b5de2b"
                        ],
                        [
                          1,
                          "#fde725"
                        ]
                      ]
                    },
                    "colorway": [
                      "#1F77B4",
                      "#FF7F0E",
                      "#2CA02C",
                      "#D62728",
                      "#9467BD",
                      "#8C564B",
                      "#E377C2",
                      "#7F7F7F",
                      "#BCBD22",
                      "#17BECF"
                    ],
                    "font": {
                      "color": "rgb(36,36,36)"
                    },
                    "geo": {
                      "bgcolor": "white",
                      "lakecolor": "white",
                      "landcolor": "white",
                      "showlakes": true,
                      "showland": true,
                      "subunitcolor": "white"
                    },
                    "hoverlabel": {
                      "align": "left"
                    },
                    "hovermode": "closest",
                    "mapbox": {
                      "style": "light"
                    },
                    "paper_bgcolor": "white",
                    "plot_bgcolor": "white",
                    "polar": {
                      "angularaxis": {
                        "gridcolor": "rgb(232,232,232)",
                        "linecolor": "rgb(36,36,36)",
                        "showgrid": false,
                        "showline": true,
                        "ticks": "outside"
                      },
                      "bgcolor": "white",
                      "radialaxis": {
                        "gridcolor": "rgb(232,232,232)",
                        "linecolor": "rgb(36,36,36)",
                        "showgrid": false,
                        "showline": true,
                        "ticks": "outside"
                      }
                    },
                    "scene": {
                      "xaxis": {
                        "backgroundcolor": "white",
                        "gridcolor": "rgb(232,232,232)",
                        "gridwidth": 2,
                        "linecolor": "rgb(36,36,36)",
                        "showbackground": true,
                        "showgrid": false,
                        "showline": true,
                        "ticks": "outside",
                        "zeroline": false,
                        "zerolinecolor": "rgb(36,36,36)"
                      },
                      "yaxis": {
                        "backgroundcolor": "white",
                        "gridcolor": "rgb(232,232,232)",
                        "gridwidth": 2,
                        "linecolor": "rgb(36,36,36)",
                        "showbackground": true,
                        "showgrid": false,
                        "showline": true,
                        "ticks": "outside",
                        "zeroline": false,
                        "zerolinecolor": "rgb(36,36,36)"
                      },
                      "zaxis": {
                        "backgroundcolor": "white",
                        "gridcolor": "rgb(232,232,232)",
                        "gridwidth": 2,
                        "linecolor": "rgb(36,36,36)",
                        "showbackground": true,
                        "showgrid": false,
                        "showline": true,
                        "ticks": "outside",
                        "zeroline": false,
                        "zerolinecolor": "rgb(36,36,36)"
                      }
                    },
                    "shapedefaults": {
                      "fillcolor": "black",
                      "line": {
                        "width": 0
                      },
                      "opacity": 0.3
                    },
                    "ternary": {
                      "aaxis": {
                        "gridcolor": "rgb(232,232,232)",
                        "linecolor": "rgb(36,36,36)",
                        "showgrid": false,
                        "showline": true,
                        "ticks": "outside"
                      },
                      "baxis": {
                        "gridcolor": "rgb(232,232,232)",
                        "linecolor": "rgb(36,36,36)",
                        "showgrid": false,
                        "showline": true,
                        "ticks": "outside"
                      },
                      "bgcolor": "white",
                      "caxis": {
                        "gridcolor": "rgb(232,232,232)",
                        "linecolor": "rgb(36,36,36)",
                        "showgrid": false,
                        "showline": true,
                        "ticks": "outside"
                      }
                    },
                    "title": {
                      "x": 0.05
                    },
                    "xaxis": {
                      "automargin": true,
                      "gridcolor": "rgb(232,232,232)",
                      "linecolor": "rgb(36,36,36)",
                      "showgrid": false,
                      "showline": true,
                      "ticks": "outside",
                      "title": {
                        "standoff": 15
                      },
                      "zeroline": false,
                      "zerolinecolor": "rgb(36,36,36)"
                    },
                    "yaxis": {
                      "automargin": true,
                      "gridcolor": "rgb(232,232,232)",
                      "linecolor": "rgb(36,36,36)",
                      "showgrid": false,
                      "showline": true,
                      "ticks": "outside",
                      "title": {
                        "standoff": 15
                      },
                      "zeroline": false,
                      "zerolinecolor": "rgb(36,36,36)"
                    }
                  }
                },
                "title": {
                  "font": {
                    "color": "Black",
                    "size": 22
                  },
                  "text": "<b>Documents and Topics</b>",
                  "x": 0.5,
                  "xanchor": "center",
                  "yanchor": "top"
                },
                "width": 1200,
                "xaxis": {
                  "visible": false
                },
                "yaxis": {
                  "visible": false
                }
              }
            }
          },
          "metadata": {},
          "output_type": "display_data"
        }
      ],
      "source": [
        "topic_model.visualize_documents(sentences)"
      ]
    },
    {
      "cell_type": "markdown",
      "metadata": {},
      "source": [
        "## New Setup with debugging"
      ]
    },
    {
      "cell_type": "code",
      "execution_count": 11,
      "metadata": {},
      "outputs": [
        {
          "name": "stdout",
          "output_type": "stream",
          "text": [
            "Found 8 CSV files in 'data/interviews' and its subdirectories.\n",
            "Successfully processed highlighted_sentences.csv.\n",
            "Successfully processed 20240522_INT_HS_UT_Steffan/20240522_INT_HS_UT_Steffan_2024-08-07_transcription.csv.\n",
            "Successfully processed 20240612_INT_HS_Charles/20240612_INT_HS_Charles_2024-08-07_transcription.csv.\n",
            "Successfully processed 20240531_INT_MS_Vera/20240531_INT_MS_Vera_2024-08-07_transcription.csv.\n",
            "Successfully processed 20240603_INT_MS_Uma/20240603_INT_MS_Uma_2024-08-07_transcription.csv.\n",
            "Successfully processed 20240606_INT_MS_Gloria/20240606_INT_MS_Gloria_2024-08-07_transcription.csv.\n",
            "Successfully processed 20240531_INT_MS_Xander/20240531_INT_MS_Xander_2024-08-07_transcription.csv.\n",
            "Successfully processed 20240718_INT_HS_Neil/20240718_INT_HS_Neil_2024-08-07_transcription.csv.\n",
            "Transcript 1: highlighted_sentences.csv\n",
            "Columns: ['source_file', 'sentence_number', 'text', 'speaker', 'similarity_score', 'key_sentence', 'key_sentence_index']\n",
            "\n",
            "Transcript 2: 20240522_INT_HS_UT_Steffan/20240522_INT_HS_UT_Steffan_2024-08-07_transcription.csv\n",
            "Columns: ['start', 'end', 'text', 'words', 'speaker', 'sentence_number', 'source_file']\n",
            "\n",
            "Transcript 3: 20240612_INT_HS_Charles/20240612_INT_HS_Charles_2024-08-07_transcription.csv\n",
            "Columns: ['start', 'end', 'text', 'words', 'speaker', 'sentence_number', 'source_file']\n",
            "\n",
            "Transcript 4: 20240531_INT_MS_Vera/20240531_INT_MS_Vera_2024-08-07_transcription.csv\n",
            "Columns: ['start', 'end', 'text', 'words', 'speaker', 'sentence_number', 'source_file']\n",
            "\n",
            "Transcript 5: 20240603_INT_MS_Uma/20240603_INT_MS_Uma_2024-08-07_transcription.csv\n",
            "Columns: ['start', 'end', 'text', 'words', 'speaker', 'sentence_number', 'source_file']\n",
            "\n",
            "Transcript 6: 20240606_INT_MS_Gloria/20240606_INT_MS_Gloria_2024-08-07_transcription.csv\n",
            "Columns: ['start', 'end', 'text', 'words', 'speaker', 'sentence_number', 'source_file']\n",
            "\n",
            "Transcript 7: 20240531_INT_MS_Xander/20240531_INT_MS_Xander_2024-08-07_transcription.csv\n",
            "Columns: ['start', 'end', 'text', 'words', 'speaker', 'sentence_number', 'source_file']\n",
            "\n",
            "Transcript 8: 20240718_INT_HS_Neil/20240718_INT_HS_Neil_2024-08-07_transcription.csv\n",
            "Columns: ['start', 'end', 'text', 'words', 'speaker', 'sentence_number', 'source_file']\n",
            "\n",
            "Processing embeddings for Transcript 1: highlighted_sentences.csv\n",
            "Processing embeddings for Transcript 2: 20240522_INT_HS_UT_Steffan/20240522_INT_HS_UT_Steffan_2024-08-07_transcription.csv\n",
            "Processing embeddings for Transcript 3: 20240612_INT_HS_Charles/20240612_INT_HS_Charles_2024-08-07_transcription.csv\n",
            "Processing embeddings for Transcript 4: 20240531_INT_MS_Vera/20240531_INT_MS_Vera_2024-08-07_transcription.csv\n",
            "Processing embeddings for Transcript 5: 20240603_INT_MS_Uma/20240603_INT_MS_Uma_2024-08-07_transcription.csv\n",
            "Processing embeddings for Transcript 6: 20240606_INT_MS_Gloria/20240606_INT_MS_Gloria_2024-08-07_transcription.csv\n",
            "Processing embeddings for Transcript 7: 20240531_INT_MS_Xander/20240531_INT_MS_Xander_2024-08-07_transcription.csv\n",
            "Processing embeddings for Transcript 8: 20240718_INT_HS_Neil/20240718_INT_HS_Neil_2024-08-07_transcription.csv\n",
            "Removing 672 duplicate embeddings.\n",
            "Using n_neighbors=15 for UMAP based on 4466 samples.\n"
          ]
        }
      ],
      "source": [
        "import os\n",
        "import glob\n",
        "import pandas as pd\n",
        "import numpy as np\n",
        "from sentence_transformers import SentenceTransformer\n",
        "from bertopic import BERTopic\n",
        "from bertopic.vectorizers import ClassTfidfTransformer\n",
        "from bertopic.representation import KeyBERTInspired\n",
        "from umap import UMAP\n",
        "from sklearn.metrics.pairwise import cosine_similarity\n",
        "import matplotlib.pyplot as plt\n",
        "import seaborn as sns\n",
        "import re\n",
        "\n",
        "# 1. Define key sentences\n",
        "key_sentences = [\n",
        "    \"How do you support student learning in your classroom?\",\n",
        "    # Add more key sentences as needed\n",
        "]\n",
        "\n",
        "# 2. Generate embeddings for key sentences\n",
        "embedding_model = SentenceTransformer('all-MiniLM-L6-v2')  # Ensure this is defined\n",
        "key_embeddings = embedding_model.encode(key_sentences)\n",
        "\n",
        "# 3. Read and process transcripts\n",
        "def read_transcript_csvs(directory):\n",
        "    # Use '**/*.csv' to match CSV files in all subdirectories\n",
        "    csv_files = glob.glob(os.path.join(directory, '**', '*.csv'), recursive=True)\n",
        "    print(f\"Found {len(csv_files)} CSV files in '{directory}' and its subdirectories.\")\n",
        "    \n",
        "    transcript_data = []\n",
        "    for file in csv_files:\n",
        "        try:\n",
        "            df = pd.read_csv(file)\n",
        "            # Verify necessary columns\n",
        "            required_columns = ['text', 'sentence_number']\n",
        "            for col in required_columns:\n",
        "                if col not in df.columns:\n",
        "                    print(f\"Warning: '{col}' column missing in {file}. Skipping this file.\")\n",
        "                    raise ValueError(f\"Missing '{col}' column.\")\n",
        "            # Add 'speaker' column if missing\n",
        "            if 'speaker' not in df.columns:\n",
        "                df['speaker'] = 'Unknown'\n",
        "            # Capture relative path for 'source_file' to ensure uniqueness\n",
        "            relative_path = os.path.relpath(file, directory)\n",
        "            df['source_file'] = relative_path  # Use relative path instead of basename\n",
        "            transcript_data.append(df)\n",
        "            print(f\"Successfully processed {relative_path}.\")\n",
        "        except Exception as e:\n",
        "            print(f\"Error reading {file}: {e}\")\n",
        "    return transcript_data\n",
        "\n",
        "transcript_data = read_transcript_csvs('data/interviews')\n",
        "\n",
        "# Debugging: Check 'source_file' in each DataFrame\n",
        "for idx, df in enumerate(transcript_data):\n",
        "    print(f\"Transcript {idx + 1}: {df['source_file'].iloc[0]}\")\n",
        "    print(f\"Columns: {df.columns.tolist()}\\n\")\n",
        "\n",
        "# Preprocess function for text\n",
        "def preprocess_text(text):\n",
        "    if isinstance(text, str):\n",
        "        text = text.lower()\n",
        "        text = re.sub(r'[^a-zA-Z\\s]', '', text)\n",
        "        text = re.sub(r'\\s+', ' ', text).strip()\n",
        "        return text\n",
        "    else:\n",
        "        return ''\n",
        "\n",
        "# Compute embeddings in batches\n",
        "def compute_embeddings_in_batches(texts, model, batch_size=32):\n",
        "    embeddings = []\n",
        "    for i in range(0, len(texts), batch_size):\n",
        "        batch = texts[i:i+batch_size]\n",
        "        batch_embeddings = model.encode(batch)\n",
        "        embeddings.extend(batch_embeddings)\n",
        "    return embeddings\n",
        "\n",
        "# Use the function for processing embeddings\n",
        "for idx, df in enumerate(transcript_data):\n",
        "    print(f\"Processing embeddings for Transcript {idx + 1}: {df['source_file'].iloc[0]}\")\n",
        "    df['cleaned_text'] = df['text'].apply(preprocess_text)\n",
        "    df['embedding'] = compute_embeddings_in_batches(df['cleaned_text'].tolist(), embedding_model)\n",
        "\n",
        "# 4. Check for duplicate embeddings and remove them\n",
        "embeddings = []\n",
        "sentences_cleaned = []\n",
        "for df in transcript_data:\n",
        "    embeddings.extend(df['embedding'].tolist())\n",
        "    sentences_cleaned.extend(df['cleaned_text'].tolist())\n",
        "\n",
        "# Convert to NumPy array for easier manipulation\n",
        "embeddings = np.array(embeddings)\n",
        "sentences_cleaned = np.array(sentences_cleaned)\n",
        "\n",
        "# Remove duplicate embeddings\n",
        "unique_embeddings, unique_indices = np.unique(embeddings, axis=0, return_index=True)\n",
        "if len(unique_embeddings) < len(embeddings):\n",
        "    print(f\"Removing {len(embeddings) - len(unique_embeddings)} duplicate embeddings.\")\n",
        "    embeddings = unique_embeddings\n",
        "    sentences_cleaned = sentences_cleaned[unique_indices]\n",
        "\n",
        "# 5. Initialize custom UMAP\n",
        "num_sentences = len(sentences_cleaned)\n",
        "custom_n_neighbors = min(15, max(5, num_sentences // 10)) if num_sentences >= 10 else num_sentences - 1\n",
        "print(f\"Using n_neighbors={custom_n_neighbors} for UMAP based on {num_sentences} samples.\")\n",
        "\n",
        "umap_model = UMAP(\n",
        "    n_neighbors=custom_n_neighbors,\n",
        "    n_components=2,\n",
        "    metric='cosine',\n",
        "    random_state=42\n",
        ")\n",
        "\n",
        "# 6. Initialize BERTopic with custom UMAP\n",
        "topic_model = BERTopic(\n",
        "    embedding_model=embedding_model,\n",
        "    umap_model=umap_model,\n",
        "    representation_model=KeyBERTInspired(),\n",
        "    ctfidf_model=ClassTfidfTransformer(reduce_frequent_words=True),\n",
        "    top_n_words=25\n",
        ")\n",
        "\n",
        "# 7. Fit BERTopic model\n",
        "topics, probs = topic_model.fit_transform(sentences_cleaned, embeddings)\n",
        "\n",
        "# 8. Visualize topics\n",
        "try:\n",
        "    topic_model.visualize_topics(custom_labels=True)\n",
        "except TypeError as e:\n",
        "    print(f\"Error during visualization: {e}\")\n",
        "    print(\"Attempting to adjust UMAP parameters and retry visualization.\")\n",
        "\n",
        "    # Adjust UMAP parameters (e.g., reduce n_neighbors further)\n",
        "    adjusted_n_neighbors = max(5, custom_n_neighbors - 5)\n",
        "    print(f\"Reducing n_neighbors to {adjusted_n_neighbors} and retrying.\")\n",
        "    \n",
        "    umap_model_adjusted = UMAP(\n",
        "        n_neighbors=adjusted_n_neighbors,\n",
        "        n_components=2,\n",
        "        metric='cosine',\n",
        "        random_state=42\n",
        "    )\n",
        "    \n",
        "    # Reinitialize BERTopic with adjusted UMAP\n",
        "    topic_model_adjusted = BERTopic(\n",
        "        embedding_model=embedding_model,\n",
        "        umap_model=umap_model_adjusted,\n",
        "        representation_model=KeyBERTInspired(),\n",
        "        ctfidf_model=ClassTfidfTransformer(reduce_frequent_words=True),\n",
        "        top_n_words=25\n",
        "    )\n",
        "    \n",
        "    # Refit the model\n",
        "    topics_adjusted, probs_adjusted = topic_model_adjusted.fit_transform(sentences_cleaned, embeddings)\n",
        "    \n",
        "    # Retry visualization\n",
        "    topic_model_adjusted.visualize_topics(custom_labels=True)\n"
      ]
    },
    {
      "cell_type": "markdown",
      "metadata": {
        "id": "1RLxWgsMsd2p"
      },
      "source": [
        "## Intertopic Distance Map"
      ]
    },
    {
      "cell_type": "code",
      "execution_count": 31,
      "metadata": {
        "colab": {
          "base_uri": "https://localhost:8080/",
          "height": 667
        },
        "id": "M3gEKIZfshE8",
        "outputId": "97f546ac-265f-45da-dae0-cc38d8b12d8f"
      },
      "outputs": [
        {
          "name": "stderr",
          "output_type": "stream",
          "text": [
            "/opt/homebrew/Caskroom/miniforge/base/envs/nlp24-env/lib/python3.11/site-packages/umap/spectral.py:521: RuntimeWarning:\n",
            "\n",
            "k >= N for N * N square matrix. Attempting to use scipy.linalg.eigh instead.\n",
            "\n"
          ]
        },
        {
          "ename": "TypeError",
          "evalue": "Cannot use scipy.linalg.eigh for sparse A with k >= N. Use scipy.linalg.eigh(A.toarray()) or reduce k.",
          "output_type": "error",
          "traceback": [
            "\u001b[0;31m---------------------------------------------------------------------------\u001b[0m",
            "\u001b[0;31mTypeError\u001b[0m                                 Traceback (most recent call last)",
            "Cell \u001b[0;32mIn[31], line 1\u001b[0m\n\u001b[0;32m----> 1\u001b[0m \u001b[43mtopic_model\u001b[49m\u001b[38;5;241;43m.\u001b[39;49m\u001b[43mvisualize_topics\u001b[49m\u001b[43m(\u001b[49m\u001b[43mcustom_labels\u001b[49m\u001b[38;5;241;43m=\u001b[39;49m\u001b[38;5;28;43;01mTrue\u001b[39;49;00m\u001b[43m)\u001b[49m\n",
            "File \u001b[0;32m/opt/homebrew/Caskroom/miniforge/base/envs/nlp24-env/lib/python3.11/site-packages/bertopic/_bertopic.py:2429\u001b[0m, in \u001b[0;36mBERTopic.visualize_topics\u001b[0;34m(self, topics, top_n_topics, use_ctfidf, custom_labels, title, width, height)\u001b[0m\n\u001b[1;32m   2396\u001b[0m \u001b[38;5;250m\u001b[39m\u001b[38;5;124;03m\"\"\"Visualize topics, their sizes, and their corresponding words.\u001b[39;00m\n\u001b[1;32m   2397\u001b[0m \n\u001b[1;32m   2398\u001b[0m \u001b[38;5;124;03mThis visualization is highly inspired by LDAvis, a great visualization\u001b[39;00m\n\u001b[0;32m   (...)\u001b[0m\n\u001b[1;32m   2426\u001b[0m \u001b[38;5;124;03m```\u001b[39;00m\n\u001b[1;32m   2427\u001b[0m \u001b[38;5;124;03m\"\"\"\u001b[39;00m\n\u001b[1;32m   2428\u001b[0m check_is_fitted(\u001b[38;5;28mself\u001b[39m)\n\u001b[0;32m-> 2429\u001b[0m \u001b[38;5;28;01mreturn\u001b[39;00m \u001b[43mplotting\u001b[49m\u001b[38;5;241;43m.\u001b[39;49m\u001b[43mvisualize_topics\u001b[49m\u001b[43m(\u001b[49m\n\u001b[1;32m   2430\u001b[0m \u001b[43m    \u001b[49m\u001b[38;5;28;43mself\u001b[39;49m\u001b[43m,\u001b[49m\n\u001b[1;32m   2431\u001b[0m \u001b[43m    \u001b[49m\u001b[43mtopics\u001b[49m\u001b[38;5;241;43m=\u001b[39;49m\u001b[43mtopics\u001b[49m\u001b[43m,\u001b[49m\n\u001b[1;32m   2432\u001b[0m \u001b[43m    \u001b[49m\u001b[43mtop_n_topics\u001b[49m\u001b[38;5;241;43m=\u001b[39;49m\u001b[43mtop_n_topics\u001b[49m\u001b[43m,\u001b[49m\n\u001b[1;32m   2433\u001b[0m \u001b[43m    \u001b[49m\u001b[43muse_ctfidf\u001b[49m\u001b[38;5;241;43m=\u001b[39;49m\u001b[43muse_ctfidf\u001b[49m\u001b[43m,\u001b[49m\n\u001b[1;32m   2434\u001b[0m \u001b[43m    \u001b[49m\u001b[43mcustom_labels\u001b[49m\u001b[38;5;241;43m=\u001b[39;49m\u001b[43mcustom_labels\u001b[49m\u001b[43m,\u001b[49m\n\u001b[1;32m   2435\u001b[0m \u001b[43m    \u001b[49m\u001b[43mtitle\u001b[49m\u001b[38;5;241;43m=\u001b[39;49m\u001b[43mtitle\u001b[49m\u001b[43m,\u001b[49m\n\u001b[1;32m   2436\u001b[0m \u001b[43m    \u001b[49m\u001b[43mwidth\u001b[49m\u001b[38;5;241;43m=\u001b[39;49m\u001b[43mwidth\u001b[49m\u001b[43m,\u001b[49m\n\u001b[1;32m   2437\u001b[0m \u001b[43m    \u001b[49m\u001b[43mheight\u001b[49m\u001b[38;5;241;43m=\u001b[39;49m\u001b[43mheight\u001b[49m\u001b[43m,\u001b[49m\n\u001b[1;32m   2438\u001b[0m \u001b[43m\u001b[49m\u001b[43m)\u001b[49m\n",
            "File \u001b[0;32m/opt/homebrew/Caskroom/miniforge/base/envs/nlp24-env/lib/python3.11/site-packages/bertopic/plotting/_topics.py:92\u001b[0m, in \u001b[0;36mvisualize_topics\u001b[0;34m(topic_model, topics, top_n_topics, use_ctfidf, custom_labels, title, width, height)\u001b[0m\n\u001b[1;32m     90\u001b[0m     embeddings \u001b[38;5;241m=\u001b[39m UMAP(n_neighbors\u001b[38;5;241m=\u001b[39m\u001b[38;5;241m2\u001b[39m, n_components\u001b[38;5;241m=\u001b[39m\u001b[38;5;241m2\u001b[39m, metric\u001b[38;5;241m=\u001b[39m\u001b[38;5;124m\"\u001b[39m\u001b[38;5;124mhellinger\u001b[39m\u001b[38;5;124m\"\u001b[39m, random_state\u001b[38;5;241m=\u001b[39m\u001b[38;5;241m42\u001b[39m)\u001b[38;5;241m.\u001b[39mfit_transform(embeddings)\n\u001b[1;32m     91\u001b[0m \u001b[38;5;28;01melse\u001b[39;00m:\n\u001b[0;32m---> 92\u001b[0m     embeddings \u001b[38;5;241m=\u001b[39m \u001b[43mUMAP\u001b[49m\u001b[43m(\u001b[49m\u001b[43mn_neighbors\u001b[49m\u001b[38;5;241;43m=\u001b[39;49m\u001b[38;5;241;43m2\u001b[39;49m\u001b[43m,\u001b[49m\u001b[43m \u001b[49m\u001b[43mn_components\u001b[49m\u001b[38;5;241;43m=\u001b[39;49m\u001b[38;5;241;43m2\u001b[39;49m\u001b[43m,\u001b[49m\u001b[43m \u001b[49m\u001b[43mmetric\u001b[49m\u001b[38;5;241;43m=\u001b[39;49m\u001b[38;5;124;43m\"\u001b[39;49m\u001b[38;5;124;43mcosine\u001b[39;49m\u001b[38;5;124;43m\"\u001b[39;49m\u001b[43m,\u001b[49m\u001b[43m \u001b[49m\u001b[43mrandom_state\u001b[49m\u001b[38;5;241;43m=\u001b[39;49m\u001b[38;5;241;43m42\u001b[39;49m\u001b[43m)\u001b[49m\u001b[38;5;241;43m.\u001b[39;49m\u001b[43mfit_transform\u001b[49m\u001b[43m(\u001b[49m\u001b[43membeddings\u001b[49m\u001b[43m)\u001b[49m\n\u001b[1;32m     94\u001b[0m \u001b[38;5;66;03m# Visualize with plotly\u001b[39;00m\n\u001b[1;32m     95\u001b[0m df \u001b[38;5;241m=\u001b[39m pd\u001b[38;5;241m.\u001b[39mDataFrame(\n\u001b[1;32m     96\u001b[0m     {\n\u001b[1;32m     97\u001b[0m         \u001b[38;5;124m\"\u001b[39m\u001b[38;5;124mx\u001b[39m\u001b[38;5;124m\"\u001b[39m: embeddings[:, \u001b[38;5;241m0\u001b[39m],\n\u001b[0;32m   (...)\u001b[0m\n\u001b[1;32m    102\u001b[0m     }\n\u001b[1;32m    103\u001b[0m )\n",
            "File \u001b[0;32m/opt/homebrew/Caskroom/miniforge/base/envs/nlp24-env/lib/python3.11/site-packages/umap/umap_.py:2891\u001b[0m, in \u001b[0;36mUMAP.fit_transform\u001b[0;34m(self, X, y, force_all_finite)\u001b[0m\n\u001b[1;32m   2855\u001b[0m \u001b[38;5;28;01mdef\u001b[39;00m \u001b[38;5;21mfit_transform\u001b[39m(\u001b[38;5;28mself\u001b[39m, X, y\u001b[38;5;241m=\u001b[39m\u001b[38;5;28;01mNone\u001b[39;00m, force_all_finite\u001b[38;5;241m=\u001b[39m\u001b[38;5;28;01mTrue\u001b[39;00m):\n\u001b[1;32m   2856\u001b[0m \u001b[38;5;250m    \u001b[39m\u001b[38;5;124;03m\"\"\"Fit X into an embedded space and return that transformed\u001b[39;00m\n\u001b[1;32m   2857\u001b[0m \u001b[38;5;124;03m    output.\u001b[39;00m\n\u001b[1;32m   2858\u001b[0m \n\u001b[0;32m   (...)\u001b[0m\n\u001b[1;32m   2889\u001b[0m \u001b[38;5;124;03m        Local radii of data points in the embedding (log-transformed).\u001b[39;00m\n\u001b[1;32m   2890\u001b[0m \u001b[38;5;124;03m    \"\"\"\u001b[39;00m\n\u001b[0;32m-> 2891\u001b[0m     \u001b[38;5;28;43mself\u001b[39;49m\u001b[38;5;241;43m.\u001b[39;49m\u001b[43mfit\u001b[49m\u001b[43m(\u001b[49m\u001b[43mX\u001b[49m\u001b[43m,\u001b[49m\u001b[43m \u001b[49m\u001b[43my\u001b[49m\u001b[43m,\u001b[49m\u001b[43m \u001b[49m\u001b[43mforce_all_finite\u001b[49m\u001b[43m)\u001b[49m\n\u001b[1;32m   2892\u001b[0m     \u001b[38;5;28;01mif\u001b[39;00m \u001b[38;5;28mself\u001b[39m\u001b[38;5;241m.\u001b[39mtransform_mode \u001b[38;5;241m==\u001b[39m \u001b[38;5;124m\"\u001b[39m\u001b[38;5;124membedding\u001b[39m\u001b[38;5;124m\"\u001b[39m:\n\u001b[1;32m   2893\u001b[0m         \u001b[38;5;28;01mif\u001b[39;00m \u001b[38;5;28mself\u001b[39m\u001b[38;5;241m.\u001b[39moutput_dens:\n",
            "File \u001b[0;32m/opt/homebrew/Caskroom/miniforge/base/envs/nlp24-env/lib/python3.11/site-packages/umap/umap_.py:2784\u001b[0m, in \u001b[0;36mUMAP.fit\u001b[0;34m(self, X, y, force_all_finite)\u001b[0m\n\u001b[1;32m   2780\u001b[0m \u001b[38;5;28;01mif\u001b[39;00m \u001b[38;5;28mself\u001b[39m\u001b[38;5;241m.\u001b[39mtransform_mode \u001b[38;5;241m==\u001b[39m \u001b[38;5;124m\"\u001b[39m\u001b[38;5;124membedding\u001b[39m\u001b[38;5;124m\"\u001b[39m:\n\u001b[1;32m   2781\u001b[0m     epochs \u001b[38;5;241m=\u001b[39m (\n\u001b[1;32m   2782\u001b[0m         \u001b[38;5;28mself\u001b[39m\u001b[38;5;241m.\u001b[39mn_epochs_list \u001b[38;5;28;01mif\u001b[39;00m \u001b[38;5;28mself\u001b[39m\u001b[38;5;241m.\u001b[39mn_epochs_list \u001b[38;5;129;01mis\u001b[39;00m \u001b[38;5;129;01mnot\u001b[39;00m \u001b[38;5;28;01mNone\u001b[39;00m \u001b[38;5;28;01melse\u001b[39;00m \u001b[38;5;28mself\u001b[39m\u001b[38;5;241m.\u001b[39mn_epochs\n\u001b[1;32m   2783\u001b[0m     )\n\u001b[0;32m-> 2784\u001b[0m     \u001b[38;5;28mself\u001b[39m\u001b[38;5;241m.\u001b[39membedding_, aux_data \u001b[38;5;241m=\u001b[39m \u001b[38;5;28;43mself\u001b[39;49m\u001b[38;5;241;43m.\u001b[39;49m\u001b[43m_fit_embed_data\u001b[49m\u001b[43m(\u001b[49m\n\u001b[1;32m   2785\u001b[0m \u001b[43m        \u001b[49m\u001b[38;5;28;43mself\u001b[39;49m\u001b[38;5;241;43m.\u001b[39;49m\u001b[43m_raw_data\u001b[49m\u001b[43m[\u001b[49m\u001b[43mindex\u001b[49m\u001b[43m]\u001b[49m\u001b[43m,\u001b[49m\n\u001b[1;32m   2786\u001b[0m \u001b[43m        \u001b[49m\u001b[43mepochs\u001b[49m\u001b[43m,\u001b[49m\n\u001b[1;32m   2787\u001b[0m \u001b[43m        \u001b[49m\u001b[43minit\u001b[49m\u001b[43m,\u001b[49m\n\u001b[1;32m   2788\u001b[0m \u001b[43m        \u001b[49m\u001b[43mrandom_state\u001b[49m\u001b[43m,\u001b[49m\u001b[43m  \u001b[49m\u001b[38;5;66;43;03m# JH why raw data?\u001b[39;49;00m\n\u001b[1;32m   2789\u001b[0m \u001b[43m    \u001b[49m\u001b[43m)\u001b[49m\n\u001b[1;32m   2791\u001b[0m     \u001b[38;5;28;01mif\u001b[39;00m \u001b[38;5;28mself\u001b[39m\u001b[38;5;241m.\u001b[39mn_epochs_list \u001b[38;5;129;01mis\u001b[39;00m \u001b[38;5;129;01mnot\u001b[39;00m \u001b[38;5;28;01mNone\u001b[39;00m:\n\u001b[1;32m   2792\u001b[0m         \u001b[38;5;28;01mif\u001b[39;00m \u001b[38;5;124m\"\u001b[39m\u001b[38;5;124membedding_list\u001b[39m\u001b[38;5;124m\"\u001b[39m \u001b[38;5;129;01mnot\u001b[39;00m \u001b[38;5;129;01min\u001b[39;00m aux_data:\n",
            "File \u001b[0;32m/opt/homebrew/Caskroom/miniforge/base/envs/nlp24-env/lib/python3.11/site-packages/umap/umap_.py:2830\u001b[0m, in \u001b[0;36mUMAP._fit_embed_data\u001b[0;34m(self, X, n_epochs, init, random_state)\u001b[0m\n\u001b[1;32m   2826\u001b[0m \u001b[38;5;28;01mdef\u001b[39;00m \u001b[38;5;21m_fit_embed_data\u001b[39m(\u001b[38;5;28mself\u001b[39m, X, n_epochs, init, random_state):\n\u001b[1;32m   2827\u001b[0m \u001b[38;5;250m    \u001b[39m\u001b[38;5;124;03m\"\"\"A method wrapper for simplicial_set_embedding that can be\u001b[39;00m\n\u001b[1;32m   2828\u001b[0m \u001b[38;5;124;03m    replaced by subclasses.\u001b[39;00m\n\u001b[1;32m   2829\u001b[0m \u001b[38;5;124;03m    \"\"\"\u001b[39;00m\n\u001b[0;32m-> 2830\u001b[0m     \u001b[38;5;28;01mreturn\u001b[39;00m \u001b[43msimplicial_set_embedding\u001b[49m\u001b[43m(\u001b[49m\n\u001b[1;32m   2831\u001b[0m \u001b[43m        \u001b[49m\u001b[43mX\u001b[49m\u001b[43m,\u001b[49m\n\u001b[1;32m   2832\u001b[0m \u001b[43m        \u001b[49m\u001b[38;5;28;43mself\u001b[39;49m\u001b[38;5;241;43m.\u001b[39;49m\u001b[43mgraph_\u001b[49m\u001b[43m,\u001b[49m\n\u001b[1;32m   2833\u001b[0m \u001b[43m        \u001b[49m\u001b[38;5;28;43mself\u001b[39;49m\u001b[38;5;241;43m.\u001b[39;49m\u001b[43mn_components\u001b[49m\u001b[43m,\u001b[49m\n\u001b[1;32m   2834\u001b[0m \u001b[43m        \u001b[49m\u001b[38;5;28;43mself\u001b[39;49m\u001b[38;5;241;43m.\u001b[39;49m\u001b[43m_initial_alpha\u001b[49m\u001b[43m,\u001b[49m\n\u001b[1;32m   2835\u001b[0m \u001b[43m        \u001b[49m\u001b[38;5;28;43mself\u001b[39;49m\u001b[38;5;241;43m.\u001b[39;49m\u001b[43m_a\u001b[49m\u001b[43m,\u001b[49m\n\u001b[1;32m   2836\u001b[0m \u001b[43m        \u001b[49m\u001b[38;5;28;43mself\u001b[39;49m\u001b[38;5;241;43m.\u001b[39;49m\u001b[43m_b\u001b[49m\u001b[43m,\u001b[49m\n\u001b[1;32m   2837\u001b[0m \u001b[43m        \u001b[49m\u001b[38;5;28;43mself\u001b[39;49m\u001b[38;5;241;43m.\u001b[39;49m\u001b[43mrepulsion_strength\u001b[49m\u001b[43m,\u001b[49m\n\u001b[1;32m   2838\u001b[0m \u001b[43m        \u001b[49m\u001b[38;5;28;43mself\u001b[39;49m\u001b[38;5;241;43m.\u001b[39;49m\u001b[43mnegative_sample_rate\u001b[49m\u001b[43m,\u001b[49m\n\u001b[1;32m   2839\u001b[0m \u001b[43m        \u001b[49m\u001b[43mn_epochs\u001b[49m\u001b[43m,\u001b[49m\n\u001b[1;32m   2840\u001b[0m \u001b[43m        \u001b[49m\u001b[43minit\u001b[49m\u001b[43m,\u001b[49m\n\u001b[1;32m   2841\u001b[0m \u001b[43m        \u001b[49m\u001b[43mrandom_state\u001b[49m\u001b[43m,\u001b[49m\n\u001b[1;32m   2842\u001b[0m \u001b[43m        \u001b[49m\u001b[38;5;28;43mself\u001b[39;49m\u001b[38;5;241;43m.\u001b[39;49m\u001b[43m_input_distance_func\u001b[49m\u001b[43m,\u001b[49m\n\u001b[1;32m   2843\u001b[0m \u001b[43m        \u001b[49m\u001b[38;5;28;43mself\u001b[39;49m\u001b[38;5;241;43m.\u001b[39;49m\u001b[43m_metric_kwds\u001b[49m\u001b[43m,\u001b[49m\n\u001b[1;32m   2844\u001b[0m \u001b[43m        \u001b[49m\u001b[38;5;28;43mself\u001b[39;49m\u001b[38;5;241;43m.\u001b[39;49m\u001b[43mdensmap\u001b[49m\u001b[43m,\u001b[49m\n\u001b[1;32m   2845\u001b[0m \u001b[43m        \u001b[49m\u001b[38;5;28;43mself\u001b[39;49m\u001b[38;5;241;43m.\u001b[39;49m\u001b[43m_densmap_kwds\u001b[49m\u001b[43m,\u001b[49m\n\u001b[1;32m   2846\u001b[0m \u001b[43m        \u001b[49m\u001b[38;5;28;43mself\u001b[39;49m\u001b[38;5;241;43m.\u001b[39;49m\u001b[43moutput_dens\u001b[49m\u001b[43m,\u001b[49m\n\u001b[1;32m   2847\u001b[0m \u001b[43m        \u001b[49m\u001b[38;5;28;43mself\u001b[39;49m\u001b[38;5;241;43m.\u001b[39;49m\u001b[43m_output_distance_func\u001b[49m\u001b[43m,\u001b[49m\n\u001b[1;32m   2848\u001b[0m \u001b[43m        \u001b[49m\u001b[38;5;28;43mself\u001b[39;49m\u001b[38;5;241;43m.\u001b[39;49m\u001b[43m_output_metric_kwds\u001b[49m\u001b[43m,\u001b[49m\n\u001b[1;32m   2849\u001b[0m \u001b[43m        \u001b[49m\u001b[38;5;28;43mself\u001b[39;49m\u001b[38;5;241;43m.\u001b[39;49m\u001b[43moutput_metric\u001b[49m\u001b[43m \u001b[49m\u001b[38;5;129;43;01min\u001b[39;49;00m\u001b[43m \u001b[49m\u001b[43m(\u001b[49m\u001b[38;5;124;43m\"\u001b[39;49m\u001b[38;5;124;43meuclidean\u001b[39;49m\u001b[38;5;124;43m\"\u001b[39;49m\u001b[43m,\u001b[49m\u001b[43m \u001b[49m\u001b[38;5;124;43m\"\u001b[39;49m\u001b[38;5;124;43ml2\u001b[39;49m\u001b[38;5;124;43m\"\u001b[39;49m\u001b[43m)\u001b[49m\u001b[43m,\u001b[49m\n\u001b[1;32m   2850\u001b[0m \u001b[43m        \u001b[49m\u001b[38;5;28;43mself\u001b[39;49m\u001b[38;5;241;43m.\u001b[39;49m\u001b[43mrandom_state\u001b[49m\u001b[43m \u001b[49m\u001b[38;5;129;43;01mis\u001b[39;49;00m\u001b[43m \u001b[49m\u001b[38;5;28;43;01mNone\u001b[39;49;00m\u001b[43m,\u001b[49m\n\u001b[1;32m   2851\u001b[0m \u001b[43m        \u001b[49m\u001b[38;5;28;43mself\u001b[39;49m\u001b[38;5;241;43m.\u001b[39;49m\u001b[43mverbose\u001b[49m\u001b[43m,\u001b[49m\n\u001b[1;32m   2852\u001b[0m \u001b[43m        \u001b[49m\u001b[43mtqdm_kwds\u001b[49m\u001b[38;5;241;43m=\u001b[39;49m\u001b[38;5;28;43mself\u001b[39;49m\u001b[38;5;241;43m.\u001b[39;49m\u001b[43mtqdm_kwds\u001b[49m\u001b[43m,\u001b[49m\n\u001b[1;32m   2853\u001b[0m \u001b[43m    \u001b[49m\u001b[43m)\u001b[49m\n",
            "File \u001b[0;32m/opt/homebrew/Caskroom/miniforge/base/envs/nlp24-env/lib/python3.11/site-packages/umap/umap_.py:1107\u001b[0m, in \u001b[0;36msimplicial_set_embedding\u001b[0;34m(data, graph, n_components, initial_alpha, a, b, gamma, negative_sample_rate, n_epochs, init, random_state, metric, metric_kwds, densmap, densmap_kwds, output_dens, output_metric, output_metric_kwds, euclidean_output, parallel, verbose, tqdm_kwds)\u001b[0m\n\u001b[1;32m   1103\u001b[0m     embedding \u001b[38;5;241m=\u001b[39m noisy_scale_coords(\n\u001b[1;32m   1104\u001b[0m         embedding, random_state, max_coord\u001b[38;5;241m=\u001b[39m\u001b[38;5;241m10\u001b[39m, noise\u001b[38;5;241m=\u001b[39m\u001b[38;5;241m0.0001\u001b[39m\n\u001b[1;32m   1105\u001b[0m     )\n\u001b[1;32m   1106\u001b[0m \u001b[38;5;28;01melif\u001b[39;00m \u001b[38;5;28misinstance\u001b[39m(init, \u001b[38;5;28mstr\u001b[39m) \u001b[38;5;129;01mand\u001b[39;00m init \u001b[38;5;241m==\u001b[39m \u001b[38;5;124m\"\u001b[39m\u001b[38;5;124mspectral\u001b[39m\u001b[38;5;124m\"\u001b[39m:\n\u001b[0;32m-> 1107\u001b[0m     embedding \u001b[38;5;241m=\u001b[39m \u001b[43mspectral_layout\u001b[49m\u001b[43m(\u001b[49m\n\u001b[1;32m   1108\u001b[0m \u001b[43m        \u001b[49m\u001b[43mdata\u001b[49m\u001b[43m,\u001b[49m\n\u001b[1;32m   1109\u001b[0m \u001b[43m        \u001b[49m\u001b[43mgraph\u001b[49m\u001b[43m,\u001b[49m\n\u001b[1;32m   1110\u001b[0m \u001b[43m        \u001b[49m\u001b[43mn_components\u001b[49m\u001b[43m,\u001b[49m\n\u001b[1;32m   1111\u001b[0m \u001b[43m        \u001b[49m\u001b[43mrandom_state\u001b[49m\u001b[43m,\u001b[49m\n\u001b[1;32m   1112\u001b[0m \u001b[43m        \u001b[49m\u001b[43mmetric\u001b[49m\u001b[38;5;241;43m=\u001b[39;49m\u001b[43mmetric\u001b[49m\u001b[43m,\u001b[49m\n\u001b[1;32m   1113\u001b[0m \u001b[43m        \u001b[49m\u001b[43mmetric_kwds\u001b[49m\u001b[38;5;241;43m=\u001b[39;49m\u001b[43mmetric_kwds\u001b[49m\u001b[43m,\u001b[49m\n\u001b[1;32m   1114\u001b[0m \u001b[43m    \u001b[49m\u001b[43m)\u001b[49m\n\u001b[1;32m   1115\u001b[0m     \u001b[38;5;66;03m# We add a little noise to avoid local minima for optimization to come\u001b[39;00m\n\u001b[1;32m   1116\u001b[0m     embedding \u001b[38;5;241m=\u001b[39m noisy_scale_coords(\n\u001b[1;32m   1117\u001b[0m         embedding, random_state, max_coord\u001b[38;5;241m=\u001b[39m\u001b[38;5;241m10\u001b[39m, noise\u001b[38;5;241m=\u001b[39m\u001b[38;5;241m0.0001\u001b[39m\n\u001b[1;32m   1118\u001b[0m     )\n",
            "File \u001b[0;32m/opt/homebrew/Caskroom/miniforge/base/envs/nlp24-env/lib/python3.11/site-packages/umap/spectral.py:304\u001b[0m, in \u001b[0;36mspectral_layout\u001b[0;34m(data, graph, dim, random_state, metric, metric_kwds, tol, maxiter)\u001b[0m\n\u001b[1;32m    263\u001b[0m \u001b[38;5;28;01mdef\u001b[39;00m \u001b[38;5;21mspectral_layout\u001b[39m(\n\u001b[1;32m    264\u001b[0m     data,\n\u001b[1;32m    265\u001b[0m     graph,\n\u001b[0;32m   (...)\u001b[0m\n\u001b[1;32m    271\u001b[0m     maxiter\u001b[38;5;241m=\u001b[39m\u001b[38;5;241m0\u001b[39m\n\u001b[1;32m    272\u001b[0m ):\n\u001b[1;32m    273\u001b[0m \u001b[38;5;250m    \u001b[39m\u001b[38;5;124;03m\"\"\"\u001b[39;00m\n\u001b[1;32m    274\u001b[0m \u001b[38;5;124;03m    Given a graph compute the spectral embedding of the graph. This is\u001b[39;00m\n\u001b[1;32m    275\u001b[0m \u001b[38;5;124;03m    simply the eigenvectors of the laplacian of the graph. Here we use the\u001b[39;00m\n\u001b[0;32m   (...)\u001b[0m\n\u001b[1;32m    302\u001b[0m \u001b[38;5;124;03m        The spectral embedding of the graph.\u001b[39;00m\n\u001b[1;32m    303\u001b[0m \u001b[38;5;124;03m    \"\"\"\u001b[39;00m\n\u001b[0;32m--> 304\u001b[0m     \u001b[38;5;28;01mreturn\u001b[39;00m \u001b[43m_spectral_layout\u001b[49m\u001b[43m(\u001b[49m\n\u001b[1;32m    305\u001b[0m \u001b[43m        \u001b[49m\u001b[43mdata\u001b[49m\u001b[38;5;241;43m=\u001b[39;49m\u001b[43mdata\u001b[49m\u001b[43m,\u001b[49m\n\u001b[1;32m    306\u001b[0m \u001b[43m        \u001b[49m\u001b[43mgraph\u001b[49m\u001b[38;5;241;43m=\u001b[39;49m\u001b[43mgraph\u001b[49m\u001b[43m,\u001b[49m\n\u001b[1;32m    307\u001b[0m \u001b[43m        \u001b[49m\u001b[43mdim\u001b[49m\u001b[38;5;241;43m=\u001b[39;49m\u001b[43mdim\u001b[49m\u001b[43m,\u001b[49m\n\u001b[1;32m    308\u001b[0m \u001b[43m        \u001b[49m\u001b[43mrandom_state\u001b[49m\u001b[38;5;241;43m=\u001b[39;49m\u001b[43mrandom_state\u001b[49m\u001b[43m,\u001b[49m\n\u001b[1;32m    309\u001b[0m \u001b[43m        \u001b[49m\u001b[43mmetric\u001b[49m\u001b[38;5;241;43m=\u001b[39;49m\u001b[43mmetric\u001b[49m\u001b[43m,\u001b[49m\n\u001b[1;32m    310\u001b[0m \u001b[43m        \u001b[49m\u001b[43mmetric_kwds\u001b[49m\u001b[38;5;241;43m=\u001b[39;49m\u001b[43mmetric_kwds\u001b[49m\u001b[43m,\u001b[49m\n\u001b[1;32m    311\u001b[0m \u001b[43m        \u001b[49m\u001b[43minit\u001b[49m\u001b[38;5;241;43m=\u001b[39;49m\u001b[38;5;124;43m\"\u001b[39;49m\u001b[38;5;124;43mrandom\u001b[39;49m\u001b[38;5;124;43m\"\u001b[39;49m\u001b[43m,\u001b[49m\n\u001b[1;32m    312\u001b[0m \u001b[43m        \u001b[49m\u001b[43mtol\u001b[49m\u001b[38;5;241;43m=\u001b[39;49m\u001b[43mtol\u001b[49m\u001b[43m,\u001b[49m\n\u001b[1;32m    313\u001b[0m \u001b[43m        \u001b[49m\u001b[43mmaxiter\u001b[49m\u001b[38;5;241;43m=\u001b[39;49m\u001b[43mmaxiter\u001b[49m\n\u001b[1;32m    314\u001b[0m \u001b[43m    \u001b[49m\u001b[43m)\u001b[49m\n",
            "File \u001b[0;32m/opt/homebrew/Caskroom/miniforge/base/envs/nlp24-env/lib/python3.11/site-packages/umap/spectral.py:521\u001b[0m, in \u001b[0;36m_spectral_layout\u001b[0;34m(data, graph, dim, random_state, metric, metric_kwds, init, method, tol, maxiter)\u001b[0m\n\u001b[1;32m    518\u001b[0m X[:, \u001b[38;5;241m0\u001b[39m] \u001b[38;5;241m=\u001b[39m sqrt_deg \u001b[38;5;241m/\u001b[39m np\u001b[38;5;241m.\u001b[39mlinalg\u001b[38;5;241m.\u001b[39mnorm(sqrt_deg)\n\u001b[1;32m    520\u001b[0m \u001b[38;5;28;01mif\u001b[39;00m method \u001b[38;5;241m==\u001b[39m \u001b[38;5;124m\"\u001b[39m\u001b[38;5;124meigsh\u001b[39m\u001b[38;5;124m\"\u001b[39m:\n\u001b[0;32m--> 521\u001b[0m     eigenvalues, eigenvectors \u001b[38;5;241m=\u001b[39m \u001b[43mscipy\u001b[49m\u001b[38;5;241;43m.\u001b[39;49m\u001b[43msparse\u001b[49m\u001b[38;5;241;43m.\u001b[39;49m\u001b[43mlinalg\u001b[49m\u001b[38;5;241;43m.\u001b[39;49m\u001b[43meigsh\u001b[49m\u001b[43m(\u001b[49m\n\u001b[1;32m    522\u001b[0m \u001b[43m        \u001b[49m\u001b[43mL\u001b[49m\u001b[43m,\u001b[49m\n\u001b[1;32m    523\u001b[0m \u001b[43m        \u001b[49m\u001b[43mk\u001b[49m\u001b[43m,\u001b[49m\n\u001b[1;32m    524\u001b[0m \u001b[43m        \u001b[49m\u001b[43mwhich\u001b[49m\u001b[38;5;241;43m=\u001b[39;49m\u001b[38;5;124;43m\"\u001b[39;49m\u001b[38;5;124;43mSM\u001b[39;49m\u001b[38;5;124;43m\"\u001b[39;49m\u001b[43m,\u001b[49m\n\u001b[1;32m    525\u001b[0m \u001b[43m        \u001b[49m\u001b[43mncv\u001b[49m\u001b[38;5;241;43m=\u001b[39;49m\u001b[43mnum_lanczos_vectors\u001b[49m\u001b[43m,\u001b[49m\n\u001b[1;32m    526\u001b[0m \u001b[43m        \u001b[49m\u001b[43mtol\u001b[49m\u001b[38;5;241;43m=\u001b[39;49m\u001b[43mtol\u001b[49m\u001b[43m \u001b[49m\u001b[38;5;129;43;01mor\u001b[39;49;00m\u001b[43m \u001b[49m\u001b[38;5;241;43m1e-4\u001b[39;49m\u001b[43m,\u001b[49m\n\u001b[1;32m    527\u001b[0m \u001b[43m        \u001b[49m\u001b[43mv0\u001b[49m\u001b[38;5;241;43m=\u001b[39;49m\u001b[43mnp\u001b[49m\u001b[38;5;241;43m.\u001b[39;49m\u001b[43mones\u001b[49m\u001b[43m(\u001b[49m\u001b[43mL\u001b[49m\u001b[38;5;241;43m.\u001b[39;49m\u001b[43mshape\u001b[49m\u001b[43m[\u001b[49m\u001b[38;5;241;43m0\u001b[39;49m\u001b[43m]\u001b[49m\u001b[43m)\u001b[49m\u001b[43m,\u001b[49m\n\u001b[1;32m    528\u001b[0m \u001b[43m        \u001b[49m\u001b[43mmaxiter\u001b[49m\u001b[38;5;241;43m=\u001b[39;49m\u001b[43mmaxiter\u001b[49m\u001b[43m \u001b[49m\u001b[38;5;129;43;01mor\u001b[39;49;00m\u001b[43m \u001b[49m\u001b[43mgraph\u001b[49m\u001b[38;5;241;43m.\u001b[39;49m\u001b[43mshape\u001b[49m\u001b[43m[\u001b[49m\u001b[38;5;241;43m0\u001b[39;49m\u001b[43m]\u001b[49m\u001b[43m \u001b[49m\u001b[38;5;241;43m*\u001b[39;49m\u001b[43m \u001b[49m\u001b[38;5;241;43m5\u001b[39;49m\u001b[43m,\u001b[49m\n\u001b[1;32m    529\u001b[0m \u001b[43m    \u001b[49m\u001b[43m)\u001b[49m\n\u001b[1;32m    530\u001b[0m \u001b[38;5;28;01melif\u001b[39;00m method \u001b[38;5;241m==\u001b[39m \u001b[38;5;124m\"\u001b[39m\u001b[38;5;124mlobpcg\u001b[39m\u001b[38;5;124m\"\u001b[39m:\n\u001b[1;32m    531\u001b[0m     \u001b[38;5;28;01mwith\u001b[39;00m warnings\u001b[38;5;241m.\u001b[39mcatch_warnings():\n",
            "File \u001b[0;32m/opt/homebrew/Caskroom/miniforge/base/envs/nlp24-env/lib/python3.11/site-packages/scipy/sparse/linalg/_eigen/arpack/arpack.py:1608\u001b[0m, in \u001b[0;36meigsh\u001b[0;34m(A, k, M, sigma, which, v0, ncv, maxiter, tol, return_eigenvectors, Minv, OPinv, mode)\u001b[0m\n\u001b[1;32m   1603\u001b[0m warnings\u001b[38;5;241m.\u001b[39mwarn(\u001b[38;5;124m\"\u001b[39m\u001b[38;5;124mk >= N for N * N square matrix. \u001b[39m\u001b[38;5;124m\"\u001b[39m\n\u001b[1;32m   1604\u001b[0m               \u001b[38;5;124m\"\u001b[39m\u001b[38;5;124mAttempting to use scipy.linalg.eigh instead.\u001b[39m\u001b[38;5;124m\"\u001b[39m,\n\u001b[1;32m   1605\u001b[0m               \u001b[38;5;167;01mRuntimeWarning\u001b[39;00m, stacklevel\u001b[38;5;241m=\u001b[39m\u001b[38;5;241m2\u001b[39m)\n\u001b[1;32m   1607\u001b[0m \u001b[38;5;28;01mif\u001b[39;00m issparse(A):\n\u001b[0;32m-> 1608\u001b[0m     \u001b[38;5;28;01mraise\u001b[39;00m \u001b[38;5;167;01mTypeError\u001b[39;00m(\u001b[38;5;124m\"\u001b[39m\u001b[38;5;124mCannot use scipy.linalg.eigh for sparse A with \u001b[39m\u001b[38;5;124m\"\u001b[39m\n\u001b[1;32m   1609\u001b[0m                     \u001b[38;5;124m\"\u001b[39m\u001b[38;5;124mk >= N. Use scipy.linalg.eigh(A.toarray()) or\u001b[39m\u001b[38;5;124m\"\u001b[39m\n\u001b[1;32m   1610\u001b[0m                     \u001b[38;5;124m\"\u001b[39m\u001b[38;5;124m reduce k.\u001b[39m\u001b[38;5;124m\"\u001b[39m)\n\u001b[1;32m   1611\u001b[0m \u001b[38;5;28;01mif\u001b[39;00m \u001b[38;5;28misinstance\u001b[39m(A, LinearOperator):\n\u001b[1;32m   1612\u001b[0m     \u001b[38;5;28;01mraise\u001b[39;00m \u001b[38;5;167;01mTypeError\u001b[39;00m(\u001b[38;5;124m\"\u001b[39m\u001b[38;5;124mCannot use scipy.linalg.eigh for LinearOperator \u001b[39m\u001b[38;5;124m\"\u001b[39m\n\u001b[1;32m   1613\u001b[0m                     \u001b[38;5;124m\"\u001b[39m\u001b[38;5;124mA with k >= N.\u001b[39m\u001b[38;5;124m\"\u001b[39m)\n",
            "\u001b[0;31mTypeError\u001b[0m: Cannot use scipy.linalg.eigh for sparse A with k >= N. Use scipy.linalg.eigh(A.toarray()) or reduce k."
          ]
        }
      ],
      "source": [
        "topic_model.visualize_topics(custom_labels=True)"
      ]
    },
    {
      "cell_type": "markdown",
      "metadata": {
        "id": "mp4o97zistG-"
      },
      "source": [
        "## Visualize Barchart"
      ]
    },
    {
      "cell_type": "code",
      "execution_count": 32,
      "metadata": {
        "colab": {
          "base_uri": "https://localhost:8080/",
          "height": 517
        },
        "id": "60P8Z4b8s7nN",
        "outputId": "7c1f6f3e-b653-4d83-9123-9bc2cb24eed9"
      },
      "outputs": [
        {
          "data": {
            "application/vnd.plotly.v1+json": {
              "config": {
                "plotlyServerURL": "https://plot.ly"
              },
              "data": [
                {
                  "marker": {
                    "color": "#D55E00"
                  },
                  "orientation": "h",
                  "type": "bar",
                  "x": [
                    0.39312997460365295,
                    0.3951638340950012,
                    0.44844475388526917,
                    0.5636683702468872,
                    0.6799482107162476
                  ],
                  "xaxis": "x",
                  "y": [
                    "grade  ",
                    "learn  ",
                    "school  ",
                    "student  ",
                    "students  "
                  ],
                  "yaxis": "y"
                },
                {
                  "marker": {
                    "color": "#0072B2"
                  },
                  "orientation": "h",
                  "type": "bar",
                  "x": [
                    0.3778407573699951,
                    0.4005894660949707,
                    0.4273907244205475,
                    0.5621637105941772,
                    0.6049652099609375
                  ],
                  "xaxis": "x2",
                  "y": [
                    "assignment  ",
                    "curriculum  ",
                    "learning  ",
                    "student  ",
                    "students  "
                  ],
                  "yaxis": "y2"
                },
                {
                  "marker": {
                    "color": "#CC79A7"
                  },
                  "orientation": "h",
                  "type": "bar",
                  "x": [
                    0.5340850353240967,
                    0.5355806946754456,
                    0.5550379753112793,
                    0.6051439046859741,
                    0.6053836941719055
                  ],
                  "xaxis": "x3",
                  "y": [
                    "teacher  ",
                    "students  ",
                    "teachers  ",
                    "teaching  ",
                    "classroom  "
                  ],
                  "yaxis": "y3"
                }
              ],
              "layout": {
                "annotations": [
                  {
                    "font": {
                      "size": 16
                    },
                    "showarrow": false,
                    "text": "Topic 0",
                    "x": 0.0875,
                    "xanchor": "center",
                    "xref": "paper",
                    "y": 1,
                    "yanchor": "bottom",
                    "yref": "paper"
                  },
                  {
                    "font": {
                      "size": 16
                    },
                    "showarrow": false,
                    "text": "Topic 1",
                    "x": 0.36250000000000004,
                    "xanchor": "center",
                    "xref": "paper",
                    "y": 1,
                    "yanchor": "bottom",
                    "yref": "paper"
                  },
                  {
                    "font": {
                      "size": 16
                    },
                    "showarrow": false,
                    "text": "Topic 2",
                    "x": 0.6375000000000001,
                    "xanchor": "center",
                    "xref": "paper",
                    "y": 1,
                    "yanchor": "bottom",
                    "yref": "paper"
                  }
                ],
                "height": 325,
                "hoverlabel": {
                  "bgcolor": "white",
                  "font": {
                    "family": "Rockwell",
                    "size": 16
                  }
                },
                "showlegend": false,
                "template": {
                  "data": {
                    "bar": [
                      {
                        "error_x": {
                          "color": "#2a3f5f"
                        },
                        "error_y": {
                          "color": "#2a3f5f"
                        },
                        "marker": {
                          "line": {
                            "color": "white",
                            "width": 0.5
                          },
                          "pattern": {
                            "fillmode": "overlay",
                            "size": 10,
                            "solidity": 0.2
                          }
                        },
                        "type": "bar"
                      }
                    ],
                    "barpolar": [
                      {
                        "marker": {
                          "line": {
                            "color": "white",
                            "width": 0.5
                          },
                          "pattern": {
                            "fillmode": "overlay",
                            "size": 10,
                            "solidity": 0.2
                          }
                        },
                        "type": "barpolar"
                      }
                    ],
                    "carpet": [
                      {
                        "aaxis": {
                          "endlinecolor": "#2a3f5f",
                          "gridcolor": "#C8D4E3",
                          "linecolor": "#C8D4E3",
                          "minorgridcolor": "#C8D4E3",
                          "startlinecolor": "#2a3f5f"
                        },
                        "baxis": {
                          "endlinecolor": "#2a3f5f",
                          "gridcolor": "#C8D4E3",
                          "linecolor": "#C8D4E3",
                          "minorgridcolor": "#C8D4E3",
                          "startlinecolor": "#2a3f5f"
                        },
                        "type": "carpet"
                      }
                    ],
                    "choropleth": [
                      {
                        "colorbar": {
                          "outlinewidth": 0,
                          "ticks": ""
                        },
                        "type": "choropleth"
                      }
                    ],
                    "contour": [
                      {
                        "colorbar": {
                          "outlinewidth": 0,
                          "ticks": ""
                        },
                        "colorscale": [
                          [
                            0,
                            "#0d0887"
                          ],
                          [
                            0.1111111111111111,
                            "#46039f"
                          ],
                          [
                            0.2222222222222222,
                            "#7201a8"
                          ],
                          [
                            0.3333333333333333,
                            "#9c179e"
                          ],
                          [
                            0.4444444444444444,
                            "#bd3786"
                          ],
                          [
                            0.5555555555555556,
                            "#d8576b"
                          ],
                          [
                            0.6666666666666666,
                            "#ed7953"
                          ],
                          [
                            0.7777777777777778,
                            "#fb9f3a"
                          ],
                          [
                            0.8888888888888888,
                            "#fdca26"
                          ],
                          [
                            1,
                            "#f0f921"
                          ]
                        ],
                        "type": "contour"
                      }
                    ],
                    "contourcarpet": [
                      {
                        "colorbar": {
                          "outlinewidth": 0,
                          "ticks": ""
                        },
                        "type": "contourcarpet"
                      }
                    ],
                    "heatmap": [
                      {
                        "colorbar": {
                          "outlinewidth": 0,
                          "ticks": ""
                        },
                        "colorscale": [
                          [
                            0,
                            "#0d0887"
                          ],
                          [
                            0.1111111111111111,
                            "#46039f"
                          ],
                          [
                            0.2222222222222222,
                            "#7201a8"
                          ],
                          [
                            0.3333333333333333,
                            "#9c179e"
                          ],
                          [
                            0.4444444444444444,
                            "#bd3786"
                          ],
                          [
                            0.5555555555555556,
                            "#d8576b"
                          ],
                          [
                            0.6666666666666666,
                            "#ed7953"
                          ],
                          [
                            0.7777777777777778,
                            "#fb9f3a"
                          ],
                          [
                            0.8888888888888888,
                            "#fdca26"
                          ],
                          [
                            1,
                            "#f0f921"
                          ]
                        ],
                        "type": "heatmap"
                      }
                    ],
                    "heatmapgl": [
                      {
                        "colorbar": {
                          "outlinewidth": 0,
                          "ticks": ""
                        },
                        "colorscale": [
                          [
                            0,
                            "#0d0887"
                          ],
                          [
                            0.1111111111111111,
                            "#46039f"
                          ],
                          [
                            0.2222222222222222,
                            "#7201a8"
                          ],
                          [
                            0.3333333333333333,
                            "#9c179e"
                          ],
                          [
                            0.4444444444444444,
                            "#bd3786"
                          ],
                          [
                            0.5555555555555556,
                            "#d8576b"
                          ],
                          [
                            0.6666666666666666,
                            "#ed7953"
                          ],
                          [
                            0.7777777777777778,
                            "#fb9f3a"
                          ],
                          [
                            0.8888888888888888,
                            "#fdca26"
                          ],
                          [
                            1,
                            "#f0f921"
                          ]
                        ],
                        "type": "heatmapgl"
                      }
                    ],
                    "histogram": [
                      {
                        "marker": {
                          "pattern": {
                            "fillmode": "overlay",
                            "size": 10,
                            "solidity": 0.2
                          }
                        },
                        "type": "histogram"
                      }
                    ],
                    "histogram2d": [
                      {
                        "colorbar": {
                          "outlinewidth": 0,
                          "ticks": ""
                        },
                        "colorscale": [
                          [
                            0,
                            "#0d0887"
                          ],
                          [
                            0.1111111111111111,
                            "#46039f"
                          ],
                          [
                            0.2222222222222222,
                            "#7201a8"
                          ],
                          [
                            0.3333333333333333,
                            "#9c179e"
                          ],
                          [
                            0.4444444444444444,
                            "#bd3786"
                          ],
                          [
                            0.5555555555555556,
                            "#d8576b"
                          ],
                          [
                            0.6666666666666666,
                            "#ed7953"
                          ],
                          [
                            0.7777777777777778,
                            "#fb9f3a"
                          ],
                          [
                            0.8888888888888888,
                            "#fdca26"
                          ],
                          [
                            1,
                            "#f0f921"
                          ]
                        ],
                        "type": "histogram2d"
                      }
                    ],
                    "histogram2dcontour": [
                      {
                        "colorbar": {
                          "outlinewidth": 0,
                          "ticks": ""
                        },
                        "colorscale": [
                          [
                            0,
                            "#0d0887"
                          ],
                          [
                            0.1111111111111111,
                            "#46039f"
                          ],
                          [
                            0.2222222222222222,
                            "#7201a8"
                          ],
                          [
                            0.3333333333333333,
                            "#9c179e"
                          ],
                          [
                            0.4444444444444444,
                            "#bd3786"
                          ],
                          [
                            0.5555555555555556,
                            "#d8576b"
                          ],
                          [
                            0.6666666666666666,
                            "#ed7953"
                          ],
                          [
                            0.7777777777777778,
                            "#fb9f3a"
                          ],
                          [
                            0.8888888888888888,
                            "#fdca26"
                          ],
                          [
                            1,
                            "#f0f921"
                          ]
                        ],
                        "type": "histogram2dcontour"
                      }
                    ],
                    "mesh3d": [
                      {
                        "colorbar": {
                          "outlinewidth": 0,
                          "ticks": ""
                        },
                        "type": "mesh3d"
                      }
                    ],
                    "parcoords": [
                      {
                        "line": {
                          "colorbar": {
                            "outlinewidth": 0,
                            "ticks": ""
                          }
                        },
                        "type": "parcoords"
                      }
                    ],
                    "pie": [
                      {
                        "automargin": true,
                        "type": "pie"
                      }
                    ],
                    "scatter": [
                      {
                        "fillpattern": {
                          "fillmode": "overlay",
                          "size": 10,
                          "solidity": 0.2
                        },
                        "type": "scatter"
                      }
                    ],
                    "scatter3d": [
                      {
                        "line": {
                          "colorbar": {
                            "outlinewidth": 0,
                            "ticks": ""
                          }
                        },
                        "marker": {
                          "colorbar": {
                            "outlinewidth": 0,
                            "ticks": ""
                          }
                        },
                        "type": "scatter3d"
                      }
                    ],
                    "scattercarpet": [
                      {
                        "marker": {
                          "colorbar": {
                            "outlinewidth": 0,
                            "ticks": ""
                          }
                        },
                        "type": "scattercarpet"
                      }
                    ],
                    "scattergeo": [
                      {
                        "marker": {
                          "colorbar": {
                            "outlinewidth": 0,
                            "ticks": ""
                          }
                        },
                        "type": "scattergeo"
                      }
                    ],
                    "scattergl": [
                      {
                        "marker": {
                          "colorbar": {
                            "outlinewidth": 0,
                            "ticks": ""
                          }
                        },
                        "type": "scattergl"
                      }
                    ],
                    "scattermapbox": [
                      {
                        "marker": {
                          "colorbar": {
                            "outlinewidth": 0,
                            "ticks": ""
                          }
                        },
                        "type": "scattermapbox"
                      }
                    ],
                    "scatterpolar": [
                      {
                        "marker": {
                          "colorbar": {
                            "outlinewidth": 0,
                            "ticks": ""
                          }
                        },
                        "type": "scatterpolar"
                      }
                    ],
                    "scatterpolargl": [
                      {
                        "marker": {
                          "colorbar": {
                            "outlinewidth": 0,
                            "ticks": ""
                          }
                        },
                        "type": "scatterpolargl"
                      }
                    ],
                    "scatterternary": [
                      {
                        "marker": {
                          "colorbar": {
                            "outlinewidth": 0,
                            "ticks": ""
                          }
                        },
                        "type": "scatterternary"
                      }
                    ],
                    "surface": [
                      {
                        "colorbar": {
                          "outlinewidth": 0,
                          "ticks": ""
                        },
                        "colorscale": [
                          [
                            0,
                            "#0d0887"
                          ],
                          [
                            0.1111111111111111,
                            "#46039f"
                          ],
                          [
                            0.2222222222222222,
                            "#7201a8"
                          ],
                          [
                            0.3333333333333333,
                            "#9c179e"
                          ],
                          [
                            0.4444444444444444,
                            "#bd3786"
                          ],
                          [
                            0.5555555555555556,
                            "#d8576b"
                          ],
                          [
                            0.6666666666666666,
                            "#ed7953"
                          ],
                          [
                            0.7777777777777778,
                            "#fb9f3a"
                          ],
                          [
                            0.8888888888888888,
                            "#fdca26"
                          ],
                          [
                            1,
                            "#f0f921"
                          ]
                        ],
                        "type": "surface"
                      }
                    ],
                    "table": [
                      {
                        "cells": {
                          "fill": {
                            "color": "#EBF0F8"
                          },
                          "line": {
                            "color": "white"
                          }
                        },
                        "header": {
                          "fill": {
                            "color": "#C8D4E3"
                          },
                          "line": {
                            "color": "white"
                          }
                        },
                        "type": "table"
                      }
                    ]
                  },
                  "layout": {
                    "annotationdefaults": {
                      "arrowcolor": "#2a3f5f",
                      "arrowhead": 0,
                      "arrowwidth": 1
                    },
                    "autotypenumbers": "strict",
                    "coloraxis": {
                      "colorbar": {
                        "outlinewidth": 0,
                        "ticks": ""
                      }
                    },
                    "colorscale": {
                      "diverging": [
                        [
                          0,
                          "#8e0152"
                        ],
                        [
                          0.1,
                          "#c51b7d"
                        ],
                        [
                          0.2,
                          "#de77ae"
                        ],
                        [
                          0.3,
                          "#f1b6da"
                        ],
                        [
                          0.4,
                          "#fde0ef"
                        ],
                        [
                          0.5,
                          "#f7f7f7"
                        ],
                        [
                          0.6,
                          "#e6f5d0"
                        ],
                        [
                          0.7,
                          "#b8e186"
                        ],
                        [
                          0.8,
                          "#7fbc41"
                        ],
                        [
                          0.9,
                          "#4d9221"
                        ],
                        [
                          1,
                          "#276419"
                        ]
                      ],
                      "sequential": [
                        [
                          0,
                          "#0d0887"
                        ],
                        [
                          0.1111111111111111,
                          "#46039f"
                        ],
                        [
                          0.2222222222222222,
                          "#7201a8"
                        ],
                        [
                          0.3333333333333333,
                          "#9c179e"
                        ],
                        [
                          0.4444444444444444,
                          "#bd3786"
                        ],
                        [
                          0.5555555555555556,
                          "#d8576b"
                        ],
                        [
                          0.6666666666666666,
                          "#ed7953"
                        ],
                        [
                          0.7777777777777778,
                          "#fb9f3a"
                        ],
                        [
                          0.8888888888888888,
                          "#fdca26"
                        ],
                        [
                          1,
                          "#f0f921"
                        ]
                      ],
                      "sequentialminus": [
                        [
                          0,
                          "#0d0887"
                        ],
                        [
                          0.1111111111111111,
                          "#46039f"
                        ],
                        [
                          0.2222222222222222,
                          "#7201a8"
                        ],
                        [
                          0.3333333333333333,
                          "#9c179e"
                        ],
                        [
                          0.4444444444444444,
                          "#bd3786"
                        ],
                        [
                          0.5555555555555556,
                          "#d8576b"
                        ],
                        [
                          0.6666666666666666,
                          "#ed7953"
                        ],
                        [
                          0.7777777777777778,
                          "#fb9f3a"
                        ],
                        [
                          0.8888888888888888,
                          "#fdca26"
                        ],
                        [
                          1,
                          "#f0f921"
                        ]
                      ]
                    },
                    "colorway": [
                      "#636efa",
                      "#EF553B",
                      "#00cc96",
                      "#ab63fa",
                      "#FFA15A",
                      "#19d3f3",
                      "#FF6692",
                      "#B6E880",
                      "#FF97FF",
                      "#FECB52"
                    ],
                    "font": {
                      "color": "#2a3f5f"
                    },
                    "geo": {
                      "bgcolor": "white",
                      "lakecolor": "white",
                      "landcolor": "white",
                      "showlakes": true,
                      "showland": true,
                      "subunitcolor": "#C8D4E3"
                    },
                    "hoverlabel": {
                      "align": "left"
                    },
                    "hovermode": "closest",
                    "mapbox": {
                      "style": "light"
                    },
                    "paper_bgcolor": "white",
                    "plot_bgcolor": "white",
                    "polar": {
                      "angularaxis": {
                        "gridcolor": "#EBF0F8",
                        "linecolor": "#EBF0F8",
                        "ticks": ""
                      },
                      "bgcolor": "white",
                      "radialaxis": {
                        "gridcolor": "#EBF0F8",
                        "linecolor": "#EBF0F8",
                        "ticks": ""
                      }
                    },
                    "scene": {
                      "xaxis": {
                        "backgroundcolor": "white",
                        "gridcolor": "#DFE8F3",
                        "gridwidth": 2,
                        "linecolor": "#EBF0F8",
                        "showbackground": true,
                        "ticks": "",
                        "zerolinecolor": "#EBF0F8"
                      },
                      "yaxis": {
                        "backgroundcolor": "white",
                        "gridcolor": "#DFE8F3",
                        "gridwidth": 2,
                        "linecolor": "#EBF0F8",
                        "showbackground": true,
                        "ticks": "",
                        "zerolinecolor": "#EBF0F8"
                      },
                      "zaxis": {
                        "backgroundcolor": "white",
                        "gridcolor": "#DFE8F3",
                        "gridwidth": 2,
                        "linecolor": "#EBF0F8",
                        "showbackground": true,
                        "ticks": "",
                        "zerolinecolor": "#EBF0F8"
                      }
                    },
                    "shapedefaults": {
                      "line": {
                        "color": "#2a3f5f"
                      }
                    },
                    "ternary": {
                      "aaxis": {
                        "gridcolor": "#DFE8F3",
                        "linecolor": "#A2B1C6",
                        "ticks": ""
                      },
                      "baxis": {
                        "gridcolor": "#DFE8F3",
                        "linecolor": "#A2B1C6",
                        "ticks": ""
                      },
                      "bgcolor": "white",
                      "caxis": {
                        "gridcolor": "#DFE8F3",
                        "linecolor": "#A2B1C6",
                        "ticks": ""
                      }
                    },
                    "title": {
                      "x": 0.05
                    },
                    "xaxis": {
                      "automargin": true,
                      "gridcolor": "#EBF0F8",
                      "linecolor": "#EBF0F8",
                      "ticks": "",
                      "title": {
                        "standoff": 15
                      },
                      "zerolinecolor": "#EBF0F8",
                      "zerolinewidth": 2
                    },
                    "yaxis": {
                      "automargin": true,
                      "gridcolor": "#EBF0F8",
                      "linecolor": "#EBF0F8",
                      "ticks": "",
                      "title": {
                        "standoff": 15
                      },
                      "zerolinecolor": "#EBF0F8",
                      "zerolinewidth": 2
                    }
                  }
                },
                "title": {
                  "font": {
                    "color": "Black",
                    "size": 22
                  },
                  "text": "Topic Word Scores",
                  "x": 0.5,
                  "xanchor": "center",
                  "yanchor": "top"
                },
                "width": 1000,
                "xaxis": {
                  "anchor": "y",
                  "domain": [
                    0,
                    0.175
                  ],
                  "showgrid": true
                },
                "xaxis2": {
                  "anchor": "y2",
                  "domain": [
                    0.275,
                    0.45
                  ],
                  "showgrid": true
                },
                "xaxis3": {
                  "anchor": "y3",
                  "domain": [
                    0.55,
                    0.7250000000000001
                  ],
                  "showgrid": true
                },
                "xaxis4": {
                  "anchor": "y4",
                  "domain": [
                    0.825,
                    1
                  ],
                  "showgrid": true
                },
                "yaxis": {
                  "anchor": "x",
                  "domain": [
                    0,
                    1
                  ],
                  "showgrid": true
                },
                "yaxis2": {
                  "anchor": "x2",
                  "domain": [
                    0,
                    1
                  ],
                  "showgrid": true
                },
                "yaxis3": {
                  "anchor": "x3",
                  "domain": [
                    0,
                    1
                  ],
                  "showgrid": true
                },
                "yaxis4": {
                  "anchor": "x4",
                  "domain": [
                    0,
                    1
                  ],
                  "showgrid": true
                }
              }
            }
          },
          "metadata": {},
          "output_type": "display_data"
        }
      ],
      "source": [
        "topic_model.visualize_barchart()"
      ]
    },
    {
      "cell_type": "markdown",
      "metadata": {
        "id": "V-RdB-1ztA3o"
      },
      "source": [
        "## Topic Similarity Matrix Visualization"
      ]
    },
    {
      "cell_type": "code",
      "execution_count": 33,
      "metadata": {
        "colab": {
          "base_uri": "https://localhost:8080/",
          "height": 817
        },
        "id": "bQohXNY7tEzm",
        "outputId": "a1b31634-4278-4faf-a5d3-325c704fd7dc"
      },
      "outputs": [
        {
          "data": {
            "application/vnd.plotly.v1+json": {
              "config": {
                "plotlyServerURL": "https://plot.ly"
              },
              "data": [
                {
                  "coloraxis": "coloraxis",
                  "hovertemplate": "x: %{x}<br>y: %{y}<br>Similarity Score: %{z}<extra></extra>",
                  "name": "0",
                  "type": "heatmap",
                  "x": [
                    "0_students_student_school",
                    "1_students_student_learning",
                    "2_classroom_teaching_teachers"
                  ],
                  "xaxis": "x",
                  "y": [
                    "0_students_student_school",
                    "1_students_student_learning",
                    "2_classroom_teaching_teachers"
                  ],
                  "yaxis": "y",
                  "z": [
                    [
                      1.000000238418579,
                      0.7961074113845825,
                      0.796183705329895
                    ],
                    [
                      0.7961074113845825,
                      0.9999998807907104,
                      0.765723705291748
                    ],
                    [
                      0.796183705329895,
                      0.765723705291748,
                      1
                    ]
                  ]
                }
              ],
              "layout": {
                "coloraxis": {
                  "colorbar": {
                    "title": {
                      "text": "Similarity Score"
                    }
                  },
                  "colorscale": [
                    [
                      0,
                      "rgb(247,252,240)"
                    ],
                    [
                      0.125,
                      "rgb(224,243,219)"
                    ],
                    [
                      0.25,
                      "rgb(204,235,197)"
                    ],
                    [
                      0.375,
                      "rgb(168,221,181)"
                    ],
                    [
                      0.5,
                      "rgb(123,204,196)"
                    ],
                    [
                      0.625,
                      "rgb(78,179,211)"
                    ],
                    [
                      0.75,
                      "rgb(43,140,190)"
                    ],
                    [
                      0.875,
                      "rgb(8,104,172)"
                    ],
                    [
                      1,
                      "rgb(8,64,129)"
                    ]
                  ]
                },
                "height": 800,
                "hoverlabel": {
                  "bgcolor": "white",
                  "font": {
                    "family": "Rockwell",
                    "size": 16
                  }
                },
                "legend": {
                  "title": {
                    "text": "Trend"
                  }
                },
                "margin": {
                  "t": 60
                },
                "showlegend": true,
                "template": {
                  "data": {
                    "bar": [
                      {
                        "error_x": {
                          "color": "#2a3f5f"
                        },
                        "error_y": {
                          "color": "#2a3f5f"
                        },
                        "marker": {
                          "line": {
                            "color": "#E5ECF6",
                            "width": 0.5
                          },
                          "pattern": {
                            "fillmode": "overlay",
                            "size": 10,
                            "solidity": 0.2
                          }
                        },
                        "type": "bar"
                      }
                    ],
                    "barpolar": [
                      {
                        "marker": {
                          "line": {
                            "color": "#E5ECF6",
                            "width": 0.5
                          },
                          "pattern": {
                            "fillmode": "overlay",
                            "size": 10,
                            "solidity": 0.2
                          }
                        },
                        "type": "barpolar"
                      }
                    ],
                    "carpet": [
                      {
                        "aaxis": {
                          "endlinecolor": "#2a3f5f",
                          "gridcolor": "white",
                          "linecolor": "white",
                          "minorgridcolor": "white",
                          "startlinecolor": "#2a3f5f"
                        },
                        "baxis": {
                          "endlinecolor": "#2a3f5f",
                          "gridcolor": "white",
                          "linecolor": "white",
                          "minorgridcolor": "white",
                          "startlinecolor": "#2a3f5f"
                        },
                        "type": "carpet"
                      }
                    ],
                    "choropleth": [
                      {
                        "colorbar": {
                          "outlinewidth": 0,
                          "ticks": ""
                        },
                        "type": "choropleth"
                      }
                    ],
                    "contour": [
                      {
                        "colorbar": {
                          "outlinewidth": 0,
                          "ticks": ""
                        },
                        "colorscale": [
                          [
                            0,
                            "#0d0887"
                          ],
                          [
                            0.1111111111111111,
                            "#46039f"
                          ],
                          [
                            0.2222222222222222,
                            "#7201a8"
                          ],
                          [
                            0.3333333333333333,
                            "#9c179e"
                          ],
                          [
                            0.4444444444444444,
                            "#bd3786"
                          ],
                          [
                            0.5555555555555556,
                            "#d8576b"
                          ],
                          [
                            0.6666666666666666,
                            "#ed7953"
                          ],
                          [
                            0.7777777777777778,
                            "#fb9f3a"
                          ],
                          [
                            0.8888888888888888,
                            "#fdca26"
                          ],
                          [
                            1,
                            "#f0f921"
                          ]
                        ],
                        "type": "contour"
                      }
                    ],
                    "contourcarpet": [
                      {
                        "colorbar": {
                          "outlinewidth": 0,
                          "ticks": ""
                        },
                        "type": "contourcarpet"
                      }
                    ],
                    "heatmap": [
                      {
                        "colorbar": {
                          "outlinewidth": 0,
                          "ticks": ""
                        },
                        "colorscale": [
                          [
                            0,
                            "#0d0887"
                          ],
                          [
                            0.1111111111111111,
                            "#46039f"
                          ],
                          [
                            0.2222222222222222,
                            "#7201a8"
                          ],
                          [
                            0.3333333333333333,
                            "#9c179e"
                          ],
                          [
                            0.4444444444444444,
                            "#bd3786"
                          ],
                          [
                            0.5555555555555556,
                            "#d8576b"
                          ],
                          [
                            0.6666666666666666,
                            "#ed7953"
                          ],
                          [
                            0.7777777777777778,
                            "#fb9f3a"
                          ],
                          [
                            0.8888888888888888,
                            "#fdca26"
                          ],
                          [
                            1,
                            "#f0f921"
                          ]
                        ],
                        "type": "heatmap"
                      }
                    ],
                    "heatmapgl": [
                      {
                        "colorbar": {
                          "outlinewidth": 0,
                          "ticks": ""
                        },
                        "colorscale": [
                          [
                            0,
                            "#0d0887"
                          ],
                          [
                            0.1111111111111111,
                            "#46039f"
                          ],
                          [
                            0.2222222222222222,
                            "#7201a8"
                          ],
                          [
                            0.3333333333333333,
                            "#9c179e"
                          ],
                          [
                            0.4444444444444444,
                            "#bd3786"
                          ],
                          [
                            0.5555555555555556,
                            "#d8576b"
                          ],
                          [
                            0.6666666666666666,
                            "#ed7953"
                          ],
                          [
                            0.7777777777777778,
                            "#fb9f3a"
                          ],
                          [
                            0.8888888888888888,
                            "#fdca26"
                          ],
                          [
                            1,
                            "#f0f921"
                          ]
                        ],
                        "type": "heatmapgl"
                      }
                    ],
                    "histogram": [
                      {
                        "marker": {
                          "pattern": {
                            "fillmode": "overlay",
                            "size": 10,
                            "solidity": 0.2
                          }
                        },
                        "type": "histogram"
                      }
                    ],
                    "histogram2d": [
                      {
                        "colorbar": {
                          "outlinewidth": 0,
                          "ticks": ""
                        },
                        "colorscale": [
                          [
                            0,
                            "#0d0887"
                          ],
                          [
                            0.1111111111111111,
                            "#46039f"
                          ],
                          [
                            0.2222222222222222,
                            "#7201a8"
                          ],
                          [
                            0.3333333333333333,
                            "#9c179e"
                          ],
                          [
                            0.4444444444444444,
                            "#bd3786"
                          ],
                          [
                            0.5555555555555556,
                            "#d8576b"
                          ],
                          [
                            0.6666666666666666,
                            "#ed7953"
                          ],
                          [
                            0.7777777777777778,
                            "#fb9f3a"
                          ],
                          [
                            0.8888888888888888,
                            "#fdca26"
                          ],
                          [
                            1,
                            "#f0f921"
                          ]
                        ],
                        "type": "histogram2d"
                      }
                    ],
                    "histogram2dcontour": [
                      {
                        "colorbar": {
                          "outlinewidth": 0,
                          "ticks": ""
                        },
                        "colorscale": [
                          [
                            0,
                            "#0d0887"
                          ],
                          [
                            0.1111111111111111,
                            "#46039f"
                          ],
                          [
                            0.2222222222222222,
                            "#7201a8"
                          ],
                          [
                            0.3333333333333333,
                            "#9c179e"
                          ],
                          [
                            0.4444444444444444,
                            "#bd3786"
                          ],
                          [
                            0.5555555555555556,
                            "#d8576b"
                          ],
                          [
                            0.6666666666666666,
                            "#ed7953"
                          ],
                          [
                            0.7777777777777778,
                            "#fb9f3a"
                          ],
                          [
                            0.8888888888888888,
                            "#fdca26"
                          ],
                          [
                            1,
                            "#f0f921"
                          ]
                        ],
                        "type": "histogram2dcontour"
                      }
                    ],
                    "mesh3d": [
                      {
                        "colorbar": {
                          "outlinewidth": 0,
                          "ticks": ""
                        },
                        "type": "mesh3d"
                      }
                    ],
                    "parcoords": [
                      {
                        "line": {
                          "colorbar": {
                            "outlinewidth": 0,
                            "ticks": ""
                          }
                        },
                        "type": "parcoords"
                      }
                    ],
                    "pie": [
                      {
                        "automargin": true,
                        "type": "pie"
                      }
                    ],
                    "scatter": [
                      {
                        "fillpattern": {
                          "fillmode": "overlay",
                          "size": 10,
                          "solidity": 0.2
                        },
                        "type": "scatter"
                      }
                    ],
                    "scatter3d": [
                      {
                        "line": {
                          "colorbar": {
                            "outlinewidth": 0,
                            "ticks": ""
                          }
                        },
                        "marker": {
                          "colorbar": {
                            "outlinewidth": 0,
                            "ticks": ""
                          }
                        },
                        "type": "scatter3d"
                      }
                    ],
                    "scattercarpet": [
                      {
                        "marker": {
                          "colorbar": {
                            "outlinewidth": 0,
                            "ticks": ""
                          }
                        },
                        "type": "scattercarpet"
                      }
                    ],
                    "scattergeo": [
                      {
                        "marker": {
                          "colorbar": {
                            "outlinewidth": 0,
                            "ticks": ""
                          }
                        },
                        "type": "scattergeo"
                      }
                    ],
                    "scattergl": [
                      {
                        "marker": {
                          "colorbar": {
                            "outlinewidth": 0,
                            "ticks": ""
                          }
                        },
                        "type": "scattergl"
                      }
                    ],
                    "scattermapbox": [
                      {
                        "marker": {
                          "colorbar": {
                            "outlinewidth": 0,
                            "ticks": ""
                          }
                        },
                        "type": "scattermapbox"
                      }
                    ],
                    "scatterpolar": [
                      {
                        "marker": {
                          "colorbar": {
                            "outlinewidth": 0,
                            "ticks": ""
                          }
                        },
                        "type": "scatterpolar"
                      }
                    ],
                    "scatterpolargl": [
                      {
                        "marker": {
                          "colorbar": {
                            "outlinewidth": 0,
                            "ticks": ""
                          }
                        },
                        "type": "scatterpolargl"
                      }
                    ],
                    "scatterternary": [
                      {
                        "marker": {
                          "colorbar": {
                            "outlinewidth": 0,
                            "ticks": ""
                          }
                        },
                        "type": "scatterternary"
                      }
                    ],
                    "surface": [
                      {
                        "colorbar": {
                          "outlinewidth": 0,
                          "ticks": ""
                        },
                        "colorscale": [
                          [
                            0,
                            "#0d0887"
                          ],
                          [
                            0.1111111111111111,
                            "#46039f"
                          ],
                          [
                            0.2222222222222222,
                            "#7201a8"
                          ],
                          [
                            0.3333333333333333,
                            "#9c179e"
                          ],
                          [
                            0.4444444444444444,
                            "#bd3786"
                          ],
                          [
                            0.5555555555555556,
                            "#d8576b"
                          ],
                          [
                            0.6666666666666666,
                            "#ed7953"
                          ],
                          [
                            0.7777777777777778,
                            "#fb9f3a"
                          ],
                          [
                            0.8888888888888888,
                            "#fdca26"
                          ],
                          [
                            1,
                            "#f0f921"
                          ]
                        ],
                        "type": "surface"
                      }
                    ],
                    "table": [
                      {
                        "cells": {
                          "fill": {
                            "color": "#EBF0F8"
                          },
                          "line": {
                            "color": "white"
                          }
                        },
                        "header": {
                          "fill": {
                            "color": "#C8D4E3"
                          },
                          "line": {
                            "color": "white"
                          }
                        },
                        "type": "table"
                      }
                    ]
                  },
                  "layout": {
                    "annotationdefaults": {
                      "arrowcolor": "#2a3f5f",
                      "arrowhead": 0,
                      "arrowwidth": 1
                    },
                    "autotypenumbers": "strict",
                    "coloraxis": {
                      "colorbar": {
                        "outlinewidth": 0,
                        "ticks": ""
                      }
                    },
                    "colorscale": {
                      "diverging": [
                        [
                          0,
                          "#8e0152"
                        ],
                        [
                          0.1,
                          "#c51b7d"
                        ],
                        [
                          0.2,
                          "#de77ae"
                        ],
                        [
                          0.3,
                          "#f1b6da"
                        ],
                        [
                          0.4,
                          "#fde0ef"
                        ],
                        [
                          0.5,
                          "#f7f7f7"
                        ],
                        [
                          0.6,
                          "#e6f5d0"
                        ],
                        [
                          0.7,
                          "#b8e186"
                        ],
                        [
                          0.8,
                          "#7fbc41"
                        ],
                        [
                          0.9,
                          "#4d9221"
                        ],
                        [
                          1,
                          "#276419"
                        ]
                      ],
                      "sequential": [
                        [
                          0,
                          "#0d0887"
                        ],
                        [
                          0.1111111111111111,
                          "#46039f"
                        ],
                        [
                          0.2222222222222222,
                          "#7201a8"
                        ],
                        [
                          0.3333333333333333,
                          "#9c179e"
                        ],
                        [
                          0.4444444444444444,
                          "#bd3786"
                        ],
                        [
                          0.5555555555555556,
                          "#d8576b"
                        ],
                        [
                          0.6666666666666666,
                          "#ed7953"
                        ],
                        [
                          0.7777777777777778,
                          "#fb9f3a"
                        ],
                        [
                          0.8888888888888888,
                          "#fdca26"
                        ],
                        [
                          1,
                          "#f0f921"
                        ]
                      ],
                      "sequentialminus": [
                        [
                          0,
                          "#0d0887"
                        ],
                        [
                          0.1111111111111111,
                          "#46039f"
                        ],
                        [
                          0.2222222222222222,
                          "#7201a8"
                        ],
                        [
                          0.3333333333333333,
                          "#9c179e"
                        ],
                        [
                          0.4444444444444444,
                          "#bd3786"
                        ],
                        [
                          0.5555555555555556,
                          "#d8576b"
                        ],
                        [
                          0.6666666666666666,
                          "#ed7953"
                        ],
                        [
                          0.7777777777777778,
                          "#fb9f3a"
                        ],
                        [
                          0.8888888888888888,
                          "#fdca26"
                        ],
                        [
                          1,
                          "#f0f921"
                        ]
                      ]
                    },
                    "colorway": [
                      "#636efa",
                      "#EF553B",
                      "#00cc96",
                      "#ab63fa",
                      "#FFA15A",
                      "#19d3f3",
                      "#FF6692",
                      "#B6E880",
                      "#FF97FF",
                      "#FECB52"
                    ],
                    "font": {
                      "color": "#2a3f5f"
                    },
                    "geo": {
                      "bgcolor": "white",
                      "lakecolor": "white",
                      "landcolor": "#E5ECF6",
                      "showlakes": true,
                      "showland": true,
                      "subunitcolor": "white"
                    },
                    "hoverlabel": {
                      "align": "left"
                    },
                    "hovermode": "closest",
                    "mapbox": {
                      "style": "light"
                    },
                    "paper_bgcolor": "white",
                    "plot_bgcolor": "#E5ECF6",
                    "polar": {
                      "angularaxis": {
                        "gridcolor": "white",
                        "linecolor": "white",
                        "ticks": ""
                      },
                      "bgcolor": "#E5ECF6",
                      "radialaxis": {
                        "gridcolor": "white",
                        "linecolor": "white",
                        "ticks": ""
                      }
                    },
                    "scene": {
                      "xaxis": {
                        "backgroundcolor": "#E5ECF6",
                        "gridcolor": "white",
                        "gridwidth": 2,
                        "linecolor": "white",
                        "showbackground": true,
                        "ticks": "",
                        "zerolinecolor": "white"
                      },
                      "yaxis": {
                        "backgroundcolor": "#E5ECF6",
                        "gridcolor": "white",
                        "gridwidth": 2,
                        "linecolor": "white",
                        "showbackground": true,
                        "ticks": "",
                        "zerolinecolor": "white"
                      },
                      "zaxis": {
                        "backgroundcolor": "#E5ECF6",
                        "gridcolor": "white",
                        "gridwidth": 2,
                        "linecolor": "white",
                        "showbackground": true,
                        "ticks": "",
                        "zerolinecolor": "white"
                      }
                    },
                    "shapedefaults": {
                      "line": {
                        "color": "#2a3f5f"
                      }
                    },
                    "ternary": {
                      "aaxis": {
                        "gridcolor": "white",
                        "linecolor": "white",
                        "ticks": ""
                      },
                      "baxis": {
                        "gridcolor": "white",
                        "linecolor": "white",
                        "ticks": ""
                      },
                      "bgcolor": "#E5ECF6",
                      "caxis": {
                        "gridcolor": "white",
                        "linecolor": "white",
                        "ticks": ""
                      }
                    },
                    "title": {
                      "x": 0.05
                    },
                    "xaxis": {
                      "automargin": true,
                      "gridcolor": "white",
                      "linecolor": "white",
                      "ticks": "",
                      "title": {
                        "standoff": 15
                      },
                      "zerolinecolor": "white",
                      "zerolinewidth": 2
                    },
                    "yaxis": {
                      "automargin": true,
                      "gridcolor": "white",
                      "linecolor": "white",
                      "ticks": "",
                      "title": {
                        "standoff": 15
                      },
                      "zerolinecolor": "white",
                      "zerolinewidth": 2
                    }
                  }
                },
                "title": {
                  "font": {
                    "color": "Black",
                    "size": 22
                  },
                  "text": "<b>Similarity Matrix</b>",
                  "x": 0.55,
                  "xanchor": "center",
                  "y": 0.95,
                  "yanchor": "top"
                },
                "width": 800,
                "xaxis": {
                  "anchor": "y",
                  "constrain": "domain",
                  "domain": [
                    0,
                    1
                  ],
                  "scaleanchor": "y"
                },
                "yaxis": {
                  "anchor": "x",
                  "autorange": "reversed",
                  "constrain": "domain",
                  "domain": [
                    0,
                    1
                  ]
                }
              }
            }
          },
          "metadata": {},
          "output_type": "display_data"
        }
      ],
      "source": [
        "topic_model.visualize_heatmap()"
      ]
    },
    {
      "cell_type": "markdown",
      "metadata": {
        "id": "SqGIQwmatJ0X"
      },
      "source": [
        "## Searching for topics that closely relate to a search term"
      ]
    },
    {
      "cell_type": "markdown",
      "metadata": {
        "id": "0NIM6xjBwq1G"
      },
      "source": [
        "## List most mentioned named entities in corpus"
      ]
    },
    {
      "cell_type": "code",
      "execution_count": 34,
      "metadata": {
        "colab": {
          "base_uri": "https://localhost:8080/",
          "height": 356
        },
        "id": "TysgKAWgwvi7",
        "outputId": "0dc7237f-40b9-4d79-fd06-44994c938455"
      },
      "outputs": [
        {
          "name": "stdout",
          "output_type": "stream",
          "text": [
            "one: 5\n",
            "Empower: 3\n",
            "Love: 1\n"
          ]
        }
      ],
      "source": [
        "import spacy\n",
        "from collections import Counter\n",
        "\n",
        "# Load the spaCy model\n",
        "nlp = spacy.load(\"en_core_web_sm\")  # You can use a larger model for more accuracy\n",
        "\n",
        "\n",
        "# Function to extract entities\n",
        "def extract_entities(docs):\n",
        "    entities = []\n",
        "    for doc in docs:\n",
        "        processed_doc = nlp(doc)\n",
        "        entities.extend([ent.text for ent in processed_doc.ents])\n",
        "    return entities\n",
        "\n",
        "# Extract entities from documents\n",
        "entities = extract_entities(documents)\n",
        "\n",
        "# Count entities and display most common\n",
        "entity_counts = Counter(entities)\n",
        "most_common_entities = entity_counts.most_common()  # You can specify a number inside most_common(n)\n",
        "\n",
        "# Print the most common entities\n",
        "for entity, count in most_common_entities:\n",
        "    print(f\"{entity}: {count}\")\n"
      ]
    },
    {
      "cell_type": "code",
      "execution_count": null,
      "metadata": {
        "colab": {
          "base_uri": "https://localhost:8080/"
        },
        "id": "q_wj-t6OtWUk",
        "outputId": "1b89738a-9c0c-40f7-a0e0-b675de68a271"
      },
      "outputs": [],
      "source": [
        "similar_topics, similarity = topic_model.find_topics(\"equity\", top_n=5)\n",
        "topic_model.get_topic(similar_topics[0])"
      ]
    },
    {
      "cell_type": "markdown",
      "metadata": {
        "id": "2Ae10Mntu2R3"
      },
      "source": [
        "## Semantic SImilarity"
      ]
    },
    {
      "cell_type": "code",
      "execution_count": 36,
      "metadata": {
        "id": "6IdKIFgwu1Tk"
      },
      "outputs": [],
      "source": [
        "import spacy\n",
        "nlp = spacy.load(\"en_core_web_trf\")\n",
        "\n",
        "# Define the key document with spacy\n",
        "key_document = \"agency\"\n",
        "key = nlp(key_document)\n",
        "\n",
        "# Assuming 'sentences' is a list of sentence strings\n",
        "# We will convert each sentence to a spacy Doc and then compute similarity\n",
        "for sentence_text in sentences:\n",
        "    # Process the sentence text with spacy\n",
        "    sentence_doc = nlp(sentence_text)\n",
        "    # Compute and print similarity\n",
        "    similarity = sentence_doc.similarity(key)\n",
        "    # Print only if similarity is greater than a specific threshold\n",
        "    if similarity > 0.50:\n",
        "      print(f\"Similarity between '{sentence_text}' and {key_document}: {similarity}\")\n"
      ]
    },
    {
      "cell_type": "code",
      "execution_count": 37,
      "metadata": {
        "colab": {
          "base_uri": "https://localhost:8080/"
        },
        "id": "97v92j-xyaWh",
        "outputId": "dffdcc55-5ffa-4846-8792-2d4fccfd9b7c"
      },
      "outputs": [
        {
          "name": "stdout",
          "output_type": "stream",
          "text": [
            "Target Sentence: 'Where students drive the science.'\n",
            "Similar Sentence: ' where students take ownership of their learning?' (Similarity: 0.55)\n",
            "Context:\n",
            "And you have to be a good enough teacher to care about your students, to know what things they like or don't like, or what kind of learning styles work for them or don't.\n",
            " , to really make things work for those students.\n",
            "And like being able to know your students well enough to know when it's not working.\n",
            " where students take ownership of their learning?\n",
            " give students ownership in their learning?\n",
            " What do you think are barriers and challenges that students are facing when you're asking them to engage in these types of lessons?\n",
            "The students are great.\n",
            "\n",
            "---\n",
            "\n",
            "Target Sentence: 'Where students drive the science.'\n",
            "Similar Sentence: 'For the students.' (Similarity: 0.54)\n",
            "Context:\n",
            "So in this project, one goal we have is for students to take ownership of their learning.\n",
            "So for you, like students taking ownership of their learning looks like them having kind of like a light bulb moment of understanding a topic or making an extra effort to improve a grade or to do better on an assignment.\n",
            " For the students or for me?\n",
            "For the students.\n",
            "For the students.\n",
            " the way students are motivated and engaged.\n",
            "So my professional learning goals are typically usually finding ways to engage and motivate students in an authentic way.\n",
            "\n",
            "---\n",
            "\n",
            "Target Sentence: 'Where students drive the science.'\n",
            "Similar Sentence: 'For the students.' (Similarity: 0.54)\n",
            "Context:\n",
            "So for you, like students taking ownership of their learning looks like them having kind of like a light bulb moment of understanding a topic or making an extra effort to improve a grade or to do better on an assignment.\n",
            " For the students or for me?\n",
            "For the students.\n",
            "For the students.\n",
            " the way students are motivated and engaged.\n",
            "So my professional learning goals are typically usually finding ways to engage and motivate students in an authentic way.\n",
            "So in this project, one goal we have is for students to take ownership of their learning.\n",
            "\n",
            "---\n",
            "\n",
            "Target Sentence: 'Where students drive the science.'\n",
            "Similar Sentence: 'The students are great.' (Similarity: 0.53)\n",
            "Context:\n",
            " where students take ownership of their learning?\n",
            " give students ownership in their learning?\n",
            " What do you think are barriers and challenges that students are facing when you're asking them to engage in these types of lessons?\n",
            "The students are great.\n",
            " do that lesson, but do it in a more interactive way just to try to engage your students.\n",
            "So in this project, one goal we have is for students to take ownership of their learning.\n",
            "So for you, like students taking ownership of their learning looks like them having kind of like a light bulb moment of understanding a topic or making an extra effort to improve a grade or to do better on an assignment.\n",
            "\n",
            "---\n",
            "\n",
            "Target Sentence: 'Where students drive the science.'\n",
            "Similar Sentence: ' you have to know your students.' (Similarity: 0.53)\n",
            "Context:\n",
            "And so you're looking for those ways to increase making the curriculum more interactive and helping the students take ownership of their learning.\n",
            " I wanna ask you more about student ownership of their learning.\n",
            "So in thinking about kind of those types of activities or scenarios where students are taking ownership of their learning, what do you think is needed in order to make that happen?\n",
            " you have to know your students.\n",
            "And you have to be a good enough teacher to care about your students, to know what things they like or don't like, or what kind of learning styles work for them or don't.\n",
            " , to really make things work for those students.\n",
            "And like being able to know your students well enough to know when it's not working.\n",
            "\n",
            "---\n",
            "\n",
            "Target Sentence: 'Where students drive the science.'\n",
            "Similar Sentence: ' more participation on the student side of things.' (Similarity: 0.51)\n",
            "Context:\n",
            " You've described this flow where students are coming in, they're starting, you know, , they start, you know, doing what they need to, and you're there kind of supporting them.\n",
            " being able to, you know, delegate to students like, hey, at the end of a class, this is how we get ready for the next class.\n",
            " But then also, our students, my students specifically, in our district, in our town, in our community, they deal with a lot of stuff.\n",
            " more participation on the student side of things.\n",
            " how students learn best and how to also give them grade level content, but also meet them where they're at to grow them.\n",
            "All students don't learn the same.\n",
            "And you have to get to know your students to figure out how they learn.\n",
            "\n",
            "---\n",
            "\n",
            "Target Sentence: 'Where students drive the science.'\n",
            "Similar Sentence: ' the way students are motivated and engaged.' (Similarity: 0.51)\n",
            "Context:\n",
            " For the students or for me?\n",
            "For the students.\n",
            "For the students.\n",
            " the way students are motivated and engaged.\n",
            "So my professional learning goals are typically usually finding ways to engage and motivate students in an authentic way.\n",
            "So in this project, one goal we have is for students to take ownership of their learning.\n",
            "Can you, can you describe to me like a specific instance when you saw students taking ownership of their learning?\n",
            "\n",
            "---\n",
            "\n",
            "Target Sentence: 'Where students drive the science.'\n",
            "Similar Sentence: 'What about the students?' (Similarity: 0.50)\n",
            "Context:\n",
            "All students don't learn the same.\n",
            "And you have to get to know your students to figure out how they learn.\n",
            "So, um, in this project, one goal that we have for students is to take ownership of their learning.\n",
            "What about the students?\n",
            "Your classroom, you are responsible for what you feel like the students need to learn the most.\n",
            "So in this project, one goal that we have for students is to take ownership of their learning.\n",
            "I like to allow students to talk.\n",
            "\n",
            "---\n",
            "\n",
            "Total similar sentences found: 8\n",
            "Highest similarity score: 0.55\n",
            "\n",
            "\n",
            "Target Sentence: 'When its technically student led.'\n",
            "Similar Sentence: 'For the students.' (Similarity: 0.53)\n",
            "Context:\n",
            "So in this project, one goal we have is for students to take ownership of their learning.\n",
            "So for you, like students taking ownership of their learning looks like them having kind of like a light bulb moment of understanding a topic or making an extra effort to improve a grade or to do better on an assignment.\n",
            " For the students or for me?\n",
            "For the students.\n",
            "For the students.\n",
            " the way students are motivated and engaged.\n",
            "So my professional learning goals are typically usually finding ways to engage and motivate students in an authentic way.\n",
            "\n",
            "---\n",
            "\n",
            "Target Sentence: 'When its technically student led.'\n",
            "Similar Sentence: 'For the students.' (Similarity: 0.53)\n",
            "Context:\n",
            "So for you, like students taking ownership of their learning looks like them having kind of like a light bulb moment of understanding a topic or making an extra effort to improve a grade or to do better on an assignment.\n",
            " For the students or for me?\n",
            "For the students.\n",
            "For the students.\n",
            " the way students are motivated and engaged.\n",
            "So my professional learning goals are typically usually finding ways to engage and motivate students in an authentic way.\n",
            "So in this project, one goal we have is for students to take ownership of their learning.\n",
            "\n",
            "---\n",
            "\n",
            "Target Sentence: 'When its technically student led.'\n",
            "Similar Sentence: ' you have to know your students.' (Similarity: 0.52)\n",
            "Context:\n",
            "And so you're looking for those ways to increase making the curriculum more interactive and helping the students take ownership of their learning.\n",
            " I wanna ask you more about student ownership of their learning.\n",
            "So in thinking about kind of those types of activities or scenarios where students are taking ownership of their learning, what do you think is needed in order to make that happen?\n",
            " you have to know your students.\n",
            "And you have to be a good enough teacher to care about your students, to know what things they like or don't like, or what kind of learning styles work for them or don't.\n",
            " , to really make things work for those students.\n",
            "And like being able to know your students well enough to know when it's not working.\n",
            "\n",
            "---\n",
            "\n",
            "Target Sentence: 'When its technically student led.'\n",
            "Similar Sentence: ' The student themselves is the big part of it, really.' (Similarity: 0.51)\n",
            "Context:\n",
            "Can you, can you describe to me like a specific instance when you saw students taking ownership of their learning?\n",
            " you've seen students taking ownership of their learning like within your class or like within an activity or something that you were doing as part of the class structure?\n",
            "What do students need?\n",
            " The student themselves is the big part of it, really.\n",
            "In general, I'm not saying, you know, I'm not saying every student, but there's students that\n",
            "Any other questions or any other thoughts you have about student ownership of learning or the curriculum you're working on that you would want to share with me?\n",
            "\n",
            "---\n",
            "\n",
            "Target Sentence: 'When its technically student led.'\n",
            "Similar Sentence: ', to the individual students.' (Similarity: 0.50)\n",
            "Context:\n",
            "And then gradually figure out how to take those away for some students and figure out where I need to push more with other students, like sort of add more supports for some students.\n",
            "There are students who are going to sit in my class every day, right?\n",
            "Like, to the individual students.\n",
            ", to the individual students.\n",
            " at the expense of teaching important content and giving important examples and anecdotes.\n",
            " have really lofty discussions that end up having no real bearing on what happens in the classroom.\n",
            "Teach a group of students.\n",
            "\n",
            "---\n",
            "\n",
            "Target Sentence: 'When its technically student led.'\n",
            "Similar Sentence: ' , to really make things work for those students.' (Similarity: 0.50)\n",
            "Context:\n",
            "So in thinking about kind of those types of activities or scenarios where students are taking ownership of their learning, what do you think is needed in order to make that happen?\n",
            " you have to know your students.\n",
            "And you have to be a good enough teacher to care about your students, to know what things they like or don't like, or what kind of learning styles work for them or don't.\n",
            " , to really make things work for those students.\n",
            "And like being able to know your students well enough to know when it's not working.\n",
            " where students take ownership of their learning?\n",
            " give students ownership in their learning?\n",
            "\n",
            "---\n",
            "\n",
            "Total similar sentences found: 6\n",
            "Highest similarity score: 0.53\n",
            "\n",
            "\n",
            "Target Sentence: 'And it's a continuous process of student agency.'\n",
            "Similar Sentence: ' The student themselves is the big part of it, really.' (Similarity: 0.59)\n",
            "Context:\n",
            "Can you, can you describe to me like a specific instance when you saw students taking ownership of their learning?\n",
            " you've seen students taking ownership of their learning like within your class or like within an activity or something that you were doing as part of the class structure?\n",
            "What do students need?\n",
            " The student themselves is the big part of it, really.\n",
            "In general, I'm not saying, you know, I'm not saying every student, but there's students that\n",
            "Any other questions or any other thoughts you have about student ownership of learning or the curriculum you're working on that you would want to share with me?\n",
            "\n",
            "---\n",
            "\n",
            "Target Sentence: 'And it's a continuous process of student agency.'\n",
            "Similar Sentence: 'And one of those goals is for students to take ownership of their learning.' (Similarity: 0.58)\n",
            "Context:\n",
            "So do you think as part of Empower that that would be, if a goal of Empower is to create this ownership among students for their learning, do you think that would be helpful?\n",
            " I try to, but sometimes we spend so long on the next lesson, which is about that one student's question.\n",
            "I'm better at that with some students rather than others you know.\n",
            "And one of those goals is for students to take ownership of their learning.\n",
            " The student ownership component is, I feel like that is always the most difficult thing to get across in the classroom.\n",
            "But rather than me doing that it's the students doing that, you know.\n",
            " You've described this flow where students are coming in, they're starting, you know, , they start, you know, doing what they need to, and you're there kind of supporting them.\n",
            "\n",
            "---\n",
            "\n",
            "Target Sentence: 'And it's a continuous process of student agency.'\n",
            "Similar Sentence: 'Like, to the individual students.' (Similarity: 0.54)\n",
            "Context:\n",
            " the needs of a few students who definitely need a lot of one-on-one attention with the needs of the rest of the classroom.\n",
            "And then gradually figure out how to take those away for some students and figure out where I need to push more with other students, like sort of add more supports for some students.\n",
            "There are students who are going to sit in my class every day, right?\n",
            "Like, to the individual students.\n",
            ", to the individual students.\n",
            " at the expense of teaching important content and giving important examples and anecdotes.\n",
            " have really lofty discussions that end up having no real bearing on what happens in the classroom.\n",
            "\n",
            "---\n",
            "\n",
            "Target Sentence: 'And it's a continuous process of student agency.'\n",
            "Similar Sentence: ' the way students are motivated and engaged.' (Similarity: 0.53)\n",
            "Context:\n",
            " For the students or for me?\n",
            "For the students.\n",
            "For the students.\n",
            " the way students are motivated and engaged.\n",
            "So my professional learning goals are typically usually finding ways to engage and motivate students in an authentic way.\n",
            "So in this project, one goal we have is for students to take ownership of their learning.\n",
            "Can you, can you describe to me like a specific instance when you saw students taking ownership of their learning?\n",
            "\n",
            "---\n",
            "\n",
            "Target Sentence: 'And it's a continuous process of student agency.'\n",
            "Similar Sentence: ' I wanna ask you more about student ownership of their learning.' (Similarity: 0.53)\n",
            "Context:\n",
            "Then you have other students that have not had that support group, that have not been cheered their whole life, and they're kind of reluctant.\n",
            "And my interests in this project are about teacher epistemologies and how teachers like you think about teaching and learning.\n",
            "And so you're looking for those ways to increase making the curriculum more interactive and helping the students take ownership of their learning.\n",
            " I wanna ask you more about student ownership of their learning.\n",
            "So in thinking about kind of those types of activities or scenarios where students are taking ownership of their learning, what do you think is needed in order to make that happen?\n",
            " you have to know your students.\n",
            "And you have to be a good enough teacher to care about your students, to know what things they like or don't like, or what kind of learning styles work for them or don't.\n",
            "\n",
            "---\n",
            "\n",
            "Target Sentence: 'And it's a continuous process of student agency.'\n",
            "Similar Sentence: 'But rather than me doing that it's the students doing that, you know.' (Similarity: 0.53)\n",
            "Context:\n",
            "I'm better at that with some students rather than others you know.\n",
            "And one of those goals is for students to take ownership of their learning.\n",
            " The student ownership component is, I feel like that is always the most difficult thing to get across in the classroom.\n",
            "But rather than me doing that it's the students doing that, you know.\n",
            " You've described this flow where students are coming in, they're starting, you know, , they start, you know, doing what they need to, and you're there kind of supporting them.\n",
            " being able to, you know, delegate to students like, hey, at the end of a class, this is how we get ready for the next class.\n",
            " But then also, our students, my students specifically, in our district, in our town, in our community, they deal with a lot of stuff.\n",
            "\n",
            "---\n",
            "\n",
            "Target Sentence: 'And it's a continuous process of student agency.'\n",
            "Similar Sentence: 'And I see that in how my students engage with school.' (Similarity: 0.53)\n",
            "Context:\n",
            "So , in Empower, one goal that we have is for helping students take ownership of their learning.\n",
            "I don't think that we can get every student to take meaningful ownership over their learning right now, or not right now, just in general, because there are so many things\n",
            " So what other, I think you kind of touched on this, what barriers are you facing as a teacher to help make that happen in your classroom?\n",
            "And I see that in how my students engage with school.\n",
            "I have to focus on the students who are still giving me some effort.\n",
            " have to inherently have the capacity to care about something in the classroom before that can happen.\n",
            "I think that one thing, in the moments that I have seen really good student engagement and student ownership in my class, and sometimes this works and sometimes this doesn't, I'm not going to pretend like every, like the things that have worked, right, but don't always work\n",
            "\n",
            "---\n",
            "\n",
            "Target Sentence: 'And it's a continuous process of student agency.'\n",
            "Similar Sentence: ' more participation on the student side of things.' (Similarity: 0.52)\n",
            "Context:\n",
            " You've described this flow where students are coming in, they're starting, you know, , they start, you know, doing what they need to, and you're there kind of supporting them.\n",
            " being able to, you know, delegate to students like, hey, at the end of a class, this is how we get ready for the next class.\n",
            " But then also, our students, my students specifically, in our district, in our town, in our community, they deal with a lot of stuff.\n",
            " more participation on the student side of things.\n",
            " how students learn best and how to also give them grade level content, but also meet them where they're at to grow them.\n",
            "All students don't learn the same.\n",
            "And you have to get to know your students to figure out how they learn.\n",
            "\n",
            "---\n",
            "\n",
            "Target Sentence: 'And it's a continuous process of student agency.'\n",
            "Similar Sentence: ', to the individual students.' (Similarity: 0.52)\n",
            "Context:\n",
            "And then gradually figure out how to take those away for some students and figure out where I need to push more with other students, like sort of add more supports for some students.\n",
            "There are students who are going to sit in my class every day, right?\n",
            "Like, to the individual students.\n",
            ", to the individual students.\n",
            " at the expense of teaching important content and giving important examples and anecdotes.\n",
            " have really lofty discussions that end up having no real bearing on what happens in the classroom.\n",
            "Teach a group of students.\n",
            "\n",
            "---\n",
            "\n",
            "Target Sentence: 'And it's a continuous process of student agency.'\n",
            "Similar Sentence: ' The student ownership component is, I feel like that is always the most difficult thing to get across in the classroom.' (Similarity: 0.52)\n",
            "Context:\n",
            " I try to, but sometimes we spend so long on the next lesson, which is about that one student's question.\n",
            "I'm better at that with some students rather than others you know.\n",
            "And one of those goals is for students to take ownership of their learning.\n",
            " The student ownership component is, I feel like that is always the most difficult thing to get across in the classroom.\n",
            "But rather than me doing that it's the students doing that, you know.\n",
            " You've described this flow where students are coming in, they're starting, you know, , they start, you know, doing what they need to, and you're there kind of supporting them.\n",
            " being able to, you know, delegate to students like, hey, at the end of a class, this is how we get ready for the next class.\n",
            "\n",
            "---\n",
            "\n",
            "Target Sentence: 'And it's a continuous process of student agency.'\n",
            "Similar Sentence: ' You've described this flow where students are coming in, they're starting, you know, , they start, you know, doing what they need to, and you're there kind of supporting them.' (Similarity: 0.51)\n",
            "Context:\n",
            "And one of those goals is for students to take ownership of their learning.\n",
            " The student ownership component is, I feel like that is always the most difficult thing to get across in the classroom.\n",
            "But rather than me doing that it's the students doing that, you know.\n",
            " You've described this flow where students are coming in, they're starting, you know, , they start, you know, doing what they need to, and you're there kind of supporting them.\n",
            " being able to, you know, delegate to students like, hey, at the end of a class, this is how we get ready for the next class.\n",
            " But then also, our students, my students specifically, in our district, in our town, in our community, they deal with a lot of stuff.\n",
            " more participation on the student side of things.\n",
            "\n",
            "---\n",
            "\n",
            "Target Sentence: 'And it's a continuous process of student agency.'\n",
            "Similar Sentence: ' , to really make things work for those students.' (Similarity: 0.51)\n",
            "Context:\n",
            "So in thinking about kind of those types of activities or scenarios where students are taking ownership of their learning, what do you think is needed in order to make that happen?\n",
            " you have to know your students.\n",
            "And you have to be a good enough teacher to care about your students, to know what things they like or don't like, or what kind of learning styles work for them or don't.\n",
            " , to really make things work for those students.\n",
            "And like being able to know your students well enough to know when it's not working.\n",
            " where students take ownership of their learning?\n",
            " give students ownership in their learning?\n",
            "\n",
            "---\n",
            "\n",
            "Target Sentence: 'And it's a continuous process of student agency.'\n",
            "Similar Sentence: ' where students take ownership of their learning?' (Similarity: 0.50)\n",
            "Context:\n",
            "And you have to be a good enough teacher to care about your students, to know what things they like or don't like, or what kind of learning styles work for them or don't.\n",
            " , to really make things work for those students.\n",
            "And like being able to know your students well enough to know when it's not working.\n",
            " where students take ownership of their learning?\n",
            " give students ownership in their learning?\n",
            " What do you think are barriers and challenges that students are facing when you're asking them to engage in these types of lessons?\n",
            "The students are great.\n",
            "\n",
            "---\n",
            "\n",
            "Total similar sentences found: 13\n",
            "Highest similarity score: 0.59\n",
            "\n",
            "\n",
            "Target Sentence: 'I noticed that all these projects were student creation, not consumption, which I think is phenomenal.'\n",
            "Similar Sentence: ' more participation on the student side of things.' (Similarity: 0.59)\n",
            "Context:\n",
            " You've described this flow where students are coming in, they're starting, you know, , they start, you know, doing what they need to, and you're there kind of supporting them.\n",
            " being able to, you know, delegate to students like, hey, at the end of a class, this is how we get ready for the next class.\n",
            " But then also, our students, my students specifically, in our district, in our town, in our community, they deal with a lot of stuff.\n",
            " more participation on the student side of things.\n",
            " how students learn best and how to also give them grade level content, but also meet them where they're at to grow them.\n",
            "All students don't learn the same.\n",
            "And you have to get to know your students to figure out how they learn.\n",
            "\n",
            "---\n",
            "\n",
            "Target Sentence: 'I noticed that all these projects were student creation, not consumption, which I think is phenomenal.'\n",
            "Similar Sentence: 'So in this project, one goal we have is for students to take ownership of their learning.' (Similarity: 0.54)\n",
            "Context:\n",
            " What do you think are barriers and challenges that students are facing when you're asking them to engage in these types of lessons?\n",
            "The students are great.\n",
            " do that lesson, but do it in a more interactive way just to try to engage your students.\n",
            "So in this project, one goal we have is for students to take ownership of their learning.\n",
            "So for you, like students taking ownership of their learning looks like them having kind of like a light bulb moment of understanding a topic or making an extra effort to improve a grade or to do better on an assignment.\n",
            " For the students or for me?\n",
            "For the students.\n",
            "\n",
            "---\n",
            "\n",
            "Target Sentence: 'I noticed that all these projects were student creation, not consumption, which I think is phenomenal.'\n",
            "Similar Sentence: 'So in this project, one goal we have is for students to take ownership of their learning.' (Similarity: 0.54)\n",
            "Context:\n",
            "For the students.\n",
            " the way students are motivated and engaged.\n",
            "So my professional learning goals are typically usually finding ways to engage and motivate students in an authentic way.\n",
            "So in this project, one goal we have is for students to take ownership of their learning.\n",
            "Can you, can you describe to me like a specific instance when you saw students taking ownership of their learning?\n",
            " you've seen students taking ownership of their learning like within your class or like within an activity or something that you were doing as part of the class structure?\n",
            "What do students need?\n",
            "\n",
            "---\n",
            "\n",
            "Target Sentence: 'I noticed that all these projects were student creation, not consumption, which I think is phenomenal.'\n",
            "Similar Sentence: 'So, um, in this project, one goal that we have for students is to take ownership of their learning.' (Similarity: 0.54)\n",
            "Context:\n",
            " how students learn best and how to also give them grade level content, but also meet them where they're at to grow them.\n",
            "All students don't learn the same.\n",
            "And you have to get to know your students to figure out how they learn.\n",
            "So, um, in this project, one goal that we have for students is to take ownership of their learning.\n",
            "What about the students?\n",
            "Your classroom, you are responsible for what you feel like the students need to learn the most.\n",
            "So in this project, one goal that we have for students is to take ownership of their learning.\n",
            "\n",
            "---\n",
            "\n",
            "Target Sentence: 'I noticed that all these projects were student creation, not consumption, which I think is phenomenal.'\n",
            "Similar Sentence: 'So in this project, one goal that we have for students is to take ownership of their learning.' (Similarity: 0.53)\n",
            "Context:\n",
            "So, um, in this project, one goal that we have for students is to take ownership of their learning.\n",
            "What about the students?\n",
            "Your classroom, you are responsible for what you feel like the students need to learn the most.\n",
            "So in this project, one goal that we have for students is to take ownership of their learning.\n",
            "I like to allow students to talk.\n",
            "Then you have other students that have not had that support group, that have not been cheered their whole life, and they're kind of reluctant.\n",
            "And my interests in this project are about teacher epistemologies and how teachers like you think about teaching and learning.\n",
            "\n",
            "---\n",
            "\n",
            "Target Sentence: 'I noticed that all these projects were student creation, not consumption, which I think is phenomenal.'\n",
            "Similar Sentence: 'Can you, can you describe to me like a specific instance when you saw students taking ownership of their learning?' (Similarity: 0.52)\n",
            "Context:\n",
            " the way students are motivated and engaged.\n",
            "So my professional learning goals are typically usually finding ways to engage and motivate students in an authentic way.\n",
            "So in this project, one goal we have is for students to take ownership of their learning.\n",
            "Can you, can you describe to me like a specific instance when you saw students taking ownership of their learning?\n",
            " you've seen students taking ownership of their learning like within your class or like within an activity or something that you were doing as part of the class structure?\n",
            "What do students need?\n",
            " The student themselves is the big part of it, really.\n",
            "\n",
            "---\n",
            "\n",
            "Target Sentence: 'I noticed that all these projects were student creation, not consumption, which I think is phenomenal.'\n",
            "Similar Sentence: ' The student ownership component is, I feel like that is always the most difficult thing to get across in the classroom.' (Similarity: 0.52)\n",
            "Context:\n",
            " I try to, but sometimes we spend so long on the next lesson, which is about that one student's question.\n",
            "I'm better at that with some students rather than others you know.\n",
            "And one of those goals is for students to take ownership of their learning.\n",
            " The student ownership component is, I feel like that is always the most difficult thing to get across in the classroom.\n",
            "But rather than me doing that it's the students doing that, you know.\n",
            " You've described this flow where students are coming in, they're starting, you know, , they start, you know, doing what they need to, and you're there kind of supporting them.\n",
            " being able to, you know, delegate to students like, hey, at the end of a class, this is how we get ready for the next class.\n",
            "\n",
            "---\n",
            "\n",
            "Target Sentence: 'I noticed that all these projects were student creation, not consumption, which I think is phenomenal.'\n",
            "Similar Sentence: ' I wanna ask you more about student ownership of their learning.' (Similarity: 0.52)\n",
            "Context:\n",
            "Then you have other students that have not had that support group, that have not been cheered their whole life, and they're kind of reluctant.\n",
            "And my interests in this project are about teacher epistemologies and how teachers like you think about teaching and learning.\n",
            "And so you're looking for those ways to increase making the curriculum more interactive and helping the students take ownership of their learning.\n",
            " I wanna ask you more about student ownership of their learning.\n",
            "So in thinking about kind of those types of activities or scenarios where students are taking ownership of their learning, what do you think is needed in order to make that happen?\n",
            " you have to know your students.\n",
            "And you have to be a good enough teacher to care about your students, to know what things they like or don't like, or what kind of learning styles work for them or don't.\n",
            "\n",
            "---\n",
            "\n",
            "Target Sentence: 'I noticed that all these projects were student creation, not consumption, which I think is phenomenal.'\n",
            "Similar Sentence: 'I don't think that we can get every student to take meaningful ownership over their learning right now, or not right now, just in general, because there are so many things' (Similarity: 0.50)\n",
            "Context:\n",
            "Like, because you, have you taught in a classroom?\n",
            "Here's the thing that you can do in your classroom.\n",
            "So , in Empower, one goal that we have is for helping students take ownership of their learning.\n",
            "I don't think that we can get every student to take meaningful ownership over their learning right now, or not right now, just in general, because there are so many things\n",
            " So what other, I think you kind of touched on this, what barriers are you facing as a teacher to help make that happen in your classroom?\n",
            "And I see that in how my students engage with school.\n",
            "I have to focus on the students who are still giving me some effort.\n",
            "\n",
            "---\n",
            "\n",
            "Total similar sentences found: 9\n",
            "Highest similarity score: 0.59\n",
            "\n",
            "\n",
            "Total similar sentences found: 0\n",
            "Target Sentence: 'I put the more ownership a student has the harder they tend to work.'\n",
            "Similar Sentence: ' The student ownership component is, I feel like that is always the most difficult thing to get across in the classroom.' (Similarity: 0.77)\n",
            "Context:\n",
            " I try to, but sometimes we spend so long on the next lesson, which is about that one student's question.\n",
            "I'm better at that with some students rather than others you know.\n",
            "And one of those goals is for students to take ownership of their learning.\n",
            " The student ownership component is, I feel like that is always the most difficult thing to get across in the classroom.\n",
            "But rather than me doing that it's the students doing that, you know.\n",
            " You've described this flow where students are coming in, they're starting, you know, , they start, you know, doing what they need to, and you're there kind of supporting them.\n",
            " being able to, you know, delegate to students like, hey, at the end of a class, this is how we get ready for the next class.\n",
            "\n",
            "---\n",
            "\n",
            "Target Sentence: 'I put the more ownership a student has the harder they tend to work.'\n",
            "Similar Sentence: ' give students ownership in their learning?' (Similarity: 0.75)\n",
            "Context:\n",
            " , to really make things work for those students.\n",
            "And like being able to know your students well enough to know when it's not working.\n",
            " where students take ownership of their learning?\n",
            " give students ownership in their learning?\n",
            " What do you think are barriers and challenges that students are facing when you're asking them to engage in these types of lessons?\n",
            "The students are great.\n",
            " do that lesson, but do it in a more interactive way just to try to engage your students.\n",
            "\n",
            "---\n",
            "\n",
            "Target Sentence: 'I put the more ownership a student has the harder they tend to work.'\n",
            "Similar Sentence: ' I wanna ask you more about student ownership of their learning.' (Similarity: 0.74)\n",
            "Context:\n",
            "Then you have other students that have not had that support group, that have not been cheered their whole life, and they're kind of reluctant.\n",
            "And my interests in this project are about teacher epistemologies and how teachers like you think about teaching and learning.\n",
            "And so you're looking for those ways to increase making the curriculum more interactive and helping the students take ownership of their learning.\n",
            " I wanna ask you more about student ownership of their learning.\n",
            "So in thinking about kind of those types of activities or scenarios where students are taking ownership of their learning, what do you think is needed in order to make that happen?\n",
            " you have to know your students.\n",
            "And you have to be a good enough teacher to care about your students, to know what things they like or don't like, or what kind of learning styles work for them or don't.\n",
            "\n",
            "---\n",
            "\n",
            "Target Sentence: 'I put the more ownership a student has the harder they tend to work.'\n",
            "Similar Sentence: 'I don't think that we can get every student to take meaningful ownership over their learning right now, or not right now, just in general, because there are so many things' (Similarity: 0.72)\n",
            "Context:\n",
            "Like, because you, have you taught in a classroom?\n",
            "Here's the thing that you can do in your classroom.\n",
            "So , in Empower, one goal that we have is for helping students take ownership of their learning.\n",
            "I don't think that we can get every student to take meaningful ownership over their learning right now, or not right now, just in general, because there are so many things\n",
            " So what other, I think you kind of touched on this, what barriers are you facing as a teacher to help make that happen in your classroom?\n",
            "And I see that in how my students engage with school.\n",
            "I have to focus on the students who are still giving me some effort.\n",
            "\n",
            "---\n",
            "\n",
            "Target Sentence: 'I put the more ownership a student has the harder they tend to work.'\n",
            "Similar Sentence: 'So in this project, one goal that we have for students is to take ownership of their learning.' (Similarity: 0.69)\n",
            "Context:\n",
            "So, um, in this project, one goal that we have for students is to take ownership of their learning.\n",
            "What about the students?\n",
            "Your classroom, you are responsible for what you feel like the students need to learn the most.\n",
            "So in this project, one goal that we have for students is to take ownership of their learning.\n",
            "I like to allow students to talk.\n",
            "Then you have other students that have not had that support group, that have not been cheered their whole life, and they're kind of reluctant.\n",
            "And my interests in this project are about teacher epistemologies and how teachers like you think about teaching and learning.\n",
            "\n",
            "---\n",
            "\n",
            "Target Sentence: 'I put the more ownership a student has the harder they tend to work.'\n",
            "Similar Sentence: 'So, um, in this project, one goal that we have for students is to take ownership of their learning.' (Similarity: 0.68)\n",
            "Context:\n",
            " how students learn best and how to also give them grade level content, but also meet them where they're at to grow them.\n",
            "All students don't learn the same.\n",
            "And you have to get to know your students to figure out how they learn.\n",
            "So, um, in this project, one goal that we have for students is to take ownership of their learning.\n",
            "What about the students?\n",
            "Your classroom, you are responsible for what you feel like the students need to learn the most.\n",
            "So in this project, one goal that we have for students is to take ownership of their learning.\n",
            "\n",
            "---\n",
            "\n",
            "Target Sentence: 'I put the more ownership a student has the harder they tend to work.'\n",
            "Similar Sentence: ' where students take ownership of their learning?' (Similarity: 0.67)\n",
            "Context:\n",
            "And you have to be a good enough teacher to care about your students, to know what things they like or don't like, or what kind of learning styles work for them or don't.\n",
            " , to really make things work for those students.\n",
            "And like being able to know your students well enough to know when it's not working.\n",
            " where students take ownership of their learning?\n",
            " give students ownership in their learning?\n",
            " What do you think are barriers and challenges that students are facing when you're asking them to engage in these types of lessons?\n",
            "The students are great.\n",
            "\n",
            "---\n",
            "\n",
            "Target Sentence: 'I put the more ownership a student has the harder they tend to work.'\n",
            "Similar Sentence: 'So in this project, one goal we have is for students to take ownership of their learning.' (Similarity: 0.67)\n",
            "Context:\n",
            " What do you think are barriers and challenges that students are facing when you're asking them to engage in these types of lessons?\n",
            "The students are great.\n",
            " do that lesson, but do it in a more interactive way just to try to engage your students.\n",
            "So in this project, one goal we have is for students to take ownership of their learning.\n",
            "So for you, like students taking ownership of their learning looks like them having kind of like a light bulb moment of understanding a topic or making an extra effort to improve a grade or to do better on an assignment.\n",
            " For the students or for me?\n",
            "For the students.\n",
            "\n",
            "---\n",
            "\n",
            "Target Sentence: 'I put the more ownership a student has the harder they tend to work.'\n",
            "Similar Sentence: 'So in this project, one goal we have is for students to take ownership of their learning.' (Similarity: 0.67)\n",
            "Context:\n",
            "For the students.\n",
            " the way students are motivated and engaged.\n",
            "So my professional learning goals are typically usually finding ways to engage and motivate students in an authentic way.\n",
            "So in this project, one goal we have is for students to take ownership of their learning.\n",
            "Can you, can you describe to me like a specific instance when you saw students taking ownership of their learning?\n",
            " you've seen students taking ownership of their learning like within your class or like within an activity or something that you were doing as part of the class structure?\n",
            "What do students need?\n",
            "\n",
            "---\n",
            "\n",
            "Target Sentence: 'I put the more ownership a student has the harder they tend to work.'\n",
            "Similar Sentence: 'Can you, can you describe to me like a specific instance when you saw students taking ownership of their learning?' (Similarity: 0.66)\n",
            "Context:\n",
            " the way students are motivated and engaged.\n",
            "So my professional learning goals are typically usually finding ways to engage and motivate students in an authentic way.\n",
            "So in this project, one goal we have is for students to take ownership of their learning.\n",
            "Can you, can you describe to me like a specific instance when you saw students taking ownership of their learning?\n",
            " you've seen students taking ownership of their learning like within your class or like within an activity or something that you were doing as part of the class structure?\n",
            "What do students need?\n",
            " The student themselves is the big part of it, really.\n",
            "\n",
            "---\n",
            "\n",
            "Target Sentence: 'I put the more ownership a student has the harder they tend to work.'\n",
            "Similar Sentence: 'So for you, like students taking ownership of their learning looks like them having kind of like a light bulb moment of understanding a topic or making an extra effort to improve a grade or to do better on an assignment.' (Similarity: 0.64)\n",
            "Context:\n",
            "The students are great.\n",
            " do that lesson, but do it in a more interactive way just to try to engage your students.\n",
            "So in this project, one goal we have is for students to take ownership of their learning.\n",
            "So for you, like students taking ownership of their learning looks like them having kind of like a light bulb moment of understanding a topic or making an extra effort to improve a grade or to do better on an assignment.\n",
            " For the students or for me?\n",
            "For the students.\n",
            "For the students.\n",
            "\n",
            "---\n",
            "\n",
            "Target Sentence: 'I put the more ownership a student has the harder they tend to work.'\n",
            "Similar Sentence: ' more participation on the student side of things.' (Similarity: 0.64)\n",
            "Context:\n",
            " You've described this flow where students are coming in, they're starting, you know, , they start, you know, doing what they need to, and you're there kind of supporting them.\n",
            " being able to, you know, delegate to students like, hey, at the end of a class, this is how we get ready for the next class.\n",
            " But then also, our students, my students specifically, in our district, in our town, in our community, they deal with a lot of stuff.\n",
            " more participation on the student side of things.\n",
            " how students learn best and how to also give them grade level content, but also meet them where they're at to grow them.\n",
            "All students don't learn the same.\n",
            "And you have to get to know your students to figure out how they learn.\n",
            "\n",
            "---\n",
            "\n",
            "Target Sentence: 'I put the more ownership a student has the harder they tend to work.'\n",
            "Similar Sentence: ' you've seen students taking ownership of their learning like within your class or like within an activity or something that you were doing as part of the class structure?' (Similarity: 0.64)\n",
            "Context:\n",
            "So my professional learning goals are typically usually finding ways to engage and motivate students in an authentic way.\n",
            "So in this project, one goal we have is for students to take ownership of their learning.\n",
            "Can you, can you describe to me like a specific instance when you saw students taking ownership of their learning?\n",
            " you've seen students taking ownership of their learning like within your class or like within an activity or something that you were doing as part of the class structure?\n",
            "What do students need?\n",
            " The student themselves is the big part of it, really.\n",
            "In general, I'm not saying, you know, I'm not saying every student, but there's students that\n",
            "\n",
            "---\n",
            "\n",
            "Target Sentence: 'I put the more ownership a student has the harder they tend to work.'\n",
            "Similar Sentence: 'I think that one thing, in the moments that I have seen really good student engagement and student ownership in my class, and sometimes this works and sometimes this doesn't, I'm not going to pretend like every, like the things that have worked, right, but don't always work' (Similarity: 0.63)\n",
            "Context:\n",
            "And I see that in how my students engage with school.\n",
            "I have to focus on the students who are still giving me some effort.\n",
            " have to inherently have the capacity to care about something in the classroom before that can happen.\n",
            "I think that one thing, in the moments that I have seen really good student engagement and student ownership in my class, and sometimes this works and sometimes this doesn't, I'm not going to pretend like every, like the things that have worked, right, but don't always work\n",
            "I think that classroom community does really help.\n",
            "So do you think as part of Empower that that would be, if a goal of Empower is to create this ownership among students for their learning, do you think that would be helpful?\n",
            " I try to, but sometimes we spend so long on the next lesson, which is about that one student's question.\n",
            "\n",
            "---\n",
            "\n",
            "Target Sentence: 'I put the more ownership a student has the harder they tend to work.'\n",
            "Similar Sentence: 'And one of those goals is for students to take ownership of their learning.' (Similarity: 0.62)\n",
            "Context:\n",
            "So do you think as part of Empower that that would be, if a goal of Empower is to create this ownership among students for their learning, do you think that would be helpful?\n",
            " I try to, but sometimes we spend so long on the next lesson, which is about that one student's question.\n",
            "I'm better at that with some students rather than others you know.\n",
            "And one of those goals is for students to take ownership of their learning.\n",
            " The student ownership component is, I feel like that is always the most difficult thing to get across in the classroom.\n",
            "But rather than me doing that it's the students doing that, you know.\n",
            " You've described this flow where students are coming in, they're starting, you know, , they start, you know, doing what they need to, and you're there kind of supporting them.\n",
            "\n",
            "---\n",
            "\n",
            "Target Sentence: 'I put the more ownership a student has the harder they tend to work.'\n",
            "Similar Sentence: 'And then gradually figure out how to take those away for some students and figure out where I need to push more with other students, like sort of add more supports for some students.' (Similarity: 0.62)\n",
            "Context:\n",
            "I think that's my only role outside of the classroom at the moment.\n",
            "Love teaching.\n",
            " the needs of a few students who definitely need a lot of one-on-one attention with the needs of the rest of the classroom.\n",
            "And then gradually figure out how to take those away for some students and figure out where I need to push more with other students, like sort of add more supports for some students.\n",
            "There are students who are going to sit in my class every day, right?\n",
            "Like, to the individual students.\n",
            ", to the individual students.\n",
            "\n",
            "---\n",
            "\n",
            "Target Sentence: 'I put the more ownership a student has the harder they tend to work.'\n",
            "Similar Sentence: ' The student themselves is the big part of it, really.' (Similarity: 0.61)\n",
            "Context:\n",
            "Can you, can you describe to me like a specific instance when you saw students taking ownership of their learning?\n",
            " you've seen students taking ownership of their learning like within your class or like within an activity or something that you were doing as part of the class structure?\n",
            "What do students need?\n",
            " The student themselves is the big part of it, really.\n",
            "In general, I'm not saying, you know, I'm not saying every student, but there's students that\n",
            "Any other questions or any other thoughts you have about student ownership of learning or the curriculum you're working on that you would want to share with me?\n",
            "\n",
            "---\n",
            "\n",
            "Target Sentence: 'I put the more ownership a student has the harder they tend to work.'\n",
            "Similar Sentence: 'So do you think as part of Empower that that would be, if a goal of Empower is to create this ownership among students for their learning, do you think that would be helpful?' (Similarity: 0.61)\n",
            "Context:\n",
            " have to inherently have the capacity to care about something in the classroom before that can happen.\n",
            "I think that one thing, in the moments that I have seen really good student engagement and student ownership in my class, and sometimes this works and sometimes this doesn't, I'm not going to pretend like every, like the things that have worked, right, but don't always work\n",
            "I think that classroom community does really help.\n",
            "So do you think as part of Empower that that would be, if a goal of Empower is to create this ownership among students for their learning, do you think that would be helpful?\n",
            " I try to, but sometimes we spend so long on the next lesson, which is about that one student's question.\n",
            "I'm better at that with some students rather than others you know.\n",
            "And one of those goals is for students to take ownership of their learning.\n",
            "\n",
            "---\n",
            "\n",
            "Target Sentence: 'I put the more ownership a student has the harder they tend to work.'\n",
            "Similar Sentence: 'So , in Empower, one goal that we have is for helping students take ownership of their learning.' (Similarity: 0.59)\n",
            "Context:\n",
            "I can think about those ideas later, but right now I need to teach this group of students.\n",
            "Like, because you, have you taught in a classroom?\n",
            "Here's the thing that you can do in your classroom.\n",
            "So , in Empower, one goal that we have is for helping students take ownership of their learning.\n",
            "I don't think that we can get every student to take meaningful ownership over their learning right now, or not right now, just in general, because there are so many things\n",
            " So what other, I think you kind of touched on this, what barriers are you facing as a teacher to help make that happen in your classroom?\n",
            "And I see that in how my students engage with school.\n",
            "\n",
            "---\n",
            "\n",
            "Target Sentence: 'I put the more ownership a student has the harder they tend to work.'\n",
            "Similar Sentence: 'So in thinking about kind of those types of activities or scenarios where students are taking ownership of their learning, what do you think is needed in order to make that happen?' (Similarity: 0.59)\n",
            "Context:\n",
            "And my interests in this project are about teacher epistemologies and how teachers like you think about teaching and learning.\n",
            "And so you're looking for those ways to increase making the curriculum more interactive and helping the students take ownership of their learning.\n",
            " I wanna ask you more about student ownership of their learning.\n",
            "So in thinking about kind of those types of activities or scenarios where students are taking ownership of their learning, what do you think is needed in order to make that happen?\n",
            " you have to know your students.\n",
            "And you have to be a good enough teacher to care about your students, to know what things they like or don't like, or what kind of learning styles work for them or don't.\n",
            " , to really make things work for those students.\n",
            "\n",
            "---\n",
            "\n",
            "Target Sentence: 'I put the more ownership a student has the harder they tend to work.'\n",
            "Similar Sentence: ', to the individual students.' (Similarity: 0.58)\n",
            "Context:\n",
            "And then gradually figure out how to take those away for some students and figure out where I need to push more with other students, like sort of add more supports for some students.\n",
            "There are students who are going to sit in my class every day, right?\n",
            "Like, to the individual students.\n",
            ", to the individual students.\n",
            " at the expense of teaching important content and giving important examples and anecdotes.\n",
            " have really lofty discussions that end up having no real bearing on what happens in the classroom.\n",
            "Teach a group of students.\n",
            "\n",
            "---\n",
            "\n",
            "Target Sentence: 'I put the more ownership a student has the harder they tend to work.'\n",
            "Similar Sentence: 'I have to focus on the students who are still giving me some effort.' (Similarity: 0.58)\n",
            "Context:\n",
            "I don't think that we can get every student to take meaningful ownership over their learning right now, or not right now, just in general, because there are so many things\n",
            " So what other, I think you kind of touched on this, what barriers are you facing as a teacher to help make that happen in your classroom?\n",
            "And I see that in how my students engage with school.\n",
            "I have to focus on the students who are still giving me some effort.\n",
            " have to inherently have the capacity to care about something in the classroom before that can happen.\n",
            "I think that one thing, in the moments that I have seen really good student engagement and student ownership in my class, and sometimes this works and sometimes this doesn't, I'm not going to pretend like every, like the things that have worked, right, but don't always work\n",
            "I think that classroom community does really help.\n",
            "\n",
            "---\n",
            "\n",
            "Target Sentence: 'I put the more ownership a student has the harder they tend to work.'\n",
            "Similar Sentence: ' , to really make things work for those students.' (Similarity: 0.57)\n",
            "Context:\n",
            "So in thinking about kind of those types of activities or scenarios where students are taking ownership of their learning, what do you think is needed in order to make that happen?\n",
            " you have to know your students.\n",
            "And you have to be a good enough teacher to care about your students, to know what things they like or don't like, or what kind of learning styles work for them or don't.\n",
            " , to really make things work for those students.\n",
            "And like being able to know your students well enough to know when it's not working.\n",
            " where students take ownership of their learning?\n",
            " give students ownership in their learning?\n",
            "\n",
            "---\n",
            "\n",
            "Target Sentence: 'I put the more ownership a student has the harder they tend to work.'\n",
            "Similar Sentence: 'Like, to the individual students.' (Similarity: 0.57)\n",
            "Context:\n",
            " the needs of a few students who definitely need a lot of one-on-one attention with the needs of the rest of the classroom.\n",
            "And then gradually figure out how to take those away for some students and figure out where I need to push more with other students, like sort of add more supports for some students.\n",
            "There are students who are going to sit in my class every day, right?\n",
            "Like, to the individual students.\n",
            ", to the individual students.\n",
            " at the expense of teaching important content and giving important examples and anecdotes.\n",
            " have really lofty discussions that end up having no real bearing on what happens in the classroom.\n",
            "\n",
            "---\n",
            "\n",
            "Target Sentence: 'I put the more ownership a student has the harder they tend to work.'\n",
            "Similar Sentence: 'Any other questions or any other thoughts you have about student ownership of learning or the curriculum you're working on that you would want to share with me?' (Similarity: 0.56)\n",
            "Context:\n",
            "What do students need?\n",
            " The student themselves is the big part of it, really.\n",
            "In general, I'm not saying, you know, I'm not saying every student, but there's students that\n",
            "Any other questions or any other thoughts you have about student ownership of learning or the curriculum you're working on that you would want to share with me?\n",
            "\n",
            "---\n",
            "\n",
            "Target Sentence: 'I put the more ownership a student has the harder they tend to work.'\n",
            "Similar Sentence: 'I'm better at that with some students rather than others you know.' (Similarity: 0.55)\n",
            "Context:\n",
            "I think that classroom community does really help.\n",
            "So do you think as part of Empower that that would be, if a goal of Empower is to create this ownership among students for their learning, do you think that would be helpful?\n",
            " I try to, but sometimes we spend so long on the next lesson, which is about that one student's question.\n",
            "I'm better at that with some students rather than others you know.\n",
            "And one of those goals is for students to take ownership of their learning.\n",
            " The student ownership component is, I feel like that is always the most difficult thing to get across in the classroom.\n",
            "But rather than me doing that it's the students doing that, you know.\n",
            "\n",
            "---\n",
            "\n",
            "Target Sentence: 'I put the more ownership a student has the harder they tend to work.'\n",
            "Similar Sentence: 'In general, I'm not saying, you know, I'm not saying every student, but there's students that' (Similarity: 0.55)\n",
            "Context:\n",
            " you've seen students taking ownership of their learning like within your class or like within an activity or something that you were doing as part of the class structure?\n",
            "What do students need?\n",
            " The student themselves is the big part of it, really.\n",
            "In general, I'm not saying, you know, I'm not saying every student, but there's students that\n",
            "Any other questions or any other thoughts you have about student ownership of learning or the curriculum you're working on that you would want to share with me?\n",
            "\n",
            "---\n",
            "\n",
            "Target Sentence: 'I put the more ownership a student has the harder they tend to work.'\n",
            "Similar Sentence: 'But rather than me doing that it's the students doing that, you know.' (Similarity: 0.55)\n",
            "Context:\n",
            "I'm better at that with some students rather than others you know.\n",
            "And one of those goals is for students to take ownership of their learning.\n",
            " The student ownership component is, I feel like that is always the most difficult thing to get across in the classroom.\n",
            "But rather than me doing that it's the students doing that, you know.\n",
            " You've described this flow where students are coming in, they're starting, you know, , they start, you know, doing what they need to, and you're there kind of supporting them.\n",
            " being able to, you know, delegate to students like, hey, at the end of a class, this is how we get ready for the next class.\n",
            " But then also, our students, my students specifically, in our district, in our town, in our community, they deal with a lot of stuff.\n",
            "\n",
            "---\n",
            "\n",
            "Target Sentence: 'I put the more ownership a student has the harder they tend to work.'\n",
            "Similar Sentence: 'Your classroom, you are responsible for what you feel like the students need to learn the most.' (Similarity: 0.54)\n",
            "Context:\n",
            "And you have to get to know your students to figure out how they learn.\n",
            "So, um, in this project, one goal that we have for students is to take ownership of their learning.\n",
            "What about the students?\n",
            "Your classroom, you are responsible for what you feel like the students need to learn the most.\n",
            "So in this project, one goal that we have for students is to take ownership of their learning.\n",
            "I like to allow students to talk.\n",
            "Then you have other students that have not had that support group, that have not been cheered their whole life, and they're kind of reluctant.\n",
            "\n",
            "---\n",
            "\n",
            "Target Sentence: 'I put the more ownership a student has the harder they tend to work.'\n",
            "Similar Sentence: 'What about the students?' (Similarity: 0.54)\n",
            "Context:\n",
            "All students don't learn the same.\n",
            "And you have to get to know your students to figure out how they learn.\n",
            "So, um, in this project, one goal that we have for students is to take ownership of their learning.\n",
            "What about the students?\n",
            "Your classroom, you are responsible for what you feel like the students need to learn the most.\n",
            "So in this project, one goal that we have for students is to take ownership of their learning.\n",
            "I like to allow students to talk.\n",
            "\n",
            "---\n",
            "\n",
            "Target Sentence: 'I put the more ownership a student has the harder they tend to work.'\n",
            "Similar Sentence: 'And so you're looking for those ways to increase making the curriculum more interactive and helping the students take ownership of their learning.' (Similarity: 0.54)\n",
            "Context:\n",
            "I like to allow students to talk.\n",
            "Then you have other students that have not had that support group, that have not been cheered their whole life, and they're kind of reluctant.\n",
            "And my interests in this project are about teacher epistemologies and how teachers like you think about teaching and learning.\n",
            "And so you're looking for those ways to increase making the curriculum more interactive and helping the students take ownership of their learning.\n",
            " I wanna ask you more about student ownership of their learning.\n",
            "So in thinking about kind of those types of activities or scenarios where students are taking ownership of their learning, what do you think is needed in order to make that happen?\n",
            " you have to know your students.\n",
            "\n",
            "---\n",
            "\n",
            "Target Sentence: 'I put the more ownership a student has the harder they tend to work.'\n",
            "Similar Sentence: 'And like being able to know your students well enough to know when it's not working.' (Similarity: 0.53)\n",
            "Context:\n",
            " you have to know your students.\n",
            "And you have to be a good enough teacher to care about your students, to know what things they like or don't like, or what kind of learning styles work for them or don't.\n",
            " , to really make things work for those students.\n",
            "And like being able to know your students well enough to know when it's not working.\n",
            " where students take ownership of their learning?\n",
            " give students ownership in their learning?\n",
            " What do you think are barriers and challenges that students are facing when you're asking them to engage in these types of lessons?\n",
            "\n",
            "---\n",
            "\n",
            "Target Sentence: 'I put the more ownership a student has the harder they tend to work.'\n",
            "Similar Sentence: ' you have to know your students.' (Similarity: 0.53)\n",
            "Context:\n",
            "And so you're looking for those ways to increase making the curriculum more interactive and helping the students take ownership of their learning.\n",
            " I wanna ask you more about student ownership of their learning.\n",
            "So in thinking about kind of those types of activities or scenarios where students are taking ownership of their learning, what do you think is needed in order to make that happen?\n",
            " you have to know your students.\n",
            "And you have to be a good enough teacher to care about your students, to know what things they like or don't like, or what kind of learning styles work for them or don't.\n",
            " , to really make things work for those students.\n",
            "And like being able to know your students well enough to know when it's not working.\n",
            "\n",
            "---\n",
            "\n",
            "Target Sentence: 'I put the more ownership a student has the harder they tend to work.'\n",
            "Similar Sentence: ' But then also, our students, my students specifically, in our district, in our town, in our community, they deal with a lot of stuff.' (Similarity: 0.52)\n",
            "Context:\n",
            "But rather than me doing that it's the students doing that, you know.\n",
            " You've described this flow where students are coming in, they're starting, you know, , they start, you know, doing what they need to, and you're there kind of supporting them.\n",
            " being able to, you know, delegate to students like, hey, at the end of a class, this is how we get ready for the next class.\n",
            " But then also, our students, my students specifically, in our district, in our town, in our community, they deal with a lot of stuff.\n",
            " more participation on the student side of things.\n",
            " how students learn best and how to also give them grade level content, but also meet them where they're at to grow them.\n",
            "All students don't learn the same.\n",
            "\n",
            "---\n",
            "\n",
            "Target Sentence: 'I put the more ownership a student has the harder they tend to work.'\n",
            "Similar Sentence: 'For the students.' (Similarity: 0.52)\n",
            "Context:\n",
            "So in this project, one goal we have is for students to take ownership of their learning.\n",
            "So for you, like students taking ownership of their learning looks like them having kind of like a light bulb moment of understanding a topic or making an extra effort to improve a grade or to do better on an assignment.\n",
            " For the students or for me?\n",
            "For the students.\n",
            "For the students.\n",
            " the way students are motivated and engaged.\n",
            "So my professional learning goals are typically usually finding ways to engage and motivate students in an authentic way.\n",
            "\n",
            "---\n",
            "\n",
            "Target Sentence: 'I put the more ownership a student has the harder they tend to work.'\n",
            "Similar Sentence: 'For the students.' (Similarity: 0.52)\n",
            "Context:\n",
            "So for you, like students taking ownership of their learning looks like them having kind of like a light bulb moment of understanding a topic or making an extra effort to improve a grade or to do better on an assignment.\n",
            " For the students or for me?\n",
            "For the students.\n",
            "For the students.\n",
            " the way students are motivated and engaged.\n",
            "So my professional learning goals are typically usually finding ways to engage and motivate students in an authentic way.\n",
            "So in this project, one goal we have is for students to take ownership of their learning.\n",
            "\n",
            "---\n",
            "\n",
            "Target Sentence: 'I put the more ownership a student has the harder they tend to work.'\n",
            "Similar Sentence: 'What do students need?' (Similarity: 0.50)\n",
            "Context:\n",
            "So in this project, one goal we have is for students to take ownership of their learning.\n",
            "Can you, can you describe to me like a specific instance when you saw students taking ownership of their learning?\n",
            " you've seen students taking ownership of their learning like within your class or like within an activity or something that you were doing as part of the class structure?\n",
            "What do students need?\n",
            " The student themselves is the big part of it, really.\n",
            "In general, I'm not saying, you know, I'm not saying every student, but there's students that\n",
            "Any other questions or any other thoughts you have about student ownership of learning or the curriculum you're working on that you would want to share with me?\n",
            "\n",
            "---\n",
            "\n",
            "Target Sentence: 'I put the more ownership a student has the harder they tend to work.'\n",
            "Similar Sentence: ' being able to, you know, delegate to students like, hey, at the end of a class, this is how we get ready for the next class.' (Similarity: 0.50)\n",
            "Context:\n",
            " The student ownership component is, I feel like that is always the most difficult thing to get across in the classroom.\n",
            "But rather than me doing that it's the students doing that, you know.\n",
            " You've described this flow where students are coming in, they're starting, you know, , they start, you know, doing what they need to, and you're there kind of supporting them.\n",
            " being able to, you know, delegate to students like, hey, at the end of a class, this is how we get ready for the next class.\n",
            " But then also, our students, my students specifically, in our district, in our town, in our community, they deal with a lot of stuff.\n",
            " more participation on the student side of things.\n",
            " how students learn best and how to also give them grade level content, but also meet them where they're at to grow them.\n",
            "\n",
            "---\n",
            "\n",
            "Total similar sentences found: 38\n",
            "Highest similarity score: 0.77\n",
            "\n",
            "\n",
            "Total similar sentences found: 0\n"
          ]
        }
      ],
      "source": [
        "import numpy as np\n",
        "from sentence_transformers import SentenceTransformer, util\n",
        "\n",
        "# Load a pre-trained sentence transformer model\n",
        "model = SentenceTransformer('all-MiniLM-L6-v2')\n",
        "\n",
        "# Example corpus and target sentences\n",
        "corpus = sentences\n",
        "\n",
        "# Target sentences whose similar sentences you want to find in the corpus\n",
        "target_sentences = [\"Where students drive the science.\",\n",
        "                    \"When its technically student led.\",\n",
        "                    \"And it's a continuous process of student agency.\",\n",
        "                    \"I noticed that all these projects were student creation, not consumption, which I think is phenomenal.\",\n",
        "                    \"Because a lot of these are giving the kids the ability to express themselves and show something about themselves and their vision.\",\n",
        "                    \"I put the more ownership a student has the harder they tend to work.\",\n",
        "                    \"And they're not just trying to get to the end of it they're actually enjoying, enjoying the process.\"\n",
        "                    ]\n",
        "\n",
        "# Compute embeddings for the corpus and the target sentences\n",
        "corpus_embeddings = model.encode(corpus)\n",
        "target_embeddings = model.encode(target_sentences)\n",
        "\n",
        "# Set a similarity threshold\n",
        "similarity_threshold = 0.5\n",
        "\n",
        "# Find and print similar sentences along with context\n",
        "for target, target_embedding in zip(target_sentences, target_embeddings):\n",
        "    # Compute cosine similarities\n",
        "    cos_sim = util.cos_sim(target_embedding, corpus_embeddings)[0]\n",
        "\n",
        "    # Collect all relevant results above the threshold\n",
        "    results = []\n",
        "    for idx, similarity in enumerate(cos_sim):\n",
        "        if similarity > similarity_threshold:\n",
        "            results.append((similarity, idx))\n",
        "\n",
        "    # Sort results by similarity score in descending order\n",
        "    results.sort(key=lambda x: x[0], reverse=True)\n",
        "\n",
        "    # Print results\n",
        "    for similarity, idx in results:\n",
        "        print(f\"Target Sentence: '{target}'\")\n",
        "        print(f\"Similar Sentence: '{corpus[idx]}' (Similarity: {similarity:.2f})\")\n",
        "        # Print context: 3 sentences before and after\n",
        "        context_start = max(0, idx - 3)\n",
        "        context_end = min(len(corpus), idx + 4)\n",
        "        context = corpus[context_start:context_end]\n",
        "        print(\"Context:\")\n",
        "        for context_sentence in context:\n",
        "            print(context_sentence)\n",
        "        print(\"\\n---\\n\")\n",
        "\n",
        "    # Print total count and maximum similarity after processing all similarities for a target\n",
        "    print(f\"Total similar sentences found: {len(results)}\")\n",
        "    if results:\n",
        "        print(f\"Highest similarity score: {results[0][0]:.2f}\\n\\n\")\n"
      ]
    },
    {
      "cell_type": "markdown",
      "metadata": {
        "id": "GxWm2KB3tx63"
      },
      "source": [
        "## Save BERTopic Model"
      ]
    },
    {
      "cell_type": "code",
      "execution_count": null,
      "metadata": {
        "id": "r2LVeYfFt1Qs"
      },
      "outputs": [],
      "source": [
        "topic_model = BERTopic().fit(sentences)\n",
        "\n",
        "# Method 1 - safetensors\n",
        "embedding_model = \"sentence-transformers/all-MiniLM-L6-v2\"\n",
        "topic_model.save(\"data/outputFiles/output_models/GSQmodel_dir\", serialization=\"safetensors\", save_ctfidf=True, save_embedding_model=embedding_model)\n",
        "\n",
        "# # Method 2 - pytorch\n",
        "# embedding_model = \"sentence-transformers/all-MiniLM-L6-v2\"\n",
        "# topic_model.save(\"path/to/my/model_dir\", serialization=\"pytorch\", save_ctfidf=True, save_embedding_model=embedding_model)\n",
        "\n",
        "# # Method 3 - pickle\n",
        "# topic_model.save(\"my_model\", serialization=\"pickle\")"
      ]
    },
    {
      "cell_type": "code",
      "execution_count": null,
      "metadata": {
        "id": "XKJw6F43uDJg"
      },
      "outputs": [],
      "source": [
        "import openai\n",
        "from bertopic.representation import OpenAI\n",
        "\n",
        "# Fine-tune topic representations with GPT\n",
        "client = openai.OpenAI(api_key=\"sk-...\")\n",
        "representation_model = OpenAI(client, model=\"gpt-3.5-turbo\", chat=True)\n",
        "topic_model = BERTopic(representation_model=representation_model)"
      ]
    },
    {
      "cell_type": "markdown",
      "metadata": {
        "id": "4vX3wCIot-Fn"
      },
      "source": [
        "## Load BERTopic Model"
      ]
    },
    {
      "cell_type": "code",
      "execution_count": null,
      "metadata": {
        "id": "rLZwlLYut9OG"
      },
      "outputs": [],
      "source": [
        "# Load from directory\n",
        "loaded_model = BERTopic.load(\"path/to/my/model_dir\")\n",
        "\n",
        "# # Load from file\n",
        "# loaded_model = BERTopic.load(\"my_model\")\n",
        "\n",
        "# # Load from HuggingFace\n",
        "# loaded_model = BERTopic.load(\"MaartenGr/BERTopic_Wikipedia\")"
      ]
    },
    {
      "cell_type": "markdown",
      "metadata": {
        "id": "mxdK4hWv5rIC"
      },
      "source": [
        "## Extracting Phrases"
      ]
    },
    {
      "cell_type": "markdown",
      "metadata": {
        "id": "eAXVctnGBY6X"
      },
      "source": [
        "### Verb phrases"
      ]
    },
    {
      "cell_type": "code",
      "execution_count": 38,
      "metadata": {
        "colab": {
          "base_uri": "https://localhost:8080/"
        },
        "id": "NvKogsWhApZb",
        "outputId": "db6022ec-e450-47ab-f4bd-f64e33b01640"
      },
      "outputs": [
        {
          "name": "stdout",
          "output_type": "stream",
          "text": [
            "Love teaching\n",
            "need to push\n",
            "going to sit\n",
            "need to teach\n",
            "help make\n",
            "have to focus\n",
            "going to pretend\n",
            "have to get\n",
            "get to know\n",
            "need to learn\n",
            "like to allow\n",
            "increase making\n",
            "have to know\n",
            "try to engage\n",
            "want to share\n",
            "Total verb phrases count across all documents: 15\n"
          ]
        }
      ],
      "source": [
        "import spacy\n",
        "from spacy.matcher import Matcher\n",
        "import pandas as pd\n",
        "import os\n",
        "\n",
        "# Load the spaCy model\n",
        "nlp = spacy.load(\"en_core_web_trf\")\n",
        "matcher = Matcher(nlp.vocab)\n",
        "\n",
        "# Define the directory containing the CSV files\n",
        "directory_path = 'data/Interviews'\n",
        "\n",
        "# Define the pattern for verb phrases\n",
        "pattern = [\n",
        "    {\"POS\": \"VERB\"},\n",
        "    {\"POS\": \"ADV\", \"OP\": \"?\"},\n",
        "    {\"POS\": \"PART\", \"OP\": \"?\"},\n",
        "    {\"POS\": \"VERB\", \"OP\": \"+\"}\n",
        "]\n",
        "\n",
        "# Add the pattern to the matcher\n",
        "matcher.add(\"VERB_PHRASE\", [pattern])\n",
        "\n",
        "# Variable to track the total count of verb phrases across all files\n",
        "total_verb_phrases_count = 0\n",
        "\n",
        "# Iterate over each file in the directory\n",
        "for filename in os.listdir(directory_path):\n",
        "    if filename.endswith('.csv'):\n",
        "        file_path = os.path.join(directory_path, filename)\n",
        "        df = pd.read_csv(file_path)\n",
        "\n",
        "        # Assume the column containing text is named 'text'\n",
        "        documents = df['text'].tolist()\n",
        "\n",
        "        # Process each document to find verb phrases\n",
        "        for text in documents:\n",
        "            doc = nlp(text)\n",
        "            matches = matcher(doc)\n",
        "            verb_phrases = [doc[start:end].text for match_id, start, end in matches]\n",
        "\n",
        "            # Update the total count\n",
        "            total_verb_phrases_count += len(verb_phrases)\n",
        "\n",
        "            # Print each verb phrase found\n",
        "            for phrase in verb_phrases:\n",
        "                print(phrase)\n",
        "\n",
        "            # Print the total count of verb phrases for each text\n",
        "            # print(f\"Number of verb phrases in '{filename}': {len(verb_phrases)}\\n\")\n",
        "\n",
        "# Print the cumulative total count of all verb phrases found\n",
        "print(f\"Total verb phrases count across all documents: {total_verb_phrases_count}\")\n",
        "\n"
      ]
    },
    {
      "cell_type": "markdown",
      "metadata": {
        "id": "mzern_g6BmAW"
      },
      "source": [
        "### Noun Phrases"
      ]
    },
    {
      "cell_type": "code",
      "execution_count": 39,
      "metadata": {
        "colab": {
          "base_uri": "https://localhost:8080/"
        },
        "id": "BMK9afqFBfbV",
        "outputId": "9bb383e3-c2bb-486d-9cbd-c97df05da27a"
      },
      "outputs": [
        {
          "name": "stdout",
          "output_type": "stream",
          "text": [
            "only role\n",
            "role\n",
            "the classroom\n",
            "classroom\n",
            "the moment\n",
            "moment\n",
            "the needs\n",
            "needs\n",
            "a few students\n",
            "few students\n",
            "students\n",
            "a lot\n",
            "lot\n",
            "attention\n",
            "the needs\n",
            "needs\n",
            "the rest\n",
            "rest\n",
            "the classroom\n",
            "classroom\n",
            "some students\n",
            "students\n",
            "other students\n",
            "students\n",
            "more supports\n",
            "supports\n",
            "some students\n",
            "students\n",
            "students\n",
            "class\n",
            "every day\n",
            "day\n",
            "the individual students\n",
            "individual students\n",
            "students\n",
            "the individual students\n",
            "individual students\n",
            "students\n",
            "the expense\n",
            "expense\n",
            "important content\n",
            "content\n",
            "important examples\n",
            "examples\n",
            "anecdotes\n",
            "lofty discussions\n",
            "discussions\n",
            "no real bearing\n",
            "real bearing\n",
            "bearing\n",
            "the classroom\n",
            "classroom\n",
            "a group\n",
            "group\n",
            "students\n",
            "those ideas\n",
            "ideas\n",
            "this group\n",
            "group\n",
            "students\n",
            "a classroom\n",
            "classroom\n",
            "the thing\n",
            "thing\n",
            "classroom\n",
            "goal\n",
            "students\n",
            "ownership\n",
            "learning\n",
            "every student\n",
            "student\n",
            "meaningful ownership\n",
            "ownership\n",
            "learning\n",
            "many things\n",
            "things\n",
            "what barriers\n",
            "barriers\n",
            "a teacher\n",
            "teacher\n",
            "classroom\n",
            "students\n",
            "school\n",
            "the students\n",
            "students\n",
            "some effort\n",
            "effort\n",
            "the capacity\n",
            "capacity\n",
            "the classroom\n",
            "classroom\n",
            "thing\n",
            "the moments\n",
            "moments\n",
            "good student\n",
            "student\n",
            "good student engagement\n",
            "student engagement\n",
            "engagement\n",
            "student\n",
            "student ownership\n",
            "ownership\n",
            "class\n",
            "the things\n",
            "things\n",
            "that classroom\n",
            "classroom\n",
            "that classroom community\n",
            "classroom community\n",
            "community\n",
            "part\n",
            "a goal\n",
            "goal\n",
            "this ownership\n",
            "ownership\n",
            "students\n",
            "learning\n",
            "the next lesson\n",
            "next lesson\n",
            "lesson\n",
            "student\n",
            "question\n",
            "some students\n",
            "students\n",
            "others\n",
            "those goals\n",
            "goals\n",
            "students\n",
            "ownership\n",
            "learning\n",
            "The student\n",
            "student\n",
            "The student ownership\n",
            "student ownership\n",
            "ownership\n",
            "The student ownership component\n",
            "student ownership component\n",
            "ownership component\n",
            "component\n",
            "difficult thing\n",
            "thing\n",
            "the classroom\n",
            "classroom\n",
            "the students\n",
            "students\n",
            "this flow\n",
            "flow\n",
            "students\n",
            "students\n",
            "the end\n",
            "end\n",
            "a class\n",
            "class\n",
            "the next class\n",
            "next class\n",
            "class\n",
            "students\n",
            "students\n",
            "district\n",
            "town\n",
            "community\n",
            "a lot\n",
            "lot\n",
            "stuff\n",
            "more participation\n",
            "participation\n",
            "the student\n",
            "student\n",
            "the student side\n",
            "student side\n",
            "side\n",
            "things\n",
            "students\n",
            "grade\n",
            "grade level\n",
            "level\n",
            "grade level content\n",
            "level content\n",
            "content\n",
            "All students\n",
            "students\n",
            "students\n",
            "this project\n",
            "project\n",
            "goal\n",
            "students\n",
            "ownership\n",
            "learning\n",
            "the students\n",
            "students\n",
            "classroom\n",
            "the students\n",
            "students\n",
            "this project\n",
            "project\n",
            "goal\n",
            "students\n",
            "ownership\n",
            "learning\n",
            "students\n",
            "other students\n",
            "students\n",
            "that support\n",
            "support\n",
            "that support group\n",
            "support group\n",
            "group\n",
            "whole life\n",
            "life\n",
            "interests\n",
            "this project\n",
            "project\n",
            "teacher\n",
            "teacher epistemologies\n",
            "epistemologies\n",
            "teachers\n",
            "those ways\n",
            "ways\n",
            "the curriculum\n",
            "curriculum\n",
            "the students\n",
            "students\n",
            "ownership\n",
            "learning\n",
            "student\n",
            "student ownership\n",
            "ownership\n",
            "learning\n",
            "those types\n",
            "types\n",
            "activities\n",
            "scenarios\n",
            "students\n",
            "ownership\n",
            "learning\n",
            "order\n",
            "students\n",
            "a good enough teacher\n",
            "good enough teacher\n",
            "enough teacher\n",
            "teacher\n",
            "students\n",
            "what things\n",
            "things\n",
            "what kind\n",
            "kind\n",
            "learning\n",
            "learning styles\n",
            "styles\n",
            "things\n",
            "those students\n",
            "students\n",
            "students\n",
            "students\n",
            "ownership\n",
            "learning\n",
            "students\n",
            "students ownership\n",
            "ownership\n",
            "learning\n",
            "barriers\n",
            "challenges\n",
            "students\n",
            "these types\n",
            "types\n",
            "lessons\n",
            "The students\n",
            "students\n",
            "that lesson\n",
            "lesson\n",
            "interactive way\n",
            "way\n",
            "students\n",
            "this project\n",
            "project\n",
            "goal\n",
            "students\n",
            "ownership\n",
            "learning\n",
            "students\n",
            "ownership\n",
            "learning\n",
            "a light\n",
            "light\n",
            "a light bulb\n",
            "light bulb\n",
            "bulb\n",
            "a light bulb moment\n",
            "light bulb moment\n",
            "bulb moment\n",
            "moment\n",
            "a topic\n",
            "topic\n",
            "an extra effort\n",
            "extra effort\n",
            "effort\n",
            "a grade\n",
            "grade\n",
            "an assignment\n",
            "assignment\n",
            "the students\n",
            "students\n",
            "the students\n",
            "students\n",
            "the students\n",
            "students\n",
            "the way\n",
            "way\n",
            "the way students\n",
            "way students\n",
            "students\n",
            "professional learning\n",
            "learning\n",
            "professional learning goals\n",
            "learning goals\n",
            "goals\n",
            "ways\n",
            "students\n",
            "an authentic way\n",
            "authentic way\n",
            "way\n",
            "this project\n",
            "project\n",
            "goal\n",
            "students\n",
            "ownership\n",
            "learning\n",
            "a specific instance\n",
            "specific instance\n",
            "instance\n",
            "students\n",
            "ownership\n",
            "learning\n",
            "students\n",
            "ownership\n",
            "learning\n",
            "class\n",
            "an activity\n",
            "activity\n",
            "part\n",
            "the class\n",
            "class\n",
            "the class structure\n",
            "class structure\n",
            "structure\n",
            "students\n",
            "The student\n",
            "student\n",
            "the big part\n",
            "big part\n",
            "part\n",
            "every student\n",
            "student\n",
            "students\n",
            "Any other questions\n",
            "other questions\n",
            "questions\n",
            "any other thoughts\n",
            "other thoughts\n",
            "thoughts\n",
            "student\n",
            "student ownership\n",
            "ownership\n",
            "learning\n",
            "the curriculum\n",
            "curriculum\n",
            "Total noun phrases count across all documents: 366\n"
          ]
        }
      ],
      "source": [
        "import spacy\n",
        "from spacy.matcher import Matcher\n",
        "import pandas as pd\n",
        "import os\n",
        "\n",
        "# Load the spaCy model\n",
        "nlp = spacy.load(\"en_core_web_trf\")\n",
        "matcher = Matcher(nlp.vocab)\n",
        "\n",
        "# Define the directory containing the CSV files\n",
        "directory_path = 'data/Interviews'\n",
        "\n",
        "# Define the pattern for noun phrases\n",
        "pattern = [\n",
        "    {\"POS\": \"DET\", \"OP\": \"?\"},  # Optional determiner\n",
        "    {\"POS\": \"ADJ\", \"OP\": \"*\"},  # Any number of adjectives\n",
        "    {\"POS\": \"NOUN\", \"OP\": \"+\"}  # One or more nouns\n",
        "]\n",
        "\n",
        "# Add the pattern to the matcher\n",
        "matcher.add(\"NOUN_PHRASE\", [pattern])\n",
        "\n",
        "# Variable to track the total count of noun phrases across all files\n",
        "total_noun_phrases_count = 0\n",
        "\n",
        "# Iterate over each file in the directory\n",
        "for filename in os.listdir(directory_path):\n",
        "    if filename.endswith('.csv'):\n",
        "        file_path = os.path.join(directory_path, filename)\n",
        "        df = pd.read_csv(file_path)\n",
        "\n",
        "        # Assume the column containing text is named 'text'\n",
        "        documents = df['text'].tolist()\n",
        "\n",
        "        # Process each document to find noun phrases\n",
        "        for text in documents:\n",
        "            doc = nlp(text)\n",
        "            matches = matcher(doc)\n",
        "            noun_phrases = [doc[start:end].text for match_id, start, end in matches]\n",
        "\n",
        "            # Update the total count\n",
        "            total_noun_phrases_count += len(noun_phrases)\n",
        "\n",
        "            # Print each noun phrase found\n",
        "            for phrase in noun_phrases:\n",
        "                print(phrase)\n",
        "\n",
        "            # Print the total count of noun phrases for each text\n",
        "            # print(f\"Number of noun phrases in '{filename}': {len(noun_phrases)}\\n\")\n",
        "\n",
        "# Print the cumulative total count of all noun phrases found\n",
        "print(f\"Total noun phrases count across all documents: {total_noun_phrases_count}\")\n"
      ]
    },
    {
      "cell_type": "markdown",
      "metadata": {
        "id": "ro3NqeR3CSkG"
      },
      "source": [
        "### Verb-object pairs"
      ]
    },
    {
      "cell_type": "code",
      "execution_count": 40,
      "metadata": {
        "colab": {
          "base_uri": "https://localhost:8080/"
        },
        "id": "fc247VKUCfeX",
        "outputId": "2693c735-8db6-4ff4-8146-0c84ee212e15"
      },
      "outputs": [
        {
          "name": "stdout",
          "output_type": "stream",
          "text": [
            "need a lot\n",
            "add more supports\n",
            "are students\n",
            "teaching important content\n",
            "giving important examples\n",
            "having no real bearing\n",
            "Teach a group\n",
            "teach this group\n",
            "helping students\n",
            "take ownership\n",
            "get every student\n",
            "take meaningful ownership\n",
            "have the capacity\n",
            "think that classroom\n",
            "think that classroom community\n",
            "create this ownership\n",
            "take ownership\n",
            "described this flow\n",
            "take ownership\n",
            "take ownership\n",
            "allow students\n",
            "have other students\n",
            "had that support\n",
            "had that support group\n",
            "making the curriculum\n",
            "helping the students\n",
            "take ownership\n",
            "taking ownership\n",
            "know what things\n",
            "make things\n",
            "take ownership\n",
            "give students\n",
            "give students ownership\n",
            "do that lesson\n",
            "take ownership\n",
            "taking ownership\n",
            "understanding a topic\n",
            "making an extra effort\n",
            "improve a grade\n",
            "finding ways\n",
            "motivate students\n",
            "take ownership\n",
            "saw students\n",
            "taking ownership\n",
            "seen students\n",
            "taking ownership\n",
            "saying every student\n",
            "'s students\n",
            "Total verb-object pairs count across all documents: 48\n"
          ]
        }
      ],
      "source": [
        "import spacy\n",
        "from spacy.matcher import Matcher\n",
        "import pandas as pd\n",
        "import os\n",
        "\n",
        "# Load the spaCy model\n",
        "nlp = spacy.load(\"en_core_web_trf\")\n",
        "matcher = Matcher(nlp.vocab)\n",
        "\n",
        "# Define the directory containing the CSV files\n",
        "directory_path = 'data/Interviews'\n",
        "\n",
        "# Define the pattern for verb-object pairs\n",
        "pattern = [\n",
        "    {\"POS\": \"VERB\"},             # Verb\n",
        "    {\"POS\": \"DET\", \"OP\": \"?\"},   # Optional determiner\n",
        "    {\"POS\": \"ADJ\", \"OP\": \"*\"},   # Any number of adjectives\n",
        "    {\"POS\": \"NOUN\", \"OP\": \"+\"}   # One or more nouns (object)\n",
        "]\n",
        "\n",
        "# Add the pattern to the matcher\n",
        "matcher.add(\"VERB_OBJECT_PAIR\", [pattern])\n",
        "\n",
        "# Variable to track the total count of verb-object pairs across all files\n",
        "total_verb_object_pairs_count = 0\n",
        "\n",
        "# Iterate over each file in the directory\n",
        "for filename in os.listdir(directory_path):\n",
        "    if filename.endswith('.csv'):\n",
        "        file_path = os.path.join(directory_path, filename)\n",
        "        df = pd.read_csv(file_path)\n",
        "\n",
        "        # Assume the column containing text is named 'text'\n",
        "        documents = df['text'].tolist()\n",
        "\n",
        "        # Process each document to find verb-object pairs\n",
        "        for text in documents:\n",
        "            doc = nlp(text)\n",
        "            matches = matcher(doc)\n",
        "            verb_object_pairs = [doc[start:end].text for match_id, start, end in matches]\n",
        "\n",
        "            # Update the total count\n",
        "            total_verb_object_pairs_count += len(verb_object_pairs)\n",
        "\n",
        "            # Print each verb-object pair found\n",
        "            for pair in verb_object_pairs:\n",
        "                print(pair)\n",
        "\n",
        "            # Print the total count of verb-object pairs for each text\n",
        "            # print(f\"Number of verb-object pairs in '{filename}': {len(verb_object_pairs)}\\n\")\n",
        "\n",
        "# Print the cumulative total count of all verb-object pairs found\n",
        "print(f\"Total verb-object pairs count across all documents: {total_verb_object_pairs_count}\")\n"
      ]
    },
    {
      "cell_type": "markdown",
      "metadata": {
        "id": "SAFgBis5C9C8"
      },
      "source": [
        "Subject-Verb-Object"
      ]
    },
    {
      "cell_type": "code",
      "execution_count": 42,
      "metadata": {
        "colab": {
          "base_uri": "https://localhost:8080/"
        },
        "id": "oheLo1zxDAtq",
        "outputId": "0a4da9a1-7e69-45c8-e4d9-edeaefe0a2b3"
      },
      "outputs": [
        {
          "name": "stdout",
          "output_type": "stream",
          "text": [
            "students take ownership\n",
            "students take ownership\n",
            "students take ownership\n",
            "students taking ownership\n",
            "students taking ownership\n",
            "students taking ownership\n",
            "Total SVO phrases count across all documents: 6\n"
          ]
        }
      ],
      "source": [
        "import spacy\n",
        "from spacy.matcher import Matcher\n",
        "import pandas as pd\n",
        "\n",
        "# Load the spaCy model\n",
        "nlp = spacy.load(\"en_core_web_trf\")\n",
        "matcher = Matcher(nlp.vocab)\n",
        "\n",
        "# Define the directory containing the CSV files\n",
        "directory_path = 'data/Interviews'\n",
        "\n",
        "# Define the pattern for subject-verb-object triples\n",
        "pattern = [\n",
        "    {\"POS\": \"NOUN\", \"OP\": \"+\"},  # Subject(s)\n",
        "    {\"POS\": \"VERB\"},            # Verb\n",
        "    {\"POS\": \"DET\", \"OP\": \"?\"},  # Optional determiner\n",
        "    {\"POS\": \"ADJ\", \"OP\": \"*\"},  # Any number of adjectives\n",
        "    {\"POS\": \"NOUN\", \"OP\": \"+\"}  # Object(s)\n",
        "]\n",
        "\n",
        "# Add the pattern to the matcher\n",
        "matcher.add(\"SUBJECT_VERB_OBJECT\", [pattern])\n",
        "\n",
        "# Variable to track the total count of SVO phrases across all files\n",
        "total_svo_count = 0\n",
        "\n",
        "# Iterate over each file in the directory\n",
        "for filename in os.listdir(directory_path):\n",
        "    if filename.endswith('.csv'):\n",
        "        file_path = os.path.join(directory_path, filename)\n",
        "        df = pd.read_csv(file_path)\n",
        "\n",
        "        # Assume the column containing text is named 'text'\n",
        "        documents = df['text'].tolist()\n",
        "\n",
        "        # Process each document to find SVO phrases\n",
        "        for text in documents:\n",
        "            doc = nlp(text)\n",
        "            matches = matcher(doc)\n",
        "            svo_phrases = [doc[start:end].text for match_id, start, end in matches]\n",
        "\n",
        "            # Update the total count\n",
        "            total_svo_count += len(svo_phrases)\n",
        "\n",
        "            # Print each SVO found\n",
        "            for svo in svo_phrases:\n",
        "                print(svo)\n",
        "\n",
        "            # Print the total count of SVO phrases for each text\n",
        "            # print(f\"Number of SVO phrases in '{filename}': {len(svo_phrases)}\\n\")\n",
        "\n",
        "# Print the cumulative total count of all SVO phrases found\n",
        "print(f\"Total SVO phrases count across all documents: {total_svo_count}\")"
      ]
    },
    {
      "cell_type": "markdown",
      "metadata": {
        "id": "AgYaS23pDYat"
      },
      "source": [
        "### Adjective-noun pairs"
      ]
    },
    {
      "cell_type": "code",
      "execution_count": 43,
      "metadata": {
        "colab": {
          "base_uri": "https://localhost:8080/"
        },
        "id": "AiW9UMnvDcP0",
        "outputId": "43377b7e-bf5f-4a88-918e-e2930773ba8a"
      },
      "outputs": [
        {
          "name": "stdout",
          "output_type": "stream",
          "text": [
            "only role\n",
            "few students\n",
            "other students\n",
            "more supports\n",
            "individual students\n",
            "individual students\n",
            "important content\n",
            "important examples\n",
            "lofty discussions\n",
            "real bearing\n",
            "meaningful ownership\n",
            "many things\n",
            "good student\n",
            "good student engagement\n",
            "next lesson\n",
            "difficult thing\n",
            "next class\n",
            "more participation\n",
            "other students\n",
            "whole life\n",
            "enough teacher\n",
            "interactive way\n",
            "extra effort\n",
            "professional learning\n",
            "professional learning goals\n",
            "authentic way\n",
            "specific instance\n",
            "big part\n",
            "other questions\n",
            "other thoughts\n",
            "Total adjective-noun pairs count across all documents: 30\n"
          ]
        }
      ],
      "source": [
        "import spacy\n",
        "from spacy.matcher import Matcher\n",
        "import pandas as pd\n",
        "\n",
        "# Load the spaCy model\n",
        "nlp = spacy.load(\"en_core_web_trf\")\n",
        "matcher = Matcher(nlp.vocab)\n",
        "\n",
        "# Define the directory containing the CSV files\n",
        "directory_path = 'data/Interviews'\n",
        "\n",
        "# Define the pattern for adjective-noun pairs\n",
        "pattern = [\n",
        "    {\"POS\": \"ADJ\"},       # Adjective\n",
        "    {\"POS\": \"NOUN\", \"OP\": \"+\"}  # One or more nouns\n",
        "]\n",
        "\n",
        "# Add the pattern to the matcher\n",
        "matcher.add(\"ADJECTIVE_NOUN_PAIR\", [pattern])\n",
        "\n",
        "# Variable to track the total count of adjective-noun pairs across all files\n",
        "total_adjective_noun_pairs_count = 0\n",
        "\n",
        "# Iterate over each file in the directory\n",
        "for filename in os.listdir(directory_path):\n",
        "    if filename.endswith('.csv'):\n",
        "        file_path = os.path.join(directory_path, filename)\n",
        "        df = pd.read_csv(file_path)\n",
        "\n",
        "        # Assume the column containing text is named 'text'\n",
        "        documents = df['text'].tolist()\n",
        "\n",
        "        # Process each document to find adjective-noun pairs\n",
        "        for text in documents:\n",
        "            doc = nlp(text)\n",
        "            matches = matcher(doc)\n",
        "            adjective_noun_pairs = [doc[start:end].text for match_id, start, end in matches]\n",
        "\n",
        "            # Update the total count\n",
        "            total_adjective_noun_pairs_count += len(adjective_noun_pairs)\n",
        "\n",
        "            # Print each adjective-noun pair found\n",
        "            for pair in adjective_noun_pairs:\n",
        "                print(pair)\n",
        "\n",
        "            # Print the total count of adjective-noun pairs for each text\n",
        "            # print(f\"Number of adjective-noun pairs in '{filename}': {len(adjective_noun_pairs)}\\n\")\n",
        "\n",
        "# Print the cumulative total count of all adjective-noun pairs found\n",
        "print(f\"Total adjective-noun pairs count across all documents: {total_adjective_noun_pairs_count}\")\n"
      ]
    },
    {
      "cell_type": "markdown",
      "metadata": {
        "id": "m0jEgvs5Dv2a"
      },
      "source": [
        "### I Statements"
      ]
    },
    {
      "cell_type": "code",
      "execution_count": 44,
      "metadata": {
        "colab": {
          "base_uri": "https://localhost:8080/"
        },
        "id": "XTJrJCWEDyY7",
        "outputId": "6c53c9d0-3f89-499f-9bda-3d5aecabc149"
      },
      "outputs": [
        {
          "name": "stdout",
          "output_type": "stream",
          "text": [
            "I think that classroom\n",
            "Total 'I statement' phrases count across all documents: 1\n"
          ]
        }
      ],
      "source": [
        "import spacy\n",
        "from spacy.matcher import Matcher\n",
        "import pandas as pd\n",
        "\n",
        "# Load the spaCy model\n",
        "nlp = spacy.load(\"en_core_web_trf\")\n",
        "matcher = Matcher(nlp.vocab)\n",
        "\n",
        "\n",
        "# Define the directory containing the CSV files\n",
        "directory_path = 'data/Interviews'\n",
        "\n",
        "# Define the pattern for \"I statement\" phrases\n",
        "pattern = [\n",
        "    {\"TEXT\": \"I\"},      # The pronoun 'I'\n",
        "    {\"POS\": \"VERB\"},    # Followed by a verb\n",
        "    {\"POS\": \"DET\", \"OP\": \"?\"},  # Optionally followed by a determiner\n",
        "    {\"POS\": \"NOUN\"}     # And a noun\n",
        "]\n",
        "\n",
        "# Add the pattern to the matcher\n",
        "matcher.add(\"I_PHRASE\", [pattern])\n",
        "\n",
        "# Variable to track the total count of \"I statement\" phrases across all files\n",
        "total_i_phrases_count = 0\n",
        "\n",
        "# Iterate over each file in the directory\n",
        "for filename in os.listdir(directory_path):\n",
        "    if filename.endswith('.csv'):\n",
        "        file_path = os.path.join(directory_path, filename)\n",
        "        df = pd.read_csv(file_path)\n",
        "\n",
        "        # Assume the column containing text is named 'text'\n",
        "        documents = df['text'].tolist()\n",
        "\n",
        "        # Process each document to find \"I statement\" phrases\n",
        "        for text in documents:\n",
        "            doc = nlp(text)\n",
        "            matches = matcher(doc)\n",
        "            I_PHRASES = [doc[start:end].text for match_id, start, end in matches]\n",
        "\n",
        "            # Update the total count\n",
        "            total_i_phrases_count += len(I_PHRASES)\n",
        "\n",
        "            # Print each \"I statement\" phrase found\n",
        "            for phrase in I_PHRASES:\n",
        "                print(phrase)\n",
        "\n",
        "            # Print the total count of \"I statement\" phrases for each text\n",
        "            # print(f\"Number of 'I statement' phrases in '{filename}': {len(I_PHRASES)}\\n\")\n",
        "\n",
        "# Print the cumulative total count of all \"I statement\" phrases found\n",
        "print(f\"Total 'I statement' phrases count across all documents: {total_i_phrases_count}\")\n",
        "\n"
      ]
    },
    {
      "cell_type": "markdown",
      "metadata": {
        "id": "_1ne1tbuEKad"
      },
      "source": [
        "### They Statements"
      ]
    },
    {
      "cell_type": "code",
      "execution_count": 45,
      "metadata": {
        "colab": {
          "base_uri": "https://localhost:8080/"
        },
        "id": "1i3By0pNEMrL",
        "outputId": "684aa49f-4263-433d-f4cd-4d93b3b41d6a"
      },
      "outputs": [
        {
          "name": "stdout",
          "output_type": "stream",
          "text": [
            "Total 'they statement' phrases count across all documents: 0\n"
          ]
        }
      ],
      "source": [
        "import spacy\n",
        "from spacy.matcher import Matcher\n",
        "import pandas as pd\n",
        "\n",
        "# Load the spaCy model\n",
        "nlp = spacy.load(\"en_core_web_trf\")\n",
        "matcher = Matcher(nlp.vocab)\n",
        "\n",
        "# Define the directory containing the CSV files\n",
        "directory_path = 'data/Interviews'\n",
        "\n",
        "# Define the pattern for \"they statement\" phrases\n",
        "pattern = [\n",
        "    {\"TEXT\": \"they\"},   # The pronoun 'they'\n",
        "    {\"POS\": \"VERB\"},    # Followed by a verb\n",
        "    {\"POS\": \"DET\", \"OP\": \"?\"},  # Optionally followed by a determiner\n",
        "    {\"POS\": \"NOUN\"}     # And a noun\n",
        "]\n",
        "\n",
        "# Add the pattern to the matcher\n",
        "matcher.add(\"THEY_PHRASE\", [pattern])\n",
        "\n",
        "# Variable to track the total count of \"they statement\" phrases across all files\n",
        "total_they_phrases_count = 0\n",
        "\n",
        "# Iterate over each file in the directory\n",
        "for filename in os.listdir(directory_path):\n",
        "    if filename.endswith('.csv'):\n",
        "        file_path = os.path.join(directory_path, filename)\n",
        "        df = pd.read_csv(file_path)\n",
        "\n",
        "        # Assume the column containing text is named 'text'\n",
        "        documents = df['text'].tolist()\n",
        "\n",
        "        # Process each document to find \"they statement\" phrases\n",
        "        for text in documents:\n",
        "            doc = nlp(text)\n",
        "            matches = matcher(doc)\n",
        "            THEY_PHRASES = [doc[start:end].text for match_id, start, end in matches]\n",
        "\n",
        "            # Update the total count\n",
        "            total_they_phrases_count += len(THEY_PHRASES)\n",
        "\n",
        "            # Print each \"they statement\" phrase found\n",
        "            for phrase in THEY_PHRASES:\n",
        "                print(phrase)\n",
        "\n",
        "            # Print the total count of \"they statement\" phrases for each text\n",
        "            # print(f\"Number of 'they statement' phrases in '{filename}': {len(THEY_PHRASES)}\\n\")\n",
        "\n",
        "# Print the cumulative total count of all \"they statement\" phrases found\n",
        "print(f\"Total 'they statement' phrases count across all documents: {total_they_phrases_count}\")\n"
      ]
    },
    {
      "cell_type": "markdown",
      "metadata": {
        "id": "jZbqAzl5EfK_"
      },
      "source": [
        "### They with negation"
      ]
    },
    {
      "cell_type": "code",
      "execution_count": 46,
      "metadata": {
        "colab": {
          "base_uri": "https://localhost:8080/"
        },
        "id": "IKCLIUTXEhQU",
        "outputId": "406e757d-9990-4717-bdf6-398d70d0fc98"
      },
      "outputs": [
        {
          "name": "stdout",
          "output_type": "stream",
          "text": [
            "Total 'they' phrases with negation count across all documents: 0\n"
          ]
        }
      ],
      "source": [
        "import spacy\n",
        "from spacy.matcher import Matcher\n",
        "import pandas as pd\n",
        "\n",
        "# Load the spaCy model\n",
        "nlp = spacy.load(\"en_core_web_trf\")\n",
        "matcher = Matcher(nlp.vocab)\n",
        "\n",
        "\n",
        "# Define the directory containing the CSV files\n",
        "directory_path = 'data/Interviews'\n",
        "\n",
        "# Define the pattern for \"they statement\" phrases with negation\n",
        "pattern = [\n",
        "    {\"LOWER\": \"they\"},  # The pronoun 'they'\n",
        "    {\"POS\": \"AUX\", \"OP\": \"*\"},  # Optional auxiliary (might not be directly next to 'they')\n",
        "    {\"DEP\": \"neg\", \"OP\": \"?\"},  # Optional negation modifier\n",
        "    {\"POS\": \"VERB\"},  # Verb following 'they' or an auxiliary/negation\n",
        "    {\"POS\": \"DET\", \"OP\": \"?\"},  # Optionally followed by a determiner\n",
        "    {\"POS\": \"NOUN\"}  # And a noun\n",
        "]\n",
        "\n",
        "# Add the pattern to the matcher\n",
        "matcher.add(\"THEY_NEGATION_PATTERN\", [pattern])\n",
        "\n",
        "# Variable to track the total count of \"they\" phrases with negation across all files\n",
        "total_they_negation_phrases_count = 0\n",
        "\n",
        "# Iterate over each file in the directory\n",
        "for filename in os.listdir(directory_path):\n",
        "    if filename.endswith('.csv'):\n",
        "        file_path = os.path.join(directory_path, filename)\n",
        "        df = pd.read_csv(file_path)\n",
        "\n",
        "        # Assume the column containing text is named 'text'\n",
        "        documents = df['text'].tolist()\n",
        "\n",
        "        # Process each document to find \"they\" phrases with negation\n",
        "        for text in documents:\n",
        "            doc = nlp(text)\n",
        "            matches = matcher(doc)\n",
        "            they_negation_phrases = [doc[start:end].text for match_id, start, end in matches]\n",
        "\n",
        "            # Update the total count\n",
        "            total_they_negation_phrases_count += len(they_negation_phrases)\n",
        "\n",
        "            # Print each \"they\" phrase with negation found\n",
        "            for phrase in they_negation_phrases:\n",
        "                print(phrase)\n",
        "\n",
        "            # Print the total count of \"they\" phrases with negation for each text\n",
        "            # print(f\"Number of 'they' phrases with negation in '{filename}': {len(they_negation_phrases)}\\n\")\n",
        "\n",
        "# Print the cumulative total count of all \"they\" phrases with negation found\n",
        "print(f\"Total 'they' phrases with negation count across all documents: {total_they_negation_phrases_count}\")\n",
        "\n"
      ]
    },
    {
      "cell_type": "markdown",
      "metadata": {
        "id": "wtVfABelE_Av"
      },
      "source": [
        "### We Statements"
      ]
    },
    {
      "cell_type": "code",
      "execution_count": 47,
      "metadata": {
        "id": "753nCbyKE9ic"
      },
      "outputs": [
        {
          "name": "stdout",
          "output_type": "stream",
          "text": [
            "Total 'we statement' phrases count across all documents: 0\n"
          ]
        }
      ],
      "source": [
        "import spacy\n",
        "from spacy.matcher import Matcher\n",
        "import pandas as pd\n",
        "import os\n",
        "\n",
        "# Load the spaCy model\n",
        "nlp = spacy.load(\"en_core_web_trf\")\n",
        "matcher = Matcher(nlp.vocab)\n",
        "\n",
        "# Define the directory containing the CSV files\n",
        "directory_path = 'data/Interviews'\n",
        "\n",
        "# Define the pattern for \"we statement\" phrases\n",
        "pattern = [\n",
        "    {\"TEXT\": \"we\"},   # The pronoun 'we'\n",
        "    {\"POS\": \"VERB\"},  # Followed by a verb\n",
        "    {\"POS\": \"DET\", \"OP\": \"?\"},  # Optionally followed by a determiner\n",
        "    {\"POS\": \"NOUN\"}   # And a noun\n",
        "]\n",
        "\n",
        "# Add the pattern to the matcher\n",
        "matcher.add(\"WE_PHRASE\", [pattern])\n",
        "\n",
        "# Variable to track the total count of \"we statement\" phrases across all files\n",
        "total_we_phrases_count = 0\n",
        "\n",
        "# Iterate over each file in the directory\n",
        "for filename in os.listdir(directory_path):\n",
        "    if filename.endswith('.csv'):\n",
        "        file_path = os.path.join(directory_path, filename)\n",
        "        df = pd.read_csv(file_path)\n",
        "\n",
        "        # Assume the column containing text is named 'text'\n",
        "        documents = df['text'].tolist()\n",
        "\n",
        "        # Process each document to find \"we statement\" phrases\n",
        "        for text in documents:\n",
        "            doc = nlp(text)\n",
        "            matches = matcher(doc)\n",
        "            WE_PHRASES = [doc[start:end].text for match_id, start, end in matches]\n",
        "\n",
        "            # Update the total count\n",
        "            total_we_phrases_count += len(WE_PHRASES)\n",
        "\n",
        "            # Print each \"we statement\" phrase found\n",
        "            for phrase in WE_PHRASES:\n",
        "                print(phrase)\n",
        "\n",
        "            # Print the total count of \"we statement\" phrases for each text\n",
        "            # print(f\"Number of 'we statement' phrases in '{filename}': {len(WE_PHRASES)}\\n\")\n",
        "\n",
        "# Print the cumulative total count of all \"we statement\" phrases found\n",
        "print(f\"Total 'we statement' phrases count across all documents: {total_we_phrases_count}\")\n",
        "\n"
      ]
    },
    {
      "cell_type": "markdown",
      "metadata": {
        "id": "_-A0bIXLb5GL"
      },
      "source": [
        "# Old but useful code"
      ]
    },
    {
      "cell_type": "code",
      "execution_count": null,
      "metadata": {
        "colab": {
          "base_uri": "https://localhost:8080/",
          "height": 1000,
          "referenced_widgets": [
            "ba0e40742e9b4557a879a859920b5fe8",
            "2b52e7e236714354838ba937cd3e209a",
            "5923dd59adeb43088d6f09159d82b34d",
            "58f9ac26db8144d7b713be2ed1c0d057",
            "be122ab2a0374d0baf2d404e626608ad",
            "74cff8617e6d4a0e98d7e8047849e1c1",
            "4dcbf9c25b3c4ac3a3682d715fb18d4f",
            "df625f5ea89e44d58ed2e51fe926a287",
            "1f581a3033684475b1f8f747f4fd1130",
            "5ec549bb5b234172b1b4b84dc8078ceb",
            "1c0bbfe9b4524ccdbd47ccd219d16b73",
            "afe7c8406b4f402390cb24420c6a1c04",
            "f128b81c44764bdf98320cd0eabee817",
            "3dcd1894e9eb4296bf54dc1a8edf4454",
            "116fe4856a014cdabaf8cfd6f1f02ace",
            "6267c6e3ec7d4338980bdcf72c4fa518",
            "08c204c7de5542b4bdbd12fcd71f8f20",
            "5aff3e4f74d84e78a0cc4bc0113ea09e",
            "c70acdff852e41febbd8e86903367d26",
            "b28439a183354a54a42e2db2f25c32e5",
            "06544e7346dc4232a57d87d8dea3bb2c",
            "ce418d12184a4f4a8cc2fea48d6c2f43",
            "c37e600b1f644242a0180f5c79ab1aae",
            "8dee18f303d44d198b88126fe3d21aff",
            "84f808b27aa44fa59119451b4def82f7",
            "641cf7ae73cb4c41b2cb02232e81e533",
            "ea57686be48243dcaf3b3d3b2991f4ed",
            "8de136f361b347ab98d91cac9f1914da",
            "9d0f4c6661c24be197838850b2a396af",
            "b21693b3cdfa457a8da6ef45a75ec072",
            "b558e6fe9bf8413886b8786747476dcd",
            "8e7c71e5a7f546fd90db16ff89c1348e",
            "47cc1c73f3d448e9aaf91a9072f587f0",
            "9a6252a2ffb3447c9ed52d17638ea04f",
            "cef81ea479f34e40afa1d4b492c950d2",
            "0a3d3476dc934a9aa5397bb64d09f75d",
            "a9f168e0b48641378dd39ff020db67b9",
            "1e0ec9b7f4ca41599506a9ef303cf09f",
            "833e5bb87d1a4d5a98fa8c64b6e98eda",
            "f69d1e662e424d27a241da868931d6af",
            "7918ae021bc94d018aecbac04c8597fe",
            "45fe5d7d5b35484aac8dd35b137b8595",
            "de82b54f5a884f0d9ea9e50e15d410ae",
            "843661027aa94eedafc8cad130a0dc1a",
            "93047e6a65f44998a447ba5f6344c216",
            "334f1f1fcd144d22b23a1f6a48d684a5",
            "3f09524d57ea4f9fb7a4818eba6eac53",
            "927cc7853970487da1091c7edea2c67b",
            "7b3ede4b064148c68fb7fc9553f9769f",
            "96b87d05af6a493da32393a8fc25a0f6",
            "98d4257e10e64a56bcde2c09ecc3f3d4",
            "ac85e9ae332040ceac2d9856c067f590",
            "31b019ad739b4b19bb9973938abda7d7",
            "a9add09d69054cb188dd45cc8052ffaa",
            "149281905bcc4ee385c1e0acfb95596d",
            "7e6ddbb445434bb6b77c7425cb26d55a",
            "50a6bee61f464ed991f50dc6f2942d49",
            "d518bed78aba4bc4a12db1863c3de9cb",
            "8482c188d0c14820877fc88b08482929",
            "9ee8556d9ceb47f4bf72e1bd01dc6fed",
            "8ed26213daaf4781805ccbca3650a8dd",
            "74db4c2b44bd4c29a09096873f8480a4",
            "6cdad5592d604231993a62f732d0eda4",
            "0ca168c30e7c4b639ce5ac55c5ebeb08",
            "15d4b1493fb042198ef66978a04d3552",
            "7301f6b52b22427a8d195837b4a86c16",
            "a1742fce881b47e882996646b05d5e2c",
            "800bcc8261f448f2af89f1e39b1b4430",
            "84e86af513c14402832856a991f20f61",
            "e8b1266f798b4532afe6c21453ca243d",
            "f0275210a42141ae9f54d2b9990c3678",
            "c018e70a4d2c4a9cb48dacff5674a778",
            "027afd2913164d7fbb7b2c5bd90ad064",
            "c5a4743f50964f588851b943074731ac",
            "20c7c5a982bf4cff8043fe9fb6919150",
            "912881405a354fac983ae1a4e63c8fdb",
            "0452b4123bc44ba18412f82d54fb7002",
            "1ca4836a3489481f99e89911d7391261",
            "1fdcb3e44bdd4fcba1f87c013135ae39",
            "3a8d3a878f6640acaeaf0645d7518860",
            "749c6386151e4953b6551ceb7c51e795",
            "c56cddbbbe0e4cf29f80f3a3d74c82eb",
            "6136a1c60c7e445e96b4453e32608960",
            "5235a08a9d7c4fd48306dacd36e63238",
            "963a040ba5fe4c249be8c915d53d2b17",
            "0c95b065ee7c4d4aa5b4763234031e78",
            "554449a50b724027bbddd8c4f11b85ab",
            "097ad810d44b4a88a8d2d1d15ac79ed7",
            "2e264a83a9ae4cf58c1227711bf1d504",
            "7341cf8fded74e619859265a9a83e1a9",
            "dcc07b45d25d4b719755740ca8a3e200",
            "3ebf76790e614a15884a7dca820319ea",
            "cc4b1eb816184419b5f31ab6bf8ad6bc",
            "2f7266d682de4330b827e07185594b1c",
            "6b71ba7b221441aa88181423d59f29c6",
            "ae01a80c7f9d4528b6dd2d570d8a349b",
            "814c9eb6c037401f98b3626e2530a83f",
            "cefb1d4d116143c589d3f5edb0ed7091",
            "4b7d4a4918074f1c8bf3daf92b796195",
            "1c06fd720d65494f90f145750919ea15",
            "7b52bb26066744cd920e13ddb550dabd",
            "6d9b6c73e9864b658131dbdc518272ba",
            "e3a157b2cefc4109815594cc27e9571e",
            "cc2100d8fc004244843b658f4f5d840b",
            "f3f1ce36722f47659e049de83c8cf78d",
            "c9782c15ccee45d68fa0cd84e1037004",
            "83852c60ddd94eb1ba6e78a0914ee401",
            "0a68a66b5fa3424eb57ac217eeffb535",
            "c07c177f676e4e0ab9ab650982af1cd6",
            "3ff043f14fbe48acb3a25e219cafe097",
            "04a522de3aa243ad92ff6d4356b07744",
            "9f63f8776a0e4dc697246c9338cbb7b2",
            "d2ea7ecbb5d64be1910c854c1350c27a",
            "52ccac30a2e3408297bb01e0d84a0b0e",
            "15f0faacb4b744fda926fb71d1fcd8f9",
            "5a8bc4b347254e84a8957309cdaed440",
            "614c2ff5545142c8b9b49ecf5c5a385d",
            "19709dd70125417eb77e4fda436e5acb",
            "2f0199adb3ba4dc7a9ecc95631af8b53",
            "73a0b913f4a94724ae8cc0e26a8216b7",
            "ae145e93c09549c9947b87350a5a90c8"
          ]
        },
        "id": "TgRLydHTb5GL",
        "outputId": "bfe55765-a288-4767-e7da-b273ec63efa1"
      },
      "outputs": [],
      "source": [
        "from sentence_transformers import SentenceTransformer\n",
        "from tqdm import tqdm, trange\n",
        "\n",
        "model = SentenceTransformer('paraphrase-MiniLM-L6-v2')\n",
        "\n",
        "embeddings = model.encode(sentences)\n",
        "for embedding in embeddings:\n",
        "  print(embedding)"
      ]
    },
    {
      "cell_type": "markdown",
      "metadata": {
        "id": "wiBrwgneb5GL"
      },
      "source": []
    },
    {
      "cell_type": "code",
      "execution_count": null,
      "metadata": {
        "id": "WdywWH-ub5GL"
      },
      "outputs": [],
      "source": [
        "from sentence_transformers import SentenceTransformer, util\n",
        "model = SentenceTransformer('all-MiniLM-L6-v2')\n",
        "\n",
        "#encode the sentences\n",
        "embeddings = model.encode(sentences, convert_to_tensor=True)\n",
        "#compute the similarity scores\n",
        "cosine_scores = util.cos_sim(embeddings, embeddings)\n",
        "#compute/find the highest similarity scores\n",
        "pairs = []\n",
        "for i in range(len(cosine_scores)-1):\n",
        "    for j in range(i+1, len(cosine_scores)):\n",
        "        pairs.append({'index': [i, j], 'score': cosine_scores[i]\n",
        "                                                             [j]})\n",
        "#sort the scores in decreasing order\n",
        "pairs = sorted(pairs, key=lambda x: x['score'], reverse=True)\n",
        "for pair in pairs[0:10]:\n",
        "    i, j = pair['index']\n",
        "    print(\"{} \\t\\t {} \\t\\t Score: {:.4f}\".format(sentences[i],\n",
        "                                  sentences[j], pair['score']))"
      ]
    },
    {
      "cell_type": "markdown",
      "metadata": {
        "id": "zpT6nlVmb5GM"
      },
      "source": []
    },
    {
      "cell_type": "code",
      "execution_count": null,
      "metadata": {
        "id": "FIcMhUCQb5GM"
      },
      "outputs": [],
      "source": [
        "from sentence_transformers import SentenceTransformer\n",
        "\n",
        "# Load https://huggingface.co/sentence-transformers/all-mpnet-base-v2\n",
        "model = SentenceTransformer(\"all-mpnet-base-v2\")\n",
        "embeddings = model.encode(texts)\n",
        "similarities = model.similarity(embeddings, embeddings)"
      ]
    },
    {
      "cell_type": "code",
      "execution_count": null,
      "metadata": {
        "id": "PZullyFIlx2I"
      },
      "outputs": [],
      "source": [
        "print(similarities)"
      ]
    },
    {
      "cell_type": "markdown",
      "metadata": {
        "id": "G5dtL1zAb5GM"
      },
      "source": [
        "## Sentence Query from folder of csv files"
      ]
    },
    {
      "cell_type": "markdown",
      "metadata": {
        "id": "vpnjfPujb5GM"
      },
      "source": [
        "# Multiple queries"
      ]
    },
    {
      "cell_type": "code",
      "execution_count": 50,
      "metadata": {
        "colab": {
          "base_uri": "https://localhost:8080/",
          "height": 406,
          "referenced_widgets": [
            "92828482edd84fcfb7a7e36e137769b1",
            "5e237b77589544cabd9d8994bbec427c",
            "817543ba89834f22a19b91e062daa12f",
            "7abd07cc19cd4bebb7a3fe370f749c6e",
            "1cdb283a39094685961b5ee9594fe41d",
            "23783c731ee44872a0baa241fb3a3411",
            "9199df5d5120432cac4443748dd1feb1",
            "c15443bcfcf44a79a6715943908d4ca5",
            "b6b1a74c96c04a499c1a90ce869c19cd",
            "affc2856fe5b41d8aa3938d3306374cc",
            "80a94d66c8ee4c5e96ea6189d6a2106c",
            "9c3862c4daaa4c86beb874dffe5d4e18",
            "aacea5d8fd0e4a57a0d5dc5d6350dd3f",
            "444cc957901c485b81545cc5ead40aac",
            "ef22eb05476f478c9dec46e5596d1228",
            "843adf6c05fa4c38a43cb62bbdc1445f",
            "ad0ea5e4c9424923b797b1c2f80ff71a",
            "ac69c6c7bc074a2aa6c7656ebb17bafe",
            "0b7725948144469f97d12fc3246a409f",
            "f5116fc1dfe1451484660982bf69cac4",
            "358559a523cc441d84b23ee7aead9431",
            "c32504b88eee470eb9a1fc936a0ace3d",
            "a98e7bfcf5244dafb2ba3cfec815830f",
            "f599534ddc754c10b7a642334f3959d0",
            "2ed100948aed4db3ba6f4cda3c6b0cdd",
            "4f83a4c1cd4b4ccd93b424211e3f1b2b",
            "56e0e353d7114693a487a2b3716dd405",
            "2c1dcbe75bc04f2db04f4f33359863c9",
            "3834666b7a2a492ba1d11cd9f12874cc",
            "6c10cf1ad2e04dc1be8c821a69f6198b",
            "ed463a13e7ac4e4f8671c81fae60fd27",
            "2466550c41094c6c9feaae2fb095c8f3",
            "e3e433ba51a5443e9ff0962e293b911d",
            "5efddaca44594c17a0c9e96e7ccb0fd1",
            "9a3c6a3e205946c09f65609a6572e88a",
            "7c959cdf7b084a969c5de14a43f9830e",
            "509de26d31b542a28f9e28c1586ef3e4",
            "be2104ff1601483db9682b4bad2fc7d1",
            "8ae4ba9845044b319c99b1cc0d552094",
            "8ab42ecaaee242ffa711148e4275ac43",
            "379b470b96c24fbc938c7d89451ecdb1",
            "5c95b83e2d5449a1851901facb136eaa",
            "bceeec93ee1d4cba8f38f1c00c94d078",
            "25f9810ac4a240b99ec5969fae8101a3",
            "1f636992cd614aed8b6a1541f00f9429",
            "381e74b5f6924375bd03b4f7fe365bda",
            "d9a6fcd976a04abeac03b59159afd059",
            "c15aee611c0040a6b81db90770d4eb98",
            "de09fadbcaf0456bbaba71f7fd6b2697",
            "0babcc6132964887a10015b11baee3d4",
            "cbe87cbc25464f99b3a82a7f1d49fc6c",
            "a95ee603692f40caadec6872e0146003",
            "81596b0d01074e6e95f010b526900084",
            "64d8d068fb6b422cab677d578028785d",
            "742b24f2db404a5cbeca0e426683f0bf",
            "03a5bcb3e2644af3b0d0d495cd67ed3a",
            "acc62570dad149cc815343d425f66bfe",
            "c2a24e32ff754ed4a02c9487d0d665d2",
            "18f0a804beb64d30ae9c94daee26c6dd",
            "28f8d36307c24eefa423900acfc933cd",
            "b8c048824fa94221b0406581fe5c9cee",
            "3ad930a0908840b7bfeb5874dcde18de",
            "a5e22ad1dbcd404fa32c78129491c34e",
            "b85df86f72be4cbbab5d8698846ec163",
            "9ab0f4b4c8344b0b8f81e5eb8058dbc9",
            "e77dcc60a18944feb6778ecf0f349ef6",
            "3478e98d08c84c0ab1a32d4cd65584f0",
            "74a4eabe6dd748799adcc4edea2caafb",
            "3f16e0b6cc0d499598c8d3720c49d9d9",
            "11ccbd0ced91423bbcb72b3c0bbaeb79",
            "c1bfa45c6a5f4727a9c70a4958a1527c",
            "5f21fdb5940647af83143a6b7506b9c9",
            "65a79fdd3ed34366815259bba1ad2e18",
            "2574eedba072450a90b4919a627e182a",
            "207319ae1a574529a2cfced857c61b98",
            "ef486ae8a65a4468abd5170695dbe99e",
            "489bd78d2e004e58a0bad358a7cdee3e",
            "ca107c88b66c459488d6ea628c6a2817",
            "83d009744b0040c2a4554c9d8bc3b1e2",
            "23025704028b4e8c8a1a2d7c8dd1bd6a",
            "a2ab5dc7920c4b65ae83a817ab57f021",
            "cdf5bf2342ea4ecdb6812d1c96c1b375",
            "3eb0e968e3074818a720674db5fc21cf",
            "ef9b73ad97874a32a0c8b1e300f9e9a5",
            "e5ee61f7d5f0478aa16143a8ca012edc",
            "8cce8cb644df49bbbef25200e03edb33",
            "e78dc58f8676407c9a9a3fd0294d64f8",
            "8d48f4307a8d4fb3b4df1b70b58cff0a",
            "593020c1fcb34ed5be973703b64d242a",
            "b0d2908eb3574acebd20099895c91459",
            "81f17f657a7448dbaff6c85fc9e866df",
            "e40647588538457b9eb973fe558b7e56",
            "e734ae23df314ea989934fb9bc2264fa",
            "3ed2eb579c6d4615a010b63c3c54343b",
            "f44328761f324281ab0bf66ccf46a222",
            "0fd75bd1f42a486fb15877a9299e5a10",
            "732da9ab8d014de896816d5e8093e90a",
            "2834482001894a6b9a1698d7cee65f7a",
            "78970d9e227e47c089f02212c9fceacd",
            "e4c5bf3c15aa4e4bb34debfa18343452",
            "0a66703586164e259a4561353ab5333e",
            "e194c2ca42794311a3e1e6fb59f3a3d4",
            "19cf8f5d95af426db9ba202c1e5813c4",
            "f526d127cf1f4f9abd484565b234b231",
            "7aa96a27a11d42e6814efa5e303210da",
            "f4d8f201f39f48fca80b7b14fa8c59cc",
            "35f6a5179b2f4052b73b526861c5ddb8",
            "723f84cb7e904a51bff9bc9c06313d07",
            "103de3c4126c4beeac46d16514264b7f",
            "41dbb65241da4d8e84c271cd5ab85ea3",
            "82c6e5eb9e6543edb79485d9f76e97c1",
            "dce6bf2f769148f9aabf6b3dde378f82",
            "51467ddbd5ee47e9af59fc3dfb761ff6",
            "8b7bc56e33b74d9da9a8b8b7f2abd427",
            "a69cc009387b49709e9a2a171d362760",
            "957279fa4386461480966b21331071bb",
            "f4d1812d68564eeb9dbfc11f5d71c2a0",
            "c8f1bf436fc2412299d36383a98e458c",
            "78d3b4cb760341ea881d9246dd360a45",
            "d260e41916244305b798a08bdc6178c9",
            "428d02c479824bfa9ce4f372d4e8fe77"
          ]
        },
        "id": "Z5uOuU5Hb5GM",
        "outputId": "b9307b5a-6d3b-44b5-a841-c4d30ab61b08"
      },
      "outputs": [
        {
          "name": "stdout",
          "output_type": "stream",
          "text": [
            "Results saved to data/Interviews/2024-09-27_multi-qa-mpnet-base-cos-v1_results.csv\n"
          ]
        }
      ],
      "source": [
        "import os\n",
        "import pandas as pd\n",
        "from datetime import datetime\n",
        "from sentence_transformers import SentenceTransformer, util\n",
        "\n",
        "# Initialize the model\n",
        "model_name = \"multi-qa-mpnet-base-cos-v1\"\n",
        "model = SentenceTransformer(model_name)\n",
        "\n",
        "# Define your queries\n",
        "queries = [\"How did you modify your science lessons?\", \"Why did you make changes to your science lesson?\"]\n",
        "query_embeddings = model.encode(queries)\n",
        "\n",
        "# Specify the folder containing your CSV files\n",
        "folder_path = 'data/Interviews'\n",
        "\n",
        "# Prepare a list to store results\n",
        "results = []\n",
        "\n",
        "# Process each CSV file in the folder\n",
        "for filename in os.listdir(folder_path):\n",
        "    if filename.endswith('.csv'):\n",
        "        # Load the CSV file\n",
        "        df = pd.read_csv(os.path.join(folder_path, filename))\n",
        "\n",
        "        # Check if 'text' column exists\n",
        "        if 'text' in df.columns:\n",
        "            # Compute embeddings for all passages in the 'text' column\n",
        "            passage_embeddings = model.encode(df['text'].tolist())\n",
        "\n",
        "            # Compute similarities for each query\n",
        "            for query, query_embedding in zip(queries, query_embeddings):\n",
        "                similarities = util.cos_sim(query_embedding, passage_embeddings)[0]\n",
        "\n",
        "                # Filter and gather sentences with a similarity score > 0.40\n",
        "                for index, (text, similarity) in enumerate(zip(df['text'], similarities)):\n",
        "                    if similarity > 0.40:\n",
        "                        results.append({\n",
        "                            'sentence_number': index,\n",
        "                            'speaker': df['speaker'][index] if 'speaker' in df.columns else 'Unknown',\n",
        "                            'filename': filename,\n",
        "                            'query': query,\n",
        "                            'text': text,\n",
        "                            'score': float(similarity)\n",
        "                        })\n",
        "\n",
        "# Create DataFrame from results\n",
        "results_df = pd.DataFrame(results)\n",
        "\n",
        "# Generate the filename based on the date and model used\n",
        "date_str = datetime.now().strftime(\"%Y-%m-%d\")\n",
        "output_filename = f'data/Interviews/{date_str}_{model_name}_results.csv'\n",
        "\n",
        "# Save the results to a CSV file\n",
        "results_df.to_csv(output_filename, index=False)\n",
        "\n",
        "print(f\"Results saved to {output_filename}\")\n"
      ]
    },
    {
      "cell_type": "markdown",
      "metadata": {
        "id": "hevJS5zsb5GM"
      },
      "source": []
    },
    {
      "cell_type": "markdown",
      "metadata": {
        "id": "yn0165EQb5GM"
      },
      "source": [
        "https://www.youtube.com/watch?v=6yPWtdgs5Sg"
      ]
    }
  ],
  "metadata": {
    "accelerator": "GPU",
    "colab": {
      "gpuType": "T4",
      "provenance": [],
      "toc_visible": true
    },
    "kernelspec": {
      "display_name": "Python 3",
      "name": "python3"
    },
    "language_info": {
      "codemirror_mode": {
        "name": "ipython",
        "version": 3
      },
      "file_extension": ".py",
      "mimetype": "text/x-python",
      "name": "python",
      "nbconvert_exporter": "python",
      "pygments_lexer": "ipython3",
      "version": "3.11.10"
    },
    "widgets": {
      "application/vnd.jupyter.widget-state+json": {
        "027afd2913164d7fbb7b2c5bd90ad064": {
          "model_module": "@jupyter-widgets/controls",
          "model_module_version": "1.5.0",
          "model_name": "DescriptionStyleModel",
          "state": {
            "_model_module": "@jupyter-widgets/controls",
            "_model_module_version": "1.5.0",
            "_model_name": "DescriptionStyleModel",
            "_view_count": null,
            "_view_module": "@jupyter-widgets/base",
            "_view_module_version": "1.2.0",
            "_view_name": "StyleView",
            "description_width": ""
          }
        },
        "03a5bcb3e2644af3b0d0d495cd67ed3a": {
          "model_module": "@jupyter-widgets/controls",
          "model_module_version": "1.5.0",
          "model_name": "HBoxModel",
          "state": {
            "_dom_classes": [],
            "_model_module": "@jupyter-widgets/controls",
            "_model_module_version": "1.5.0",
            "_model_name": "HBoxModel",
            "_view_count": null,
            "_view_module": "@jupyter-widgets/controls",
            "_view_module_version": "1.5.0",
            "_view_name": "HBoxView",
            "box_style": "",
            "children": [
              "IPY_MODEL_acc62570dad149cc815343d425f66bfe",
              "IPY_MODEL_c2a24e32ff754ed4a02c9487d0d665d2",
              "IPY_MODEL_18f0a804beb64d30ae9c94daee26c6dd"
            ],
            "layout": "IPY_MODEL_28f8d36307c24eefa423900acfc933cd"
          }
        },
        "0452b4123bc44ba18412f82d54fb7002": {
          "model_module": "@jupyter-widgets/controls",
          "model_module_version": "1.5.0",
          "model_name": "DescriptionStyleModel",
          "state": {
            "_model_module": "@jupyter-widgets/controls",
            "_model_module_version": "1.5.0",
            "_model_name": "DescriptionStyleModel",
            "_view_count": null,
            "_view_module": "@jupyter-widgets/base",
            "_view_module_version": "1.2.0",
            "_view_name": "StyleView",
            "description_width": ""
          }
        },
        "04a522de3aa243ad92ff6d4356b07744": {
          "model_module": "@jupyter-widgets/controls",
          "model_module_version": "1.5.0",
          "model_name": "HBoxModel",
          "state": {
            "_dom_classes": [],
            "_model_module": "@jupyter-widgets/controls",
            "_model_module_version": "1.5.0",
            "_model_name": "HBoxModel",
            "_view_count": null,
            "_view_module": "@jupyter-widgets/controls",
            "_view_module_version": "1.5.0",
            "_view_name": "HBoxView",
            "box_style": "",
            "children": [
              "IPY_MODEL_9f63f8776a0e4dc697246c9338cbb7b2",
              "IPY_MODEL_d2ea7ecbb5d64be1910c854c1350c27a",
              "IPY_MODEL_52ccac30a2e3408297bb01e0d84a0b0e"
            ],
            "layout": "IPY_MODEL_15f0faacb4b744fda926fb71d1fcd8f9"
          }
        },
        "06544e7346dc4232a57d87d8dea3bb2c": {
          "model_module": "@jupyter-widgets/base",
          "model_module_version": "1.2.0",
          "model_name": "LayoutModel",
          "state": {
            "_model_module": "@jupyter-widgets/base",
            "_model_module_version": "1.2.0",
            "_model_name": "LayoutModel",
            "_view_count": null,
            "_view_module": "@jupyter-widgets/base",
            "_view_module_version": "1.2.0",
            "_view_name": "LayoutView",
            "align_content": null,
            "align_items": null,
            "align_self": null,
            "border": null,
            "bottom": null,
            "display": null,
            "flex": null,
            "flex_flow": null,
            "grid_area": null,
            "grid_auto_columns": null,
            "grid_auto_flow": null,
            "grid_auto_rows": null,
            "grid_column": null,
            "grid_gap": null,
            "grid_row": null,
            "grid_template_areas": null,
            "grid_template_columns": null,
            "grid_template_rows": null,
            "height": null,
            "justify_content": null,
            "justify_items": null,
            "left": null,
            "margin": null,
            "max_height": null,
            "max_width": null,
            "min_height": null,
            "min_width": null,
            "object_fit": null,
            "object_position": null,
            "order": null,
            "overflow": null,
            "overflow_x": null,
            "overflow_y": null,
            "padding": null,
            "right": null,
            "top": null,
            "visibility": null,
            "width": null
          }
        },
        "08c204c7de5542b4bdbd12fcd71f8f20": {
          "model_module": "@jupyter-widgets/base",
          "model_module_version": "1.2.0",
          "model_name": "LayoutModel",
          "state": {
            "_model_module": "@jupyter-widgets/base",
            "_model_module_version": "1.2.0",
            "_model_name": "LayoutModel",
            "_view_count": null,
            "_view_module": "@jupyter-widgets/base",
            "_view_module_version": "1.2.0",
            "_view_name": "LayoutView",
            "align_content": null,
            "align_items": null,
            "align_self": null,
            "border": null,
            "bottom": null,
            "display": null,
            "flex": null,
            "flex_flow": null,
            "grid_area": null,
            "grid_auto_columns": null,
            "grid_auto_flow": null,
            "grid_auto_rows": null,
            "grid_column": null,
            "grid_gap": null,
            "grid_row": null,
            "grid_template_areas": null,
            "grid_template_columns": null,
            "grid_template_rows": null,
            "height": null,
            "justify_content": null,
            "justify_items": null,
            "left": null,
            "margin": null,
            "max_height": null,
            "max_width": null,
            "min_height": null,
            "min_width": null,
            "object_fit": null,
            "object_position": null,
            "order": null,
            "overflow": null,
            "overflow_x": null,
            "overflow_y": null,
            "padding": null,
            "right": null,
            "top": null,
            "visibility": null,
            "width": null
          }
        },
        "097ad810d44b4a88a8d2d1d15ac79ed7": {
          "model_module": "@jupyter-widgets/controls",
          "model_module_version": "1.5.0",
          "model_name": "DescriptionStyleModel",
          "state": {
            "_model_module": "@jupyter-widgets/controls",
            "_model_module_version": "1.5.0",
            "_model_name": "DescriptionStyleModel",
            "_view_count": null,
            "_view_module": "@jupyter-widgets/base",
            "_view_module_version": "1.2.0",
            "_view_name": "StyleView",
            "description_width": ""
          }
        },
        "0a3d3476dc934a9aa5397bb64d09f75d": {
          "model_module": "@jupyter-widgets/controls",
          "model_module_version": "1.5.0",
          "model_name": "FloatProgressModel",
          "state": {
            "_dom_classes": [],
            "_model_module": "@jupyter-widgets/controls",
            "_model_module_version": "1.5.0",
            "_model_name": "FloatProgressModel",
            "_view_count": null,
            "_view_module": "@jupyter-widgets/controls",
            "_view_module_version": "1.5.0",
            "_view_name": "ProgressView",
            "bar_style": "success",
            "description": "",
            "description_tooltip": null,
            "layout": "IPY_MODEL_7918ae021bc94d018aecbac04c8597fe",
            "max": 53,
            "min": 0,
            "orientation": "horizontal",
            "style": "IPY_MODEL_45fe5d7d5b35484aac8dd35b137b8595",
            "value": 53
          }
        },
        "0a66703586164e259a4561353ab5333e": {
          "model_module": "@jupyter-widgets/controls",
          "model_module_version": "1.5.0",
          "model_name": "HTMLModel",
          "state": {
            "_dom_classes": [],
            "_model_module": "@jupyter-widgets/controls",
            "_model_module_version": "1.5.0",
            "_model_name": "HTMLModel",
            "_view_count": null,
            "_view_module": "@jupyter-widgets/controls",
            "_view_module_version": "1.5.0",
            "_view_name": "HTMLView",
            "description": "",
            "description_tooltip": null,
            "layout": "IPY_MODEL_7aa96a27a11d42e6814efa5e303210da",
            "placeholder": "​",
            "style": "IPY_MODEL_f4d8f201f39f48fca80b7b14fa8c59cc",
            "value": "special_tokens_map.json: 100%"
          }
        },
        "0a68a66b5fa3424eb57ac217eeffb535": {
          "model_module": "@jupyter-widgets/controls",
          "model_module_version": "1.5.0",
          "model_name": "ProgressStyleModel",
          "state": {
            "_model_module": "@jupyter-widgets/controls",
            "_model_module_version": "1.5.0",
            "_model_name": "ProgressStyleModel",
            "_view_count": null,
            "_view_module": "@jupyter-widgets/base",
            "_view_module_version": "1.2.0",
            "_view_name": "StyleView",
            "bar_color": null,
            "description_width": ""
          }
        },
        "0b7725948144469f97d12fc3246a409f": {
          "model_module": "@jupyter-widgets/base",
          "model_module_version": "1.2.0",
          "model_name": "LayoutModel",
          "state": {
            "_model_module": "@jupyter-widgets/base",
            "_model_module_version": "1.2.0",
            "_model_name": "LayoutModel",
            "_view_count": null,
            "_view_module": "@jupyter-widgets/base",
            "_view_module_version": "1.2.0",
            "_view_name": "LayoutView",
            "align_content": null,
            "align_items": null,
            "align_self": null,
            "border": null,
            "bottom": null,
            "display": null,
            "flex": null,
            "flex_flow": null,
            "grid_area": null,
            "grid_auto_columns": null,
            "grid_auto_flow": null,
            "grid_auto_rows": null,
            "grid_column": null,
            "grid_gap": null,
            "grid_row": null,
            "grid_template_areas": null,
            "grid_template_columns": null,
            "grid_template_rows": null,
            "height": null,
            "justify_content": null,
            "justify_items": null,
            "left": null,
            "margin": null,
            "max_height": null,
            "max_width": null,
            "min_height": null,
            "min_width": null,
            "object_fit": null,
            "object_position": null,
            "order": null,
            "overflow": null,
            "overflow_x": null,
            "overflow_y": null,
            "padding": null,
            "right": null,
            "top": null,
            "visibility": null,
            "width": null
          }
        },
        "0babcc6132964887a10015b11baee3d4": {
          "model_module": "@jupyter-widgets/base",
          "model_module_version": "1.2.0",
          "model_name": "LayoutModel",
          "state": {
            "_model_module": "@jupyter-widgets/base",
            "_model_module_version": "1.2.0",
            "_model_name": "LayoutModel",
            "_view_count": null,
            "_view_module": "@jupyter-widgets/base",
            "_view_module_version": "1.2.0",
            "_view_name": "LayoutView",
            "align_content": null,
            "align_items": null,
            "align_self": null,
            "border": null,
            "bottom": null,
            "display": null,
            "flex": null,
            "flex_flow": null,
            "grid_area": null,
            "grid_auto_columns": null,
            "grid_auto_flow": null,
            "grid_auto_rows": null,
            "grid_column": null,
            "grid_gap": null,
            "grid_row": null,
            "grid_template_areas": null,
            "grid_template_columns": null,
            "grid_template_rows": null,
            "height": null,
            "justify_content": null,
            "justify_items": null,
            "left": null,
            "margin": null,
            "max_height": null,
            "max_width": null,
            "min_height": null,
            "min_width": null,
            "object_fit": null,
            "object_position": null,
            "order": null,
            "overflow": null,
            "overflow_x": null,
            "overflow_y": null,
            "padding": null,
            "right": null,
            "top": null,
            "visibility": null,
            "width": null
          }
        },
        "0c95b065ee7c4d4aa5b4763234031e78": {
          "model_module": "@jupyter-widgets/controls",
          "model_module_version": "1.5.0",
          "model_name": "ProgressStyleModel",
          "state": {
            "_model_module": "@jupyter-widgets/controls",
            "_model_module_version": "1.5.0",
            "_model_name": "ProgressStyleModel",
            "_view_count": null,
            "_view_module": "@jupyter-widgets/base",
            "_view_module_version": "1.2.0",
            "_view_name": "StyleView",
            "bar_color": null,
            "description_width": ""
          }
        },
        "0ca168c30e7c4b639ce5ac55c5ebeb08": {
          "model_module": "@jupyter-widgets/controls",
          "model_module_version": "1.5.0",
          "model_name": "ProgressStyleModel",
          "state": {
            "_model_module": "@jupyter-widgets/controls",
            "_model_module_version": "1.5.0",
            "_model_name": "ProgressStyleModel",
            "_view_count": null,
            "_view_module": "@jupyter-widgets/base",
            "_view_module_version": "1.2.0",
            "_view_name": "StyleView",
            "bar_color": null,
            "description_width": ""
          }
        },
        "0fd75bd1f42a486fb15877a9299e5a10": {
          "model_module": "@jupyter-widgets/base",
          "model_module_version": "1.2.0",
          "model_name": "LayoutModel",
          "state": {
            "_model_module": "@jupyter-widgets/base",
            "_model_module_version": "1.2.0",
            "_model_name": "LayoutModel",
            "_view_count": null,
            "_view_module": "@jupyter-widgets/base",
            "_view_module_version": "1.2.0",
            "_view_name": "LayoutView",
            "align_content": null,
            "align_items": null,
            "align_self": null,
            "border": null,
            "bottom": null,
            "display": null,
            "flex": null,
            "flex_flow": null,
            "grid_area": null,
            "grid_auto_columns": null,
            "grid_auto_flow": null,
            "grid_auto_rows": null,
            "grid_column": null,
            "grid_gap": null,
            "grid_row": null,
            "grid_template_areas": null,
            "grid_template_columns": null,
            "grid_template_rows": null,
            "height": null,
            "justify_content": null,
            "justify_items": null,
            "left": null,
            "margin": null,
            "max_height": null,
            "max_width": null,
            "min_height": null,
            "min_width": null,
            "object_fit": null,
            "object_position": null,
            "order": null,
            "overflow": null,
            "overflow_x": null,
            "overflow_y": null,
            "padding": null,
            "right": null,
            "top": null,
            "visibility": null,
            "width": null
          }
        },
        "103de3c4126c4beeac46d16514264b7f": {
          "model_module": "@jupyter-widgets/base",
          "model_module_version": "1.2.0",
          "model_name": "LayoutModel",
          "state": {
            "_model_module": "@jupyter-widgets/base",
            "_model_module_version": "1.2.0",
            "_model_name": "LayoutModel",
            "_view_count": null,
            "_view_module": "@jupyter-widgets/base",
            "_view_module_version": "1.2.0",
            "_view_name": "LayoutView",
            "align_content": null,
            "align_items": null,
            "align_self": null,
            "border": null,
            "bottom": null,
            "display": null,
            "flex": null,
            "flex_flow": null,
            "grid_area": null,
            "grid_auto_columns": null,
            "grid_auto_flow": null,
            "grid_auto_rows": null,
            "grid_column": null,
            "grid_gap": null,
            "grid_row": null,
            "grid_template_areas": null,
            "grid_template_columns": null,
            "grid_template_rows": null,
            "height": null,
            "justify_content": null,
            "justify_items": null,
            "left": null,
            "margin": null,
            "max_height": null,
            "max_width": null,
            "min_height": null,
            "min_width": null,
            "object_fit": null,
            "object_position": null,
            "order": null,
            "overflow": null,
            "overflow_x": null,
            "overflow_y": null,
            "padding": null,
            "right": null,
            "top": null,
            "visibility": null,
            "width": null
          }
        },
        "116fe4856a014cdabaf8cfd6f1f02ace": {
          "model_module": "@jupyter-widgets/controls",
          "model_module_version": "1.5.0",
          "model_name": "HTMLModel",
          "state": {
            "_dom_classes": [],
            "_model_module": "@jupyter-widgets/controls",
            "_model_module_version": "1.5.0",
            "_model_name": "HTMLModel",
            "_view_count": null,
            "_view_module": "@jupyter-widgets/controls",
            "_view_module_version": "1.5.0",
            "_view_name": "HTMLView",
            "description": "",
            "description_tooltip": null,
            "layout": "IPY_MODEL_06544e7346dc4232a57d87d8dea3bb2c",
            "placeholder": "​",
            "style": "IPY_MODEL_ce418d12184a4f4a8cc2fea48d6c2f43",
            "value": " 122/122 [00:00&lt;00:00, 8.39kB/s]"
          }
        },
        "11ccbd0ced91423bbcb72b3c0bbaeb79": {
          "model_module": "@jupyter-widgets/controls",
          "model_module_version": "1.5.0",
          "model_name": "HTMLModel",
          "state": {
            "_dom_classes": [],
            "_model_module": "@jupyter-widgets/controls",
            "_model_module_version": "1.5.0",
            "_model_name": "HTMLModel",
            "_view_count": null,
            "_view_module": "@jupyter-widgets/controls",
            "_view_module_version": "1.5.0",
            "_view_name": "HTMLView",
            "description": "",
            "description_tooltip": null,
            "layout": "IPY_MODEL_ef486ae8a65a4468abd5170695dbe99e",
            "placeholder": "​",
            "style": "IPY_MODEL_489bd78d2e004e58a0bad358a7cdee3e",
            "value": " 363/363 [00:00&lt;00:00, 19.3kB/s]"
          }
        },
        "12eb3119183641acb0e39c53c8513fd8": {
          "model_module": "@jupyter-widgets/controls",
          "model_module_version": "1.5.0",
          "model_name": "HBoxModel",
          "state": {
            "_dom_classes": [],
            "_model_module": "@jupyter-widgets/controls",
            "_model_module_version": "1.5.0",
            "_model_name": "HBoxModel",
            "_view_count": null,
            "_view_module": "@jupyter-widgets/controls",
            "_view_module_version": "1.5.0",
            "_view_name": "HBoxView",
            "box_style": "",
            "children": [
              "IPY_MODEL_22f12fafde17476a9cf52d78d4031e73",
              "IPY_MODEL_b736267290644496a77ac25dcc4119b4",
              "IPY_MODEL_937b8443783549d08f5ebaf02d82096d"
            ],
            "layout": "IPY_MODEL_51881a8fc4e340f980a7c70a0222aa39"
          }
        },
        "149281905bcc4ee385c1e0acfb95596d": {
          "model_module": "@jupyter-widgets/controls",
          "model_module_version": "1.5.0",
          "model_name": "DescriptionStyleModel",
          "state": {
            "_model_module": "@jupyter-widgets/controls",
            "_model_module_version": "1.5.0",
            "_model_name": "DescriptionStyleModel",
            "_view_count": null,
            "_view_module": "@jupyter-widgets/base",
            "_view_module_version": "1.2.0",
            "_view_name": "StyleView",
            "description_width": ""
          }
        },
        "15d4b1493fb042198ef66978a04d3552": {
          "model_module": "@jupyter-widgets/base",
          "model_module_version": "1.2.0",
          "model_name": "LayoutModel",
          "state": {
            "_model_module": "@jupyter-widgets/base",
            "_model_module_version": "1.2.0",
            "_model_name": "LayoutModel",
            "_view_count": null,
            "_view_module": "@jupyter-widgets/base",
            "_view_module_version": "1.2.0",
            "_view_name": "LayoutView",
            "align_content": null,
            "align_items": null,
            "align_self": null,
            "border": null,
            "bottom": null,
            "display": null,
            "flex": null,
            "flex_flow": null,
            "grid_area": null,
            "grid_auto_columns": null,
            "grid_auto_flow": null,
            "grid_auto_rows": null,
            "grid_column": null,
            "grid_gap": null,
            "grid_row": null,
            "grid_template_areas": null,
            "grid_template_columns": null,
            "grid_template_rows": null,
            "height": null,
            "justify_content": null,
            "justify_items": null,
            "left": null,
            "margin": null,
            "max_height": null,
            "max_width": null,
            "min_height": null,
            "min_width": null,
            "object_fit": null,
            "object_position": null,
            "order": null,
            "overflow": null,
            "overflow_x": null,
            "overflow_y": null,
            "padding": null,
            "right": null,
            "top": null,
            "visibility": null,
            "width": null
          }
        },
        "15f0faacb4b744fda926fb71d1fcd8f9": {
          "model_module": "@jupyter-widgets/base",
          "model_module_version": "1.2.0",
          "model_name": "LayoutModel",
          "state": {
            "_model_module": "@jupyter-widgets/base",
            "_model_module_version": "1.2.0",
            "_model_name": "LayoutModel",
            "_view_count": null,
            "_view_module": "@jupyter-widgets/base",
            "_view_module_version": "1.2.0",
            "_view_name": "LayoutView",
            "align_content": null,
            "align_items": null,
            "align_self": null,
            "border": null,
            "bottom": null,
            "display": null,
            "flex": null,
            "flex_flow": null,
            "grid_area": null,
            "grid_auto_columns": null,
            "grid_auto_flow": null,
            "grid_auto_rows": null,
            "grid_column": null,
            "grid_gap": null,
            "grid_row": null,
            "grid_template_areas": null,
            "grid_template_columns": null,
            "grid_template_rows": null,
            "height": null,
            "justify_content": null,
            "justify_items": null,
            "left": null,
            "margin": null,
            "max_height": null,
            "max_width": null,
            "min_height": null,
            "min_width": null,
            "object_fit": null,
            "object_position": null,
            "order": null,
            "overflow": null,
            "overflow_x": null,
            "overflow_y": null,
            "padding": null,
            "right": null,
            "top": null,
            "visibility": null,
            "width": null
          }
        },
        "18f0a804beb64d30ae9c94daee26c6dd": {
          "model_module": "@jupyter-widgets/controls",
          "model_module_version": "1.5.0",
          "model_name": "HTMLModel",
          "state": {
            "_dom_classes": [],
            "_model_module": "@jupyter-widgets/controls",
            "_model_module_version": "1.5.0",
            "_model_name": "HTMLModel",
            "_view_count": null,
            "_view_module": "@jupyter-widgets/controls",
            "_view_module_version": "1.5.0",
            "_view_name": "HTMLView",
            "description": "",
            "description_tooltip": null,
            "layout": "IPY_MODEL_9ab0f4b4c8344b0b8f81e5eb8058dbc9",
            "placeholder": "​",
            "style": "IPY_MODEL_e77dcc60a18944feb6778ecf0f349ef6",
            "value": " 438M/438M [00:05&lt;00:00, 108MB/s]"
          }
        },
        "19709dd70125417eb77e4fda436e5acb": {
          "model_module": "@jupyter-widgets/base",
          "model_module_version": "1.2.0",
          "model_name": "LayoutModel",
          "state": {
            "_model_module": "@jupyter-widgets/base",
            "_model_module_version": "1.2.0",
            "_model_name": "LayoutModel",
            "_view_count": null,
            "_view_module": "@jupyter-widgets/base",
            "_view_module_version": "1.2.0",
            "_view_name": "LayoutView",
            "align_content": null,
            "align_items": null,
            "align_self": null,
            "border": null,
            "bottom": null,
            "display": null,
            "flex": null,
            "flex_flow": null,
            "grid_area": null,
            "grid_auto_columns": null,
            "grid_auto_flow": null,
            "grid_auto_rows": null,
            "grid_column": null,
            "grid_gap": null,
            "grid_row": null,
            "grid_template_areas": null,
            "grid_template_columns": null,
            "grid_template_rows": null,
            "height": null,
            "justify_content": null,
            "justify_items": null,
            "left": null,
            "margin": null,
            "max_height": null,
            "max_width": null,
            "min_height": null,
            "min_width": null,
            "object_fit": null,
            "object_position": null,
            "order": null,
            "overflow": null,
            "overflow_x": null,
            "overflow_y": null,
            "padding": null,
            "right": null,
            "top": null,
            "visibility": null,
            "width": null
          }
        },
        "19cf8f5d95af426db9ba202c1e5813c4": {
          "model_module": "@jupyter-widgets/controls",
          "model_module_version": "1.5.0",
          "model_name": "HTMLModel",
          "state": {
            "_dom_classes": [],
            "_model_module": "@jupyter-widgets/controls",
            "_model_module_version": "1.5.0",
            "_model_name": "HTMLModel",
            "_view_count": null,
            "_view_module": "@jupyter-widgets/controls",
            "_view_module_version": "1.5.0",
            "_view_name": "HTMLView",
            "description": "",
            "description_tooltip": null,
            "layout": "IPY_MODEL_103de3c4126c4beeac46d16514264b7f",
            "placeholder": "​",
            "style": "IPY_MODEL_41dbb65241da4d8e84c271cd5ab85ea3",
            "value": " 239/239 [00:00&lt;00:00, 14.5kB/s]"
          }
        },
        "1c06fd720d65494f90f145750919ea15": {
          "model_module": "@jupyter-widgets/controls",
          "model_module_version": "1.5.0",
          "model_name": "HBoxModel",
          "state": {
            "_dom_classes": [],
            "_model_module": "@jupyter-widgets/controls",
            "_model_module_version": "1.5.0",
            "_model_name": "HBoxModel",
            "_view_count": null,
            "_view_module": "@jupyter-widgets/controls",
            "_view_module_version": "1.5.0",
            "_view_name": "HBoxView",
            "box_style": "",
            "children": [
              "IPY_MODEL_7b52bb26066744cd920e13ddb550dabd",
              "IPY_MODEL_6d9b6c73e9864b658131dbdc518272ba",
              "IPY_MODEL_e3a157b2cefc4109815594cc27e9571e"
            ],
            "layout": "IPY_MODEL_cc2100d8fc004244843b658f4f5d840b"
          }
        },
        "1c0bbfe9b4524ccdbd47ccd219d16b73": {
          "model_module": "@jupyter-widgets/controls",
          "model_module_version": "1.5.0",
          "model_name": "DescriptionStyleModel",
          "state": {
            "_model_module": "@jupyter-widgets/controls",
            "_model_module_version": "1.5.0",
            "_model_name": "DescriptionStyleModel",
            "_view_count": null,
            "_view_module": "@jupyter-widgets/base",
            "_view_module_version": "1.2.0",
            "_view_name": "StyleView",
            "description_width": ""
          }
        },
        "1ca4836a3489481f99e89911d7391261": {
          "model_module": "@jupyter-widgets/controls",
          "model_module_version": "1.5.0",
          "model_name": "HBoxModel",
          "state": {
            "_dom_classes": [],
            "_model_module": "@jupyter-widgets/controls",
            "_model_module_version": "1.5.0",
            "_model_name": "HBoxModel",
            "_view_count": null,
            "_view_module": "@jupyter-widgets/controls",
            "_view_module_version": "1.5.0",
            "_view_name": "HBoxView",
            "box_style": "",
            "children": [
              "IPY_MODEL_1fdcb3e44bdd4fcba1f87c013135ae39",
              "IPY_MODEL_3a8d3a878f6640acaeaf0645d7518860",
              "IPY_MODEL_749c6386151e4953b6551ceb7c51e795"
            ],
            "layout": "IPY_MODEL_c56cddbbbe0e4cf29f80f3a3d74c82eb"
          }
        },
        "1cdb283a39094685961b5ee9594fe41d": {
          "model_module": "@jupyter-widgets/base",
          "model_module_version": "1.2.0",
          "model_name": "LayoutModel",
          "state": {
            "_model_module": "@jupyter-widgets/base",
            "_model_module_version": "1.2.0",
            "_model_name": "LayoutModel",
            "_view_count": null,
            "_view_module": "@jupyter-widgets/base",
            "_view_module_version": "1.2.0",
            "_view_name": "LayoutView",
            "align_content": null,
            "align_items": null,
            "align_self": null,
            "border": null,
            "bottom": null,
            "display": null,
            "flex": null,
            "flex_flow": null,
            "grid_area": null,
            "grid_auto_columns": null,
            "grid_auto_flow": null,
            "grid_auto_rows": null,
            "grid_column": null,
            "grid_gap": null,
            "grid_row": null,
            "grid_template_areas": null,
            "grid_template_columns": null,
            "grid_template_rows": null,
            "height": null,
            "justify_content": null,
            "justify_items": null,
            "left": null,
            "margin": null,
            "max_height": null,
            "max_width": null,
            "min_height": null,
            "min_width": null,
            "object_fit": null,
            "object_position": null,
            "order": null,
            "overflow": null,
            "overflow_x": null,
            "overflow_y": null,
            "padding": null,
            "right": null,
            "top": null,
            "visibility": null,
            "width": null
          }
        },
        "1e0ec9b7f4ca41599506a9ef303cf09f": {
          "model_module": "@jupyter-widgets/base",
          "model_module_version": "1.2.0",
          "model_name": "LayoutModel",
          "state": {
            "_model_module": "@jupyter-widgets/base",
            "_model_module_version": "1.2.0",
            "_model_name": "LayoutModel",
            "_view_count": null,
            "_view_module": "@jupyter-widgets/base",
            "_view_module_version": "1.2.0",
            "_view_name": "LayoutView",
            "align_content": null,
            "align_items": null,
            "align_self": null,
            "border": null,
            "bottom": null,
            "display": null,
            "flex": null,
            "flex_flow": null,
            "grid_area": null,
            "grid_auto_columns": null,
            "grid_auto_flow": null,
            "grid_auto_rows": null,
            "grid_column": null,
            "grid_gap": null,
            "grid_row": null,
            "grid_template_areas": null,
            "grid_template_columns": null,
            "grid_template_rows": null,
            "height": null,
            "justify_content": null,
            "justify_items": null,
            "left": null,
            "margin": null,
            "max_height": null,
            "max_width": null,
            "min_height": null,
            "min_width": null,
            "object_fit": null,
            "object_position": null,
            "order": null,
            "overflow": null,
            "overflow_x": null,
            "overflow_y": null,
            "padding": null,
            "right": null,
            "top": null,
            "visibility": null,
            "width": null
          }
        },
        "1f581a3033684475b1f8f747f4fd1130": {
          "model_module": "@jupyter-widgets/controls",
          "model_module_version": "1.5.0",
          "model_name": "ProgressStyleModel",
          "state": {
            "_model_module": "@jupyter-widgets/controls",
            "_model_module_version": "1.5.0",
            "_model_name": "ProgressStyleModel",
            "_view_count": null,
            "_view_module": "@jupyter-widgets/base",
            "_view_module_version": "1.2.0",
            "_view_name": "StyleView",
            "bar_color": null,
            "description_width": ""
          }
        },
        "1f636992cd614aed8b6a1541f00f9429": {
          "model_module": "@jupyter-widgets/controls",
          "model_module_version": "1.5.0",
          "model_name": "HBoxModel",
          "state": {
            "_dom_classes": [],
            "_model_module": "@jupyter-widgets/controls",
            "_model_module_version": "1.5.0",
            "_model_name": "HBoxModel",
            "_view_count": null,
            "_view_module": "@jupyter-widgets/controls",
            "_view_module_version": "1.5.0",
            "_view_name": "HBoxView",
            "box_style": "",
            "children": [
              "IPY_MODEL_381e74b5f6924375bd03b4f7fe365bda",
              "IPY_MODEL_d9a6fcd976a04abeac03b59159afd059",
              "IPY_MODEL_c15aee611c0040a6b81db90770d4eb98"
            ],
            "layout": "IPY_MODEL_de09fadbcaf0456bbaba71f7fd6b2697"
          }
        },
        "1fdcb3e44bdd4fcba1f87c013135ae39": {
          "model_module": "@jupyter-widgets/controls",
          "model_module_version": "1.5.0",
          "model_name": "HTMLModel",
          "state": {
            "_dom_classes": [],
            "_model_module": "@jupyter-widgets/controls",
            "_model_module_version": "1.5.0",
            "_model_name": "HTMLModel",
            "_view_count": null,
            "_view_module": "@jupyter-widgets/controls",
            "_view_module_version": "1.5.0",
            "_view_name": "HTMLView",
            "description": "",
            "description_tooltip": null,
            "layout": "IPY_MODEL_6136a1c60c7e445e96b4453e32608960",
            "placeholder": "​",
            "style": "IPY_MODEL_5235a08a9d7c4fd48306dacd36e63238",
            "value": "vocab.txt: 100%"
          }
        },
        "207319ae1a574529a2cfced857c61b98": {
          "model_module": "@jupyter-widgets/controls",
          "model_module_version": "1.5.0",
          "model_name": "ProgressStyleModel",
          "state": {
            "_model_module": "@jupyter-widgets/controls",
            "_model_module_version": "1.5.0",
            "_model_name": "ProgressStyleModel",
            "_view_count": null,
            "_view_module": "@jupyter-widgets/base",
            "_view_module_version": "1.2.0",
            "_view_name": "StyleView",
            "bar_color": null,
            "description_width": ""
          }
        },
        "20c7c5a982bf4cff8043fe9fb6919150": {
          "model_module": "@jupyter-widgets/controls",
          "model_module_version": "1.5.0",
          "model_name": "ProgressStyleModel",
          "state": {
            "_model_module": "@jupyter-widgets/controls",
            "_model_module_version": "1.5.0",
            "_model_name": "ProgressStyleModel",
            "_view_count": null,
            "_view_module": "@jupyter-widgets/base",
            "_view_module_version": "1.2.0",
            "_view_name": "StyleView",
            "bar_color": null,
            "description_width": ""
          }
        },
        "22f12fafde17476a9cf52d78d4031e73": {
          "model_module": "@jupyter-widgets/controls",
          "model_module_version": "1.5.0",
          "model_name": "HTMLModel",
          "state": {
            "_dom_classes": [],
            "_model_module": "@jupyter-widgets/controls",
            "_model_module_version": "1.5.0",
            "_model_name": "HTMLModel",
            "_view_count": null,
            "_view_module": "@jupyter-widgets/controls",
            "_view_module_version": "1.5.0",
            "_view_name": "HTMLView",
            "description": "",
            "description_tooltip": null,
            "layout": "IPY_MODEL_403b0bd62ee44fe986728c5e4b8b46c8",
            "placeholder": "​",
            "style": "IPY_MODEL_97997be1f7ff45e0aaee211a5268030f",
            "value": "Batches: 100%"
          }
        },
        "23025704028b4e8c8a1a2d7c8dd1bd6a": {
          "model_module": "@jupyter-widgets/controls",
          "model_module_version": "1.5.0",
          "model_name": "FloatProgressModel",
          "state": {
            "_dom_classes": [],
            "_model_module": "@jupyter-widgets/controls",
            "_model_module_version": "1.5.0",
            "_model_name": "FloatProgressModel",
            "_view_count": null,
            "_view_module": "@jupyter-widgets/controls",
            "_view_module_version": "1.5.0",
            "_view_name": "ProgressView",
            "bar_style": "success",
            "description": "",
            "description_tooltip": null,
            "layout": "IPY_MODEL_e5ee61f7d5f0478aa16143a8ca012edc",
            "max": 231536,
            "min": 0,
            "orientation": "horizontal",
            "style": "IPY_MODEL_8cce8cb644df49bbbef25200e03edb33",
            "value": 231536
          }
        },
        "23783c731ee44872a0baa241fb3a3411": {
          "model_module": "@jupyter-widgets/base",
          "model_module_version": "1.2.0",
          "model_name": "LayoutModel",
          "state": {
            "_model_module": "@jupyter-widgets/base",
            "_model_module_version": "1.2.0",
            "_model_name": "LayoutModel",
            "_view_count": null,
            "_view_module": "@jupyter-widgets/base",
            "_view_module_version": "1.2.0",
            "_view_name": "LayoutView",
            "align_content": null,
            "align_items": null,
            "align_self": null,
            "border": null,
            "bottom": null,
            "display": null,
            "flex": null,
            "flex_flow": null,
            "grid_area": null,
            "grid_auto_columns": null,
            "grid_auto_flow": null,
            "grid_auto_rows": null,
            "grid_column": null,
            "grid_gap": null,
            "grid_row": null,
            "grid_template_areas": null,
            "grid_template_columns": null,
            "grid_template_rows": null,
            "height": null,
            "justify_content": null,
            "justify_items": null,
            "left": null,
            "margin": null,
            "max_height": null,
            "max_width": null,
            "min_height": null,
            "min_width": null,
            "object_fit": null,
            "object_position": null,
            "order": null,
            "overflow": null,
            "overflow_x": null,
            "overflow_y": null,
            "padding": null,
            "right": null,
            "top": null,
            "visibility": null,
            "width": null
          }
        },
        "2466550c41094c6c9feaae2fb095c8f3": {
          "model_module": "@jupyter-widgets/base",
          "model_module_version": "1.2.0",
          "model_name": "LayoutModel",
          "state": {
            "_model_module": "@jupyter-widgets/base",
            "_model_module_version": "1.2.0",
            "_model_name": "LayoutModel",
            "_view_count": null,
            "_view_module": "@jupyter-widgets/base",
            "_view_module_version": "1.2.0",
            "_view_name": "LayoutView",
            "align_content": null,
            "align_items": null,
            "align_self": null,
            "border": null,
            "bottom": null,
            "display": null,
            "flex": null,
            "flex_flow": null,
            "grid_area": null,
            "grid_auto_columns": null,
            "grid_auto_flow": null,
            "grid_auto_rows": null,
            "grid_column": null,
            "grid_gap": null,
            "grid_row": null,
            "grid_template_areas": null,
            "grid_template_columns": null,
            "grid_template_rows": null,
            "height": null,
            "justify_content": null,
            "justify_items": null,
            "left": null,
            "margin": null,
            "max_height": null,
            "max_width": null,
            "min_height": null,
            "min_width": null,
            "object_fit": null,
            "object_position": null,
            "order": null,
            "overflow": null,
            "overflow_x": null,
            "overflow_y": null,
            "padding": null,
            "right": null,
            "top": null,
            "visibility": null,
            "width": null
          }
        },
        "2574eedba072450a90b4919a627e182a": {
          "model_module": "@jupyter-widgets/base",
          "model_module_version": "1.2.0",
          "model_name": "LayoutModel",
          "state": {
            "_model_module": "@jupyter-widgets/base",
            "_model_module_version": "1.2.0",
            "_model_name": "LayoutModel",
            "_view_count": null,
            "_view_module": "@jupyter-widgets/base",
            "_view_module_version": "1.2.0",
            "_view_name": "LayoutView",
            "align_content": null,
            "align_items": null,
            "align_self": null,
            "border": null,
            "bottom": null,
            "display": null,
            "flex": null,
            "flex_flow": null,
            "grid_area": null,
            "grid_auto_columns": null,
            "grid_auto_flow": null,
            "grid_auto_rows": null,
            "grid_column": null,
            "grid_gap": null,
            "grid_row": null,
            "grid_template_areas": null,
            "grid_template_columns": null,
            "grid_template_rows": null,
            "height": null,
            "justify_content": null,
            "justify_items": null,
            "left": null,
            "margin": null,
            "max_height": null,
            "max_width": null,
            "min_height": null,
            "min_width": null,
            "object_fit": null,
            "object_position": null,
            "order": null,
            "overflow": null,
            "overflow_x": null,
            "overflow_y": null,
            "padding": null,
            "right": null,
            "top": null,
            "visibility": null,
            "width": null
          }
        },
        "25f9810ac4a240b99ec5969fae8101a3": {
          "model_module": "@jupyter-widgets/controls",
          "model_module_version": "1.5.0",
          "model_name": "DescriptionStyleModel",
          "state": {
            "_model_module": "@jupyter-widgets/controls",
            "_model_module_version": "1.5.0",
            "_model_name": "DescriptionStyleModel",
            "_view_count": null,
            "_view_module": "@jupyter-widgets/base",
            "_view_module_version": "1.2.0",
            "_view_name": "StyleView",
            "description_width": ""
          }
        },
        "2834482001894a6b9a1698d7cee65f7a": {
          "model_module": "@jupyter-widgets/base",
          "model_module_version": "1.2.0",
          "model_name": "LayoutModel",
          "state": {
            "_model_module": "@jupyter-widgets/base",
            "_model_module_version": "1.2.0",
            "_model_name": "LayoutModel",
            "_view_count": null,
            "_view_module": "@jupyter-widgets/base",
            "_view_module_version": "1.2.0",
            "_view_name": "LayoutView",
            "align_content": null,
            "align_items": null,
            "align_self": null,
            "border": null,
            "bottom": null,
            "display": null,
            "flex": null,
            "flex_flow": null,
            "grid_area": null,
            "grid_auto_columns": null,
            "grid_auto_flow": null,
            "grid_auto_rows": null,
            "grid_column": null,
            "grid_gap": null,
            "grid_row": null,
            "grid_template_areas": null,
            "grid_template_columns": null,
            "grid_template_rows": null,
            "height": null,
            "justify_content": null,
            "justify_items": null,
            "left": null,
            "margin": null,
            "max_height": null,
            "max_width": null,
            "min_height": null,
            "min_width": null,
            "object_fit": null,
            "object_position": null,
            "order": null,
            "overflow": null,
            "overflow_x": null,
            "overflow_y": null,
            "padding": null,
            "right": null,
            "top": null,
            "visibility": null,
            "width": null
          }
        },
        "28f8d36307c24eefa423900acfc933cd": {
          "model_module": "@jupyter-widgets/base",
          "model_module_version": "1.2.0",
          "model_name": "LayoutModel",
          "state": {
            "_model_module": "@jupyter-widgets/base",
            "_model_module_version": "1.2.0",
            "_model_name": "LayoutModel",
            "_view_count": null,
            "_view_module": "@jupyter-widgets/base",
            "_view_module_version": "1.2.0",
            "_view_name": "LayoutView",
            "align_content": null,
            "align_items": null,
            "align_self": null,
            "border": null,
            "bottom": null,
            "display": null,
            "flex": null,
            "flex_flow": null,
            "grid_area": null,
            "grid_auto_columns": null,
            "grid_auto_flow": null,
            "grid_auto_rows": null,
            "grid_column": null,
            "grid_gap": null,
            "grid_row": null,
            "grid_template_areas": null,
            "grid_template_columns": null,
            "grid_template_rows": null,
            "height": null,
            "justify_content": null,
            "justify_items": null,
            "left": null,
            "margin": null,
            "max_height": null,
            "max_width": null,
            "min_height": null,
            "min_width": null,
            "object_fit": null,
            "object_position": null,
            "order": null,
            "overflow": null,
            "overflow_x": null,
            "overflow_y": null,
            "padding": null,
            "right": null,
            "top": null,
            "visibility": null,
            "width": null
          }
        },
        "2b52e7e236714354838ba937cd3e209a": {
          "model_module": "@jupyter-widgets/controls",
          "model_module_version": "1.5.0",
          "model_name": "HTMLModel",
          "state": {
            "_dom_classes": [],
            "_model_module": "@jupyter-widgets/controls",
            "_model_module_version": "1.5.0",
            "_model_name": "HTMLModel",
            "_view_count": null,
            "_view_module": "@jupyter-widgets/controls",
            "_view_module_version": "1.5.0",
            "_view_name": "HTMLView",
            "description": "",
            "description_tooltip": null,
            "layout": "IPY_MODEL_74cff8617e6d4a0e98d7e8047849e1c1",
            "placeholder": "​",
            "style": "IPY_MODEL_4dcbf9c25b3c4ac3a3682d715fb18d4f",
            "value": "modules.json: 100%"
          }
        },
        "2c1dcbe75bc04f2db04f4f33359863c9": {
          "model_module": "@jupyter-widgets/base",
          "model_module_version": "1.2.0",
          "model_name": "LayoutModel",
          "state": {
            "_model_module": "@jupyter-widgets/base",
            "_model_module_version": "1.2.0",
            "_model_name": "LayoutModel",
            "_view_count": null,
            "_view_module": "@jupyter-widgets/base",
            "_view_module_version": "1.2.0",
            "_view_name": "LayoutView",
            "align_content": null,
            "align_items": null,
            "align_self": null,
            "border": null,
            "bottom": null,
            "display": null,
            "flex": null,
            "flex_flow": null,
            "grid_area": null,
            "grid_auto_columns": null,
            "grid_auto_flow": null,
            "grid_auto_rows": null,
            "grid_column": null,
            "grid_gap": null,
            "grid_row": null,
            "grid_template_areas": null,
            "grid_template_columns": null,
            "grid_template_rows": null,
            "height": null,
            "justify_content": null,
            "justify_items": null,
            "left": null,
            "margin": null,
            "max_height": null,
            "max_width": null,
            "min_height": null,
            "min_width": null,
            "object_fit": null,
            "object_position": null,
            "order": null,
            "overflow": null,
            "overflow_x": null,
            "overflow_y": null,
            "padding": null,
            "right": null,
            "top": null,
            "visibility": null,
            "width": null
          }
        },
        "2e264a83a9ae4cf58c1227711bf1d504": {
          "model_module": "@jupyter-widgets/controls",
          "model_module_version": "1.5.0",
          "model_name": "HBoxModel",
          "state": {
            "_dom_classes": [],
            "_model_module": "@jupyter-widgets/controls",
            "_model_module_version": "1.5.0",
            "_model_name": "HBoxModel",
            "_view_count": null,
            "_view_module": "@jupyter-widgets/controls",
            "_view_module_version": "1.5.0",
            "_view_name": "HBoxView",
            "box_style": "",
            "children": [
              "IPY_MODEL_7341cf8fded74e619859265a9a83e1a9",
              "IPY_MODEL_dcc07b45d25d4b719755740ca8a3e200",
              "IPY_MODEL_3ebf76790e614a15884a7dca820319ea"
            ],
            "layout": "IPY_MODEL_cc4b1eb816184419b5f31ab6bf8ad6bc"
          }
        },
        "2ec4cbb68f584510b3066189f829a7e2": {
          "model_module": "@jupyter-widgets/controls",
          "model_module_version": "1.5.0",
          "model_name": "ProgressStyleModel",
          "state": {
            "_model_module": "@jupyter-widgets/controls",
            "_model_module_version": "1.5.0",
            "_model_name": "ProgressStyleModel",
            "_view_count": null,
            "_view_module": "@jupyter-widgets/base",
            "_view_module_version": "1.2.0",
            "_view_name": "StyleView",
            "bar_color": null,
            "description_width": ""
          }
        },
        "2ed100948aed4db3ba6f4cda3c6b0cdd": {
          "model_module": "@jupyter-widgets/controls",
          "model_module_version": "1.5.0",
          "model_name": "FloatProgressModel",
          "state": {
            "_dom_classes": [],
            "_model_module": "@jupyter-widgets/controls",
            "_model_module_version": "1.5.0",
            "_model_name": "FloatProgressModel",
            "_view_count": null,
            "_view_module": "@jupyter-widgets/controls",
            "_view_module_version": "1.5.0",
            "_view_name": "ProgressView",
            "bar_style": "success",
            "description": "",
            "description_tooltip": null,
            "layout": "IPY_MODEL_6c10cf1ad2e04dc1be8c821a69f6198b",
            "max": 9254,
            "min": 0,
            "orientation": "horizontal",
            "style": "IPY_MODEL_ed463a13e7ac4e4f8671c81fae60fd27",
            "value": 9254
          }
        },
        "2f0199adb3ba4dc7a9ecc95631af8b53": {
          "model_module": "@jupyter-widgets/controls",
          "model_module_version": "1.5.0",
          "model_name": "ProgressStyleModel",
          "state": {
            "_model_module": "@jupyter-widgets/controls",
            "_model_module_version": "1.5.0",
            "_model_name": "ProgressStyleModel",
            "_view_count": null,
            "_view_module": "@jupyter-widgets/base",
            "_view_module_version": "1.2.0",
            "_view_name": "StyleView",
            "bar_color": null,
            "description_width": ""
          }
        },
        "2f7266d682de4330b827e07185594b1c": {
          "model_module": "@jupyter-widgets/base",
          "model_module_version": "1.2.0",
          "model_name": "LayoutModel",
          "state": {
            "_model_module": "@jupyter-widgets/base",
            "_model_module_version": "1.2.0",
            "_model_name": "LayoutModel",
            "_view_count": null,
            "_view_module": "@jupyter-widgets/base",
            "_view_module_version": "1.2.0",
            "_view_name": "LayoutView",
            "align_content": null,
            "align_items": null,
            "align_self": null,
            "border": null,
            "bottom": null,
            "display": null,
            "flex": null,
            "flex_flow": null,
            "grid_area": null,
            "grid_auto_columns": null,
            "grid_auto_flow": null,
            "grid_auto_rows": null,
            "grid_column": null,
            "grid_gap": null,
            "grid_row": null,
            "grid_template_areas": null,
            "grid_template_columns": null,
            "grid_template_rows": null,
            "height": null,
            "justify_content": null,
            "justify_items": null,
            "left": null,
            "margin": null,
            "max_height": null,
            "max_width": null,
            "min_height": null,
            "min_width": null,
            "object_fit": null,
            "object_position": null,
            "order": null,
            "overflow": null,
            "overflow_x": null,
            "overflow_y": null,
            "padding": null,
            "right": null,
            "top": null,
            "visibility": null,
            "width": null
          }
        },
        "31b019ad739b4b19bb9973938abda7d7": {
          "model_module": "@jupyter-widgets/controls",
          "model_module_version": "1.5.0",
          "model_name": "ProgressStyleModel",
          "state": {
            "_model_module": "@jupyter-widgets/controls",
            "_model_module_version": "1.5.0",
            "_model_name": "ProgressStyleModel",
            "_view_count": null,
            "_view_module": "@jupyter-widgets/base",
            "_view_module_version": "1.2.0",
            "_view_name": "StyleView",
            "bar_color": null,
            "description_width": ""
          }
        },
        "334f1f1fcd144d22b23a1f6a48d684a5": {
          "model_module": "@jupyter-widgets/controls",
          "model_module_version": "1.5.0",
          "model_name": "HTMLModel",
          "state": {
            "_dom_classes": [],
            "_model_module": "@jupyter-widgets/controls",
            "_model_module_version": "1.5.0",
            "_model_name": "HTMLModel",
            "_view_count": null,
            "_view_module": "@jupyter-widgets/controls",
            "_view_module_version": "1.5.0",
            "_view_name": "HTMLView",
            "description": "",
            "description_tooltip": null,
            "layout": "IPY_MODEL_96b87d05af6a493da32393a8fc25a0f6",
            "placeholder": "​",
            "style": "IPY_MODEL_98d4257e10e64a56bcde2c09ecc3f3d4",
            "value": "config.json: 100%"
          }
        },
        "3478e98d08c84c0ab1a32d4cd65584f0": {
          "model_module": "@jupyter-widgets/controls",
          "model_module_version": "1.5.0",
          "model_name": "HBoxModel",
          "state": {
            "_dom_classes": [],
            "_model_module": "@jupyter-widgets/controls",
            "_model_module_version": "1.5.0",
            "_model_name": "HBoxModel",
            "_view_count": null,
            "_view_module": "@jupyter-widgets/controls",
            "_view_module_version": "1.5.0",
            "_view_name": "HBoxView",
            "box_style": "",
            "children": [
              "IPY_MODEL_74a4eabe6dd748799adcc4edea2caafb",
              "IPY_MODEL_3f16e0b6cc0d499598c8d3720c49d9d9",
              "IPY_MODEL_11ccbd0ced91423bbcb72b3c0bbaeb79"
            ],
            "layout": "IPY_MODEL_c1bfa45c6a5f4727a9c70a4958a1527c"
          }
        },
        "358559a523cc441d84b23ee7aead9431": {
          "model_module": "@jupyter-widgets/base",
          "model_module_version": "1.2.0",
          "model_name": "LayoutModel",
          "state": {
            "_model_module": "@jupyter-widgets/base",
            "_model_module_version": "1.2.0",
            "_model_name": "LayoutModel",
            "_view_count": null,
            "_view_module": "@jupyter-widgets/base",
            "_view_module_version": "1.2.0",
            "_view_name": "LayoutView",
            "align_content": null,
            "align_items": null,
            "align_self": null,
            "border": null,
            "bottom": null,
            "display": null,
            "flex": null,
            "flex_flow": null,
            "grid_area": null,
            "grid_auto_columns": null,
            "grid_auto_flow": null,
            "grid_auto_rows": null,
            "grid_column": null,
            "grid_gap": null,
            "grid_row": null,
            "grid_template_areas": null,
            "grid_template_columns": null,
            "grid_template_rows": null,
            "height": null,
            "justify_content": null,
            "justify_items": null,
            "left": null,
            "margin": null,
            "max_height": null,
            "max_width": null,
            "min_height": null,
            "min_width": null,
            "object_fit": null,
            "object_position": null,
            "order": null,
            "overflow": null,
            "overflow_x": null,
            "overflow_y": null,
            "padding": null,
            "right": null,
            "top": null,
            "visibility": null,
            "width": null
          }
        },
        "35f6a5179b2f4052b73b526861c5ddb8": {
          "model_module": "@jupyter-widgets/base",
          "model_module_version": "1.2.0",
          "model_name": "LayoutModel",
          "state": {
            "_model_module": "@jupyter-widgets/base",
            "_model_module_version": "1.2.0",
            "_model_name": "LayoutModel",
            "_view_count": null,
            "_view_module": "@jupyter-widgets/base",
            "_view_module_version": "1.2.0",
            "_view_name": "LayoutView",
            "align_content": null,
            "align_items": null,
            "align_self": null,
            "border": null,
            "bottom": null,
            "display": null,
            "flex": null,
            "flex_flow": null,
            "grid_area": null,
            "grid_auto_columns": null,
            "grid_auto_flow": null,
            "grid_auto_rows": null,
            "grid_column": null,
            "grid_gap": null,
            "grid_row": null,
            "grid_template_areas": null,
            "grid_template_columns": null,
            "grid_template_rows": null,
            "height": null,
            "justify_content": null,
            "justify_items": null,
            "left": null,
            "margin": null,
            "max_height": null,
            "max_width": null,
            "min_height": null,
            "min_width": null,
            "object_fit": null,
            "object_position": null,
            "order": null,
            "overflow": null,
            "overflow_x": null,
            "overflow_y": null,
            "padding": null,
            "right": null,
            "top": null,
            "visibility": null,
            "width": null
          }
        },
        "379b470b96c24fbc938c7d89451ecdb1": {
          "model_module": "@jupyter-widgets/base",
          "model_module_version": "1.2.0",
          "model_name": "LayoutModel",
          "state": {
            "_model_module": "@jupyter-widgets/base",
            "_model_module_version": "1.2.0",
            "_model_name": "LayoutModel",
            "_view_count": null,
            "_view_module": "@jupyter-widgets/base",
            "_view_module_version": "1.2.0",
            "_view_name": "LayoutView",
            "align_content": null,
            "align_items": null,
            "align_self": null,
            "border": null,
            "bottom": null,
            "display": null,
            "flex": null,
            "flex_flow": null,
            "grid_area": null,
            "grid_auto_columns": null,
            "grid_auto_flow": null,
            "grid_auto_rows": null,
            "grid_column": null,
            "grid_gap": null,
            "grid_row": null,
            "grid_template_areas": null,
            "grid_template_columns": null,
            "grid_template_rows": null,
            "height": null,
            "justify_content": null,
            "justify_items": null,
            "left": null,
            "margin": null,
            "max_height": null,
            "max_width": null,
            "min_height": null,
            "min_width": null,
            "object_fit": null,
            "object_position": null,
            "order": null,
            "overflow": null,
            "overflow_x": null,
            "overflow_y": null,
            "padding": null,
            "right": null,
            "top": null,
            "visibility": null,
            "width": null
          }
        },
        "381e74b5f6924375bd03b4f7fe365bda": {
          "model_module": "@jupyter-widgets/controls",
          "model_module_version": "1.5.0",
          "model_name": "HTMLModel",
          "state": {
            "_dom_classes": [],
            "_model_module": "@jupyter-widgets/controls",
            "_model_module_version": "1.5.0",
            "_model_name": "HTMLModel",
            "_view_count": null,
            "_view_module": "@jupyter-widgets/controls",
            "_view_module_version": "1.5.0",
            "_view_name": "HTMLView",
            "description": "",
            "description_tooltip": null,
            "layout": "IPY_MODEL_0babcc6132964887a10015b11baee3d4",
            "placeholder": "​",
            "style": "IPY_MODEL_cbe87cbc25464f99b3a82a7f1d49fc6c",
            "value": "config.json: 100%"
          }
        },
        "3834666b7a2a492ba1d11cd9f12874cc": {
          "model_module": "@jupyter-widgets/controls",
          "model_module_version": "1.5.0",
          "model_name": "DescriptionStyleModel",
          "state": {
            "_model_module": "@jupyter-widgets/controls",
            "_model_module_version": "1.5.0",
            "_model_name": "DescriptionStyleModel",
            "_view_count": null,
            "_view_module": "@jupyter-widgets/base",
            "_view_module_version": "1.2.0",
            "_view_name": "StyleView",
            "description_width": ""
          }
        },
        "3a8d3a878f6640acaeaf0645d7518860": {
          "model_module": "@jupyter-widgets/controls",
          "model_module_version": "1.5.0",
          "model_name": "FloatProgressModel",
          "state": {
            "_dom_classes": [],
            "_model_module": "@jupyter-widgets/controls",
            "_model_module_version": "1.5.0",
            "_model_name": "FloatProgressModel",
            "_view_count": null,
            "_view_module": "@jupyter-widgets/controls",
            "_view_module_version": "1.5.0",
            "_view_name": "ProgressView",
            "bar_style": "success",
            "description": "",
            "description_tooltip": null,
            "layout": "IPY_MODEL_963a040ba5fe4c249be8c915d53d2b17",
            "max": 231508,
            "min": 0,
            "orientation": "horizontal",
            "style": "IPY_MODEL_0c95b065ee7c4d4aa5b4763234031e78",
            "value": 231508
          }
        },
        "3ad930a0908840b7bfeb5874dcde18de": {
          "model_module": "@jupyter-widgets/controls",
          "model_module_version": "1.5.0",
          "model_name": "DescriptionStyleModel",
          "state": {
            "_model_module": "@jupyter-widgets/controls",
            "_model_module_version": "1.5.0",
            "_model_name": "DescriptionStyleModel",
            "_view_count": null,
            "_view_module": "@jupyter-widgets/base",
            "_view_module_version": "1.2.0",
            "_view_name": "StyleView",
            "description_width": ""
          }
        },
        "3dcd1894e9eb4296bf54dc1a8edf4454": {
          "model_module": "@jupyter-widgets/controls",
          "model_module_version": "1.5.0",
          "model_name": "FloatProgressModel",
          "state": {
            "_dom_classes": [],
            "_model_module": "@jupyter-widgets/controls",
            "_model_module_version": "1.5.0",
            "_model_name": "FloatProgressModel",
            "_view_count": null,
            "_view_module": "@jupyter-widgets/controls",
            "_view_module_version": "1.5.0",
            "_view_name": "ProgressView",
            "bar_style": "success",
            "description": "",
            "description_tooltip": null,
            "layout": "IPY_MODEL_c70acdff852e41febbd8e86903367d26",
            "max": 122,
            "min": 0,
            "orientation": "horizontal",
            "style": "IPY_MODEL_b28439a183354a54a42e2db2f25c32e5",
            "value": 122
          }
        },
        "3eb0e968e3074818a720674db5fc21cf": {
          "model_module": "@jupyter-widgets/base",
          "model_module_version": "1.2.0",
          "model_name": "LayoutModel",
          "state": {
            "_model_module": "@jupyter-widgets/base",
            "_model_module_version": "1.2.0",
            "_model_name": "LayoutModel",
            "_view_count": null,
            "_view_module": "@jupyter-widgets/base",
            "_view_module_version": "1.2.0",
            "_view_name": "LayoutView",
            "align_content": null,
            "align_items": null,
            "align_self": null,
            "border": null,
            "bottom": null,
            "display": null,
            "flex": null,
            "flex_flow": null,
            "grid_area": null,
            "grid_auto_columns": null,
            "grid_auto_flow": null,
            "grid_auto_rows": null,
            "grid_column": null,
            "grid_gap": null,
            "grid_row": null,
            "grid_template_areas": null,
            "grid_template_columns": null,
            "grid_template_rows": null,
            "height": null,
            "justify_content": null,
            "justify_items": null,
            "left": null,
            "margin": null,
            "max_height": null,
            "max_width": null,
            "min_height": null,
            "min_width": null,
            "object_fit": null,
            "object_position": null,
            "order": null,
            "overflow": null,
            "overflow_x": null,
            "overflow_y": null,
            "padding": null,
            "right": null,
            "top": null,
            "visibility": null,
            "width": null
          }
        },
        "3ebf76790e614a15884a7dca820319ea": {
          "model_module": "@jupyter-widgets/controls",
          "model_module_version": "1.5.0",
          "model_name": "HTMLModel",
          "state": {
            "_dom_classes": [],
            "_model_module": "@jupyter-widgets/controls",
            "_model_module_version": "1.5.0",
            "_model_name": "HTMLModel",
            "_view_count": null,
            "_view_module": "@jupyter-widgets/controls",
            "_view_module_version": "1.5.0",
            "_view_name": "HTMLView",
            "description": "",
            "description_tooltip": null,
            "layout": "IPY_MODEL_cefb1d4d116143c589d3f5edb0ed7091",
            "placeholder": "​",
            "style": "IPY_MODEL_4b7d4a4918074f1c8bf3daf92b796195",
            "value": " 466k/466k [00:00&lt;00:00, 727kB/s]"
          }
        },
        "3ed2eb579c6d4615a010b63c3c54343b": {
          "model_module": "@jupyter-widgets/base",
          "model_module_version": "1.2.0",
          "model_name": "LayoutModel",
          "state": {
            "_model_module": "@jupyter-widgets/base",
            "_model_module_version": "1.2.0",
            "_model_name": "LayoutModel",
            "_view_count": null,
            "_view_module": "@jupyter-widgets/base",
            "_view_module_version": "1.2.0",
            "_view_name": "LayoutView",
            "align_content": null,
            "align_items": null,
            "align_self": null,
            "border": null,
            "bottom": null,
            "display": null,
            "flex": null,
            "flex_flow": null,
            "grid_area": null,
            "grid_auto_columns": null,
            "grid_auto_flow": null,
            "grid_auto_rows": null,
            "grid_column": null,
            "grid_gap": null,
            "grid_row": null,
            "grid_template_areas": null,
            "grid_template_columns": null,
            "grid_template_rows": null,
            "height": null,
            "justify_content": null,
            "justify_items": null,
            "left": null,
            "margin": null,
            "max_height": null,
            "max_width": null,
            "min_height": null,
            "min_width": null,
            "object_fit": null,
            "object_position": null,
            "order": null,
            "overflow": null,
            "overflow_x": null,
            "overflow_y": null,
            "padding": null,
            "right": null,
            "top": null,
            "visibility": null,
            "width": null
          }
        },
        "3f09524d57ea4f9fb7a4818eba6eac53": {
          "model_module": "@jupyter-widgets/controls",
          "model_module_version": "1.5.0",
          "model_name": "FloatProgressModel",
          "state": {
            "_dom_classes": [],
            "_model_module": "@jupyter-widgets/controls",
            "_model_module_version": "1.5.0",
            "_model_name": "FloatProgressModel",
            "_view_count": null,
            "_view_module": "@jupyter-widgets/controls",
            "_view_module_version": "1.5.0",
            "_view_name": "ProgressView",
            "bar_style": "success",
            "description": "",
            "description_tooltip": null,
            "layout": "IPY_MODEL_ac85e9ae332040ceac2d9856c067f590",
            "max": 629,
            "min": 0,
            "orientation": "horizontal",
            "style": "IPY_MODEL_31b019ad739b4b19bb9973938abda7d7",
            "value": 629
          }
        },
        "3f16e0b6cc0d499598c8d3720c49d9d9": {
          "model_module": "@jupyter-widgets/controls",
          "model_module_version": "1.5.0",
          "model_name": "FloatProgressModel",
          "state": {
            "_dom_classes": [],
            "_model_module": "@jupyter-widgets/controls",
            "_model_module_version": "1.5.0",
            "_model_name": "FloatProgressModel",
            "_view_count": null,
            "_view_module": "@jupyter-widgets/controls",
            "_view_module_version": "1.5.0",
            "_view_name": "ProgressView",
            "bar_style": "success",
            "description": "",
            "description_tooltip": null,
            "layout": "IPY_MODEL_2574eedba072450a90b4919a627e182a",
            "max": 363,
            "min": 0,
            "orientation": "horizontal",
            "style": "IPY_MODEL_207319ae1a574529a2cfced857c61b98",
            "value": 363
          }
        },
        "3ff043f14fbe48acb3a25e219cafe097": {
          "model_module": "@jupyter-widgets/controls",
          "model_module_version": "1.5.0",
          "model_name": "DescriptionStyleModel",
          "state": {
            "_model_module": "@jupyter-widgets/controls",
            "_model_module_version": "1.5.0",
            "_model_name": "DescriptionStyleModel",
            "_view_count": null,
            "_view_module": "@jupyter-widgets/base",
            "_view_module_version": "1.2.0",
            "_view_name": "StyleView",
            "description_width": ""
          }
        },
        "403b0bd62ee44fe986728c5e4b8b46c8": {
          "model_module": "@jupyter-widgets/base",
          "model_module_version": "1.2.0",
          "model_name": "LayoutModel",
          "state": {
            "_model_module": "@jupyter-widgets/base",
            "_model_module_version": "1.2.0",
            "_model_name": "LayoutModel",
            "_view_count": null,
            "_view_module": "@jupyter-widgets/base",
            "_view_module_version": "1.2.0",
            "_view_name": "LayoutView",
            "align_content": null,
            "align_items": null,
            "align_self": null,
            "border": null,
            "bottom": null,
            "display": null,
            "flex": null,
            "flex_flow": null,
            "grid_area": null,
            "grid_auto_columns": null,
            "grid_auto_flow": null,
            "grid_auto_rows": null,
            "grid_column": null,
            "grid_gap": null,
            "grid_row": null,
            "grid_template_areas": null,
            "grid_template_columns": null,
            "grid_template_rows": null,
            "height": null,
            "justify_content": null,
            "justify_items": null,
            "left": null,
            "margin": null,
            "max_height": null,
            "max_width": null,
            "min_height": null,
            "min_width": null,
            "object_fit": null,
            "object_position": null,
            "order": null,
            "overflow": null,
            "overflow_x": null,
            "overflow_y": null,
            "padding": null,
            "right": null,
            "top": null,
            "visibility": null,
            "width": null
          }
        },
        "41dbb65241da4d8e84c271cd5ab85ea3": {
          "model_module": "@jupyter-widgets/controls",
          "model_module_version": "1.5.0",
          "model_name": "DescriptionStyleModel",
          "state": {
            "_model_module": "@jupyter-widgets/controls",
            "_model_module_version": "1.5.0",
            "_model_name": "DescriptionStyleModel",
            "_view_count": null,
            "_view_module": "@jupyter-widgets/base",
            "_view_module_version": "1.2.0",
            "_view_name": "StyleView",
            "description_width": ""
          }
        },
        "428d02c479824bfa9ce4f372d4e8fe77": {
          "model_module": "@jupyter-widgets/controls",
          "model_module_version": "1.5.0",
          "model_name": "DescriptionStyleModel",
          "state": {
            "_model_module": "@jupyter-widgets/controls",
            "_model_module_version": "1.5.0",
            "_model_name": "DescriptionStyleModel",
            "_view_count": null,
            "_view_module": "@jupyter-widgets/base",
            "_view_module_version": "1.2.0",
            "_view_name": "StyleView",
            "description_width": ""
          }
        },
        "444cc957901c485b81545cc5ead40aac": {
          "model_module": "@jupyter-widgets/controls",
          "model_module_version": "1.5.0",
          "model_name": "FloatProgressModel",
          "state": {
            "_dom_classes": [],
            "_model_module": "@jupyter-widgets/controls",
            "_model_module_version": "1.5.0",
            "_model_name": "FloatProgressModel",
            "_view_count": null,
            "_view_module": "@jupyter-widgets/controls",
            "_view_module_version": "1.5.0",
            "_view_name": "ProgressView",
            "bar_style": "success",
            "description": "",
            "description_tooltip": null,
            "layout": "IPY_MODEL_0b7725948144469f97d12fc3246a409f",
            "max": 116,
            "min": 0,
            "orientation": "horizontal",
            "style": "IPY_MODEL_f5116fc1dfe1451484660982bf69cac4",
            "value": 116
          }
        },
        "45fe5d7d5b35484aac8dd35b137b8595": {
          "model_module": "@jupyter-widgets/controls",
          "model_module_version": "1.5.0",
          "model_name": "ProgressStyleModel",
          "state": {
            "_model_module": "@jupyter-widgets/controls",
            "_model_module_version": "1.5.0",
            "_model_name": "ProgressStyleModel",
            "_view_count": null,
            "_view_module": "@jupyter-widgets/base",
            "_view_module_version": "1.2.0",
            "_view_name": "StyleView",
            "bar_color": null,
            "description_width": ""
          }
        },
        "47cc1c73f3d448e9aaf91a9072f587f0": {
          "model_module": "@jupyter-widgets/controls",
          "model_module_version": "1.5.0",
          "model_name": "DescriptionStyleModel",
          "state": {
            "_model_module": "@jupyter-widgets/controls",
            "_model_module_version": "1.5.0",
            "_model_name": "DescriptionStyleModel",
            "_view_count": null,
            "_view_module": "@jupyter-widgets/base",
            "_view_module_version": "1.2.0",
            "_view_name": "StyleView",
            "description_width": ""
          }
        },
        "489bd78d2e004e58a0bad358a7cdee3e": {
          "model_module": "@jupyter-widgets/controls",
          "model_module_version": "1.5.0",
          "model_name": "DescriptionStyleModel",
          "state": {
            "_model_module": "@jupyter-widgets/controls",
            "_model_module_version": "1.5.0",
            "_model_name": "DescriptionStyleModel",
            "_view_count": null,
            "_view_module": "@jupyter-widgets/base",
            "_view_module_version": "1.2.0",
            "_view_name": "StyleView",
            "description_width": ""
          }
        },
        "4b7d4a4918074f1c8bf3daf92b796195": {
          "model_module": "@jupyter-widgets/controls",
          "model_module_version": "1.5.0",
          "model_name": "DescriptionStyleModel",
          "state": {
            "_model_module": "@jupyter-widgets/controls",
            "_model_module_version": "1.5.0",
            "_model_name": "DescriptionStyleModel",
            "_view_count": null,
            "_view_module": "@jupyter-widgets/base",
            "_view_module_version": "1.2.0",
            "_view_name": "StyleView",
            "description_width": ""
          }
        },
        "4dcbf9c25b3c4ac3a3682d715fb18d4f": {
          "model_module": "@jupyter-widgets/controls",
          "model_module_version": "1.5.0",
          "model_name": "DescriptionStyleModel",
          "state": {
            "_model_module": "@jupyter-widgets/controls",
            "_model_module_version": "1.5.0",
            "_model_name": "DescriptionStyleModel",
            "_view_count": null,
            "_view_module": "@jupyter-widgets/base",
            "_view_module_version": "1.2.0",
            "_view_name": "StyleView",
            "description_width": ""
          }
        },
        "4f83a4c1cd4b4ccd93b424211e3f1b2b": {
          "model_module": "@jupyter-widgets/controls",
          "model_module_version": "1.5.0",
          "model_name": "HTMLModel",
          "state": {
            "_dom_classes": [],
            "_model_module": "@jupyter-widgets/controls",
            "_model_module_version": "1.5.0",
            "_model_name": "HTMLModel",
            "_view_count": null,
            "_view_module": "@jupyter-widgets/controls",
            "_view_module_version": "1.5.0",
            "_view_name": "HTMLView",
            "description": "",
            "description_tooltip": null,
            "layout": "IPY_MODEL_2466550c41094c6c9feaae2fb095c8f3",
            "placeholder": "​",
            "style": "IPY_MODEL_e3e433ba51a5443e9ff0962e293b911d",
            "value": " 9.25k/9.25k [00:00&lt;00:00, 515kB/s]"
          }
        },
        "509de26d31b542a28f9e28c1586ef3e4": {
          "model_module": "@jupyter-widgets/controls",
          "model_module_version": "1.5.0",
          "model_name": "HTMLModel",
          "state": {
            "_dom_classes": [],
            "_model_module": "@jupyter-widgets/controls",
            "_model_module_version": "1.5.0",
            "_model_name": "HTMLModel",
            "_view_count": null,
            "_view_module": "@jupyter-widgets/controls",
            "_view_module_version": "1.5.0",
            "_view_name": "HTMLView",
            "description": "",
            "description_tooltip": null,
            "layout": "IPY_MODEL_bceeec93ee1d4cba8f38f1c00c94d078",
            "placeholder": "​",
            "style": "IPY_MODEL_25f9810ac4a240b99ec5969fae8101a3",
            "value": " 53.0/53.0 [00:00&lt;00:00, 3.55kB/s]"
          }
        },
        "50a6bee61f464ed991f50dc6f2942d49": {
          "model_module": "@jupyter-widgets/controls",
          "model_module_version": "1.5.0",
          "model_name": "HTMLModel",
          "state": {
            "_dom_classes": [],
            "_model_module": "@jupyter-widgets/controls",
            "_model_module_version": "1.5.0",
            "_model_name": "HTMLModel",
            "_view_count": null,
            "_view_module": "@jupyter-widgets/controls",
            "_view_module_version": "1.5.0",
            "_view_name": "HTMLView",
            "description": "",
            "description_tooltip": null,
            "layout": "IPY_MODEL_8ed26213daaf4781805ccbca3650a8dd",
            "placeholder": "​",
            "style": "IPY_MODEL_74db4c2b44bd4c29a09096873f8480a4",
            "value": "model.safetensors: 100%"
          }
        },
        "51467ddbd5ee47e9af59fc3dfb761ff6": {
          "model_module": "@jupyter-widgets/controls",
          "model_module_version": "1.5.0",
          "model_name": "FloatProgressModel",
          "state": {
            "_dom_classes": [],
            "_model_module": "@jupyter-widgets/controls",
            "_model_module_version": "1.5.0",
            "_model_name": "FloatProgressModel",
            "_view_count": null,
            "_view_module": "@jupyter-widgets/controls",
            "_view_module_version": "1.5.0",
            "_view_name": "ProgressView",
            "bar_style": "success",
            "description": "",
            "description_tooltip": null,
            "layout": "IPY_MODEL_c8f1bf436fc2412299d36383a98e458c",
            "max": 190,
            "min": 0,
            "orientation": "horizontal",
            "style": "IPY_MODEL_78d3b4cb760341ea881d9246dd360a45",
            "value": 190
          }
        },
        "51881a8fc4e340f980a7c70a0222aa39": {
          "model_module": "@jupyter-widgets/base",
          "model_module_version": "1.2.0",
          "model_name": "LayoutModel",
          "state": {
            "_model_module": "@jupyter-widgets/base",
            "_model_module_version": "1.2.0",
            "_model_name": "LayoutModel",
            "_view_count": null,
            "_view_module": "@jupyter-widgets/base",
            "_view_module_version": "1.2.0",
            "_view_name": "LayoutView",
            "align_content": null,
            "align_items": null,
            "align_self": null,
            "border": null,
            "bottom": null,
            "display": null,
            "flex": null,
            "flex_flow": null,
            "grid_area": null,
            "grid_auto_columns": null,
            "grid_auto_flow": null,
            "grid_auto_rows": null,
            "grid_column": null,
            "grid_gap": null,
            "grid_row": null,
            "grid_template_areas": null,
            "grid_template_columns": null,
            "grid_template_rows": null,
            "height": null,
            "justify_content": null,
            "justify_items": null,
            "left": null,
            "margin": null,
            "max_height": null,
            "max_width": null,
            "min_height": null,
            "min_width": null,
            "object_fit": null,
            "object_position": null,
            "order": null,
            "overflow": null,
            "overflow_x": null,
            "overflow_y": null,
            "padding": null,
            "right": null,
            "top": null,
            "visibility": null,
            "width": null
          }
        },
        "5235a08a9d7c4fd48306dacd36e63238": {
          "model_module": "@jupyter-widgets/controls",
          "model_module_version": "1.5.0",
          "model_name": "DescriptionStyleModel",
          "state": {
            "_model_module": "@jupyter-widgets/controls",
            "_model_module_version": "1.5.0",
            "_model_name": "DescriptionStyleModel",
            "_view_count": null,
            "_view_module": "@jupyter-widgets/base",
            "_view_module_version": "1.2.0",
            "_view_name": "StyleView",
            "description_width": ""
          }
        },
        "523a9ff246344776801af07eb52bae68": {
          "model_module": "@jupyter-widgets/controls",
          "model_module_version": "1.5.0",
          "model_name": "DescriptionStyleModel",
          "state": {
            "_model_module": "@jupyter-widgets/controls",
            "_model_module_version": "1.5.0",
            "_model_name": "DescriptionStyleModel",
            "_view_count": null,
            "_view_module": "@jupyter-widgets/base",
            "_view_module_version": "1.2.0",
            "_view_name": "StyleView",
            "description_width": ""
          }
        },
        "52ccac30a2e3408297bb01e0d84a0b0e": {
          "model_module": "@jupyter-widgets/controls",
          "model_module_version": "1.5.0",
          "model_name": "HTMLModel",
          "state": {
            "_dom_classes": [],
            "_model_module": "@jupyter-widgets/controls",
            "_model_module_version": "1.5.0",
            "_model_name": "HTMLModel",
            "_view_count": null,
            "_view_module": "@jupyter-widgets/controls",
            "_view_module_version": "1.5.0",
            "_view_name": "HTMLView",
            "description": "",
            "description_tooltip": null,
            "layout": "IPY_MODEL_73a0b913f4a94724ae8cc0e26a8216b7",
            "placeholder": "​",
            "style": "IPY_MODEL_ae145e93c09549c9947b87350a5a90c8",
            "value": " 190/190 [00:00&lt;00:00, 13.8kB/s]"
          }
        },
        "554449a50b724027bbddd8c4f11b85ab": {
          "model_module": "@jupyter-widgets/base",
          "model_module_version": "1.2.0",
          "model_name": "LayoutModel",
          "state": {
            "_model_module": "@jupyter-widgets/base",
            "_model_module_version": "1.2.0",
            "_model_name": "LayoutModel",
            "_view_count": null,
            "_view_module": "@jupyter-widgets/base",
            "_view_module_version": "1.2.0",
            "_view_name": "LayoutView",
            "align_content": null,
            "align_items": null,
            "align_self": null,
            "border": null,
            "bottom": null,
            "display": null,
            "flex": null,
            "flex_flow": null,
            "grid_area": null,
            "grid_auto_columns": null,
            "grid_auto_flow": null,
            "grid_auto_rows": null,
            "grid_column": null,
            "grid_gap": null,
            "grid_row": null,
            "grid_template_areas": null,
            "grid_template_columns": null,
            "grid_template_rows": null,
            "height": null,
            "justify_content": null,
            "justify_items": null,
            "left": null,
            "margin": null,
            "max_height": null,
            "max_width": null,
            "min_height": null,
            "min_width": null,
            "object_fit": null,
            "object_position": null,
            "order": null,
            "overflow": null,
            "overflow_x": null,
            "overflow_y": null,
            "padding": null,
            "right": null,
            "top": null,
            "visibility": null,
            "width": null
          }
        },
        "56e0e353d7114693a487a2b3716dd405": {
          "model_module": "@jupyter-widgets/base",
          "model_module_version": "1.2.0",
          "model_name": "LayoutModel",
          "state": {
            "_model_module": "@jupyter-widgets/base",
            "_model_module_version": "1.2.0",
            "_model_name": "LayoutModel",
            "_view_count": null,
            "_view_module": "@jupyter-widgets/base",
            "_view_module_version": "1.2.0",
            "_view_name": "LayoutView",
            "align_content": null,
            "align_items": null,
            "align_self": null,
            "border": null,
            "bottom": null,
            "display": null,
            "flex": null,
            "flex_flow": null,
            "grid_area": null,
            "grid_auto_columns": null,
            "grid_auto_flow": null,
            "grid_auto_rows": null,
            "grid_column": null,
            "grid_gap": null,
            "grid_row": null,
            "grid_template_areas": null,
            "grid_template_columns": null,
            "grid_template_rows": null,
            "height": null,
            "justify_content": null,
            "justify_items": null,
            "left": null,
            "margin": null,
            "max_height": null,
            "max_width": null,
            "min_height": null,
            "min_width": null,
            "object_fit": null,
            "object_position": null,
            "order": null,
            "overflow": null,
            "overflow_x": null,
            "overflow_y": null,
            "padding": null,
            "right": null,
            "top": null,
            "visibility": null,
            "width": null
          }
        },
        "58f9ac26db8144d7b713be2ed1c0d057": {
          "model_module": "@jupyter-widgets/controls",
          "model_module_version": "1.5.0",
          "model_name": "HTMLModel",
          "state": {
            "_dom_classes": [],
            "_model_module": "@jupyter-widgets/controls",
            "_model_module_version": "1.5.0",
            "_model_name": "HTMLModel",
            "_view_count": null,
            "_view_module": "@jupyter-widgets/controls",
            "_view_module_version": "1.5.0",
            "_view_name": "HTMLView",
            "description": "",
            "description_tooltip": null,
            "layout": "IPY_MODEL_5ec549bb5b234172b1b4b84dc8078ceb",
            "placeholder": "​",
            "style": "IPY_MODEL_1c0bbfe9b4524ccdbd47ccd219d16b73",
            "value": " 229/229 [00:00&lt;00:00, 16.0kB/s]"
          }
        },
        "5923dd59adeb43088d6f09159d82b34d": {
          "model_module": "@jupyter-widgets/controls",
          "model_module_version": "1.5.0",
          "model_name": "FloatProgressModel",
          "state": {
            "_dom_classes": [],
            "_model_module": "@jupyter-widgets/controls",
            "_model_module_version": "1.5.0",
            "_model_name": "FloatProgressModel",
            "_view_count": null,
            "_view_module": "@jupyter-widgets/controls",
            "_view_module_version": "1.5.0",
            "_view_name": "ProgressView",
            "bar_style": "success",
            "description": "",
            "description_tooltip": null,
            "layout": "IPY_MODEL_df625f5ea89e44d58ed2e51fe926a287",
            "max": 229,
            "min": 0,
            "orientation": "horizontal",
            "style": "IPY_MODEL_1f581a3033684475b1f8f747f4fd1130",
            "value": 229
          }
        },
        "593020c1fcb34ed5be973703b64d242a": {
          "model_module": "@jupyter-widgets/controls",
          "model_module_version": "1.5.0",
          "model_name": "HBoxModel",
          "state": {
            "_dom_classes": [],
            "_model_module": "@jupyter-widgets/controls",
            "_model_module_version": "1.5.0",
            "_model_name": "HBoxModel",
            "_view_count": null,
            "_view_module": "@jupyter-widgets/controls",
            "_view_module_version": "1.5.0",
            "_view_name": "HBoxView",
            "box_style": "",
            "children": [
              "IPY_MODEL_b0d2908eb3574acebd20099895c91459",
              "IPY_MODEL_81f17f657a7448dbaff6c85fc9e866df",
              "IPY_MODEL_e40647588538457b9eb973fe558b7e56"
            ],
            "layout": "IPY_MODEL_e734ae23df314ea989934fb9bc2264fa"
          }
        },
        "5a8bc4b347254e84a8957309cdaed440": {
          "model_module": "@jupyter-widgets/base",
          "model_module_version": "1.2.0",
          "model_name": "LayoutModel",
          "state": {
            "_model_module": "@jupyter-widgets/base",
            "_model_module_version": "1.2.0",
            "_model_name": "LayoutModel",
            "_view_count": null,
            "_view_module": "@jupyter-widgets/base",
            "_view_module_version": "1.2.0",
            "_view_name": "LayoutView",
            "align_content": null,
            "align_items": null,
            "align_self": null,
            "border": null,
            "bottom": null,
            "display": null,
            "flex": null,
            "flex_flow": null,
            "grid_area": null,
            "grid_auto_columns": null,
            "grid_auto_flow": null,
            "grid_auto_rows": null,
            "grid_column": null,
            "grid_gap": null,
            "grid_row": null,
            "grid_template_areas": null,
            "grid_template_columns": null,
            "grid_template_rows": null,
            "height": null,
            "justify_content": null,
            "justify_items": null,
            "left": null,
            "margin": null,
            "max_height": null,
            "max_width": null,
            "min_height": null,
            "min_width": null,
            "object_fit": null,
            "object_position": null,
            "order": null,
            "overflow": null,
            "overflow_x": null,
            "overflow_y": null,
            "padding": null,
            "right": null,
            "top": null,
            "visibility": null,
            "width": null
          }
        },
        "5aff3e4f74d84e78a0cc4bc0113ea09e": {
          "model_module": "@jupyter-widgets/controls",
          "model_module_version": "1.5.0",
          "model_name": "DescriptionStyleModel",
          "state": {
            "_model_module": "@jupyter-widgets/controls",
            "_model_module_version": "1.5.0",
            "_model_name": "DescriptionStyleModel",
            "_view_count": null,
            "_view_module": "@jupyter-widgets/base",
            "_view_module_version": "1.2.0",
            "_view_name": "StyleView",
            "description_width": ""
          }
        },
        "5c95b83e2d5449a1851901facb136eaa": {
          "model_module": "@jupyter-widgets/controls",
          "model_module_version": "1.5.0",
          "model_name": "ProgressStyleModel",
          "state": {
            "_model_module": "@jupyter-widgets/controls",
            "_model_module_version": "1.5.0",
            "_model_name": "ProgressStyleModel",
            "_view_count": null,
            "_view_module": "@jupyter-widgets/base",
            "_view_module_version": "1.2.0",
            "_view_name": "StyleView",
            "bar_color": null,
            "description_width": ""
          }
        },
        "5e237b77589544cabd9d8994bbec427c": {
          "model_module": "@jupyter-widgets/controls",
          "model_module_version": "1.5.0",
          "model_name": "HTMLModel",
          "state": {
            "_dom_classes": [],
            "_model_module": "@jupyter-widgets/controls",
            "_model_module_version": "1.5.0",
            "_model_name": "HTMLModel",
            "_view_count": null,
            "_view_module": "@jupyter-widgets/controls",
            "_view_module_version": "1.5.0",
            "_view_name": "HTMLView",
            "description": "",
            "description_tooltip": null,
            "layout": "IPY_MODEL_23783c731ee44872a0baa241fb3a3411",
            "placeholder": "​",
            "style": "IPY_MODEL_9199df5d5120432cac4443748dd1feb1",
            "value": "modules.json: 100%"
          }
        },
        "5ec549bb5b234172b1b4b84dc8078ceb": {
          "model_module": "@jupyter-widgets/base",
          "model_module_version": "1.2.0",
          "model_name": "LayoutModel",
          "state": {
            "_model_module": "@jupyter-widgets/base",
            "_model_module_version": "1.2.0",
            "_model_name": "LayoutModel",
            "_view_count": null,
            "_view_module": "@jupyter-widgets/base",
            "_view_module_version": "1.2.0",
            "_view_name": "LayoutView",
            "align_content": null,
            "align_items": null,
            "align_self": null,
            "border": null,
            "bottom": null,
            "display": null,
            "flex": null,
            "flex_flow": null,
            "grid_area": null,
            "grid_auto_columns": null,
            "grid_auto_flow": null,
            "grid_auto_rows": null,
            "grid_column": null,
            "grid_gap": null,
            "grid_row": null,
            "grid_template_areas": null,
            "grid_template_columns": null,
            "grid_template_rows": null,
            "height": null,
            "justify_content": null,
            "justify_items": null,
            "left": null,
            "margin": null,
            "max_height": null,
            "max_width": null,
            "min_height": null,
            "min_width": null,
            "object_fit": null,
            "object_position": null,
            "order": null,
            "overflow": null,
            "overflow_x": null,
            "overflow_y": null,
            "padding": null,
            "right": null,
            "top": null,
            "visibility": null,
            "width": null
          }
        },
        "5efddaca44594c17a0c9e96e7ccb0fd1": {
          "model_module": "@jupyter-widgets/controls",
          "model_module_version": "1.5.0",
          "model_name": "HBoxModel",
          "state": {
            "_dom_classes": [],
            "_model_module": "@jupyter-widgets/controls",
            "_model_module_version": "1.5.0",
            "_model_name": "HBoxModel",
            "_view_count": null,
            "_view_module": "@jupyter-widgets/controls",
            "_view_module_version": "1.5.0",
            "_view_name": "HBoxView",
            "box_style": "",
            "children": [
              "IPY_MODEL_9a3c6a3e205946c09f65609a6572e88a",
              "IPY_MODEL_7c959cdf7b084a969c5de14a43f9830e",
              "IPY_MODEL_509de26d31b542a28f9e28c1586ef3e4"
            ],
            "layout": "IPY_MODEL_be2104ff1601483db9682b4bad2fc7d1"
          }
        },
        "5f21fdb5940647af83143a6b7506b9c9": {
          "model_module": "@jupyter-widgets/base",
          "model_module_version": "1.2.0",
          "model_name": "LayoutModel",
          "state": {
            "_model_module": "@jupyter-widgets/base",
            "_model_module_version": "1.2.0",
            "_model_name": "LayoutModel",
            "_view_count": null,
            "_view_module": "@jupyter-widgets/base",
            "_view_module_version": "1.2.0",
            "_view_name": "LayoutView",
            "align_content": null,
            "align_items": null,
            "align_self": null,
            "border": null,
            "bottom": null,
            "display": null,
            "flex": null,
            "flex_flow": null,
            "grid_area": null,
            "grid_auto_columns": null,
            "grid_auto_flow": null,
            "grid_auto_rows": null,
            "grid_column": null,
            "grid_gap": null,
            "grid_row": null,
            "grid_template_areas": null,
            "grid_template_columns": null,
            "grid_template_rows": null,
            "height": null,
            "justify_content": null,
            "justify_items": null,
            "left": null,
            "margin": null,
            "max_height": null,
            "max_width": null,
            "min_height": null,
            "min_width": null,
            "object_fit": null,
            "object_position": null,
            "order": null,
            "overflow": null,
            "overflow_x": null,
            "overflow_y": null,
            "padding": null,
            "right": null,
            "top": null,
            "visibility": null,
            "width": null
          }
        },
        "6136a1c60c7e445e96b4453e32608960": {
          "model_module": "@jupyter-widgets/base",
          "model_module_version": "1.2.0",
          "model_name": "LayoutModel",
          "state": {
            "_model_module": "@jupyter-widgets/base",
            "_model_module_version": "1.2.0",
            "_model_name": "LayoutModel",
            "_view_count": null,
            "_view_module": "@jupyter-widgets/base",
            "_view_module_version": "1.2.0",
            "_view_name": "LayoutView",
            "align_content": null,
            "align_items": null,
            "align_self": null,
            "border": null,
            "bottom": null,
            "display": null,
            "flex": null,
            "flex_flow": null,
            "grid_area": null,
            "grid_auto_columns": null,
            "grid_auto_flow": null,
            "grid_auto_rows": null,
            "grid_column": null,
            "grid_gap": null,
            "grid_row": null,
            "grid_template_areas": null,
            "grid_template_columns": null,
            "grid_template_rows": null,
            "height": null,
            "justify_content": null,
            "justify_items": null,
            "left": null,
            "margin": null,
            "max_height": null,
            "max_width": null,
            "min_height": null,
            "min_width": null,
            "object_fit": null,
            "object_position": null,
            "order": null,
            "overflow": null,
            "overflow_x": null,
            "overflow_y": null,
            "padding": null,
            "right": null,
            "top": null,
            "visibility": null,
            "width": null
          }
        },
        "614c2ff5545142c8b9b49ecf5c5a385d": {
          "model_module": "@jupyter-widgets/controls",
          "model_module_version": "1.5.0",
          "model_name": "DescriptionStyleModel",
          "state": {
            "_model_module": "@jupyter-widgets/controls",
            "_model_module_version": "1.5.0",
            "_model_name": "DescriptionStyleModel",
            "_view_count": null,
            "_view_module": "@jupyter-widgets/base",
            "_view_module_version": "1.2.0",
            "_view_name": "StyleView",
            "description_width": ""
          }
        },
        "6267c6e3ec7d4338980bdcf72c4fa518": {
          "model_module": "@jupyter-widgets/base",
          "model_module_version": "1.2.0",
          "model_name": "LayoutModel",
          "state": {
            "_model_module": "@jupyter-widgets/base",
            "_model_module_version": "1.2.0",
            "_model_name": "LayoutModel",
            "_view_count": null,
            "_view_module": "@jupyter-widgets/base",
            "_view_module_version": "1.2.0",
            "_view_name": "LayoutView",
            "align_content": null,
            "align_items": null,
            "align_self": null,
            "border": null,
            "bottom": null,
            "display": null,
            "flex": null,
            "flex_flow": null,
            "grid_area": null,
            "grid_auto_columns": null,
            "grid_auto_flow": null,
            "grid_auto_rows": null,
            "grid_column": null,
            "grid_gap": null,
            "grid_row": null,
            "grid_template_areas": null,
            "grid_template_columns": null,
            "grid_template_rows": null,
            "height": null,
            "justify_content": null,
            "justify_items": null,
            "left": null,
            "margin": null,
            "max_height": null,
            "max_width": null,
            "min_height": null,
            "min_width": null,
            "object_fit": null,
            "object_position": null,
            "order": null,
            "overflow": null,
            "overflow_x": null,
            "overflow_y": null,
            "padding": null,
            "right": null,
            "top": null,
            "visibility": null,
            "width": null
          }
        },
        "641cf7ae73cb4c41b2cb02232e81e533": {
          "model_module": "@jupyter-widgets/controls",
          "model_module_version": "1.5.0",
          "model_name": "HTMLModel",
          "state": {
            "_dom_classes": [],
            "_model_module": "@jupyter-widgets/controls",
            "_model_module_version": "1.5.0",
            "_model_name": "HTMLModel",
            "_view_count": null,
            "_view_module": "@jupyter-widgets/controls",
            "_view_module_version": "1.5.0",
            "_view_name": "HTMLView",
            "description": "",
            "description_tooltip": null,
            "layout": "IPY_MODEL_8e7c71e5a7f546fd90db16ff89c1348e",
            "placeholder": "​",
            "style": "IPY_MODEL_47cc1c73f3d448e9aaf91a9072f587f0",
            "value": " 3.73k/3.73k [00:00&lt;00:00, 262kB/s]"
          }
        },
        "64d8d068fb6b422cab677d578028785d": {
          "model_module": "@jupyter-widgets/base",
          "model_module_version": "1.2.0",
          "model_name": "LayoutModel",
          "state": {
            "_model_module": "@jupyter-widgets/base",
            "_model_module_version": "1.2.0",
            "_model_name": "LayoutModel",
            "_view_count": null,
            "_view_module": "@jupyter-widgets/base",
            "_view_module_version": "1.2.0",
            "_view_name": "LayoutView",
            "align_content": null,
            "align_items": null,
            "align_self": null,
            "border": null,
            "bottom": null,
            "display": null,
            "flex": null,
            "flex_flow": null,
            "grid_area": null,
            "grid_auto_columns": null,
            "grid_auto_flow": null,
            "grid_auto_rows": null,
            "grid_column": null,
            "grid_gap": null,
            "grid_row": null,
            "grid_template_areas": null,
            "grid_template_columns": null,
            "grid_template_rows": null,
            "height": null,
            "justify_content": null,
            "justify_items": null,
            "left": null,
            "margin": null,
            "max_height": null,
            "max_width": null,
            "min_height": null,
            "min_width": null,
            "object_fit": null,
            "object_position": null,
            "order": null,
            "overflow": null,
            "overflow_x": null,
            "overflow_y": null,
            "padding": null,
            "right": null,
            "top": null,
            "visibility": null,
            "width": null
          }
        },
        "65a79fdd3ed34366815259bba1ad2e18": {
          "model_module": "@jupyter-widgets/controls",
          "model_module_version": "1.5.0",
          "model_name": "DescriptionStyleModel",
          "state": {
            "_model_module": "@jupyter-widgets/controls",
            "_model_module_version": "1.5.0",
            "_model_name": "DescriptionStyleModel",
            "_view_count": null,
            "_view_module": "@jupyter-widgets/base",
            "_view_module_version": "1.2.0",
            "_view_name": "StyleView",
            "description_width": ""
          }
        },
        "6b71ba7b221441aa88181423d59f29c6": {
          "model_module": "@jupyter-widgets/controls",
          "model_module_version": "1.5.0",
          "model_name": "DescriptionStyleModel",
          "state": {
            "_model_module": "@jupyter-widgets/controls",
            "_model_module_version": "1.5.0",
            "_model_name": "DescriptionStyleModel",
            "_view_count": null,
            "_view_module": "@jupyter-widgets/base",
            "_view_module_version": "1.2.0",
            "_view_name": "StyleView",
            "description_width": ""
          }
        },
        "6c10cf1ad2e04dc1be8c821a69f6198b": {
          "model_module": "@jupyter-widgets/base",
          "model_module_version": "1.2.0",
          "model_name": "LayoutModel",
          "state": {
            "_model_module": "@jupyter-widgets/base",
            "_model_module_version": "1.2.0",
            "_model_name": "LayoutModel",
            "_view_count": null,
            "_view_module": "@jupyter-widgets/base",
            "_view_module_version": "1.2.0",
            "_view_name": "LayoutView",
            "align_content": null,
            "align_items": null,
            "align_self": null,
            "border": null,
            "bottom": null,
            "display": null,
            "flex": null,
            "flex_flow": null,
            "grid_area": null,
            "grid_auto_columns": null,
            "grid_auto_flow": null,
            "grid_auto_rows": null,
            "grid_column": null,
            "grid_gap": null,
            "grid_row": null,
            "grid_template_areas": null,
            "grid_template_columns": null,
            "grid_template_rows": null,
            "height": null,
            "justify_content": null,
            "justify_items": null,
            "left": null,
            "margin": null,
            "max_height": null,
            "max_width": null,
            "min_height": null,
            "min_width": null,
            "object_fit": null,
            "object_position": null,
            "order": null,
            "overflow": null,
            "overflow_x": null,
            "overflow_y": null,
            "padding": null,
            "right": null,
            "top": null,
            "visibility": null,
            "width": null
          }
        },
        "6cdad5592d604231993a62f732d0eda4": {
          "model_module": "@jupyter-widgets/base",
          "model_module_version": "1.2.0",
          "model_name": "LayoutModel",
          "state": {
            "_model_module": "@jupyter-widgets/base",
            "_model_module_version": "1.2.0",
            "_model_name": "LayoutModel",
            "_view_count": null,
            "_view_module": "@jupyter-widgets/base",
            "_view_module_version": "1.2.0",
            "_view_name": "LayoutView",
            "align_content": null,
            "align_items": null,
            "align_self": null,
            "border": null,
            "bottom": null,
            "display": null,
            "flex": null,
            "flex_flow": null,
            "grid_area": null,
            "grid_auto_columns": null,
            "grid_auto_flow": null,
            "grid_auto_rows": null,
            "grid_column": null,
            "grid_gap": null,
            "grid_row": null,
            "grid_template_areas": null,
            "grid_template_columns": null,
            "grid_template_rows": null,
            "height": null,
            "justify_content": null,
            "justify_items": null,
            "left": null,
            "margin": null,
            "max_height": null,
            "max_width": null,
            "min_height": null,
            "min_width": null,
            "object_fit": null,
            "object_position": null,
            "order": null,
            "overflow": null,
            "overflow_x": null,
            "overflow_y": null,
            "padding": null,
            "right": null,
            "top": null,
            "visibility": null,
            "width": null
          }
        },
        "6d9b6c73e9864b658131dbdc518272ba": {
          "model_module": "@jupyter-widgets/controls",
          "model_module_version": "1.5.0",
          "model_name": "FloatProgressModel",
          "state": {
            "_dom_classes": [],
            "_model_module": "@jupyter-widgets/controls",
            "_model_module_version": "1.5.0",
            "_model_name": "FloatProgressModel",
            "_view_count": null,
            "_view_module": "@jupyter-widgets/controls",
            "_view_module_version": "1.5.0",
            "_view_name": "ProgressView",
            "bar_style": "success",
            "description": "",
            "description_tooltip": null,
            "layout": "IPY_MODEL_83852c60ddd94eb1ba6e78a0914ee401",
            "max": 112,
            "min": 0,
            "orientation": "horizontal",
            "style": "IPY_MODEL_0a68a66b5fa3424eb57ac217eeffb535",
            "value": 112
          }
        },
        "723f84cb7e904a51bff9bc9c06313d07": {
          "model_module": "@jupyter-widgets/controls",
          "model_module_version": "1.5.0",
          "model_name": "ProgressStyleModel",
          "state": {
            "_model_module": "@jupyter-widgets/controls",
            "_model_module_version": "1.5.0",
            "_model_name": "ProgressStyleModel",
            "_view_count": null,
            "_view_module": "@jupyter-widgets/base",
            "_view_module_version": "1.2.0",
            "_view_name": "StyleView",
            "bar_color": null,
            "description_width": ""
          }
        },
        "7301f6b52b22427a8d195837b4a86c16": {
          "model_module": "@jupyter-widgets/controls",
          "model_module_version": "1.5.0",
          "model_name": "DescriptionStyleModel",
          "state": {
            "_model_module": "@jupyter-widgets/controls",
            "_model_module_version": "1.5.0",
            "_model_name": "DescriptionStyleModel",
            "_view_count": null,
            "_view_module": "@jupyter-widgets/base",
            "_view_module_version": "1.2.0",
            "_view_name": "StyleView",
            "description_width": ""
          }
        },
        "732da9ab8d014de896816d5e8093e90a": {
          "model_module": "@jupyter-widgets/controls",
          "model_module_version": "1.5.0",
          "model_name": "ProgressStyleModel",
          "state": {
            "_model_module": "@jupyter-widgets/controls",
            "_model_module_version": "1.5.0",
            "_model_name": "ProgressStyleModel",
            "_view_count": null,
            "_view_module": "@jupyter-widgets/base",
            "_view_module_version": "1.2.0",
            "_view_name": "StyleView",
            "bar_color": null,
            "description_width": ""
          }
        },
        "7341cf8fded74e619859265a9a83e1a9": {
          "model_module": "@jupyter-widgets/controls",
          "model_module_version": "1.5.0",
          "model_name": "HTMLModel",
          "state": {
            "_dom_classes": [],
            "_model_module": "@jupyter-widgets/controls",
            "_model_module_version": "1.5.0",
            "_model_name": "HTMLModel",
            "_view_count": null,
            "_view_module": "@jupyter-widgets/controls",
            "_view_module_version": "1.5.0",
            "_view_name": "HTMLView",
            "description": "",
            "description_tooltip": null,
            "layout": "IPY_MODEL_2f7266d682de4330b827e07185594b1c",
            "placeholder": "​",
            "style": "IPY_MODEL_6b71ba7b221441aa88181423d59f29c6",
            "value": "tokenizer.json: 100%"
          }
        },
        "73a0b913f4a94724ae8cc0e26a8216b7": {
          "model_module": "@jupyter-widgets/base",
          "model_module_version": "1.2.0",
          "model_name": "LayoutModel",
          "state": {
            "_model_module": "@jupyter-widgets/base",
            "_model_module_version": "1.2.0",
            "_model_name": "LayoutModel",
            "_view_count": null,
            "_view_module": "@jupyter-widgets/base",
            "_view_module_version": "1.2.0",
            "_view_name": "LayoutView",
            "align_content": null,
            "align_items": null,
            "align_self": null,
            "border": null,
            "bottom": null,
            "display": null,
            "flex": null,
            "flex_flow": null,
            "grid_area": null,
            "grid_auto_columns": null,
            "grid_auto_flow": null,
            "grid_auto_rows": null,
            "grid_column": null,
            "grid_gap": null,
            "grid_row": null,
            "grid_template_areas": null,
            "grid_template_columns": null,
            "grid_template_rows": null,
            "height": null,
            "justify_content": null,
            "justify_items": null,
            "left": null,
            "margin": null,
            "max_height": null,
            "max_width": null,
            "min_height": null,
            "min_width": null,
            "object_fit": null,
            "object_position": null,
            "order": null,
            "overflow": null,
            "overflow_x": null,
            "overflow_y": null,
            "padding": null,
            "right": null,
            "top": null,
            "visibility": null,
            "width": null
          }
        },
        "742b24f2db404a5cbeca0e426683f0bf": {
          "model_module": "@jupyter-widgets/controls",
          "model_module_version": "1.5.0",
          "model_name": "DescriptionStyleModel",
          "state": {
            "_model_module": "@jupyter-widgets/controls",
            "_model_module_version": "1.5.0",
            "_model_name": "DescriptionStyleModel",
            "_view_count": null,
            "_view_module": "@jupyter-widgets/base",
            "_view_module_version": "1.2.0",
            "_view_name": "StyleView",
            "description_width": ""
          }
        },
        "749c6386151e4953b6551ceb7c51e795": {
          "model_module": "@jupyter-widgets/controls",
          "model_module_version": "1.5.0",
          "model_name": "HTMLModel",
          "state": {
            "_dom_classes": [],
            "_model_module": "@jupyter-widgets/controls",
            "_model_module_version": "1.5.0",
            "_model_name": "HTMLModel",
            "_view_count": null,
            "_view_module": "@jupyter-widgets/controls",
            "_view_module_version": "1.5.0",
            "_view_name": "HTMLView",
            "description": "",
            "description_tooltip": null,
            "layout": "IPY_MODEL_554449a50b724027bbddd8c4f11b85ab",
            "placeholder": "​",
            "style": "IPY_MODEL_097ad810d44b4a88a8d2d1d15ac79ed7",
            "value": " 232k/232k [00:00&lt;00:00, 10.9MB/s]"
          }
        },
        "74a4eabe6dd748799adcc4edea2caafb": {
          "model_module": "@jupyter-widgets/controls",
          "model_module_version": "1.5.0",
          "model_name": "HTMLModel",
          "state": {
            "_dom_classes": [],
            "_model_module": "@jupyter-widgets/controls",
            "_model_module_version": "1.5.0",
            "_model_name": "HTMLModel",
            "_view_count": null,
            "_view_module": "@jupyter-widgets/controls",
            "_view_module_version": "1.5.0",
            "_view_name": "HTMLView",
            "description": "",
            "description_tooltip": null,
            "layout": "IPY_MODEL_5f21fdb5940647af83143a6b7506b9c9",
            "placeholder": "​",
            "style": "IPY_MODEL_65a79fdd3ed34366815259bba1ad2e18",
            "value": "tokenizer_config.json: 100%"
          }
        },
        "74cff8617e6d4a0e98d7e8047849e1c1": {
          "model_module": "@jupyter-widgets/base",
          "model_module_version": "1.2.0",
          "model_name": "LayoutModel",
          "state": {
            "_model_module": "@jupyter-widgets/base",
            "_model_module_version": "1.2.0",
            "_model_name": "LayoutModel",
            "_view_count": null,
            "_view_module": "@jupyter-widgets/base",
            "_view_module_version": "1.2.0",
            "_view_name": "LayoutView",
            "align_content": null,
            "align_items": null,
            "align_self": null,
            "border": null,
            "bottom": null,
            "display": null,
            "flex": null,
            "flex_flow": null,
            "grid_area": null,
            "grid_auto_columns": null,
            "grid_auto_flow": null,
            "grid_auto_rows": null,
            "grid_column": null,
            "grid_gap": null,
            "grid_row": null,
            "grid_template_areas": null,
            "grid_template_columns": null,
            "grid_template_rows": null,
            "height": null,
            "justify_content": null,
            "justify_items": null,
            "left": null,
            "margin": null,
            "max_height": null,
            "max_width": null,
            "min_height": null,
            "min_width": null,
            "object_fit": null,
            "object_position": null,
            "order": null,
            "overflow": null,
            "overflow_x": null,
            "overflow_y": null,
            "padding": null,
            "right": null,
            "top": null,
            "visibility": null,
            "width": null
          }
        },
        "74db4c2b44bd4c29a09096873f8480a4": {
          "model_module": "@jupyter-widgets/controls",
          "model_module_version": "1.5.0",
          "model_name": "DescriptionStyleModel",
          "state": {
            "_model_module": "@jupyter-widgets/controls",
            "_model_module_version": "1.5.0",
            "_model_name": "DescriptionStyleModel",
            "_view_count": null,
            "_view_module": "@jupyter-widgets/base",
            "_view_module_version": "1.2.0",
            "_view_name": "StyleView",
            "description_width": ""
          }
        },
        "78970d9e227e47c089f02212c9fceacd": {
          "model_module": "@jupyter-widgets/controls",
          "model_module_version": "1.5.0",
          "model_name": "DescriptionStyleModel",
          "state": {
            "_model_module": "@jupyter-widgets/controls",
            "_model_module_version": "1.5.0",
            "_model_name": "DescriptionStyleModel",
            "_view_count": null,
            "_view_module": "@jupyter-widgets/base",
            "_view_module_version": "1.2.0",
            "_view_name": "StyleView",
            "description_width": ""
          }
        },
        "78d3b4cb760341ea881d9246dd360a45": {
          "model_module": "@jupyter-widgets/controls",
          "model_module_version": "1.5.0",
          "model_name": "ProgressStyleModel",
          "state": {
            "_model_module": "@jupyter-widgets/controls",
            "_model_module_version": "1.5.0",
            "_model_name": "ProgressStyleModel",
            "_view_count": null,
            "_view_module": "@jupyter-widgets/base",
            "_view_module_version": "1.2.0",
            "_view_name": "StyleView",
            "bar_color": null,
            "description_width": ""
          }
        },
        "7918ae021bc94d018aecbac04c8597fe": {
          "model_module": "@jupyter-widgets/base",
          "model_module_version": "1.2.0",
          "model_name": "LayoutModel",
          "state": {
            "_model_module": "@jupyter-widgets/base",
            "_model_module_version": "1.2.0",
            "_model_name": "LayoutModel",
            "_view_count": null,
            "_view_module": "@jupyter-widgets/base",
            "_view_module_version": "1.2.0",
            "_view_name": "LayoutView",
            "align_content": null,
            "align_items": null,
            "align_self": null,
            "border": null,
            "bottom": null,
            "display": null,
            "flex": null,
            "flex_flow": null,
            "grid_area": null,
            "grid_auto_columns": null,
            "grid_auto_flow": null,
            "grid_auto_rows": null,
            "grid_column": null,
            "grid_gap": null,
            "grid_row": null,
            "grid_template_areas": null,
            "grid_template_columns": null,
            "grid_template_rows": null,
            "height": null,
            "justify_content": null,
            "justify_items": null,
            "left": null,
            "margin": null,
            "max_height": null,
            "max_width": null,
            "min_height": null,
            "min_width": null,
            "object_fit": null,
            "object_position": null,
            "order": null,
            "overflow": null,
            "overflow_x": null,
            "overflow_y": null,
            "padding": null,
            "right": null,
            "top": null,
            "visibility": null,
            "width": null
          }
        },
        "7aa96a27a11d42e6814efa5e303210da": {
          "model_module": "@jupyter-widgets/base",
          "model_module_version": "1.2.0",
          "model_name": "LayoutModel",
          "state": {
            "_model_module": "@jupyter-widgets/base",
            "_model_module_version": "1.2.0",
            "_model_name": "LayoutModel",
            "_view_count": null,
            "_view_module": "@jupyter-widgets/base",
            "_view_module_version": "1.2.0",
            "_view_name": "LayoutView",
            "align_content": null,
            "align_items": null,
            "align_self": null,
            "border": null,
            "bottom": null,
            "display": null,
            "flex": null,
            "flex_flow": null,
            "grid_area": null,
            "grid_auto_columns": null,
            "grid_auto_flow": null,
            "grid_auto_rows": null,
            "grid_column": null,
            "grid_gap": null,
            "grid_row": null,
            "grid_template_areas": null,
            "grid_template_columns": null,
            "grid_template_rows": null,
            "height": null,
            "justify_content": null,
            "justify_items": null,
            "left": null,
            "margin": null,
            "max_height": null,
            "max_width": null,
            "min_height": null,
            "min_width": null,
            "object_fit": null,
            "object_position": null,
            "order": null,
            "overflow": null,
            "overflow_x": null,
            "overflow_y": null,
            "padding": null,
            "right": null,
            "top": null,
            "visibility": null,
            "width": null
          }
        },
        "7abd07cc19cd4bebb7a3fe370f749c6e": {
          "model_module": "@jupyter-widgets/controls",
          "model_module_version": "1.5.0",
          "model_name": "HTMLModel",
          "state": {
            "_dom_classes": [],
            "_model_module": "@jupyter-widgets/controls",
            "_model_module_version": "1.5.0",
            "_model_name": "HTMLModel",
            "_view_count": null,
            "_view_module": "@jupyter-widgets/controls",
            "_view_module_version": "1.5.0",
            "_view_name": "HTMLView",
            "description": "",
            "description_tooltip": null,
            "layout": "IPY_MODEL_affc2856fe5b41d8aa3938d3306374cc",
            "placeholder": "​",
            "style": "IPY_MODEL_80a94d66c8ee4c5e96ea6189d6a2106c",
            "value": " 349/349 [00:00&lt;00:00, 17.4kB/s]"
          }
        },
        "7b3ede4b064148c68fb7fc9553f9769f": {
          "model_module": "@jupyter-widgets/base",
          "model_module_version": "1.2.0",
          "model_name": "LayoutModel",
          "state": {
            "_model_module": "@jupyter-widgets/base",
            "_model_module_version": "1.2.0",
            "_model_name": "LayoutModel",
            "_view_count": null,
            "_view_module": "@jupyter-widgets/base",
            "_view_module_version": "1.2.0",
            "_view_name": "LayoutView",
            "align_content": null,
            "align_items": null,
            "align_self": null,
            "border": null,
            "bottom": null,
            "display": null,
            "flex": null,
            "flex_flow": null,
            "grid_area": null,
            "grid_auto_columns": null,
            "grid_auto_flow": null,
            "grid_auto_rows": null,
            "grid_column": null,
            "grid_gap": null,
            "grid_row": null,
            "grid_template_areas": null,
            "grid_template_columns": null,
            "grid_template_rows": null,
            "height": null,
            "justify_content": null,
            "justify_items": null,
            "left": null,
            "margin": null,
            "max_height": null,
            "max_width": null,
            "min_height": null,
            "min_width": null,
            "object_fit": null,
            "object_position": null,
            "order": null,
            "overflow": null,
            "overflow_x": null,
            "overflow_y": null,
            "padding": null,
            "right": null,
            "top": null,
            "visibility": null,
            "width": null
          }
        },
        "7b52bb26066744cd920e13ddb550dabd": {
          "model_module": "@jupyter-widgets/controls",
          "model_module_version": "1.5.0",
          "model_name": "HTMLModel",
          "state": {
            "_dom_classes": [],
            "_model_module": "@jupyter-widgets/controls",
            "_model_module_version": "1.5.0",
            "_model_name": "HTMLModel",
            "_view_count": null,
            "_view_module": "@jupyter-widgets/controls",
            "_view_module_version": "1.5.0",
            "_view_name": "HTMLView",
            "description": "",
            "description_tooltip": null,
            "layout": "IPY_MODEL_f3f1ce36722f47659e049de83c8cf78d",
            "placeholder": "​",
            "style": "IPY_MODEL_c9782c15ccee45d68fa0cd84e1037004",
            "value": "special_tokens_map.json: 100%"
          }
        },
        "7c959cdf7b084a969c5de14a43f9830e": {
          "model_module": "@jupyter-widgets/controls",
          "model_module_version": "1.5.0",
          "model_name": "FloatProgressModel",
          "state": {
            "_dom_classes": [],
            "_model_module": "@jupyter-widgets/controls",
            "_model_module_version": "1.5.0",
            "_model_name": "FloatProgressModel",
            "_view_count": null,
            "_view_module": "@jupyter-widgets/controls",
            "_view_module_version": "1.5.0",
            "_view_name": "ProgressView",
            "bar_style": "success",
            "description": "",
            "description_tooltip": null,
            "layout": "IPY_MODEL_379b470b96c24fbc938c7d89451ecdb1",
            "max": 53,
            "min": 0,
            "orientation": "horizontal",
            "style": "IPY_MODEL_5c95b83e2d5449a1851901facb136eaa",
            "value": 53
          }
        },
        "7e6ddbb445434bb6b77c7425cb26d55a": {
          "model_module": "@jupyter-widgets/controls",
          "model_module_version": "1.5.0",
          "model_name": "HBoxModel",
          "state": {
            "_dom_classes": [],
            "_model_module": "@jupyter-widgets/controls",
            "_model_module_version": "1.5.0",
            "_model_name": "HBoxModel",
            "_view_count": null,
            "_view_module": "@jupyter-widgets/controls",
            "_view_module_version": "1.5.0",
            "_view_name": "HBoxView",
            "box_style": "",
            "children": [
              "IPY_MODEL_50a6bee61f464ed991f50dc6f2942d49",
              "IPY_MODEL_d518bed78aba4bc4a12db1863c3de9cb",
              "IPY_MODEL_8482c188d0c14820877fc88b08482929"
            ],
            "layout": "IPY_MODEL_9ee8556d9ceb47f4bf72e1bd01dc6fed"
          }
        },
        "800bcc8261f448f2af89f1e39b1b4430": {
          "model_module": "@jupyter-widgets/controls",
          "model_module_version": "1.5.0",
          "model_name": "HTMLModel",
          "state": {
            "_dom_classes": [],
            "_model_module": "@jupyter-widgets/controls",
            "_model_module_version": "1.5.0",
            "_model_name": "HTMLModel",
            "_view_count": null,
            "_view_module": "@jupyter-widgets/controls",
            "_view_module_version": "1.5.0",
            "_view_name": "HTMLView",
            "description": "",
            "description_tooltip": null,
            "layout": "IPY_MODEL_c018e70a4d2c4a9cb48dacff5674a778",
            "placeholder": "​",
            "style": "IPY_MODEL_027afd2913164d7fbb7b2c5bd90ad064",
            "value": "tokenizer_config.json: 100%"
          }
        },
        "80a94d66c8ee4c5e96ea6189d6a2106c": {
          "model_module": "@jupyter-widgets/controls",
          "model_module_version": "1.5.0",
          "model_name": "DescriptionStyleModel",
          "state": {
            "_model_module": "@jupyter-widgets/controls",
            "_model_module_version": "1.5.0",
            "_model_name": "DescriptionStyleModel",
            "_view_count": null,
            "_view_module": "@jupyter-widgets/base",
            "_view_module_version": "1.2.0",
            "_view_name": "StyleView",
            "description_width": ""
          }
        },
        "814c9eb6c037401f98b3626e2530a83f": {
          "model_module": "@jupyter-widgets/controls",
          "model_module_version": "1.5.0",
          "model_name": "ProgressStyleModel",
          "state": {
            "_model_module": "@jupyter-widgets/controls",
            "_model_module_version": "1.5.0",
            "_model_name": "ProgressStyleModel",
            "_view_count": null,
            "_view_module": "@jupyter-widgets/base",
            "_view_module_version": "1.2.0",
            "_view_name": "StyleView",
            "bar_color": null,
            "description_width": ""
          }
        },
        "81596b0d01074e6e95f010b526900084": {
          "model_module": "@jupyter-widgets/controls",
          "model_module_version": "1.5.0",
          "model_name": "ProgressStyleModel",
          "state": {
            "_model_module": "@jupyter-widgets/controls",
            "_model_module_version": "1.5.0",
            "_model_name": "ProgressStyleModel",
            "_view_count": null,
            "_view_module": "@jupyter-widgets/base",
            "_view_module_version": "1.2.0",
            "_view_name": "StyleView",
            "bar_color": null,
            "description_width": ""
          }
        },
        "817543ba89834f22a19b91e062daa12f": {
          "model_module": "@jupyter-widgets/controls",
          "model_module_version": "1.5.0",
          "model_name": "FloatProgressModel",
          "state": {
            "_dom_classes": [],
            "_model_module": "@jupyter-widgets/controls",
            "_model_module_version": "1.5.0",
            "_model_name": "FloatProgressModel",
            "_view_count": null,
            "_view_module": "@jupyter-widgets/controls",
            "_view_module_version": "1.5.0",
            "_view_name": "ProgressView",
            "bar_style": "success",
            "description": "",
            "description_tooltip": null,
            "layout": "IPY_MODEL_c15443bcfcf44a79a6715943908d4ca5",
            "max": 349,
            "min": 0,
            "orientation": "horizontal",
            "style": "IPY_MODEL_b6b1a74c96c04a499c1a90ce869c19cd",
            "value": 349
          }
        },
        "81f17f657a7448dbaff6c85fc9e866df": {
          "model_module": "@jupyter-widgets/controls",
          "model_module_version": "1.5.0",
          "model_name": "FloatProgressModel",
          "state": {
            "_dom_classes": [],
            "_model_module": "@jupyter-widgets/controls",
            "_model_module_version": "1.5.0",
            "_model_name": "FloatProgressModel",
            "_view_count": null,
            "_view_module": "@jupyter-widgets/controls",
            "_view_module_version": "1.5.0",
            "_view_name": "ProgressView",
            "bar_style": "success",
            "description": "",
            "description_tooltip": null,
            "layout": "IPY_MODEL_0fd75bd1f42a486fb15877a9299e5a10",
            "max": 466021,
            "min": 0,
            "orientation": "horizontal",
            "style": "IPY_MODEL_732da9ab8d014de896816d5e8093e90a",
            "value": 466021
          }
        },
        "82c6e5eb9e6543edb79485d9f76e97c1": {
          "model_module": "@jupyter-widgets/controls",
          "model_module_version": "1.5.0",
          "model_name": "HBoxModel",
          "state": {
            "_dom_classes": [],
            "_model_module": "@jupyter-widgets/controls",
            "_model_module_version": "1.5.0",
            "_model_name": "HBoxModel",
            "_view_count": null,
            "_view_module": "@jupyter-widgets/controls",
            "_view_module_version": "1.5.0",
            "_view_name": "HBoxView",
            "box_style": "",
            "children": [
              "IPY_MODEL_dce6bf2f769148f9aabf6b3dde378f82",
              "IPY_MODEL_51467ddbd5ee47e9af59fc3dfb761ff6",
              "IPY_MODEL_8b7bc56e33b74d9da9a8b8b7f2abd427"
            ],
            "layout": "IPY_MODEL_a69cc009387b49709e9a2a171d362760"
          }
        },
        "833e5bb87d1a4d5a98fa8c64b6e98eda": {
          "model_module": "@jupyter-widgets/base",
          "model_module_version": "1.2.0",
          "model_name": "LayoutModel",
          "state": {
            "_model_module": "@jupyter-widgets/base",
            "_model_module_version": "1.2.0",
            "_model_name": "LayoutModel",
            "_view_count": null,
            "_view_module": "@jupyter-widgets/base",
            "_view_module_version": "1.2.0",
            "_view_name": "LayoutView",
            "align_content": null,
            "align_items": null,
            "align_self": null,
            "border": null,
            "bottom": null,
            "display": null,
            "flex": null,
            "flex_flow": null,
            "grid_area": null,
            "grid_auto_columns": null,
            "grid_auto_flow": null,
            "grid_auto_rows": null,
            "grid_column": null,
            "grid_gap": null,
            "grid_row": null,
            "grid_template_areas": null,
            "grid_template_columns": null,
            "grid_template_rows": null,
            "height": null,
            "justify_content": null,
            "justify_items": null,
            "left": null,
            "margin": null,
            "max_height": null,
            "max_width": null,
            "min_height": null,
            "min_width": null,
            "object_fit": null,
            "object_position": null,
            "order": null,
            "overflow": null,
            "overflow_x": null,
            "overflow_y": null,
            "padding": null,
            "right": null,
            "top": null,
            "visibility": null,
            "width": null
          }
        },
        "83852c60ddd94eb1ba6e78a0914ee401": {
          "model_module": "@jupyter-widgets/base",
          "model_module_version": "1.2.0",
          "model_name": "LayoutModel",
          "state": {
            "_model_module": "@jupyter-widgets/base",
            "_model_module_version": "1.2.0",
            "_model_name": "LayoutModel",
            "_view_count": null,
            "_view_module": "@jupyter-widgets/base",
            "_view_module_version": "1.2.0",
            "_view_name": "LayoutView",
            "align_content": null,
            "align_items": null,
            "align_self": null,
            "border": null,
            "bottom": null,
            "display": null,
            "flex": null,
            "flex_flow": null,
            "grid_area": null,
            "grid_auto_columns": null,
            "grid_auto_flow": null,
            "grid_auto_rows": null,
            "grid_column": null,
            "grid_gap": null,
            "grid_row": null,
            "grid_template_areas": null,
            "grid_template_columns": null,
            "grid_template_rows": null,
            "height": null,
            "justify_content": null,
            "justify_items": null,
            "left": null,
            "margin": null,
            "max_height": null,
            "max_width": null,
            "min_height": null,
            "min_width": null,
            "object_fit": null,
            "object_position": null,
            "order": null,
            "overflow": null,
            "overflow_x": null,
            "overflow_y": null,
            "padding": null,
            "right": null,
            "top": null,
            "visibility": null,
            "width": null
          }
        },
        "83d009744b0040c2a4554c9d8bc3b1e2": {
          "model_module": "@jupyter-widgets/controls",
          "model_module_version": "1.5.0",
          "model_name": "HTMLModel",
          "state": {
            "_dom_classes": [],
            "_model_module": "@jupyter-widgets/controls",
            "_model_module_version": "1.5.0",
            "_model_name": "HTMLModel",
            "_view_count": null,
            "_view_module": "@jupyter-widgets/controls",
            "_view_module_version": "1.5.0",
            "_view_name": "HTMLView",
            "description": "",
            "description_tooltip": null,
            "layout": "IPY_MODEL_3eb0e968e3074818a720674db5fc21cf",
            "placeholder": "​",
            "style": "IPY_MODEL_ef9b73ad97874a32a0c8b1e300f9e9a5",
            "value": "vocab.txt: 100%"
          }
        },
        "843661027aa94eedafc8cad130a0dc1a": {
          "model_module": "@jupyter-widgets/controls",
          "model_module_version": "1.5.0",
          "model_name": "DescriptionStyleModel",
          "state": {
            "_model_module": "@jupyter-widgets/controls",
            "_model_module_version": "1.5.0",
            "_model_name": "DescriptionStyleModel",
            "_view_count": null,
            "_view_module": "@jupyter-widgets/base",
            "_view_module_version": "1.2.0",
            "_view_name": "StyleView",
            "description_width": ""
          }
        },
        "843adf6c05fa4c38a43cb62bbdc1445f": {
          "model_module": "@jupyter-widgets/base",
          "model_module_version": "1.2.0",
          "model_name": "LayoutModel",
          "state": {
            "_model_module": "@jupyter-widgets/base",
            "_model_module_version": "1.2.0",
            "_model_name": "LayoutModel",
            "_view_count": null,
            "_view_module": "@jupyter-widgets/base",
            "_view_module_version": "1.2.0",
            "_view_name": "LayoutView",
            "align_content": null,
            "align_items": null,
            "align_self": null,
            "border": null,
            "bottom": null,
            "display": null,
            "flex": null,
            "flex_flow": null,
            "grid_area": null,
            "grid_auto_columns": null,
            "grid_auto_flow": null,
            "grid_auto_rows": null,
            "grid_column": null,
            "grid_gap": null,
            "grid_row": null,
            "grid_template_areas": null,
            "grid_template_columns": null,
            "grid_template_rows": null,
            "height": null,
            "justify_content": null,
            "justify_items": null,
            "left": null,
            "margin": null,
            "max_height": null,
            "max_width": null,
            "min_height": null,
            "min_width": null,
            "object_fit": null,
            "object_position": null,
            "order": null,
            "overflow": null,
            "overflow_x": null,
            "overflow_y": null,
            "padding": null,
            "right": null,
            "top": null,
            "visibility": null,
            "width": null
          }
        },
        "8482c188d0c14820877fc88b08482929": {
          "model_module": "@jupyter-widgets/controls",
          "model_module_version": "1.5.0",
          "model_name": "HTMLModel",
          "state": {
            "_dom_classes": [],
            "_model_module": "@jupyter-widgets/controls",
            "_model_module_version": "1.5.0",
            "_model_name": "HTMLModel",
            "_view_count": null,
            "_view_module": "@jupyter-widgets/controls",
            "_view_module_version": "1.5.0",
            "_view_name": "HTMLView",
            "description": "",
            "description_tooltip": null,
            "layout": "IPY_MODEL_15d4b1493fb042198ef66978a04d3552",
            "placeholder": "​",
            "style": "IPY_MODEL_7301f6b52b22427a8d195837b4a86c16",
            "value": " 90.9M/90.9M [00:00&lt;00:00, 259MB/s]"
          }
        },
        "84e86af513c14402832856a991f20f61": {
          "model_module": "@jupyter-widgets/controls",
          "model_module_version": "1.5.0",
          "model_name": "FloatProgressModel",
          "state": {
            "_dom_classes": [],
            "_model_module": "@jupyter-widgets/controls",
            "_model_module_version": "1.5.0",
            "_model_name": "FloatProgressModel",
            "_view_count": null,
            "_view_module": "@jupyter-widgets/controls",
            "_view_module_version": "1.5.0",
            "_view_name": "ProgressView",
            "bar_style": "success",
            "description": "",
            "description_tooltip": null,
            "layout": "IPY_MODEL_c5a4743f50964f588851b943074731ac",
            "max": 314,
            "min": 0,
            "orientation": "horizontal",
            "style": "IPY_MODEL_20c7c5a982bf4cff8043fe9fb6919150",
            "value": 314
          }
        },
        "84f808b27aa44fa59119451b4def82f7": {
          "model_module": "@jupyter-widgets/controls",
          "model_module_version": "1.5.0",
          "model_name": "FloatProgressModel",
          "state": {
            "_dom_classes": [],
            "_model_module": "@jupyter-widgets/controls",
            "_model_module_version": "1.5.0",
            "_model_name": "FloatProgressModel",
            "_view_count": null,
            "_view_module": "@jupyter-widgets/controls",
            "_view_module_version": "1.5.0",
            "_view_name": "ProgressView",
            "bar_style": "success",
            "description": "",
            "description_tooltip": null,
            "layout": "IPY_MODEL_b21693b3cdfa457a8da6ef45a75ec072",
            "max": 3729,
            "min": 0,
            "orientation": "horizontal",
            "style": "IPY_MODEL_b558e6fe9bf8413886b8786747476dcd",
            "value": 3729
          }
        },
        "8ab42ecaaee242ffa711148e4275ac43": {
          "model_module": "@jupyter-widgets/controls",
          "model_module_version": "1.5.0",
          "model_name": "DescriptionStyleModel",
          "state": {
            "_model_module": "@jupyter-widgets/controls",
            "_model_module_version": "1.5.0",
            "_model_name": "DescriptionStyleModel",
            "_view_count": null,
            "_view_module": "@jupyter-widgets/base",
            "_view_module_version": "1.2.0",
            "_view_name": "StyleView",
            "description_width": ""
          }
        },
        "8ae4ba9845044b319c99b1cc0d552094": {
          "model_module": "@jupyter-widgets/base",
          "model_module_version": "1.2.0",
          "model_name": "LayoutModel",
          "state": {
            "_model_module": "@jupyter-widgets/base",
            "_model_module_version": "1.2.0",
            "_model_name": "LayoutModel",
            "_view_count": null,
            "_view_module": "@jupyter-widgets/base",
            "_view_module_version": "1.2.0",
            "_view_name": "LayoutView",
            "align_content": null,
            "align_items": null,
            "align_self": null,
            "border": null,
            "bottom": null,
            "display": null,
            "flex": null,
            "flex_flow": null,
            "grid_area": null,
            "grid_auto_columns": null,
            "grid_auto_flow": null,
            "grid_auto_rows": null,
            "grid_column": null,
            "grid_gap": null,
            "grid_row": null,
            "grid_template_areas": null,
            "grid_template_columns": null,
            "grid_template_rows": null,
            "height": null,
            "justify_content": null,
            "justify_items": null,
            "left": null,
            "margin": null,
            "max_height": null,
            "max_width": null,
            "min_height": null,
            "min_width": null,
            "object_fit": null,
            "object_position": null,
            "order": null,
            "overflow": null,
            "overflow_x": null,
            "overflow_y": null,
            "padding": null,
            "right": null,
            "top": null,
            "visibility": null,
            "width": null
          }
        },
        "8b7bc56e33b74d9da9a8b8b7f2abd427": {
          "model_module": "@jupyter-widgets/controls",
          "model_module_version": "1.5.0",
          "model_name": "HTMLModel",
          "state": {
            "_dom_classes": [],
            "_model_module": "@jupyter-widgets/controls",
            "_model_module_version": "1.5.0",
            "_model_name": "HTMLModel",
            "_view_count": null,
            "_view_module": "@jupyter-widgets/controls",
            "_view_module_version": "1.5.0",
            "_view_name": "HTMLView",
            "description": "",
            "description_tooltip": null,
            "layout": "IPY_MODEL_d260e41916244305b798a08bdc6178c9",
            "placeholder": "​",
            "style": "IPY_MODEL_428d02c479824bfa9ce4f372d4e8fe77",
            "value": " 190/190 [00:00&lt;00:00, 7.53kB/s]"
          }
        },
        "8cce8cb644df49bbbef25200e03edb33": {
          "model_module": "@jupyter-widgets/controls",
          "model_module_version": "1.5.0",
          "model_name": "ProgressStyleModel",
          "state": {
            "_model_module": "@jupyter-widgets/controls",
            "_model_module_version": "1.5.0",
            "_model_name": "ProgressStyleModel",
            "_view_count": null,
            "_view_module": "@jupyter-widgets/base",
            "_view_module_version": "1.2.0",
            "_view_name": "StyleView",
            "bar_color": null,
            "description_width": ""
          }
        },
        "8d48f4307a8d4fb3b4df1b70b58cff0a": {
          "model_module": "@jupyter-widgets/controls",
          "model_module_version": "1.5.0",
          "model_name": "DescriptionStyleModel",
          "state": {
            "_model_module": "@jupyter-widgets/controls",
            "_model_module_version": "1.5.0",
            "_model_name": "DescriptionStyleModel",
            "_view_count": null,
            "_view_module": "@jupyter-widgets/base",
            "_view_module_version": "1.2.0",
            "_view_name": "StyleView",
            "description_width": ""
          }
        },
        "8de136f361b347ab98d91cac9f1914da": {
          "model_module": "@jupyter-widgets/base",
          "model_module_version": "1.2.0",
          "model_name": "LayoutModel",
          "state": {
            "_model_module": "@jupyter-widgets/base",
            "_model_module_version": "1.2.0",
            "_model_name": "LayoutModel",
            "_view_count": null,
            "_view_module": "@jupyter-widgets/base",
            "_view_module_version": "1.2.0",
            "_view_name": "LayoutView",
            "align_content": null,
            "align_items": null,
            "align_self": null,
            "border": null,
            "bottom": null,
            "display": null,
            "flex": null,
            "flex_flow": null,
            "grid_area": null,
            "grid_auto_columns": null,
            "grid_auto_flow": null,
            "grid_auto_rows": null,
            "grid_column": null,
            "grid_gap": null,
            "grid_row": null,
            "grid_template_areas": null,
            "grid_template_columns": null,
            "grid_template_rows": null,
            "height": null,
            "justify_content": null,
            "justify_items": null,
            "left": null,
            "margin": null,
            "max_height": null,
            "max_width": null,
            "min_height": null,
            "min_width": null,
            "object_fit": null,
            "object_position": null,
            "order": null,
            "overflow": null,
            "overflow_x": null,
            "overflow_y": null,
            "padding": null,
            "right": null,
            "top": null,
            "visibility": null,
            "width": null
          }
        },
        "8dee18f303d44d198b88126fe3d21aff": {
          "model_module": "@jupyter-widgets/controls",
          "model_module_version": "1.5.0",
          "model_name": "HTMLModel",
          "state": {
            "_dom_classes": [],
            "_model_module": "@jupyter-widgets/controls",
            "_model_module_version": "1.5.0",
            "_model_name": "HTMLModel",
            "_view_count": null,
            "_view_module": "@jupyter-widgets/controls",
            "_view_module_version": "1.5.0",
            "_view_name": "HTMLView",
            "description": "",
            "description_tooltip": null,
            "layout": "IPY_MODEL_8de136f361b347ab98d91cac9f1914da",
            "placeholder": "​",
            "style": "IPY_MODEL_9d0f4c6661c24be197838850b2a396af",
            "value": "README.md: 100%"
          }
        },
        "8e7c71e5a7f546fd90db16ff89c1348e": {
          "model_module": "@jupyter-widgets/base",
          "model_module_version": "1.2.0",
          "model_name": "LayoutModel",
          "state": {
            "_model_module": "@jupyter-widgets/base",
            "_model_module_version": "1.2.0",
            "_model_name": "LayoutModel",
            "_view_count": null,
            "_view_module": "@jupyter-widgets/base",
            "_view_module_version": "1.2.0",
            "_view_name": "LayoutView",
            "align_content": null,
            "align_items": null,
            "align_self": null,
            "border": null,
            "bottom": null,
            "display": null,
            "flex": null,
            "flex_flow": null,
            "grid_area": null,
            "grid_auto_columns": null,
            "grid_auto_flow": null,
            "grid_auto_rows": null,
            "grid_column": null,
            "grid_gap": null,
            "grid_row": null,
            "grid_template_areas": null,
            "grid_template_columns": null,
            "grid_template_rows": null,
            "height": null,
            "justify_content": null,
            "justify_items": null,
            "left": null,
            "margin": null,
            "max_height": null,
            "max_width": null,
            "min_height": null,
            "min_width": null,
            "object_fit": null,
            "object_position": null,
            "order": null,
            "overflow": null,
            "overflow_x": null,
            "overflow_y": null,
            "padding": null,
            "right": null,
            "top": null,
            "visibility": null,
            "width": null
          }
        },
        "8ed26213daaf4781805ccbca3650a8dd": {
          "model_module": "@jupyter-widgets/base",
          "model_module_version": "1.2.0",
          "model_name": "LayoutModel",
          "state": {
            "_model_module": "@jupyter-widgets/base",
            "_model_module_version": "1.2.0",
            "_model_name": "LayoutModel",
            "_view_count": null,
            "_view_module": "@jupyter-widgets/base",
            "_view_module_version": "1.2.0",
            "_view_name": "LayoutView",
            "align_content": null,
            "align_items": null,
            "align_self": null,
            "border": null,
            "bottom": null,
            "display": null,
            "flex": null,
            "flex_flow": null,
            "grid_area": null,
            "grid_auto_columns": null,
            "grid_auto_flow": null,
            "grid_auto_rows": null,
            "grid_column": null,
            "grid_gap": null,
            "grid_row": null,
            "grid_template_areas": null,
            "grid_template_columns": null,
            "grid_template_rows": null,
            "height": null,
            "justify_content": null,
            "justify_items": null,
            "left": null,
            "margin": null,
            "max_height": null,
            "max_width": null,
            "min_height": null,
            "min_width": null,
            "object_fit": null,
            "object_position": null,
            "order": null,
            "overflow": null,
            "overflow_x": null,
            "overflow_y": null,
            "padding": null,
            "right": null,
            "top": null,
            "visibility": null,
            "width": null
          }
        },
        "912881405a354fac983ae1a4e63c8fdb": {
          "model_module": "@jupyter-widgets/base",
          "model_module_version": "1.2.0",
          "model_name": "LayoutModel",
          "state": {
            "_model_module": "@jupyter-widgets/base",
            "_model_module_version": "1.2.0",
            "_model_name": "LayoutModel",
            "_view_count": null,
            "_view_module": "@jupyter-widgets/base",
            "_view_module_version": "1.2.0",
            "_view_name": "LayoutView",
            "align_content": null,
            "align_items": null,
            "align_self": null,
            "border": null,
            "bottom": null,
            "display": null,
            "flex": null,
            "flex_flow": null,
            "grid_area": null,
            "grid_auto_columns": null,
            "grid_auto_flow": null,
            "grid_auto_rows": null,
            "grid_column": null,
            "grid_gap": null,
            "grid_row": null,
            "grid_template_areas": null,
            "grid_template_columns": null,
            "grid_template_rows": null,
            "height": null,
            "justify_content": null,
            "justify_items": null,
            "left": null,
            "margin": null,
            "max_height": null,
            "max_width": null,
            "min_height": null,
            "min_width": null,
            "object_fit": null,
            "object_position": null,
            "order": null,
            "overflow": null,
            "overflow_x": null,
            "overflow_y": null,
            "padding": null,
            "right": null,
            "top": null,
            "visibility": null,
            "width": null
          }
        },
        "9199df5d5120432cac4443748dd1feb1": {
          "model_module": "@jupyter-widgets/controls",
          "model_module_version": "1.5.0",
          "model_name": "DescriptionStyleModel",
          "state": {
            "_model_module": "@jupyter-widgets/controls",
            "_model_module_version": "1.5.0",
            "_model_name": "DescriptionStyleModel",
            "_view_count": null,
            "_view_module": "@jupyter-widgets/base",
            "_view_module_version": "1.2.0",
            "_view_name": "StyleView",
            "description_width": ""
          }
        },
        "927cc7853970487da1091c7edea2c67b": {
          "model_module": "@jupyter-widgets/controls",
          "model_module_version": "1.5.0",
          "model_name": "HTMLModel",
          "state": {
            "_dom_classes": [],
            "_model_module": "@jupyter-widgets/controls",
            "_model_module_version": "1.5.0",
            "_model_name": "HTMLModel",
            "_view_count": null,
            "_view_module": "@jupyter-widgets/controls",
            "_view_module_version": "1.5.0",
            "_view_name": "HTMLView",
            "description": "",
            "description_tooltip": null,
            "layout": "IPY_MODEL_a9add09d69054cb188dd45cc8052ffaa",
            "placeholder": "​",
            "style": "IPY_MODEL_149281905bcc4ee385c1e0acfb95596d",
            "value": " 629/629 [00:00&lt;00:00, 25.0kB/s]"
          }
        },
        "92828482edd84fcfb7a7e36e137769b1": {
          "model_module": "@jupyter-widgets/controls",
          "model_module_version": "1.5.0",
          "model_name": "HBoxModel",
          "state": {
            "_dom_classes": [],
            "_model_module": "@jupyter-widgets/controls",
            "_model_module_version": "1.5.0",
            "_model_name": "HBoxModel",
            "_view_count": null,
            "_view_module": "@jupyter-widgets/controls",
            "_view_module_version": "1.5.0",
            "_view_name": "HBoxView",
            "box_style": "",
            "children": [
              "IPY_MODEL_5e237b77589544cabd9d8994bbec427c",
              "IPY_MODEL_817543ba89834f22a19b91e062daa12f",
              "IPY_MODEL_7abd07cc19cd4bebb7a3fe370f749c6e"
            ],
            "layout": "IPY_MODEL_1cdb283a39094685961b5ee9594fe41d"
          }
        },
        "93047e6a65f44998a447ba5f6344c216": {
          "model_module": "@jupyter-widgets/controls",
          "model_module_version": "1.5.0",
          "model_name": "HBoxModel",
          "state": {
            "_dom_classes": [],
            "_model_module": "@jupyter-widgets/controls",
            "_model_module_version": "1.5.0",
            "_model_name": "HBoxModel",
            "_view_count": null,
            "_view_module": "@jupyter-widgets/controls",
            "_view_module_version": "1.5.0",
            "_view_name": "HBoxView",
            "box_style": "",
            "children": [
              "IPY_MODEL_334f1f1fcd144d22b23a1f6a48d684a5",
              "IPY_MODEL_3f09524d57ea4f9fb7a4818eba6eac53",
              "IPY_MODEL_927cc7853970487da1091c7edea2c67b"
            ],
            "layout": "IPY_MODEL_7b3ede4b064148c68fb7fc9553f9769f"
          }
        },
        "937b8443783549d08f5ebaf02d82096d": {
          "model_module": "@jupyter-widgets/controls",
          "model_module_version": "1.5.0",
          "model_name": "HTMLModel",
          "state": {
            "_dom_classes": [],
            "_model_module": "@jupyter-widgets/controls",
            "_model_module_version": "1.5.0",
            "_model_name": "HTMLModel",
            "_view_count": null,
            "_view_module": "@jupyter-widgets/controls",
            "_view_module_version": "1.5.0",
            "_view_name": "HTMLView",
            "description": "",
            "description_tooltip": null,
            "layout": "IPY_MODEL_b552ac43956d465a939d55563211a0c7",
            "placeholder": "​",
            "style": "IPY_MODEL_523a9ff246344776801af07eb52bae68",
            "value": " 159/159 [00:01&lt;00:00, 122.41it/s]"
          }
        },
        "957279fa4386461480966b21331071bb": {
          "model_module": "@jupyter-widgets/base",
          "model_module_version": "1.2.0",
          "model_name": "LayoutModel",
          "state": {
            "_model_module": "@jupyter-widgets/base",
            "_model_module_version": "1.2.0",
            "_model_name": "LayoutModel",
            "_view_count": null,
            "_view_module": "@jupyter-widgets/base",
            "_view_module_version": "1.2.0",
            "_view_name": "LayoutView",
            "align_content": null,
            "align_items": null,
            "align_self": null,
            "border": null,
            "bottom": null,
            "display": null,
            "flex": null,
            "flex_flow": null,
            "grid_area": null,
            "grid_auto_columns": null,
            "grid_auto_flow": null,
            "grid_auto_rows": null,
            "grid_column": null,
            "grid_gap": null,
            "grid_row": null,
            "grid_template_areas": null,
            "grid_template_columns": null,
            "grid_template_rows": null,
            "height": null,
            "justify_content": null,
            "justify_items": null,
            "left": null,
            "margin": null,
            "max_height": null,
            "max_width": null,
            "min_height": null,
            "min_width": null,
            "object_fit": null,
            "object_position": null,
            "order": null,
            "overflow": null,
            "overflow_x": null,
            "overflow_y": null,
            "padding": null,
            "right": null,
            "top": null,
            "visibility": null,
            "width": null
          }
        },
        "963a040ba5fe4c249be8c915d53d2b17": {
          "model_module": "@jupyter-widgets/base",
          "model_module_version": "1.2.0",
          "model_name": "LayoutModel",
          "state": {
            "_model_module": "@jupyter-widgets/base",
            "_model_module_version": "1.2.0",
            "_model_name": "LayoutModel",
            "_view_count": null,
            "_view_module": "@jupyter-widgets/base",
            "_view_module_version": "1.2.0",
            "_view_name": "LayoutView",
            "align_content": null,
            "align_items": null,
            "align_self": null,
            "border": null,
            "bottom": null,
            "display": null,
            "flex": null,
            "flex_flow": null,
            "grid_area": null,
            "grid_auto_columns": null,
            "grid_auto_flow": null,
            "grid_auto_rows": null,
            "grid_column": null,
            "grid_gap": null,
            "grid_row": null,
            "grid_template_areas": null,
            "grid_template_columns": null,
            "grid_template_rows": null,
            "height": null,
            "justify_content": null,
            "justify_items": null,
            "left": null,
            "margin": null,
            "max_height": null,
            "max_width": null,
            "min_height": null,
            "min_width": null,
            "object_fit": null,
            "object_position": null,
            "order": null,
            "overflow": null,
            "overflow_x": null,
            "overflow_y": null,
            "padding": null,
            "right": null,
            "top": null,
            "visibility": null,
            "width": null
          }
        },
        "96b87d05af6a493da32393a8fc25a0f6": {
          "model_module": "@jupyter-widgets/base",
          "model_module_version": "1.2.0",
          "model_name": "LayoutModel",
          "state": {
            "_model_module": "@jupyter-widgets/base",
            "_model_module_version": "1.2.0",
            "_model_name": "LayoutModel",
            "_view_count": null,
            "_view_module": "@jupyter-widgets/base",
            "_view_module_version": "1.2.0",
            "_view_name": "LayoutView",
            "align_content": null,
            "align_items": null,
            "align_self": null,
            "border": null,
            "bottom": null,
            "display": null,
            "flex": null,
            "flex_flow": null,
            "grid_area": null,
            "grid_auto_columns": null,
            "grid_auto_flow": null,
            "grid_auto_rows": null,
            "grid_column": null,
            "grid_gap": null,
            "grid_row": null,
            "grid_template_areas": null,
            "grid_template_columns": null,
            "grid_template_rows": null,
            "height": null,
            "justify_content": null,
            "justify_items": null,
            "left": null,
            "margin": null,
            "max_height": null,
            "max_width": null,
            "min_height": null,
            "min_width": null,
            "object_fit": null,
            "object_position": null,
            "order": null,
            "overflow": null,
            "overflow_x": null,
            "overflow_y": null,
            "padding": null,
            "right": null,
            "top": null,
            "visibility": null,
            "width": null
          }
        },
        "97997be1f7ff45e0aaee211a5268030f": {
          "model_module": "@jupyter-widgets/controls",
          "model_module_version": "1.5.0",
          "model_name": "DescriptionStyleModel",
          "state": {
            "_model_module": "@jupyter-widgets/controls",
            "_model_module_version": "1.5.0",
            "_model_name": "DescriptionStyleModel",
            "_view_count": null,
            "_view_module": "@jupyter-widgets/base",
            "_view_module_version": "1.2.0",
            "_view_name": "StyleView",
            "description_width": ""
          }
        },
        "98d4257e10e64a56bcde2c09ecc3f3d4": {
          "model_module": "@jupyter-widgets/controls",
          "model_module_version": "1.5.0",
          "model_name": "DescriptionStyleModel",
          "state": {
            "_model_module": "@jupyter-widgets/controls",
            "_model_module_version": "1.5.0",
            "_model_name": "DescriptionStyleModel",
            "_view_count": null,
            "_view_module": "@jupyter-widgets/base",
            "_view_module_version": "1.2.0",
            "_view_name": "StyleView",
            "description_width": ""
          }
        },
        "9a3c6a3e205946c09f65609a6572e88a": {
          "model_module": "@jupyter-widgets/controls",
          "model_module_version": "1.5.0",
          "model_name": "HTMLModel",
          "state": {
            "_dom_classes": [],
            "_model_module": "@jupyter-widgets/controls",
            "_model_module_version": "1.5.0",
            "_model_name": "HTMLModel",
            "_view_count": null,
            "_view_module": "@jupyter-widgets/controls",
            "_view_module_version": "1.5.0",
            "_view_name": "HTMLView",
            "description": "",
            "description_tooltip": null,
            "layout": "IPY_MODEL_8ae4ba9845044b319c99b1cc0d552094",
            "placeholder": "​",
            "style": "IPY_MODEL_8ab42ecaaee242ffa711148e4275ac43",
            "value": "sentence_bert_config.json: 100%"
          }
        },
        "9a6252a2ffb3447c9ed52d17638ea04f": {
          "model_module": "@jupyter-widgets/controls",
          "model_module_version": "1.5.0",
          "model_name": "HBoxModel",
          "state": {
            "_dom_classes": [],
            "_model_module": "@jupyter-widgets/controls",
            "_model_module_version": "1.5.0",
            "_model_name": "HBoxModel",
            "_view_count": null,
            "_view_module": "@jupyter-widgets/controls",
            "_view_module_version": "1.5.0",
            "_view_name": "HBoxView",
            "box_style": "",
            "children": [
              "IPY_MODEL_cef81ea479f34e40afa1d4b492c950d2",
              "IPY_MODEL_0a3d3476dc934a9aa5397bb64d09f75d",
              "IPY_MODEL_a9f168e0b48641378dd39ff020db67b9"
            ],
            "layout": "IPY_MODEL_1e0ec9b7f4ca41599506a9ef303cf09f"
          }
        },
        "9ab0f4b4c8344b0b8f81e5eb8058dbc9": {
          "model_module": "@jupyter-widgets/base",
          "model_module_version": "1.2.0",
          "model_name": "LayoutModel",
          "state": {
            "_model_module": "@jupyter-widgets/base",
            "_model_module_version": "1.2.0",
            "_model_name": "LayoutModel",
            "_view_count": null,
            "_view_module": "@jupyter-widgets/base",
            "_view_module_version": "1.2.0",
            "_view_name": "LayoutView",
            "align_content": null,
            "align_items": null,
            "align_self": null,
            "border": null,
            "bottom": null,
            "display": null,
            "flex": null,
            "flex_flow": null,
            "grid_area": null,
            "grid_auto_columns": null,
            "grid_auto_flow": null,
            "grid_auto_rows": null,
            "grid_column": null,
            "grid_gap": null,
            "grid_row": null,
            "grid_template_areas": null,
            "grid_template_columns": null,
            "grid_template_rows": null,
            "height": null,
            "justify_content": null,
            "justify_items": null,
            "left": null,
            "margin": null,
            "max_height": null,
            "max_width": null,
            "min_height": null,
            "min_width": null,
            "object_fit": null,
            "object_position": null,
            "order": null,
            "overflow": null,
            "overflow_x": null,
            "overflow_y": null,
            "padding": null,
            "right": null,
            "top": null,
            "visibility": null,
            "width": null
          }
        },
        "9c3862c4daaa4c86beb874dffe5d4e18": {
          "model_module": "@jupyter-widgets/controls",
          "model_module_version": "1.5.0",
          "model_name": "HBoxModel",
          "state": {
            "_dom_classes": [],
            "_model_module": "@jupyter-widgets/controls",
            "_model_module_version": "1.5.0",
            "_model_name": "HBoxModel",
            "_view_count": null,
            "_view_module": "@jupyter-widgets/controls",
            "_view_module_version": "1.5.0",
            "_view_name": "HBoxView",
            "box_style": "",
            "children": [
              "IPY_MODEL_aacea5d8fd0e4a57a0d5dc5d6350dd3f",
              "IPY_MODEL_444cc957901c485b81545cc5ead40aac",
              "IPY_MODEL_ef22eb05476f478c9dec46e5596d1228"
            ],
            "layout": "IPY_MODEL_843adf6c05fa4c38a43cb62bbdc1445f"
          }
        },
        "9d0f4c6661c24be197838850b2a396af": {
          "model_module": "@jupyter-widgets/controls",
          "model_module_version": "1.5.0",
          "model_name": "DescriptionStyleModel",
          "state": {
            "_model_module": "@jupyter-widgets/controls",
            "_model_module_version": "1.5.0",
            "_model_name": "DescriptionStyleModel",
            "_view_count": null,
            "_view_module": "@jupyter-widgets/base",
            "_view_module_version": "1.2.0",
            "_view_name": "StyleView",
            "description_width": ""
          }
        },
        "9ee8556d9ceb47f4bf72e1bd01dc6fed": {
          "model_module": "@jupyter-widgets/base",
          "model_module_version": "1.2.0",
          "model_name": "LayoutModel",
          "state": {
            "_model_module": "@jupyter-widgets/base",
            "_model_module_version": "1.2.0",
            "_model_name": "LayoutModel",
            "_view_count": null,
            "_view_module": "@jupyter-widgets/base",
            "_view_module_version": "1.2.0",
            "_view_name": "LayoutView",
            "align_content": null,
            "align_items": null,
            "align_self": null,
            "border": null,
            "bottom": null,
            "display": null,
            "flex": null,
            "flex_flow": null,
            "grid_area": null,
            "grid_auto_columns": null,
            "grid_auto_flow": null,
            "grid_auto_rows": null,
            "grid_column": null,
            "grid_gap": null,
            "grid_row": null,
            "grid_template_areas": null,
            "grid_template_columns": null,
            "grid_template_rows": null,
            "height": null,
            "justify_content": null,
            "justify_items": null,
            "left": null,
            "margin": null,
            "max_height": null,
            "max_width": null,
            "min_height": null,
            "min_width": null,
            "object_fit": null,
            "object_position": null,
            "order": null,
            "overflow": null,
            "overflow_x": null,
            "overflow_y": null,
            "padding": null,
            "right": null,
            "top": null,
            "visibility": null,
            "width": null
          }
        },
        "9f63f8776a0e4dc697246c9338cbb7b2": {
          "model_module": "@jupyter-widgets/controls",
          "model_module_version": "1.5.0",
          "model_name": "HTMLModel",
          "state": {
            "_dom_classes": [],
            "_model_module": "@jupyter-widgets/controls",
            "_model_module_version": "1.5.0",
            "_model_name": "HTMLModel",
            "_view_count": null,
            "_view_module": "@jupyter-widgets/controls",
            "_view_module_version": "1.5.0",
            "_view_name": "HTMLView",
            "description": "",
            "description_tooltip": null,
            "layout": "IPY_MODEL_5a8bc4b347254e84a8957309cdaed440",
            "placeholder": "​",
            "style": "IPY_MODEL_614c2ff5545142c8b9b49ecf5c5a385d",
            "value": "1_Pooling/config.json: 100%"
          }
        },
        "a1742fce881b47e882996646b05d5e2c": {
          "model_module": "@jupyter-widgets/controls",
          "model_module_version": "1.5.0",
          "model_name": "HBoxModel",
          "state": {
            "_dom_classes": [],
            "_model_module": "@jupyter-widgets/controls",
            "_model_module_version": "1.5.0",
            "_model_name": "HBoxModel",
            "_view_count": null,
            "_view_module": "@jupyter-widgets/controls",
            "_view_module_version": "1.5.0",
            "_view_name": "HBoxView",
            "box_style": "",
            "children": [
              "IPY_MODEL_800bcc8261f448f2af89f1e39b1b4430",
              "IPY_MODEL_84e86af513c14402832856a991f20f61",
              "IPY_MODEL_e8b1266f798b4532afe6c21453ca243d"
            ],
            "layout": "IPY_MODEL_f0275210a42141ae9f54d2b9990c3678"
          }
        },
        "a2ab5dc7920c4b65ae83a817ab57f021": {
          "model_module": "@jupyter-widgets/controls",
          "model_module_version": "1.5.0",
          "model_name": "HTMLModel",
          "state": {
            "_dom_classes": [],
            "_model_module": "@jupyter-widgets/controls",
            "_model_module_version": "1.5.0",
            "_model_name": "HTMLModel",
            "_view_count": null,
            "_view_module": "@jupyter-widgets/controls",
            "_view_module_version": "1.5.0",
            "_view_name": "HTMLView",
            "description": "",
            "description_tooltip": null,
            "layout": "IPY_MODEL_e78dc58f8676407c9a9a3fd0294d64f8",
            "placeholder": "​",
            "style": "IPY_MODEL_8d48f4307a8d4fb3b4df1b70b58cff0a",
            "value": " 232k/232k [00:00&lt;00:00, 534kB/s]"
          }
        },
        "a5e22ad1dbcd404fa32c78129491c34e": {
          "model_module": "@jupyter-widgets/base",
          "model_module_version": "1.2.0",
          "model_name": "LayoutModel",
          "state": {
            "_model_module": "@jupyter-widgets/base",
            "_model_module_version": "1.2.0",
            "_model_name": "LayoutModel",
            "_view_count": null,
            "_view_module": "@jupyter-widgets/base",
            "_view_module_version": "1.2.0",
            "_view_name": "LayoutView",
            "align_content": null,
            "align_items": null,
            "align_self": null,
            "border": null,
            "bottom": null,
            "display": null,
            "flex": null,
            "flex_flow": null,
            "grid_area": null,
            "grid_auto_columns": null,
            "grid_auto_flow": null,
            "grid_auto_rows": null,
            "grid_column": null,
            "grid_gap": null,
            "grid_row": null,
            "grid_template_areas": null,
            "grid_template_columns": null,
            "grid_template_rows": null,
            "height": null,
            "justify_content": null,
            "justify_items": null,
            "left": null,
            "margin": null,
            "max_height": null,
            "max_width": null,
            "min_height": null,
            "min_width": null,
            "object_fit": null,
            "object_position": null,
            "order": null,
            "overflow": null,
            "overflow_x": null,
            "overflow_y": null,
            "padding": null,
            "right": null,
            "top": null,
            "visibility": null,
            "width": null
          }
        },
        "a69cc009387b49709e9a2a171d362760": {
          "model_module": "@jupyter-widgets/base",
          "model_module_version": "1.2.0",
          "model_name": "LayoutModel",
          "state": {
            "_model_module": "@jupyter-widgets/base",
            "_model_module_version": "1.2.0",
            "_model_name": "LayoutModel",
            "_view_count": null,
            "_view_module": "@jupyter-widgets/base",
            "_view_module_version": "1.2.0",
            "_view_name": "LayoutView",
            "align_content": null,
            "align_items": null,
            "align_self": null,
            "border": null,
            "bottom": null,
            "display": null,
            "flex": null,
            "flex_flow": null,
            "grid_area": null,
            "grid_auto_columns": null,
            "grid_auto_flow": null,
            "grid_auto_rows": null,
            "grid_column": null,
            "grid_gap": null,
            "grid_row": null,
            "grid_template_areas": null,
            "grid_template_columns": null,
            "grid_template_rows": null,
            "height": null,
            "justify_content": null,
            "justify_items": null,
            "left": null,
            "margin": null,
            "max_height": null,
            "max_width": null,
            "min_height": null,
            "min_width": null,
            "object_fit": null,
            "object_position": null,
            "order": null,
            "overflow": null,
            "overflow_x": null,
            "overflow_y": null,
            "padding": null,
            "right": null,
            "top": null,
            "visibility": null,
            "width": null
          }
        },
        "a95ee603692f40caadec6872e0146003": {
          "model_module": "@jupyter-widgets/base",
          "model_module_version": "1.2.0",
          "model_name": "LayoutModel",
          "state": {
            "_model_module": "@jupyter-widgets/base",
            "_model_module_version": "1.2.0",
            "_model_name": "LayoutModel",
            "_view_count": null,
            "_view_module": "@jupyter-widgets/base",
            "_view_module_version": "1.2.0",
            "_view_name": "LayoutView",
            "align_content": null,
            "align_items": null,
            "align_self": null,
            "border": null,
            "bottom": null,
            "display": null,
            "flex": null,
            "flex_flow": null,
            "grid_area": null,
            "grid_auto_columns": null,
            "grid_auto_flow": null,
            "grid_auto_rows": null,
            "grid_column": null,
            "grid_gap": null,
            "grid_row": null,
            "grid_template_areas": null,
            "grid_template_columns": null,
            "grid_template_rows": null,
            "height": null,
            "justify_content": null,
            "justify_items": null,
            "left": null,
            "margin": null,
            "max_height": null,
            "max_width": null,
            "min_height": null,
            "min_width": null,
            "object_fit": null,
            "object_position": null,
            "order": null,
            "overflow": null,
            "overflow_x": null,
            "overflow_y": null,
            "padding": null,
            "right": null,
            "top": null,
            "visibility": null,
            "width": null
          }
        },
        "a98e7bfcf5244dafb2ba3cfec815830f": {
          "model_module": "@jupyter-widgets/controls",
          "model_module_version": "1.5.0",
          "model_name": "HBoxModel",
          "state": {
            "_dom_classes": [],
            "_model_module": "@jupyter-widgets/controls",
            "_model_module_version": "1.5.0",
            "_model_name": "HBoxModel",
            "_view_count": null,
            "_view_module": "@jupyter-widgets/controls",
            "_view_module_version": "1.5.0",
            "_view_name": "HBoxView",
            "box_style": "",
            "children": [
              "IPY_MODEL_f599534ddc754c10b7a642334f3959d0",
              "IPY_MODEL_2ed100948aed4db3ba6f4cda3c6b0cdd",
              "IPY_MODEL_4f83a4c1cd4b4ccd93b424211e3f1b2b"
            ],
            "layout": "IPY_MODEL_56e0e353d7114693a487a2b3716dd405"
          }
        },
        "a9add09d69054cb188dd45cc8052ffaa": {
          "model_module": "@jupyter-widgets/base",
          "model_module_version": "1.2.0",
          "model_name": "LayoutModel",
          "state": {
            "_model_module": "@jupyter-widgets/base",
            "_model_module_version": "1.2.0",
            "_model_name": "LayoutModel",
            "_view_count": null,
            "_view_module": "@jupyter-widgets/base",
            "_view_module_version": "1.2.0",
            "_view_name": "LayoutView",
            "align_content": null,
            "align_items": null,
            "align_self": null,
            "border": null,
            "bottom": null,
            "display": null,
            "flex": null,
            "flex_flow": null,
            "grid_area": null,
            "grid_auto_columns": null,
            "grid_auto_flow": null,
            "grid_auto_rows": null,
            "grid_column": null,
            "grid_gap": null,
            "grid_row": null,
            "grid_template_areas": null,
            "grid_template_columns": null,
            "grid_template_rows": null,
            "height": null,
            "justify_content": null,
            "justify_items": null,
            "left": null,
            "margin": null,
            "max_height": null,
            "max_width": null,
            "min_height": null,
            "min_width": null,
            "object_fit": null,
            "object_position": null,
            "order": null,
            "overflow": null,
            "overflow_x": null,
            "overflow_y": null,
            "padding": null,
            "right": null,
            "top": null,
            "visibility": null,
            "width": null
          }
        },
        "a9f168e0b48641378dd39ff020db67b9": {
          "model_module": "@jupyter-widgets/controls",
          "model_module_version": "1.5.0",
          "model_name": "HTMLModel",
          "state": {
            "_dom_classes": [],
            "_model_module": "@jupyter-widgets/controls",
            "_model_module_version": "1.5.0",
            "_model_name": "HTMLModel",
            "_view_count": null,
            "_view_module": "@jupyter-widgets/controls",
            "_view_module_version": "1.5.0",
            "_view_name": "HTMLView",
            "description": "",
            "description_tooltip": null,
            "layout": "IPY_MODEL_de82b54f5a884f0d9ea9e50e15d410ae",
            "placeholder": "​",
            "style": "IPY_MODEL_843661027aa94eedafc8cad130a0dc1a",
            "value": " 53.0/53.0 [00:00&lt;00:00, 2.93kB/s]"
          }
        },
        "aacea5d8fd0e4a57a0d5dc5d6350dd3f": {
          "model_module": "@jupyter-widgets/controls",
          "model_module_version": "1.5.0",
          "model_name": "HTMLModel",
          "state": {
            "_dom_classes": [],
            "_model_module": "@jupyter-widgets/controls",
            "_model_module_version": "1.5.0",
            "_model_name": "HTMLModel",
            "_view_count": null,
            "_view_module": "@jupyter-widgets/controls",
            "_view_module_version": "1.5.0",
            "_view_name": "HTMLView",
            "description": "",
            "description_tooltip": null,
            "layout": "IPY_MODEL_ad0ea5e4c9424923b797b1c2f80ff71a",
            "placeholder": "​",
            "style": "IPY_MODEL_ac69c6c7bc074a2aa6c7656ebb17bafe",
            "value": "config_sentence_transformers.json: 100%"
          }
        },
        "ac69c6c7bc074a2aa6c7656ebb17bafe": {
          "model_module": "@jupyter-widgets/controls",
          "model_module_version": "1.5.0",
          "model_name": "DescriptionStyleModel",
          "state": {
            "_model_module": "@jupyter-widgets/controls",
            "_model_module_version": "1.5.0",
            "_model_name": "DescriptionStyleModel",
            "_view_count": null,
            "_view_module": "@jupyter-widgets/base",
            "_view_module_version": "1.2.0",
            "_view_name": "StyleView",
            "description_width": ""
          }
        },
        "ac85e9ae332040ceac2d9856c067f590": {
          "model_module": "@jupyter-widgets/base",
          "model_module_version": "1.2.0",
          "model_name": "LayoutModel",
          "state": {
            "_model_module": "@jupyter-widgets/base",
            "_model_module_version": "1.2.0",
            "_model_name": "LayoutModel",
            "_view_count": null,
            "_view_module": "@jupyter-widgets/base",
            "_view_module_version": "1.2.0",
            "_view_name": "LayoutView",
            "align_content": null,
            "align_items": null,
            "align_self": null,
            "border": null,
            "bottom": null,
            "display": null,
            "flex": null,
            "flex_flow": null,
            "grid_area": null,
            "grid_auto_columns": null,
            "grid_auto_flow": null,
            "grid_auto_rows": null,
            "grid_column": null,
            "grid_gap": null,
            "grid_row": null,
            "grid_template_areas": null,
            "grid_template_columns": null,
            "grid_template_rows": null,
            "height": null,
            "justify_content": null,
            "justify_items": null,
            "left": null,
            "margin": null,
            "max_height": null,
            "max_width": null,
            "min_height": null,
            "min_width": null,
            "object_fit": null,
            "object_position": null,
            "order": null,
            "overflow": null,
            "overflow_x": null,
            "overflow_y": null,
            "padding": null,
            "right": null,
            "top": null,
            "visibility": null,
            "width": null
          }
        },
        "acc62570dad149cc815343d425f66bfe": {
          "model_module": "@jupyter-widgets/controls",
          "model_module_version": "1.5.0",
          "model_name": "HTMLModel",
          "state": {
            "_dom_classes": [],
            "_model_module": "@jupyter-widgets/controls",
            "_model_module_version": "1.5.0",
            "_model_name": "HTMLModel",
            "_view_count": null,
            "_view_module": "@jupyter-widgets/controls",
            "_view_module_version": "1.5.0",
            "_view_name": "HTMLView",
            "description": "",
            "description_tooltip": null,
            "layout": "IPY_MODEL_b8c048824fa94221b0406581fe5c9cee",
            "placeholder": "​",
            "style": "IPY_MODEL_3ad930a0908840b7bfeb5874dcde18de",
            "value": "model.safetensors: 100%"
          }
        },
        "ad0ea5e4c9424923b797b1c2f80ff71a": {
          "model_module": "@jupyter-widgets/base",
          "model_module_version": "1.2.0",
          "model_name": "LayoutModel",
          "state": {
            "_model_module": "@jupyter-widgets/base",
            "_model_module_version": "1.2.0",
            "_model_name": "LayoutModel",
            "_view_count": null,
            "_view_module": "@jupyter-widgets/base",
            "_view_module_version": "1.2.0",
            "_view_name": "LayoutView",
            "align_content": null,
            "align_items": null,
            "align_self": null,
            "border": null,
            "bottom": null,
            "display": null,
            "flex": null,
            "flex_flow": null,
            "grid_area": null,
            "grid_auto_columns": null,
            "grid_auto_flow": null,
            "grid_auto_rows": null,
            "grid_column": null,
            "grid_gap": null,
            "grid_row": null,
            "grid_template_areas": null,
            "grid_template_columns": null,
            "grid_template_rows": null,
            "height": null,
            "justify_content": null,
            "justify_items": null,
            "left": null,
            "margin": null,
            "max_height": null,
            "max_width": null,
            "min_height": null,
            "min_width": null,
            "object_fit": null,
            "object_position": null,
            "order": null,
            "overflow": null,
            "overflow_x": null,
            "overflow_y": null,
            "padding": null,
            "right": null,
            "top": null,
            "visibility": null,
            "width": null
          }
        },
        "ae01a80c7f9d4528b6dd2d570d8a349b": {
          "model_module": "@jupyter-widgets/base",
          "model_module_version": "1.2.0",
          "model_name": "LayoutModel",
          "state": {
            "_model_module": "@jupyter-widgets/base",
            "_model_module_version": "1.2.0",
            "_model_name": "LayoutModel",
            "_view_count": null,
            "_view_module": "@jupyter-widgets/base",
            "_view_module_version": "1.2.0",
            "_view_name": "LayoutView",
            "align_content": null,
            "align_items": null,
            "align_self": null,
            "border": null,
            "bottom": null,
            "display": null,
            "flex": null,
            "flex_flow": null,
            "grid_area": null,
            "grid_auto_columns": null,
            "grid_auto_flow": null,
            "grid_auto_rows": null,
            "grid_column": null,
            "grid_gap": null,
            "grid_row": null,
            "grid_template_areas": null,
            "grid_template_columns": null,
            "grid_template_rows": null,
            "height": null,
            "justify_content": null,
            "justify_items": null,
            "left": null,
            "margin": null,
            "max_height": null,
            "max_width": null,
            "min_height": null,
            "min_width": null,
            "object_fit": null,
            "object_position": null,
            "order": null,
            "overflow": null,
            "overflow_x": null,
            "overflow_y": null,
            "padding": null,
            "right": null,
            "top": null,
            "visibility": null,
            "width": null
          }
        },
        "ae145e93c09549c9947b87350a5a90c8": {
          "model_module": "@jupyter-widgets/controls",
          "model_module_version": "1.5.0",
          "model_name": "DescriptionStyleModel",
          "state": {
            "_model_module": "@jupyter-widgets/controls",
            "_model_module_version": "1.5.0",
            "_model_name": "DescriptionStyleModel",
            "_view_count": null,
            "_view_module": "@jupyter-widgets/base",
            "_view_module_version": "1.2.0",
            "_view_name": "StyleView",
            "description_width": ""
          }
        },
        "afe7c8406b4f402390cb24420c6a1c04": {
          "model_module": "@jupyter-widgets/controls",
          "model_module_version": "1.5.0",
          "model_name": "HBoxModel",
          "state": {
            "_dom_classes": [],
            "_model_module": "@jupyter-widgets/controls",
            "_model_module_version": "1.5.0",
            "_model_name": "HBoxModel",
            "_view_count": null,
            "_view_module": "@jupyter-widgets/controls",
            "_view_module_version": "1.5.0",
            "_view_name": "HBoxView",
            "box_style": "",
            "children": [
              "IPY_MODEL_f128b81c44764bdf98320cd0eabee817",
              "IPY_MODEL_3dcd1894e9eb4296bf54dc1a8edf4454",
              "IPY_MODEL_116fe4856a014cdabaf8cfd6f1f02ace"
            ],
            "layout": "IPY_MODEL_6267c6e3ec7d4338980bdcf72c4fa518"
          }
        },
        "affc2856fe5b41d8aa3938d3306374cc": {
          "model_module": "@jupyter-widgets/base",
          "model_module_version": "1.2.0",
          "model_name": "LayoutModel",
          "state": {
            "_model_module": "@jupyter-widgets/base",
            "_model_module_version": "1.2.0",
            "_model_name": "LayoutModel",
            "_view_count": null,
            "_view_module": "@jupyter-widgets/base",
            "_view_module_version": "1.2.0",
            "_view_name": "LayoutView",
            "align_content": null,
            "align_items": null,
            "align_self": null,
            "border": null,
            "bottom": null,
            "display": null,
            "flex": null,
            "flex_flow": null,
            "grid_area": null,
            "grid_auto_columns": null,
            "grid_auto_flow": null,
            "grid_auto_rows": null,
            "grid_column": null,
            "grid_gap": null,
            "grid_row": null,
            "grid_template_areas": null,
            "grid_template_columns": null,
            "grid_template_rows": null,
            "height": null,
            "justify_content": null,
            "justify_items": null,
            "left": null,
            "margin": null,
            "max_height": null,
            "max_width": null,
            "min_height": null,
            "min_width": null,
            "object_fit": null,
            "object_position": null,
            "order": null,
            "overflow": null,
            "overflow_x": null,
            "overflow_y": null,
            "padding": null,
            "right": null,
            "top": null,
            "visibility": null,
            "width": null
          }
        },
        "b0d2908eb3574acebd20099895c91459": {
          "model_module": "@jupyter-widgets/controls",
          "model_module_version": "1.5.0",
          "model_name": "HTMLModel",
          "state": {
            "_dom_classes": [],
            "_model_module": "@jupyter-widgets/controls",
            "_model_module_version": "1.5.0",
            "_model_name": "HTMLModel",
            "_view_count": null,
            "_view_module": "@jupyter-widgets/controls",
            "_view_module_version": "1.5.0",
            "_view_name": "HTMLView",
            "description": "",
            "description_tooltip": null,
            "layout": "IPY_MODEL_3ed2eb579c6d4615a010b63c3c54343b",
            "placeholder": "​",
            "style": "IPY_MODEL_f44328761f324281ab0bf66ccf46a222",
            "value": "tokenizer.json: 100%"
          }
        },
        "b21693b3cdfa457a8da6ef45a75ec072": {
          "model_module": "@jupyter-widgets/base",
          "model_module_version": "1.2.0",
          "model_name": "LayoutModel",
          "state": {
            "_model_module": "@jupyter-widgets/base",
            "_model_module_version": "1.2.0",
            "_model_name": "LayoutModel",
            "_view_count": null,
            "_view_module": "@jupyter-widgets/base",
            "_view_module_version": "1.2.0",
            "_view_name": "LayoutView",
            "align_content": null,
            "align_items": null,
            "align_self": null,
            "border": null,
            "bottom": null,
            "display": null,
            "flex": null,
            "flex_flow": null,
            "grid_area": null,
            "grid_auto_columns": null,
            "grid_auto_flow": null,
            "grid_auto_rows": null,
            "grid_column": null,
            "grid_gap": null,
            "grid_row": null,
            "grid_template_areas": null,
            "grid_template_columns": null,
            "grid_template_rows": null,
            "height": null,
            "justify_content": null,
            "justify_items": null,
            "left": null,
            "margin": null,
            "max_height": null,
            "max_width": null,
            "min_height": null,
            "min_width": null,
            "object_fit": null,
            "object_position": null,
            "order": null,
            "overflow": null,
            "overflow_x": null,
            "overflow_y": null,
            "padding": null,
            "right": null,
            "top": null,
            "visibility": null,
            "width": null
          }
        },
        "b28439a183354a54a42e2db2f25c32e5": {
          "model_module": "@jupyter-widgets/controls",
          "model_module_version": "1.5.0",
          "model_name": "ProgressStyleModel",
          "state": {
            "_model_module": "@jupyter-widgets/controls",
            "_model_module_version": "1.5.0",
            "_model_name": "ProgressStyleModel",
            "_view_count": null,
            "_view_module": "@jupyter-widgets/base",
            "_view_module_version": "1.2.0",
            "_view_name": "StyleView",
            "bar_color": null,
            "description_width": ""
          }
        },
        "b552ac43956d465a939d55563211a0c7": {
          "model_module": "@jupyter-widgets/base",
          "model_module_version": "1.2.0",
          "model_name": "LayoutModel",
          "state": {
            "_model_module": "@jupyter-widgets/base",
            "_model_module_version": "1.2.0",
            "_model_name": "LayoutModel",
            "_view_count": null,
            "_view_module": "@jupyter-widgets/base",
            "_view_module_version": "1.2.0",
            "_view_name": "LayoutView",
            "align_content": null,
            "align_items": null,
            "align_self": null,
            "border": null,
            "bottom": null,
            "display": null,
            "flex": null,
            "flex_flow": null,
            "grid_area": null,
            "grid_auto_columns": null,
            "grid_auto_flow": null,
            "grid_auto_rows": null,
            "grid_column": null,
            "grid_gap": null,
            "grid_row": null,
            "grid_template_areas": null,
            "grid_template_columns": null,
            "grid_template_rows": null,
            "height": null,
            "justify_content": null,
            "justify_items": null,
            "left": null,
            "margin": null,
            "max_height": null,
            "max_width": null,
            "min_height": null,
            "min_width": null,
            "object_fit": null,
            "object_position": null,
            "order": null,
            "overflow": null,
            "overflow_x": null,
            "overflow_y": null,
            "padding": null,
            "right": null,
            "top": null,
            "visibility": null,
            "width": null
          }
        },
        "b558e6fe9bf8413886b8786747476dcd": {
          "model_module": "@jupyter-widgets/controls",
          "model_module_version": "1.5.0",
          "model_name": "ProgressStyleModel",
          "state": {
            "_model_module": "@jupyter-widgets/controls",
            "_model_module_version": "1.5.0",
            "_model_name": "ProgressStyleModel",
            "_view_count": null,
            "_view_module": "@jupyter-widgets/base",
            "_view_module_version": "1.2.0",
            "_view_name": "StyleView",
            "bar_color": null,
            "description_width": ""
          }
        },
        "b6b1a74c96c04a499c1a90ce869c19cd": {
          "model_module": "@jupyter-widgets/controls",
          "model_module_version": "1.5.0",
          "model_name": "ProgressStyleModel",
          "state": {
            "_model_module": "@jupyter-widgets/controls",
            "_model_module_version": "1.5.0",
            "_model_name": "ProgressStyleModel",
            "_view_count": null,
            "_view_module": "@jupyter-widgets/base",
            "_view_module_version": "1.2.0",
            "_view_name": "StyleView",
            "bar_color": null,
            "description_width": ""
          }
        },
        "b736267290644496a77ac25dcc4119b4": {
          "model_module": "@jupyter-widgets/controls",
          "model_module_version": "1.5.0",
          "model_name": "FloatProgressModel",
          "state": {
            "_dom_classes": [],
            "_model_module": "@jupyter-widgets/controls",
            "_model_module_version": "1.5.0",
            "_model_name": "FloatProgressModel",
            "_view_count": null,
            "_view_module": "@jupyter-widgets/controls",
            "_view_module_version": "1.5.0",
            "_view_name": "ProgressView",
            "bar_style": "success",
            "description": "",
            "description_tooltip": null,
            "layout": "IPY_MODEL_bfe02c203e63419c87ba9d56e3d5cfbd",
            "max": 159,
            "min": 0,
            "orientation": "horizontal",
            "style": "IPY_MODEL_2ec4cbb68f584510b3066189f829a7e2",
            "value": 159
          }
        },
        "b85df86f72be4cbbab5d8698846ec163": {
          "model_module": "@jupyter-widgets/controls",
          "model_module_version": "1.5.0",
          "model_name": "ProgressStyleModel",
          "state": {
            "_model_module": "@jupyter-widgets/controls",
            "_model_module_version": "1.5.0",
            "_model_name": "ProgressStyleModel",
            "_view_count": null,
            "_view_module": "@jupyter-widgets/base",
            "_view_module_version": "1.2.0",
            "_view_name": "StyleView",
            "bar_color": null,
            "description_width": ""
          }
        },
        "b8c048824fa94221b0406581fe5c9cee": {
          "model_module": "@jupyter-widgets/base",
          "model_module_version": "1.2.0",
          "model_name": "LayoutModel",
          "state": {
            "_model_module": "@jupyter-widgets/base",
            "_model_module_version": "1.2.0",
            "_model_name": "LayoutModel",
            "_view_count": null,
            "_view_module": "@jupyter-widgets/base",
            "_view_module_version": "1.2.0",
            "_view_name": "LayoutView",
            "align_content": null,
            "align_items": null,
            "align_self": null,
            "border": null,
            "bottom": null,
            "display": null,
            "flex": null,
            "flex_flow": null,
            "grid_area": null,
            "grid_auto_columns": null,
            "grid_auto_flow": null,
            "grid_auto_rows": null,
            "grid_column": null,
            "grid_gap": null,
            "grid_row": null,
            "grid_template_areas": null,
            "grid_template_columns": null,
            "grid_template_rows": null,
            "height": null,
            "justify_content": null,
            "justify_items": null,
            "left": null,
            "margin": null,
            "max_height": null,
            "max_width": null,
            "min_height": null,
            "min_width": null,
            "object_fit": null,
            "object_position": null,
            "order": null,
            "overflow": null,
            "overflow_x": null,
            "overflow_y": null,
            "padding": null,
            "right": null,
            "top": null,
            "visibility": null,
            "width": null
          }
        },
        "ba0e40742e9b4557a879a859920b5fe8": {
          "model_module": "@jupyter-widgets/controls",
          "model_module_version": "1.5.0",
          "model_name": "HBoxModel",
          "state": {
            "_dom_classes": [],
            "_model_module": "@jupyter-widgets/controls",
            "_model_module_version": "1.5.0",
            "_model_name": "HBoxModel",
            "_view_count": null,
            "_view_module": "@jupyter-widgets/controls",
            "_view_module_version": "1.5.0",
            "_view_name": "HBoxView",
            "box_style": "",
            "children": [
              "IPY_MODEL_2b52e7e236714354838ba937cd3e209a",
              "IPY_MODEL_5923dd59adeb43088d6f09159d82b34d",
              "IPY_MODEL_58f9ac26db8144d7b713be2ed1c0d057"
            ],
            "layout": "IPY_MODEL_be122ab2a0374d0baf2d404e626608ad"
          }
        },
        "bceeec93ee1d4cba8f38f1c00c94d078": {
          "model_module": "@jupyter-widgets/base",
          "model_module_version": "1.2.0",
          "model_name": "LayoutModel",
          "state": {
            "_model_module": "@jupyter-widgets/base",
            "_model_module_version": "1.2.0",
            "_model_name": "LayoutModel",
            "_view_count": null,
            "_view_module": "@jupyter-widgets/base",
            "_view_module_version": "1.2.0",
            "_view_name": "LayoutView",
            "align_content": null,
            "align_items": null,
            "align_self": null,
            "border": null,
            "bottom": null,
            "display": null,
            "flex": null,
            "flex_flow": null,
            "grid_area": null,
            "grid_auto_columns": null,
            "grid_auto_flow": null,
            "grid_auto_rows": null,
            "grid_column": null,
            "grid_gap": null,
            "grid_row": null,
            "grid_template_areas": null,
            "grid_template_columns": null,
            "grid_template_rows": null,
            "height": null,
            "justify_content": null,
            "justify_items": null,
            "left": null,
            "margin": null,
            "max_height": null,
            "max_width": null,
            "min_height": null,
            "min_width": null,
            "object_fit": null,
            "object_position": null,
            "order": null,
            "overflow": null,
            "overflow_x": null,
            "overflow_y": null,
            "padding": null,
            "right": null,
            "top": null,
            "visibility": null,
            "width": null
          }
        },
        "be122ab2a0374d0baf2d404e626608ad": {
          "model_module": "@jupyter-widgets/base",
          "model_module_version": "1.2.0",
          "model_name": "LayoutModel",
          "state": {
            "_model_module": "@jupyter-widgets/base",
            "_model_module_version": "1.2.0",
            "_model_name": "LayoutModel",
            "_view_count": null,
            "_view_module": "@jupyter-widgets/base",
            "_view_module_version": "1.2.0",
            "_view_name": "LayoutView",
            "align_content": null,
            "align_items": null,
            "align_self": null,
            "border": null,
            "bottom": null,
            "display": null,
            "flex": null,
            "flex_flow": null,
            "grid_area": null,
            "grid_auto_columns": null,
            "grid_auto_flow": null,
            "grid_auto_rows": null,
            "grid_column": null,
            "grid_gap": null,
            "grid_row": null,
            "grid_template_areas": null,
            "grid_template_columns": null,
            "grid_template_rows": null,
            "height": null,
            "justify_content": null,
            "justify_items": null,
            "left": null,
            "margin": null,
            "max_height": null,
            "max_width": null,
            "min_height": null,
            "min_width": null,
            "object_fit": null,
            "object_position": null,
            "order": null,
            "overflow": null,
            "overflow_x": null,
            "overflow_y": null,
            "padding": null,
            "right": null,
            "top": null,
            "visibility": null,
            "width": null
          }
        },
        "be2104ff1601483db9682b4bad2fc7d1": {
          "model_module": "@jupyter-widgets/base",
          "model_module_version": "1.2.0",
          "model_name": "LayoutModel",
          "state": {
            "_model_module": "@jupyter-widgets/base",
            "_model_module_version": "1.2.0",
            "_model_name": "LayoutModel",
            "_view_count": null,
            "_view_module": "@jupyter-widgets/base",
            "_view_module_version": "1.2.0",
            "_view_name": "LayoutView",
            "align_content": null,
            "align_items": null,
            "align_self": null,
            "border": null,
            "bottom": null,
            "display": null,
            "flex": null,
            "flex_flow": null,
            "grid_area": null,
            "grid_auto_columns": null,
            "grid_auto_flow": null,
            "grid_auto_rows": null,
            "grid_column": null,
            "grid_gap": null,
            "grid_row": null,
            "grid_template_areas": null,
            "grid_template_columns": null,
            "grid_template_rows": null,
            "height": null,
            "justify_content": null,
            "justify_items": null,
            "left": null,
            "margin": null,
            "max_height": null,
            "max_width": null,
            "min_height": null,
            "min_width": null,
            "object_fit": null,
            "object_position": null,
            "order": null,
            "overflow": null,
            "overflow_x": null,
            "overflow_y": null,
            "padding": null,
            "right": null,
            "top": null,
            "visibility": null,
            "width": null
          }
        },
        "bfe02c203e63419c87ba9d56e3d5cfbd": {
          "model_module": "@jupyter-widgets/base",
          "model_module_version": "1.2.0",
          "model_name": "LayoutModel",
          "state": {
            "_model_module": "@jupyter-widgets/base",
            "_model_module_version": "1.2.0",
            "_model_name": "LayoutModel",
            "_view_count": null,
            "_view_module": "@jupyter-widgets/base",
            "_view_module_version": "1.2.0",
            "_view_name": "LayoutView",
            "align_content": null,
            "align_items": null,
            "align_self": null,
            "border": null,
            "bottom": null,
            "display": null,
            "flex": null,
            "flex_flow": null,
            "grid_area": null,
            "grid_auto_columns": null,
            "grid_auto_flow": null,
            "grid_auto_rows": null,
            "grid_column": null,
            "grid_gap": null,
            "grid_row": null,
            "grid_template_areas": null,
            "grid_template_columns": null,
            "grid_template_rows": null,
            "height": null,
            "justify_content": null,
            "justify_items": null,
            "left": null,
            "margin": null,
            "max_height": null,
            "max_width": null,
            "min_height": null,
            "min_width": null,
            "object_fit": null,
            "object_position": null,
            "order": null,
            "overflow": null,
            "overflow_x": null,
            "overflow_y": null,
            "padding": null,
            "right": null,
            "top": null,
            "visibility": null,
            "width": null
          }
        },
        "c018e70a4d2c4a9cb48dacff5674a778": {
          "model_module": "@jupyter-widgets/base",
          "model_module_version": "1.2.0",
          "model_name": "LayoutModel",
          "state": {
            "_model_module": "@jupyter-widgets/base",
            "_model_module_version": "1.2.0",
            "_model_name": "LayoutModel",
            "_view_count": null,
            "_view_module": "@jupyter-widgets/base",
            "_view_module_version": "1.2.0",
            "_view_name": "LayoutView",
            "align_content": null,
            "align_items": null,
            "align_self": null,
            "border": null,
            "bottom": null,
            "display": null,
            "flex": null,
            "flex_flow": null,
            "grid_area": null,
            "grid_auto_columns": null,
            "grid_auto_flow": null,
            "grid_auto_rows": null,
            "grid_column": null,
            "grid_gap": null,
            "grid_row": null,
            "grid_template_areas": null,
            "grid_template_columns": null,
            "grid_template_rows": null,
            "height": null,
            "justify_content": null,
            "justify_items": null,
            "left": null,
            "margin": null,
            "max_height": null,
            "max_width": null,
            "min_height": null,
            "min_width": null,
            "object_fit": null,
            "object_position": null,
            "order": null,
            "overflow": null,
            "overflow_x": null,
            "overflow_y": null,
            "padding": null,
            "right": null,
            "top": null,
            "visibility": null,
            "width": null
          }
        },
        "c07c177f676e4e0ab9ab650982af1cd6": {
          "model_module": "@jupyter-widgets/base",
          "model_module_version": "1.2.0",
          "model_name": "LayoutModel",
          "state": {
            "_model_module": "@jupyter-widgets/base",
            "_model_module_version": "1.2.0",
            "_model_name": "LayoutModel",
            "_view_count": null,
            "_view_module": "@jupyter-widgets/base",
            "_view_module_version": "1.2.0",
            "_view_name": "LayoutView",
            "align_content": null,
            "align_items": null,
            "align_self": null,
            "border": null,
            "bottom": null,
            "display": null,
            "flex": null,
            "flex_flow": null,
            "grid_area": null,
            "grid_auto_columns": null,
            "grid_auto_flow": null,
            "grid_auto_rows": null,
            "grid_column": null,
            "grid_gap": null,
            "grid_row": null,
            "grid_template_areas": null,
            "grid_template_columns": null,
            "grid_template_rows": null,
            "height": null,
            "justify_content": null,
            "justify_items": null,
            "left": null,
            "margin": null,
            "max_height": null,
            "max_width": null,
            "min_height": null,
            "min_width": null,
            "object_fit": null,
            "object_position": null,
            "order": null,
            "overflow": null,
            "overflow_x": null,
            "overflow_y": null,
            "padding": null,
            "right": null,
            "top": null,
            "visibility": null,
            "width": null
          }
        },
        "c15443bcfcf44a79a6715943908d4ca5": {
          "model_module": "@jupyter-widgets/base",
          "model_module_version": "1.2.0",
          "model_name": "LayoutModel",
          "state": {
            "_model_module": "@jupyter-widgets/base",
            "_model_module_version": "1.2.0",
            "_model_name": "LayoutModel",
            "_view_count": null,
            "_view_module": "@jupyter-widgets/base",
            "_view_module_version": "1.2.0",
            "_view_name": "LayoutView",
            "align_content": null,
            "align_items": null,
            "align_self": null,
            "border": null,
            "bottom": null,
            "display": null,
            "flex": null,
            "flex_flow": null,
            "grid_area": null,
            "grid_auto_columns": null,
            "grid_auto_flow": null,
            "grid_auto_rows": null,
            "grid_column": null,
            "grid_gap": null,
            "grid_row": null,
            "grid_template_areas": null,
            "grid_template_columns": null,
            "grid_template_rows": null,
            "height": null,
            "justify_content": null,
            "justify_items": null,
            "left": null,
            "margin": null,
            "max_height": null,
            "max_width": null,
            "min_height": null,
            "min_width": null,
            "object_fit": null,
            "object_position": null,
            "order": null,
            "overflow": null,
            "overflow_x": null,
            "overflow_y": null,
            "padding": null,
            "right": null,
            "top": null,
            "visibility": null,
            "width": null
          }
        },
        "c15aee611c0040a6b81db90770d4eb98": {
          "model_module": "@jupyter-widgets/controls",
          "model_module_version": "1.5.0",
          "model_name": "HTMLModel",
          "state": {
            "_dom_classes": [],
            "_model_module": "@jupyter-widgets/controls",
            "_model_module_version": "1.5.0",
            "_model_name": "HTMLModel",
            "_view_count": null,
            "_view_module": "@jupyter-widgets/controls",
            "_view_module_version": "1.5.0",
            "_view_name": "HTMLView",
            "description": "",
            "description_tooltip": null,
            "layout": "IPY_MODEL_64d8d068fb6b422cab677d578028785d",
            "placeholder": "​",
            "style": "IPY_MODEL_742b24f2db404a5cbeca0e426683f0bf",
            "value": " 571/571 [00:00&lt;00:00, 31.7kB/s]"
          }
        },
        "c1bfa45c6a5f4727a9c70a4958a1527c": {
          "model_module": "@jupyter-widgets/base",
          "model_module_version": "1.2.0",
          "model_name": "LayoutModel",
          "state": {
            "_model_module": "@jupyter-widgets/base",
            "_model_module_version": "1.2.0",
            "_model_name": "LayoutModel",
            "_view_count": null,
            "_view_module": "@jupyter-widgets/base",
            "_view_module_version": "1.2.0",
            "_view_name": "LayoutView",
            "align_content": null,
            "align_items": null,
            "align_self": null,
            "border": null,
            "bottom": null,
            "display": null,
            "flex": null,
            "flex_flow": null,
            "grid_area": null,
            "grid_auto_columns": null,
            "grid_auto_flow": null,
            "grid_auto_rows": null,
            "grid_column": null,
            "grid_gap": null,
            "grid_row": null,
            "grid_template_areas": null,
            "grid_template_columns": null,
            "grid_template_rows": null,
            "height": null,
            "justify_content": null,
            "justify_items": null,
            "left": null,
            "margin": null,
            "max_height": null,
            "max_width": null,
            "min_height": null,
            "min_width": null,
            "object_fit": null,
            "object_position": null,
            "order": null,
            "overflow": null,
            "overflow_x": null,
            "overflow_y": null,
            "padding": null,
            "right": null,
            "top": null,
            "visibility": null,
            "width": null
          }
        },
        "c2a24e32ff754ed4a02c9487d0d665d2": {
          "model_module": "@jupyter-widgets/controls",
          "model_module_version": "1.5.0",
          "model_name": "FloatProgressModel",
          "state": {
            "_dom_classes": [],
            "_model_module": "@jupyter-widgets/controls",
            "_model_module_version": "1.5.0",
            "_model_name": "FloatProgressModel",
            "_view_count": null,
            "_view_module": "@jupyter-widgets/controls",
            "_view_module_version": "1.5.0",
            "_view_name": "ProgressView",
            "bar_style": "success",
            "description": "",
            "description_tooltip": null,
            "layout": "IPY_MODEL_a5e22ad1dbcd404fa32c78129491c34e",
            "max": 437971872,
            "min": 0,
            "orientation": "horizontal",
            "style": "IPY_MODEL_b85df86f72be4cbbab5d8698846ec163",
            "value": 437971872
          }
        },
        "c32504b88eee470eb9a1fc936a0ace3d": {
          "model_module": "@jupyter-widgets/controls",
          "model_module_version": "1.5.0",
          "model_name": "DescriptionStyleModel",
          "state": {
            "_model_module": "@jupyter-widgets/controls",
            "_model_module_version": "1.5.0",
            "_model_name": "DescriptionStyleModel",
            "_view_count": null,
            "_view_module": "@jupyter-widgets/base",
            "_view_module_version": "1.2.0",
            "_view_name": "StyleView",
            "description_width": ""
          }
        },
        "c37e600b1f644242a0180f5c79ab1aae": {
          "model_module": "@jupyter-widgets/controls",
          "model_module_version": "1.5.0",
          "model_name": "HBoxModel",
          "state": {
            "_dom_classes": [],
            "_model_module": "@jupyter-widgets/controls",
            "_model_module_version": "1.5.0",
            "_model_name": "HBoxModel",
            "_view_count": null,
            "_view_module": "@jupyter-widgets/controls",
            "_view_module_version": "1.5.0",
            "_view_name": "HBoxView",
            "box_style": "",
            "children": [
              "IPY_MODEL_8dee18f303d44d198b88126fe3d21aff",
              "IPY_MODEL_84f808b27aa44fa59119451b4def82f7",
              "IPY_MODEL_641cf7ae73cb4c41b2cb02232e81e533"
            ],
            "layout": "IPY_MODEL_ea57686be48243dcaf3b3d3b2991f4ed"
          }
        },
        "c56cddbbbe0e4cf29f80f3a3d74c82eb": {
          "model_module": "@jupyter-widgets/base",
          "model_module_version": "1.2.0",
          "model_name": "LayoutModel",
          "state": {
            "_model_module": "@jupyter-widgets/base",
            "_model_module_version": "1.2.0",
            "_model_name": "LayoutModel",
            "_view_count": null,
            "_view_module": "@jupyter-widgets/base",
            "_view_module_version": "1.2.0",
            "_view_name": "LayoutView",
            "align_content": null,
            "align_items": null,
            "align_self": null,
            "border": null,
            "bottom": null,
            "display": null,
            "flex": null,
            "flex_flow": null,
            "grid_area": null,
            "grid_auto_columns": null,
            "grid_auto_flow": null,
            "grid_auto_rows": null,
            "grid_column": null,
            "grid_gap": null,
            "grid_row": null,
            "grid_template_areas": null,
            "grid_template_columns": null,
            "grid_template_rows": null,
            "height": null,
            "justify_content": null,
            "justify_items": null,
            "left": null,
            "margin": null,
            "max_height": null,
            "max_width": null,
            "min_height": null,
            "min_width": null,
            "object_fit": null,
            "object_position": null,
            "order": null,
            "overflow": null,
            "overflow_x": null,
            "overflow_y": null,
            "padding": null,
            "right": null,
            "top": null,
            "visibility": null,
            "width": null
          }
        },
        "c5a4743f50964f588851b943074731ac": {
          "model_module": "@jupyter-widgets/base",
          "model_module_version": "1.2.0",
          "model_name": "LayoutModel",
          "state": {
            "_model_module": "@jupyter-widgets/base",
            "_model_module_version": "1.2.0",
            "_model_name": "LayoutModel",
            "_view_count": null,
            "_view_module": "@jupyter-widgets/base",
            "_view_module_version": "1.2.0",
            "_view_name": "LayoutView",
            "align_content": null,
            "align_items": null,
            "align_self": null,
            "border": null,
            "bottom": null,
            "display": null,
            "flex": null,
            "flex_flow": null,
            "grid_area": null,
            "grid_auto_columns": null,
            "grid_auto_flow": null,
            "grid_auto_rows": null,
            "grid_column": null,
            "grid_gap": null,
            "grid_row": null,
            "grid_template_areas": null,
            "grid_template_columns": null,
            "grid_template_rows": null,
            "height": null,
            "justify_content": null,
            "justify_items": null,
            "left": null,
            "margin": null,
            "max_height": null,
            "max_width": null,
            "min_height": null,
            "min_width": null,
            "object_fit": null,
            "object_position": null,
            "order": null,
            "overflow": null,
            "overflow_x": null,
            "overflow_y": null,
            "padding": null,
            "right": null,
            "top": null,
            "visibility": null,
            "width": null
          }
        },
        "c70acdff852e41febbd8e86903367d26": {
          "model_module": "@jupyter-widgets/base",
          "model_module_version": "1.2.0",
          "model_name": "LayoutModel",
          "state": {
            "_model_module": "@jupyter-widgets/base",
            "_model_module_version": "1.2.0",
            "_model_name": "LayoutModel",
            "_view_count": null,
            "_view_module": "@jupyter-widgets/base",
            "_view_module_version": "1.2.0",
            "_view_name": "LayoutView",
            "align_content": null,
            "align_items": null,
            "align_self": null,
            "border": null,
            "bottom": null,
            "display": null,
            "flex": null,
            "flex_flow": null,
            "grid_area": null,
            "grid_auto_columns": null,
            "grid_auto_flow": null,
            "grid_auto_rows": null,
            "grid_column": null,
            "grid_gap": null,
            "grid_row": null,
            "grid_template_areas": null,
            "grid_template_columns": null,
            "grid_template_rows": null,
            "height": null,
            "justify_content": null,
            "justify_items": null,
            "left": null,
            "margin": null,
            "max_height": null,
            "max_width": null,
            "min_height": null,
            "min_width": null,
            "object_fit": null,
            "object_position": null,
            "order": null,
            "overflow": null,
            "overflow_x": null,
            "overflow_y": null,
            "padding": null,
            "right": null,
            "top": null,
            "visibility": null,
            "width": null
          }
        },
        "c8f1bf436fc2412299d36383a98e458c": {
          "model_module": "@jupyter-widgets/base",
          "model_module_version": "1.2.0",
          "model_name": "LayoutModel",
          "state": {
            "_model_module": "@jupyter-widgets/base",
            "_model_module_version": "1.2.0",
            "_model_name": "LayoutModel",
            "_view_count": null,
            "_view_module": "@jupyter-widgets/base",
            "_view_module_version": "1.2.0",
            "_view_name": "LayoutView",
            "align_content": null,
            "align_items": null,
            "align_self": null,
            "border": null,
            "bottom": null,
            "display": null,
            "flex": null,
            "flex_flow": null,
            "grid_area": null,
            "grid_auto_columns": null,
            "grid_auto_flow": null,
            "grid_auto_rows": null,
            "grid_column": null,
            "grid_gap": null,
            "grid_row": null,
            "grid_template_areas": null,
            "grid_template_columns": null,
            "grid_template_rows": null,
            "height": null,
            "justify_content": null,
            "justify_items": null,
            "left": null,
            "margin": null,
            "max_height": null,
            "max_width": null,
            "min_height": null,
            "min_width": null,
            "object_fit": null,
            "object_position": null,
            "order": null,
            "overflow": null,
            "overflow_x": null,
            "overflow_y": null,
            "padding": null,
            "right": null,
            "top": null,
            "visibility": null,
            "width": null
          }
        },
        "c9782c15ccee45d68fa0cd84e1037004": {
          "model_module": "@jupyter-widgets/controls",
          "model_module_version": "1.5.0",
          "model_name": "DescriptionStyleModel",
          "state": {
            "_model_module": "@jupyter-widgets/controls",
            "_model_module_version": "1.5.0",
            "_model_name": "DescriptionStyleModel",
            "_view_count": null,
            "_view_module": "@jupyter-widgets/base",
            "_view_module_version": "1.2.0",
            "_view_name": "StyleView",
            "description_width": ""
          }
        },
        "ca107c88b66c459488d6ea628c6a2817": {
          "model_module": "@jupyter-widgets/controls",
          "model_module_version": "1.5.0",
          "model_name": "HBoxModel",
          "state": {
            "_dom_classes": [],
            "_model_module": "@jupyter-widgets/controls",
            "_model_module_version": "1.5.0",
            "_model_name": "HBoxModel",
            "_view_count": null,
            "_view_module": "@jupyter-widgets/controls",
            "_view_module_version": "1.5.0",
            "_view_name": "HBoxView",
            "box_style": "",
            "children": [
              "IPY_MODEL_83d009744b0040c2a4554c9d8bc3b1e2",
              "IPY_MODEL_23025704028b4e8c8a1a2d7c8dd1bd6a",
              "IPY_MODEL_a2ab5dc7920c4b65ae83a817ab57f021"
            ],
            "layout": "IPY_MODEL_cdf5bf2342ea4ecdb6812d1c96c1b375"
          }
        },
        "cbe87cbc25464f99b3a82a7f1d49fc6c": {
          "model_module": "@jupyter-widgets/controls",
          "model_module_version": "1.5.0",
          "model_name": "DescriptionStyleModel",
          "state": {
            "_model_module": "@jupyter-widgets/controls",
            "_model_module_version": "1.5.0",
            "_model_name": "DescriptionStyleModel",
            "_view_count": null,
            "_view_module": "@jupyter-widgets/base",
            "_view_module_version": "1.2.0",
            "_view_name": "StyleView",
            "description_width": ""
          }
        },
        "cc2100d8fc004244843b658f4f5d840b": {
          "model_module": "@jupyter-widgets/base",
          "model_module_version": "1.2.0",
          "model_name": "LayoutModel",
          "state": {
            "_model_module": "@jupyter-widgets/base",
            "_model_module_version": "1.2.0",
            "_model_name": "LayoutModel",
            "_view_count": null,
            "_view_module": "@jupyter-widgets/base",
            "_view_module_version": "1.2.0",
            "_view_name": "LayoutView",
            "align_content": null,
            "align_items": null,
            "align_self": null,
            "border": null,
            "bottom": null,
            "display": null,
            "flex": null,
            "flex_flow": null,
            "grid_area": null,
            "grid_auto_columns": null,
            "grid_auto_flow": null,
            "grid_auto_rows": null,
            "grid_column": null,
            "grid_gap": null,
            "grid_row": null,
            "grid_template_areas": null,
            "grid_template_columns": null,
            "grid_template_rows": null,
            "height": null,
            "justify_content": null,
            "justify_items": null,
            "left": null,
            "margin": null,
            "max_height": null,
            "max_width": null,
            "min_height": null,
            "min_width": null,
            "object_fit": null,
            "object_position": null,
            "order": null,
            "overflow": null,
            "overflow_x": null,
            "overflow_y": null,
            "padding": null,
            "right": null,
            "top": null,
            "visibility": null,
            "width": null
          }
        },
        "cc4b1eb816184419b5f31ab6bf8ad6bc": {
          "model_module": "@jupyter-widgets/base",
          "model_module_version": "1.2.0",
          "model_name": "LayoutModel",
          "state": {
            "_model_module": "@jupyter-widgets/base",
            "_model_module_version": "1.2.0",
            "_model_name": "LayoutModel",
            "_view_count": null,
            "_view_module": "@jupyter-widgets/base",
            "_view_module_version": "1.2.0",
            "_view_name": "LayoutView",
            "align_content": null,
            "align_items": null,
            "align_self": null,
            "border": null,
            "bottom": null,
            "display": null,
            "flex": null,
            "flex_flow": null,
            "grid_area": null,
            "grid_auto_columns": null,
            "grid_auto_flow": null,
            "grid_auto_rows": null,
            "grid_column": null,
            "grid_gap": null,
            "grid_row": null,
            "grid_template_areas": null,
            "grid_template_columns": null,
            "grid_template_rows": null,
            "height": null,
            "justify_content": null,
            "justify_items": null,
            "left": null,
            "margin": null,
            "max_height": null,
            "max_width": null,
            "min_height": null,
            "min_width": null,
            "object_fit": null,
            "object_position": null,
            "order": null,
            "overflow": null,
            "overflow_x": null,
            "overflow_y": null,
            "padding": null,
            "right": null,
            "top": null,
            "visibility": null,
            "width": null
          }
        },
        "cdf5bf2342ea4ecdb6812d1c96c1b375": {
          "model_module": "@jupyter-widgets/base",
          "model_module_version": "1.2.0",
          "model_name": "LayoutModel",
          "state": {
            "_model_module": "@jupyter-widgets/base",
            "_model_module_version": "1.2.0",
            "_model_name": "LayoutModel",
            "_view_count": null,
            "_view_module": "@jupyter-widgets/base",
            "_view_module_version": "1.2.0",
            "_view_name": "LayoutView",
            "align_content": null,
            "align_items": null,
            "align_self": null,
            "border": null,
            "bottom": null,
            "display": null,
            "flex": null,
            "flex_flow": null,
            "grid_area": null,
            "grid_auto_columns": null,
            "grid_auto_flow": null,
            "grid_auto_rows": null,
            "grid_column": null,
            "grid_gap": null,
            "grid_row": null,
            "grid_template_areas": null,
            "grid_template_columns": null,
            "grid_template_rows": null,
            "height": null,
            "justify_content": null,
            "justify_items": null,
            "left": null,
            "margin": null,
            "max_height": null,
            "max_width": null,
            "min_height": null,
            "min_width": null,
            "object_fit": null,
            "object_position": null,
            "order": null,
            "overflow": null,
            "overflow_x": null,
            "overflow_y": null,
            "padding": null,
            "right": null,
            "top": null,
            "visibility": null,
            "width": null
          }
        },
        "ce418d12184a4f4a8cc2fea48d6c2f43": {
          "model_module": "@jupyter-widgets/controls",
          "model_module_version": "1.5.0",
          "model_name": "DescriptionStyleModel",
          "state": {
            "_model_module": "@jupyter-widgets/controls",
            "_model_module_version": "1.5.0",
            "_model_name": "DescriptionStyleModel",
            "_view_count": null,
            "_view_module": "@jupyter-widgets/base",
            "_view_module_version": "1.2.0",
            "_view_name": "StyleView",
            "description_width": ""
          }
        },
        "cef81ea479f34e40afa1d4b492c950d2": {
          "model_module": "@jupyter-widgets/controls",
          "model_module_version": "1.5.0",
          "model_name": "HTMLModel",
          "state": {
            "_dom_classes": [],
            "_model_module": "@jupyter-widgets/controls",
            "_model_module_version": "1.5.0",
            "_model_name": "HTMLModel",
            "_view_count": null,
            "_view_module": "@jupyter-widgets/controls",
            "_view_module_version": "1.5.0",
            "_view_name": "HTMLView",
            "description": "",
            "description_tooltip": null,
            "layout": "IPY_MODEL_833e5bb87d1a4d5a98fa8c64b6e98eda",
            "placeholder": "​",
            "style": "IPY_MODEL_f69d1e662e424d27a241da868931d6af",
            "value": "sentence_bert_config.json: 100%"
          }
        },
        "cefb1d4d116143c589d3f5edb0ed7091": {
          "model_module": "@jupyter-widgets/base",
          "model_module_version": "1.2.0",
          "model_name": "LayoutModel",
          "state": {
            "_model_module": "@jupyter-widgets/base",
            "_model_module_version": "1.2.0",
            "_model_name": "LayoutModel",
            "_view_count": null,
            "_view_module": "@jupyter-widgets/base",
            "_view_module_version": "1.2.0",
            "_view_name": "LayoutView",
            "align_content": null,
            "align_items": null,
            "align_self": null,
            "border": null,
            "bottom": null,
            "display": null,
            "flex": null,
            "flex_flow": null,
            "grid_area": null,
            "grid_auto_columns": null,
            "grid_auto_flow": null,
            "grid_auto_rows": null,
            "grid_column": null,
            "grid_gap": null,
            "grid_row": null,
            "grid_template_areas": null,
            "grid_template_columns": null,
            "grid_template_rows": null,
            "height": null,
            "justify_content": null,
            "justify_items": null,
            "left": null,
            "margin": null,
            "max_height": null,
            "max_width": null,
            "min_height": null,
            "min_width": null,
            "object_fit": null,
            "object_position": null,
            "order": null,
            "overflow": null,
            "overflow_x": null,
            "overflow_y": null,
            "padding": null,
            "right": null,
            "top": null,
            "visibility": null,
            "width": null
          }
        },
        "d260e41916244305b798a08bdc6178c9": {
          "model_module": "@jupyter-widgets/base",
          "model_module_version": "1.2.0",
          "model_name": "LayoutModel",
          "state": {
            "_model_module": "@jupyter-widgets/base",
            "_model_module_version": "1.2.0",
            "_model_name": "LayoutModel",
            "_view_count": null,
            "_view_module": "@jupyter-widgets/base",
            "_view_module_version": "1.2.0",
            "_view_name": "LayoutView",
            "align_content": null,
            "align_items": null,
            "align_self": null,
            "border": null,
            "bottom": null,
            "display": null,
            "flex": null,
            "flex_flow": null,
            "grid_area": null,
            "grid_auto_columns": null,
            "grid_auto_flow": null,
            "grid_auto_rows": null,
            "grid_column": null,
            "grid_gap": null,
            "grid_row": null,
            "grid_template_areas": null,
            "grid_template_columns": null,
            "grid_template_rows": null,
            "height": null,
            "justify_content": null,
            "justify_items": null,
            "left": null,
            "margin": null,
            "max_height": null,
            "max_width": null,
            "min_height": null,
            "min_width": null,
            "object_fit": null,
            "object_position": null,
            "order": null,
            "overflow": null,
            "overflow_x": null,
            "overflow_y": null,
            "padding": null,
            "right": null,
            "top": null,
            "visibility": null,
            "width": null
          }
        },
        "d2ea7ecbb5d64be1910c854c1350c27a": {
          "model_module": "@jupyter-widgets/controls",
          "model_module_version": "1.5.0",
          "model_name": "FloatProgressModel",
          "state": {
            "_dom_classes": [],
            "_model_module": "@jupyter-widgets/controls",
            "_model_module_version": "1.5.0",
            "_model_name": "FloatProgressModel",
            "_view_count": null,
            "_view_module": "@jupyter-widgets/controls",
            "_view_module_version": "1.5.0",
            "_view_name": "ProgressView",
            "bar_style": "success",
            "description": "",
            "description_tooltip": null,
            "layout": "IPY_MODEL_19709dd70125417eb77e4fda436e5acb",
            "max": 190,
            "min": 0,
            "orientation": "horizontal",
            "style": "IPY_MODEL_2f0199adb3ba4dc7a9ecc95631af8b53",
            "value": 190
          }
        },
        "d518bed78aba4bc4a12db1863c3de9cb": {
          "model_module": "@jupyter-widgets/controls",
          "model_module_version": "1.5.0",
          "model_name": "FloatProgressModel",
          "state": {
            "_dom_classes": [],
            "_model_module": "@jupyter-widgets/controls",
            "_model_module_version": "1.5.0",
            "_model_name": "FloatProgressModel",
            "_view_count": null,
            "_view_module": "@jupyter-widgets/controls",
            "_view_module_version": "1.5.0",
            "_view_name": "ProgressView",
            "bar_style": "success",
            "description": "",
            "description_tooltip": null,
            "layout": "IPY_MODEL_6cdad5592d604231993a62f732d0eda4",
            "max": 90868373,
            "min": 0,
            "orientation": "horizontal",
            "style": "IPY_MODEL_0ca168c30e7c4b639ce5ac55c5ebeb08",
            "value": 90868373
          }
        },
        "d9a6fcd976a04abeac03b59159afd059": {
          "model_module": "@jupyter-widgets/controls",
          "model_module_version": "1.5.0",
          "model_name": "FloatProgressModel",
          "state": {
            "_dom_classes": [],
            "_model_module": "@jupyter-widgets/controls",
            "_model_module_version": "1.5.0",
            "_model_name": "FloatProgressModel",
            "_view_count": null,
            "_view_module": "@jupyter-widgets/controls",
            "_view_module_version": "1.5.0",
            "_view_name": "ProgressView",
            "bar_style": "success",
            "description": "",
            "description_tooltip": null,
            "layout": "IPY_MODEL_a95ee603692f40caadec6872e0146003",
            "max": 571,
            "min": 0,
            "orientation": "horizontal",
            "style": "IPY_MODEL_81596b0d01074e6e95f010b526900084",
            "value": 571
          }
        },
        "dcc07b45d25d4b719755740ca8a3e200": {
          "model_module": "@jupyter-widgets/controls",
          "model_module_version": "1.5.0",
          "model_name": "FloatProgressModel",
          "state": {
            "_dom_classes": [],
            "_model_module": "@jupyter-widgets/controls",
            "_model_module_version": "1.5.0",
            "_model_name": "FloatProgressModel",
            "_view_count": null,
            "_view_module": "@jupyter-widgets/controls",
            "_view_module_version": "1.5.0",
            "_view_name": "ProgressView",
            "bar_style": "success",
            "description": "",
            "description_tooltip": null,
            "layout": "IPY_MODEL_ae01a80c7f9d4528b6dd2d570d8a349b",
            "max": 466081,
            "min": 0,
            "orientation": "horizontal",
            "style": "IPY_MODEL_814c9eb6c037401f98b3626e2530a83f",
            "value": 466081
          }
        },
        "dce6bf2f769148f9aabf6b3dde378f82": {
          "model_module": "@jupyter-widgets/controls",
          "model_module_version": "1.5.0",
          "model_name": "HTMLModel",
          "state": {
            "_dom_classes": [],
            "_model_module": "@jupyter-widgets/controls",
            "_model_module_version": "1.5.0",
            "_model_name": "HTMLModel",
            "_view_count": null,
            "_view_module": "@jupyter-widgets/controls",
            "_view_module_version": "1.5.0",
            "_view_name": "HTMLView",
            "description": "",
            "description_tooltip": null,
            "layout": "IPY_MODEL_957279fa4386461480966b21331071bb",
            "placeholder": "​",
            "style": "IPY_MODEL_f4d1812d68564eeb9dbfc11f5d71c2a0",
            "value": "1_Pooling/config.json: 100%"
          }
        },
        "de09fadbcaf0456bbaba71f7fd6b2697": {
          "model_module": "@jupyter-widgets/base",
          "model_module_version": "1.2.0",
          "model_name": "LayoutModel",
          "state": {
            "_model_module": "@jupyter-widgets/base",
            "_model_module_version": "1.2.0",
            "_model_name": "LayoutModel",
            "_view_count": null,
            "_view_module": "@jupyter-widgets/base",
            "_view_module_version": "1.2.0",
            "_view_name": "LayoutView",
            "align_content": null,
            "align_items": null,
            "align_self": null,
            "border": null,
            "bottom": null,
            "display": null,
            "flex": null,
            "flex_flow": null,
            "grid_area": null,
            "grid_auto_columns": null,
            "grid_auto_flow": null,
            "grid_auto_rows": null,
            "grid_column": null,
            "grid_gap": null,
            "grid_row": null,
            "grid_template_areas": null,
            "grid_template_columns": null,
            "grid_template_rows": null,
            "height": null,
            "justify_content": null,
            "justify_items": null,
            "left": null,
            "margin": null,
            "max_height": null,
            "max_width": null,
            "min_height": null,
            "min_width": null,
            "object_fit": null,
            "object_position": null,
            "order": null,
            "overflow": null,
            "overflow_x": null,
            "overflow_y": null,
            "padding": null,
            "right": null,
            "top": null,
            "visibility": null,
            "width": null
          }
        },
        "de82b54f5a884f0d9ea9e50e15d410ae": {
          "model_module": "@jupyter-widgets/base",
          "model_module_version": "1.2.0",
          "model_name": "LayoutModel",
          "state": {
            "_model_module": "@jupyter-widgets/base",
            "_model_module_version": "1.2.0",
            "_model_name": "LayoutModel",
            "_view_count": null,
            "_view_module": "@jupyter-widgets/base",
            "_view_module_version": "1.2.0",
            "_view_name": "LayoutView",
            "align_content": null,
            "align_items": null,
            "align_self": null,
            "border": null,
            "bottom": null,
            "display": null,
            "flex": null,
            "flex_flow": null,
            "grid_area": null,
            "grid_auto_columns": null,
            "grid_auto_flow": null,
            "grid_auto_rows": null,
            "grid_column": null,
            "grid_gap": null,
            "grid_row": null,
            "grid_template_areas": null,
            "grid_template_columns": null,
            "grid_template_rows": null,
            "height": null,
            "justify_content": null,
            "justify_items": null,
            "left": null,
            "margin": null,
            "max_height": null,
            "max_width": null,
            "min_height": null,
            "min_width": null,
            "object_fit": null,
            "object_position": null,
            "order": null,
            "overflow": null,
            "overflow_x": null,
            "overflow_y": null,
            "padding": null,
            "right": null,
            "top": null,
            "visibility": null,
            "width": null
          }
        },
        "df625f5ea89e44d58ed2e51fe926a287": {
          "model_module": "@jupyter-widgets/base",
          "model_module_version": "1.2.0",
          "model_name": "LayoutModel",
          "state": {
            "_model_module": "@jupyter-widgets/base",
            "_model_module_version": "1.2.0",
            "_model_name": "LayoutModel",
            "_view_count": null,
            "_view_module": "@jupyter-widgets/base",
            "_view_module_version": "1.2.0",
            "_view_name": "LayoutView",
            "align_content": null,
            "align_items": null,
            "align_self": null,
            "border": null,
            "bottom": null,
            "display": null,
            "flex": null,
            "flex_flow": null,
            "grid_area": null,
            "grid_auto_columns": null,
            "grid_auto_flow": null,
            "grid_auto_rows": null,
            "grid_column": null,
            "grid_gap": null,
            "grid_row": null,
            "grid_template_areas": null,
            "grid_template_columns": null,
            "grid_template_rows": null,
            "height": null,
            "justify_content": null,
            "justify_items": null,
            "left": null,
            "margin": null,
            "max_height": null,
            "max_width": null,
            "min_height": null,
            "min_width": null,
            "object_fit": null,
            "object_position": null,
            "order": null,
            "overflow": null,
            "overflow_x": null,
            "overflow_y": null,
            "padding": null,
            "right": null,
            "top": null,
            "visibility": null,
            "width": null
          }
        },
        "e194c2ca42794311a3e1e6fb59f3a3d4": {
          "model_module": "@jupyter-widgets/controls",
          "model_module_version": "1.5.0",
          "model_name": "FloatProgressModel",
          "state": {
            "_dom_classes": [],
            "_model_module": "@jupyter-widgets/controls",
            "_model_module_version": "1.5.0",
            "_model_name": "FloatProgressModel",
            "_view_count": null,
            "_view_module": "@jupyter-widgets/controls",
            "_view_module_version": "1.5.0",
            "_view_name": "ProgressView",
            "bar_style": "success",
            "description": "",
            "description_tooltip": null,
            "layout": "IPY_MODEL_35f6a5179b2f4052b73b526861c5ddb8",
            "max": 239,
            "min": 0,
            "orientation": "horizontal",
            "style": "IPY_MODEL_723f84cb7e904a51bff9bc9c06313d07",
            "value": 239
          }
        },
        "e3a157b2cefc4109815594cc27e9571e": {
          "model_module": "@jupyter-widgets/controls",
          "model_module_version": "1.5.0",
          "model_name": "HTMLModel",
          "state": {
            "_dom_classes": [],
            "_model_module": "@jupyter-widgets/controls",
            "_model_module_version": "1.5.0",
            "_model_name": "HTMLModel",
            "_view_count": null,
            "_view_module": "@jupyter-widgets/controls",
            "_view_module_version": "1.5.0",
            "_view_name": "HTMLView",
            "description": "",
            "description_tooltip": null,
            "layout": "IPY_MODEL_c07c177f676e4e0ab9ab650982af1cd6",
            "placeholder": "​",
            "style": "IPY_MODEL_3ff043f14fbe48acb3a25e219cafe097",
            "value": " 112/112 [00:00&lt;00:00, 7.25kB/s]"
          }
        },
        "e3e433ba51a5443e9ff0962e293b911d": {
          "model_module": "@jupyter-widgets/controls",
          "model_module_version": "1.5.0",
          "model_name": "DescriptionStyleModel",
          "state": {
            "_model_module": "@jupyter-widgets/controls",
            "_model_module_version": "1.5.0",
            "_model_name": "DescriptionStyleModel",
            "_view_count": null,
            "_view_module": "@jupyter-widgets/base",
            "_view_module_version": "1.2.0",
            "_view_name": "StyleView",
            "description_width": ""
          }
        },
        "e40647588538457b9eb973fe558b7e56": {
          "model_module": "@jupyter-widgets/controls",
          "model_module_version": "1.5.0",
          "model_name": "HTMLModel",
          "state": {
            "_dom_classes": [],
            "_model_module": "@jupyter-widgets/controls",
            "_model_module_version": "1.5.0",
            "_model_name": "HTMLModel",
            "_view_count": null,
            "_view_module": "@jupyter-widgets/controls",
            "_view_module_version": "1.5.0",
            "_view_name": "HTMLView",
            "description": "",
            "description_tooltip": null,
            "layout": "IPY_MODEL_2834482001894a6b9a1698d7cee65f7a",
            "placeholder": "​",
            "style": "IPY_MODEL_78970d9e227e47c089f02212c9fceacd",
            "value": " 466k/466k [00:00&lt;00:00, 11.5MB/s]"
          }
        },
        "e4c5bf3c15aa4e4bb34debfa18343452": {
          "model_module": "@jupyter-widgets/controls",
          "model_module_version": "1.5.0",
          "model_name": "HBoxModel",
          "state": {
            "_dom_classes": [],
            "_model_module": "@jupyter-widgets/controls",
            "_model_module_version": "1.5.0",
            "_model_name": "HBoxModel",
            "_view_count": null,
            "_view_module": "@jupyter-widgets/controls",
            "_view_module_version": "1.5.0",
            "_view_name": "HBoxView",
            "box_style": "",
            "children": [
              "IPY_MODEL_0a66703586164e259a4561353ab5333e",
              "IPY_MODEL_e194c2ca42794311a3e1e6fb59f3a3d4",
              "IPY_MODEL_19cf8f5d95af426db9ba202c1e5813c4"
            ],
            "layout": "IPY_MODEL_f526d127cf1f4f9abd484565b234b231"
          }
        },
        "e5ee61f7d5f0478aa16143a8ca012edc": {
          "model_module": "@jupyter-widgets/base",
          "model_module_version": "1.2.0",
          "model_name": "LayoutModel",
          "state": {
            "_model_module": "@jupyter-widgets/base",
            "_model_module_version": "1.2.0",
            "_model_name": "LayoutModel",
            "_view_count": null,
            "_view_module": "@jupyter-widgets/base",
            "_view_module_version": "1.2.0",
            "_view_name": "LayoutView",
            "align_content": null,
            "align_items": null,
            "align_self": null,
            "border": null,
            "bottom": null,
            "display": null,
            "flex": null,
            "flex_flow": null,
            "grid_area": null,
            "grid_auto_columns": null,
            "grid_auto_flow": null,
            "grid_auto_rows": null,
            "grid_column": null,
            "grid_gap": null,
            "grid_row": null,
            "grid_template_areas": null,
            "grid_template_columns": null,
            "grid_template_rows": null,
            "height": null,
            "justify_content": null,
            "justify_items": null,
            "left": null,
            "margin": null,
            "max_height": null,
            "max_width": null,
            "min_height": null,
            "min_width": null,
            "object_fit": null,
            "object_position": null,
            "order": null,
            "overflow": null,
            "overflow_x": null,
            "overflow_y": null,
            "padding": null,
            "right": null,
            "top": null,
            "visibility": null,
            "width": null
          }
        },
        "e734ae23df314ea989934fb9bc2264fa": {
          "model_module": "@jupyter-widgets/base",
          "model_module_version": "1.2.0",
          "model_name": "LayoutModel",
          "state": {
            "_model_module": "@jupyter-widgets/base",
            "_model_module_version": "1.2.0",
            "_model_name": "LayoutModel",
            "_view_count": null,
            "_view_module": "@jupyter-widgets/base",
            "_view_module_version": "1.2.0",
            "_view_name": "LayoutView",
            "align_content": null,
            "align_items": null,
            "align_self": null,
            "border": null,
            "bottom": null,
            "display": null,
            "flex": null,
            "flex_flow": null,
            "grid_area": null,
            "grid_auto_columns": null,
            "grid_auto_flow": null,
            "grid_auto_rows": null,
            "grid_column": null,
            "grid_gap": null,
            "grid_row": null,
            "grid_template_areas": null,
            "grid_template_columns": null,
            "grid_template_rows": null,
            "height": null,
            "justify_content": null,
            "justify_items": null,
            "left": null,
            "margin": null,
            "max_height": null,
            "max_width": null,
            "min_height": null,
            "min_width": null,
            "object_fit": null,
            "object_position": null,
            "order": null,
            "overflow": null,
            "overflow_x": null,
            "overflow_y": null,
            "padding": null,
            "right": null,
            "top": null,
            "visibility": null,
            "width": null
          }
        },
        "e77dcc60a18944feb6778ecf0f349ef6": {
          "model_module": "@jupyter-widgets/controls",
          "model_module_version": "1.5.0",
          "model_name": "DescriptionStyleModel",
          "state": {
            "_model_module": "@jupyter-widgets/controls",
            "_model_module_version": "1.5.0",
            "_model_name": "DescriptionStyleModel",
            "_view_count": null,
            "_view_module": "@jupyter-widgets/base",
            "_view_module_version": "1.2.0",
            "_view_name": "StyleView",
            "description_width": ""
          }
        },
        "e78dc58f8676407c9a9a3fd0294d64f8": {
          "model_module": "@jupyter-widgets/base",
          "model_module_version": "1.2.0",
          "model_name": "LayoutModel",
          "state": {
            "_model_module": "@jupyter-widgets/base",
            "_model_module_version": "1.2.0",
            "_model_name": "LayoutModel",
            "_view_count": null,
            "_view_module": "@jupyter-widgets/base",
            "_view_module_version": "1.2.0",
            "_view_name": "LayoutView",
            "align_content": null,
            "align_items": null,
            "align_self": null,
            "border": null,
            "bottom": null,
            "display": null,
            "flex": null,
            "flex_flow": null,
            "grid_area": null,
            "grid_auto_columns": null,
            "grid_auto_flow": null,
            "grid_auto_rows": null,
            "grid_column": null,
            "grid_gap": null,
            "grid_row": null,
            "grid_template_areas": null,
            "grid_template_columns": null,
            "grid_template_rows": null,
            "height": null,
            "justify_content": null,
            "justify_items": null,
            "left": null,
            "margin": null,
            "max_height": null,
            "max_width": null,
            "min_height": null,
            "min_width": null,
            "object_fit": null,
            "object_position": null,
            "order": null,
            "overflow": null,
            "overflow_x": null,
            "overflow_y": null,
            "padding": null,
            "right": null,
            "top": null,
            "visibility": null,
            "width": null
          }
        },
        "e8b1266f798b4532afe6c21453ca243d": {
          "model_module": "@jupyter-widgets/controls",
          "model_module_version": "1.5.0",
          "model_name": "HTMLModel",
          "state": {
            "_dom_classes": [],
            "_model_module": "@jupyter-widgets/controls",
            "_model_module_version": "1.5.0",
            "_model_name": "HTMLModel",
            "_view_count": null,
            "_view_module": "@jupyter-widgets/controls",
            "_view_module_version": "1.5.0",
            "_view_name": "HTMLView",
            "description": "",
            "description_tooltip": null,
            "layout": "IPY_MODEL_912881405a354fac983ae1a4e63c8fdb",
            "placeholder": "​",
            "style": "IPY_MODEL_0452b4123bc44ba18412f82d54fb7002",
            "value": " 314/314 [00:00&lt;00:00, 16.4kB/s]"
          }
        },
        "ea57686be48243dcaf3b3d3b2991f4ed": {
          "model_module": "@jupyter-widgets/base",
          "model_module_version": "1.2.0",
          "model_name": "LayoutModel",
          "state": {
            "_model_module": "@jupyter-widgets/base",
            "_model_module_version": "1.2.0",
            "_model_name": "LayoutModel",
            "_view_count": null,
            "_view_module": "@jupyter-widgets/base",
            "_view_module_version": "1.2.0",
            "_view_name": "LayoutView",
            "align_content": null,
            "align_items": null,
            "align_self": null,
            "border": null,
            "bottom": null,
            "display": null,
            "flex": null,
            "flex_flow": null,
            "grid_area": null,
            "grid_auto_columns": null,
            "grid_auto_flow": null,
            "grid_auto_rows": null,
            "grid_column": null,
            "grid_gap": null,
            "grid_row": null,
            "grid_template_areas": null,
            "grid_template_columns": null,
            "grid_template_rows": null,
            "height": null,
            "justify_content": null,
            "justify_items": null,
            "left": null,
            "margin": null,
            "max_height": null,
            "max_width": null,
            "min_height": null,
            "min_width": null,
            "object_fit": null,
            "object_position": null,
            "order": null,
            "overflow": null,
            "overflow_x": null,
            "overflow_y": null,
            "padding": null,
            "right": null,
            "top": null,
            "visibility": null,
            "width": null
          }
        },
        "ed463a13e7ac4e4f8671c81fae60fd27": {
          "model_module": "@jupyter-widgets/controls",
          "model_module_version": "1.5.0",
          "model_name": "ProgressStyleModel",
          "state": {
            "_model_module": "@jupyter-widgets/controls",
            "_model_module_version": "1.5.0",
            "_model_name": "ProgressStyleModel",
            "_view_count": null,
            "_view_module": "@jupyter-widgets/base",
            "_view_module_version": "1.2.0",
            "_view_name": "StyleView",
            "bar_color": null,
            "description_width": ""
          }
        },
        "ef22eb05476f478c9dec46e5596d1228": {
          "model_module": "@jupyter-widgets/controls",
          "model_module_version": "1.5.0",
          "model_name": "HTMLModel",
          "state": {
            "_dom_classes": [],
            "_model_module": "@jupyter-widgets/controls",
            "_model_module_version": "1.5.0",
            "_model_name": "HTMLModel",
            "_view_count": null,
            "_view_module": "@jupyter-widgets/controls",
            "_view_module_version": "1.5.0",
            "_view_name": "HTMLView",
            "description": "",
            "description_tooltip": null,
            "layout": "IPY_MODEL_358559a523cc441d84b23ee7aead9431",
            "placeholder": "​",
            "style": "IPY_MODEL_c32504b88eee470eb9a1fc936a0ace3d",
            "value": " 116/116 [00:00&lt;00:00, 7.15kB/s]"
          }
        },
        "ef486ae8a65a4468abd5170695dbe99e": {
          "model_module": "@jupyter-widgets/base",
          "model_module_version": "1.2.0",
          "model_name": "LayoutModel",
          "state": {
            "_model_module": "@jupyter-widgets/base",
            "_model_module_version": "1.2.0",
            "_model_name": "LayoutModel",
            "_view_count": null,
            "_view_module": "@jupyter-widgets/base",
            "_view_module_version": "1.2.0",
            "_view_name": "LayoutView",
            "align_content": null,
            "align_items": null,
            "align_self": null,
            "border": null,
            "bottom": null,
            "display": null,
            "flex": null,
            "flex_flow": null,
            "grid_area": null,
            "grid_auto_columns": null,
            "grid_auto_flow": null,
            "grid_auto_rows": null,
            "grid_column": null,
            "grid_gap": null,
            "grid_row": null,
            "grid_template_areas": null,
            "grid_template_columns": null,
            "grid_template_rows": null,
            "height": null,
            "justify_content": null,
            "justify_items": null,
            "left": null,
            "margin": null,
            "max_height": null,
            "max_width": null,
            "min_height": null,
            "min_width": null,
            "object_fit": null,
            "object_position": null,
            "order": null,
            "overflow": null,
            "overflow_x": null,
            "overflow_y": null,
            "padding": null,
            "right": null,
            "top": null,
            "visibility": null,
            "width": null
          }
        },
        "ef9b73ad97874a32a0c8b1e300f9e9a5": {
          "model_module": "@jupyter-widgets/controls",
          "model_module_version": "1.5.0",
          "model_name": "DescriptionStyleModel",
          "state": {
            "_model_module": "@jupyter-widgets/controls",
            "_model_module_version": "1.5.0",
            "_model_name": "DescriptionStyleModel",
            "_view_count": null,
            "_view_module": "@jupyter-widgets/base",
            "_view_module_version": "1.2.0",
            "_view_name": "StyleView",
            "description_width": ""
          }
        },
        "f0275210a42141ae9f54d2b9990c3678": {
          "model_module": "@jupyter-widgets/base",
          "model_module_version": "1.2.0",
          "model_name": "LayoutModel",
          "state": {
            "_model_module": "@jupyter-widgets/base",
            "_model_module_version": "1.2.0",
            "_model_name": "LayoutModel",
            "_view_count": null,
            "_view_module": "@jupyter-widgets/base",
            "_view_module_version": "1.2.0",
            "_view_name": "LayoutView",
            "align_content": null,
            "align_items": null,
            "align_self": null,
            "border": null,
            "bottom": null,
            "display": null,
            "flex": null,
            "flex_flow": null,
            "grid_area": null,
            "grid_auto_columns": null,
            "grid_auto_flow": null,
            "grid_auto_rows": null,
            "grid_column": null,
            "grid_gap": null,
            "grid_row": null,
            "grid_template_areas": null,
            "grid_template_columns": null,
            "grid_template_rows": null,
            "height": null,
            "justify_content": null,
            "justify_items": null,
            "left": null,
            "margin": null,
            "max_height": null,
            "max_width": null,
            "min_height": null,
            "min_width": null,
            "object_fit": null,
            "object_position": null,
            "order": null,
            "overflow": null,
            "overflow_x": null,
            "overflow_y": null,
            "padding": null,
            "right": null,
            "top": null,
            "visibility": null,
            "width": null
          }
        },
        "f128b81c44764bdf98320cd0eabee817": {
          "model_module": "@jupyter-widgets/controls",
          "model_module_version": "1.5.0",
          "model_name": "HTMLModel",
          "state": {
            "_dom_classes": [],
            "_model_module": "@jupyter-widgets/controls",
            "_model_module_version": "1.5.0",
            "_model_name": "HTMLModel",
            "_view_count": null,
            "_view_module": "@jupyter-widgets/controls",
            "_view_module_version": "1.5.0",
            "_view_name": "HTMLView",
            "description": "",
            "description_tooltip": null,
            "layout": "IPY_MODEL_08c204c7de5542b4bdbd12fcd71f8f20",
            "placeholder": "​",
            "style": "IPY_MODEL_5aff3e4f74d84e78a0cc4bc0113ea09e",
            "value": "config_sentence_transformers.json: 100%"
          }
        },
        "f3f1ce36722f47659e049de83c8cf78d": {
          "model_module": "@jupyter-widgets/base",
          "model_module_version": "1.2.0",
          "model_name": "LayoutModel",
          "state": {
            "_model_module": "@jupyter-widgets/base",
            "_model_module_version": "1.2.0",
            "_model_name": "LayoutModel",
            "_view_count": null,
            "_view_module": "@jupyter-widgets/base",
            "_view_module_version": "1.2.0",
            "_view_name": "LayoutView",
            "align_content": null,
            "align_items": null,
            "align_self": null,
            "border": null,
            "bottom": null,
            "display": null,
            "flex": null,
            "flex_flow": null,
            "grid_area": null,
            "grid_auto_columns": null,
            "grid_auto_flow": null,
            "grid_auto_rows": null,
            "grid_column": null,
            "grid_gap": null,
            "grid_row": null,
            "grid_template_areas": null,
            "grid_template_columns": null,
            "grid_template_rows": null,
            "height": null,
            "justify_content": null,
            "justify_items": null,
            "left": null,
            "margin": null,
            "max_height": null,
            "max_width": null,
            "min_height": null,
            "min_width": null,
            "object_fit": null,
            "object_position": null,
            "order": null,
            "overflow": null,
            "overflow_x": null,
            "overflow_y": null,
            "padding": null,
            "right": null,
            "top": null,
            "visibility": null,
            "width": null
          }
        },
        "f44328761f324281ab0bf66ccf46a222": {
          "model_module": "@jupyter-widgets/controls",
          "model_module_version": "1.5.0",
          "model_name": "DescriptionStyleModel",
          "state": {
            "_model_module": "@jupyter-widgets/controls",
            "_model_module_version": "1.5.0",
            "_model_name": "DescriptionStyleModel",
            "_view_count": null,
            "_view_module": "@jupyter-widgets/base",
            "_view_module_version": "1.2.0",
            "_view_name": "StyleView",
            "description_width": ""
          }
        },
        "f4d1812d68564eeb9dbfc11f5d71c2a0": {
          "model_module": "@jupyter-widgets/controls",
          "model_module_version": "1.5.0",
          "model_name": "DescriptionStyleModel",
          "state": {
            "_model_module": "@jupyter-widgets/controls",
            "_model_module_version": "1.5.0",
            "_model_name": "DescriptionStyleModel",
            "_view_count": null,
            "_view_module": "@jupyter-widgets/base",
            "_view_module_version": "1.2.0",
            "_view_name": "StyleView",
            "description_width": ""
          }
        },
        "f4d8f201f39f48fca80b7b14fa8c59cc": {
          "model_module": "@jupyter-widgets/controls",
          "model_module_version": "1.5.0",
          "model_name": "DescriptionStyleModel",
          "state": {
            "_model_module": "@jupyter-widgets/controls",
            "_model_module_version": "1.5.0",
            "_model_name": "DescriptionStyleModel",
            "_view_count": null,
            "_view_module": "@jupyter-widgets/base",
            "_view_module_version": "1.2.0",
            "_view_name": "StyleView",
            "description_width": ""
          }
        },
        "f5116fc1dfe1451484660982bf69cac4": {
          "model_module": "@jupyter-widgets/controls",
          "model_module_version": "1.5.0",
          "model_name": "ProgressStyleModel",
          "state": {
            "_model_module": "@jupyter-widgets/controls",
            "_model_module_version": "1.5.0",
            "_model_name": "ProgressStyleModel",
            "_view_count": null,
            "_view_module": "@jupyter-widgets/base",
            "_view_module_version": "1.2.0",
            "_view_name": "StyleView",
            "bar_color": null,
            "description_width": ""
          }
        },
        "f526d127cf1f4f9abd484565b234b231": {
          "model_module": "@jupyter-widgets/base",
          "model_module_version": "1.2.0",
          "model_name": "LayoutModel",
          "state": {
            "_model_module": "@jupyter-widgets/base",
            "_model_module_version": "1.2.0",
            "_model_name": "LayoutModel",
            "_view_count": null,
            "_view_module": "@jupyter-widgets/base",
            "_view_module_version": "1.2.0",
            "_view_name": "LayoutView",
            "align_content": null,
            "align_items": null,
            "align_self": null,
            "border": null,
            "bottom": null,
            "display": null,
            "flex": null,
            "flex_flow": null,
            "grid_area": null,
            "grid_auto_columns": null,
            "grid_auto_flow": null,
            "grid_auto_rows": null,
            "grid_column": null,
            "grid_gap": null,
            "grid_row": null,
            "grid_template_areas": null,
            "grid_template_columns": null,
            "grid_template_rows": null,
            "height": null,
            "justify_content": null,
            "justify_items": null,
            "left": null,
            "margin": null,
            "max_height": null,
            "max_width": null,
            "min_height": null,
            "min_width": null,
            "object_fit": null,
            "object_position": null,
            "order": null,
            "overflow": null,
            "overflow_x": null,
            "overflow_y": null,
            "padding": null,
            "right": null,
            "top": null,
            "visibility": null,
            "width": null
          }
        },
        "f599534ddc754c10b7a642334f3959d0": {
          "model_module": "@jupyter-widgets/controls",
          "model_module_version": "1.5.0",
          "model_name": "HTMLModel",
          "state": {
            "_dom_classes": [],
            "_model_module": "@jupyter-widgets/controls",
            "_model_module_version": "1.5.0",
            "_model_name": "HTMLModel",
            "_view_count": null,
            "_view_module": "@jupyter-widgets/controls",
            "_view_module_version": "1.5.0",
            "_view_name": "HTMLView",
            "description": "",
            "description_tooltip": null,
            "layout": "IPY_MODEL_2c1dcbe75bc04f2db04f4f33359863c9",
            "placeholder": "​",
            "style": "IPY_MODEL_3834666b7a2a492ba1d11cd9f12874cc",
            "value": "README.md: 100%"
          }
        },
        "f69d1e662e424d27a241da868931d6af": {
          "model_module": "@jupyter-widgets/controls",
          "model_module_version": "1.5.0",
          "model_name": "DescriptionStyleModel",
          "state": {
            "_model_module": "@jupyter-widgets/controls",
            "_model_module_version": "1.5.0",
            "_model_name": "DescriptionStyleModel",
            "_view_count": null,
            "_view_module": "@jupyter-widgets/base",
            "_view_module_version": "1.2.0",
            "_view_name": "StyleView",
            "description_width": ""
          }
        }
      }
    }
  },
  "nbformat": 4,
  "nbformat_minor": 0
}
