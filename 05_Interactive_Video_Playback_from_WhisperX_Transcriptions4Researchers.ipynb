{
 "cells": [
  {
   "cell_type": "markdown",
   "metadata": {},
   "source": [
    "## Interactive Video Playback from WhisperX Transcriptions"
   ]
  },
  {
   "cell_type": "markdown",
   "metadata": {},
   "source": [
    "1. conda create -n videonlp-env python=3.11 ipykernel pandas ipywidgets ipython"
   ]
  },
  {
   "cell_type": "code",
   "execution_count": null,
   "metadata": {},
   "outputs": [],
   "source": [
    "path_to_whisperx_csv =\n",
    "path_to_video ="
   ]
  },
  {
   "cell_type": "code",
   "execution_count": null,
   "metadata": {},
   "outputs": [],
   "source": [
    "import pandas as pd\n",
    "from moviepy.editor import VideoFileClip\n",
    "import ipywidgets as widgets\n",
    "from IPython.display import display\n",
    "\n",
    "# Load WhisperX-generated CSV file\n",
    "def load_sentence_level_transcript(csv_path):\n",
    "    df = pd.read_csv(csv_path)\n",
    "    return df\n",
    "\n",
    "# Function to play video from a specific timestamp\n",
    "def play_video_at_timestamp(video_file, start_time, end_time=None):\n",
    "    clip = VideoFileClip(video_file)\n",
    "    if end_time:\n",
    "        subclip = clip.subclip(start_time, end_time)\n",
    "    else:\n",
    "        subclip = clip.subclip(start_time)\n",
    "    subclip.preview()\n",
    "\n",
    "# Search transcript for keyword and display video links\n",
    "def search_transcript_and_show_video_links(keyword, transcript_df, video_path):\n",
    "    search_results = transcript_df[transcript_df['text'].str.contains(keyword, case=False, na=False)]\n",
    "    for i, row in search_results.iterrows():\n",
    "        text = row['text']\n",
    "        start_time = row['timestamp_start']\n",
    "        end_time = row['timestamp_end']\n",
    "        speaker = row['speaker']\n",
    "        result_label = widgets.Label(f\"Speaker {speaker}: {text} (Start: {start_time})\")\n",
    "        play_button = widgets.Button(description=f\"Play Segment {i+1}\")\n",
    "        def on_button_click(b):\n",
    "            play_video_at_timestamp(video_path, start_time, end_time)\n",
    "        play_button.on_click(on_button_click)\n",
    "        display(widgets.HBox([result_label, play_button]))\n",
    "\n",
    "# Example usage\n",
    "csv_path = 'path_to_whisperx_csv.csv'\n",
    "video_path = 'path_to_video.mp4'\n",
    "\n",
    "# Load the transcript\n",
    "transcript_df = load_sentence_level_transcript(csv_path)\n",
    "\n",
    "# Perform a search for a keyword\n",
    "keyword = 'education'  # You can modify this to search for any keyword\n",
    "search_transcript_and_show_video_links(keyword, transcript_df, video_path)\n"
   ]
  }
 ],
 "metadata": {
  "language_info": {
   "name": "python"
  }
 },
 "nbformat": 4,
 "nbformat_minor": 2
}
