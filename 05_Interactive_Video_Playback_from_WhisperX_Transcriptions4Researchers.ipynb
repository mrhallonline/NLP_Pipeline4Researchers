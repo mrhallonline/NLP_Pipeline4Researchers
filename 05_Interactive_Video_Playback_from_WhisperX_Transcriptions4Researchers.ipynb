{
 "cells": [
  {
   "cell_type": "markdown",
   "metadata": {},
   "source": [
    "## Interactive Video Playback from WhisperX Transcriptions"
   ]
  },
  {
   "cell_type": "markdown",
   "metadata": {},
   "source": [
    "1. conda create -n videonlp-env python=3.11 ipykernel pandas ipywidgets ipython"
   ]
  },
  {
   "cell_type": "code",
   "execution_count": 11,
   "metadata": {},
   "outputs": [
    {
     "name": "stdout",
     "output_type": "stream",
     "text": [
      "Collecting pygame\n",
      "  Downloading pygame-2.6.1-cp311-cp311-win_amd64.whl.metadata (13 kB)\n",
      "Downloading pygame-2.6.1-cp311-cp311-win_amd64.whl (10.6 MB)\n",
      "   ---------------------------------------- 0.0/10.6 MB ? eta -:--:--\n",
      "   - -------------------------------------- 0.5/10.6 MB 4.2 MB/s eta 0:00:03\n",
      "   -------- ------------------------------- 2.4/10.6 MB 7.5 MB/s eta 0:00:02\n",
      "   --------------- ------------------------ 4.2/10.6 MB 8.1 MB/s eta 0:00:01\n",
      "   ----------------------- ---------------- 6.3/10.6 MB 9.0 MB/s eta 0:00:01\n",
      "   ------------------------------- -------- 8.4/10.6 MB 9.1 MB/s eta 0:00:01\n",
      "   ------------------------------------- -- 10.0/10.6 MB 9.3 MB/s eta 0:00:01\n",
      "   ---------------------------------------- 10.6/10.6 MB 8.6 MB/s eta 0:00:00\n",
      "Installing collected packages: pygame\n",
      "Successfully installed pygame-2.6.1\n",
      "Note: you may need to restart the kernel to use updated packages.\n"
     ]
    }
   ],
   "source": [
    "#%pip install moviepy\n",
    "%pip install pygame"
   ]
  },
  {
   "cell_type": "code",
   "execution_count": 1,
   "metadata": {},
   "outputs": [],
   "source": [
    "path_to_whisperx_csv = \"data/data/video/20240718_INT_HS_Neil/20240718_INT_HS_Neil_2024-08-07_transcription.csv\"\n",
    "path_to_video = \"data/data/video/20240718_INT_HS_Neil/20240718_INT_HS_Neil.mp4\""
   ]
  },
  {
   "cell_type": "code",
   "execution_count": 2,
   "metadata": {},
   "outputs": [
    {
     "data": {
      "application/vnd.jupyter.widget-view+json": {
       "model_id": "0499285627ba49f79fc190bb832d8de3",
       "version_major": 2,
       "version_minor": 0
      },
      "text/plain": [
       "HBox(children=(Label(value='Speaker SPEAKER_00: I went back and did student teaching up at Chicago area, Gover…"
      ]
     },
     "metadata": {},
     "output_type": "display_data"
    },
    {
     "data": {
      "application/vnd.jupyter.widget-view+json": {
       "model_id": "471610f3eba44ba5881922632fb4bdc8",
       "version_major": 2,
       "version_minor": 0
      },
      "text/plain": [
       "HBox(children=(Label(value=\"Speaker SPEAKER_00: And I think they buy into their own education more so when I'm…"
      ]
     },
     "metadata": {},
     "output_type": "display_data"
    },
    {
     "data": {
      "application/vnd.jupyter.widget-view+json": {
       "model_id": "c80a0afecb1e462cbb00a435d4c13578",
       "version_major": 2,
       "version_minor": 0
      },
      "text/plain": [
       "HBox(children=(Label(value=\"Speaker SPEAKER_00: I think a lot of the students don't trust the educational syst…"
      ]
     },
     "metadata": {},
     "output_type": "display_data"
    },
    {
     "data": {
      "application/vnd.jupyter.widget-view+json": {
       "model_id": "cbb14077d2bb4e16877e4ad3b5aec2cd",
       "version_major": 2,
       "version_minor": 0
      },
      "text/plain": [
       "HBox(children=(Label(value='Speaker SPEAKER_02:  So you mentioned like not trusting the educational system and…"
      ]
     },
     "metadata": {},
     "output_type": "display_data"
    },
    {
     "name": "stdout",
     "output_type": "stream",
     "text": [
      "time, position, color :  8.000, (618, 334), [64 55 51]\n"
     ]
    },
    {
     "ename": "",
     "evalue": "",
     "output_type": "error",
     "traceback": [
      "\u001b[1;31mThe Kernel crashed while executing code in the current cell or a previous cell. \n",
      "\u001b[1;31mPlease review the code in the cell(s) to identify a possible cause of the failure. \n",
      "\u001b[1;31mClick <a href='https://aka.ms/vscodeJupyterKernelCrash'>here</a> for more info. \n",
      "\u001b[1;31mView Jupyter <a href='command:jupyter.viewOutput'>log</a> for further details."
     ]
    }
   ],
   "source": [
    "import pandas as pd\n",
    "from moviepy.editor import VideoFileClip\n",
    "import ipywidgets as widgets\n",
    "from IPython.display import display\n",
    "\n",
    "# Load WhisperX-generated CSV file\n",
    "def load_sentence_level_transcript(csv_path):\n",
    "    df = pd.read_csv(csv_path)\n",
    "    return df\n",
    "\n",
    "# Function to play video from a specific timestamp\n",
    "def play_video_at_timestamp(video_file, start_time, end_time=None):\n",
    "    clip = VideoFileClip(video_file)\n",
    "    if end_time:\n",
    "        subclip = clip.subclip(start_time, end_time)\n",
    "    else:\n",
    "        subclip = clip.subclip(start_time)\n",
    "    subclip.preview()\n",
    "\n",
    "# Search transcript for keyword and display video links\n",
    "def search_transcript_and_show_video_links(keyword, transcript_df, video_path):\n",
    "    search_results = transcript_df[transcript_df['text'].str.contains(keyword, case=False, na=False)]\n",
    "    for i, row in search_results.iterrows():\n",
    "        text = row['text']\n",
    "        start_time = row['start']\n",
    "        end_time = row['end']\n",
    "        speaker = row['speaker']\n",
    "        result_label = widgets.Label(f\"Speaker {speaker}: {text} (Start: {start_time})\")\n",
    "        play_button = widgets.Button(description=f\"Play Segment {i+1}\")\n",
    "        def on_button_click(b):\n",
    "            play_video_at_timestamp(video_path, start_time, end_time)\n",
    "        play_button.on_click(on_button_click)\n",
    "        display(widgets.HBox([result_label, play_button]))\n",
    "\n",
    "# Example usage\n",
    "csv_path = path_to_whisperx_csv\n",
    "video_path = path_to_video\n",
    "\n",
    "# Load the transcript\n",
    "transcript_df = load_sentence_level_transcript(csv_path)\n",
    "\n",
    "# Perform a search for a keyword\n",
    "keyword = 'education'  # You can modify this to search for any keyword\n",
    "search_transcript_and_show_video_links(keyword, transcript_df, video_path)\n"
   ]
  }
 ],
 "metadata": {
  "kernelspec": {
   "display_name": "videonlp-env",
   "language": "python",
   "name": "python3"
  },
  "language_info": {
   "codemirror_mode": {
    "name": "ipython",
    "version": 3
   },
   "file_extension": ".py",
   "mimetype": "text/x-python",
   "name": "python",
   "nbconvert_exporter": "python",
   "pygments_lexer": "ipython3",
   "version": "3.11.9"
  }
 },
 "nbformat": 4,
 "nbformat_minor": 2
}
